{
 "cells": [
  {
   "cell_type": "markdown",
   "id": "ff8da194",
   "metadata": {
    "slideshow": {
     "slide_type": "slide"
    }
   },
   "source": [
    "# CSS 201.5 - CSS Bootcamp\n",
    "\n",
    "## Python Programming"
   ]
  },
  {
   "cell_type": "markdown",
   "id": "dcb0edc9",
   "metadata": {
    "slideshow": {
     "slide_type": "slide"
    }
   },
   "source": [
    "# Object-Oriented Programming"
   ]
  },
  {
   "cell_type": "markdown",
   "id": "7c6e8f82",
   "metadata": {
    "slideshow": {
     "slide_type": "slide"
    }
   },
   "source": [
    "## Constructor\n",
    "\n",
    "And now suppose that we need to add a new student. Is it going to take all the commands I used previously?\n",
    "\n",
    "If we use constructors, the answer is **no**!\n",
    "\n",
    "For instance, we can create a constructor:"
   ]
  },
  {
   "cell_type": "code",
   "execution_count": 98,
   "id": "a5c39bdb",
   "metadata": {
    "slideshow": {
     "slide_type": "fragment"
    }
   },
   "outputs": [
    {
     "name": "stdout",
     "output_type": "stream",
     "text": [
      "\n",
      "Student\n",
      "    Name: Hannah\n",
      "    PID: 12345\n",
      "    Grades: [2, 0, 2, 1]\n",
      "    Major: Theater\n",
      "    \n",
      "\n",
      "Student\n",
      "    Name: Hannah\n",
      "    PID: 12345\n",
      "    Grades: [2, 0, 2, 1, 4]\n",
      "    Major: CSS\n",
      "    \n",
      "Grade 4 updated to 3\n",
      "\n",
      "Student\n",
      "    Name: Hannah\n",
      "    PID: 12345\n",
      "    Grades: [2, 0, 2, 1, 3]\n",
      "    Major: CSS\n",
      "    \n",
      "Grade 0 updated to 3\n",
      "\n",
      "Student\n",
      "    Name: Hannah\n",
      "    PID: 12345\n",
      "    Grades: [2, 3, 2, 1, 3]\n",
      "    Major: CSS\n",
      "    \n"
     ]
    }
   ],
   "source": [
    "# My code here\n",
    "## Your answers here!\n",
    "# My code here\n",
    "class Student:\n",
    "    \n",
    "    # Constructor\n",
    "    def __init__(self, name, pid, grades, major, user):\n",
    "        self.name = name\n",
    "        self.pid = pid\n",
    "        self.grades = grades\n",
    "        self.major = major\n",
    "        self.user = user\n",
    "        \n",
    "    def update_major(self, newmajor):\n",
    "        self.major = newmajor\n",
    "    \n",
    "    def printit(self):\n",
    "        print(\"\"\"\n",
    "Student\n",
    "    Name: {}\n",
    "    PID: {}\n",
    "    Grades: {}\n",
    "    Major: {}\n",
    "    \"\"\".format(self.name, self.pid, self.grades, self.major))\n",
    "        \n",
    "    def add_grade(self, grade):\n",
    "        try:\n",
    "            self.grades.append(grade)\n",
    "        except:\n",
    "            self.grades = [grade]\n",
    "            \n",
    "    def update_grade(self, newgrade, index = -1):\n",
    "        try:\n",
    "            x = self.grades[index]\n",
    "            self.grades[index] = newgrade\n",
    "            print('Grade {} updated to {}'.format(x, newgrade))\n",
    "        except:\n",
    "            raise IndexError('No grades there to update.')\n",
    "\n",
    "# Creates the student\n",
    "stu = Student('Hannah', 12345, [2, 0, 2, 1], 'Theater', 'hannah')\n",
    "\n",
    "# Print\n",
    "stu.printit()\n",
    "\n",
    "# Change major\n",
    "stu.update_major('CSS')\n",
    "\n",
    "# Add a grade\n",
    "stu.add_grade(4)\n",
    "\n",
    "# Print\n",
    "stu.printit()\n",
    "\n",
    "# Lowering her grade\n",
    "stu.update_grade(3)\n",
    "\n",
    "# Print\n",
    "stu.printit()\n",
    "\n",
    "# Lowering her grade\n",
    "stu.update_grade(3, 1)\n",
    "\n",
    "# Print\n",
    "stu.printit()"
   ]
  },
  {
   "cell_type": "markdown",
   "id": "12397f0b",
   "metadata": {
    "slideshow": {
     "slide_type": "slide"
    }
   },
   "source": [
    "## Best practices with Classes\n",
    "\n",
    "### Use CamelCase for classes\n",
    "\n",
    "For example, if my class denotes datasets, I can use:\n",
    "\n",
    "`DataSets`\n",
    "\n",
    "### Use lower_snakes for modules and attributes\n",
    "\n",
    "For example, if I need to compute the average grade in my `Student` class, use `average_grades` or something alike."
   ]
  },
  {
   "cell_type": "markdown",
   "id": "620292d2",
   "metadata": {
    "slideshow": {
     "slide_type": "slide"
    }
   },
   "source": [
    "## Best practices with Classes\n",
    "\n",
    "### `self`\n",
    "\n",
    "The first attribute is always `self`. Keep it that way!\n",
    "\n",
    "### Document your class\n",
    "\n",
    "You can use docstring, in the same way you use to create functions."
   ]
  },
  {
   "cell_type": "markdown",
   "id": "de54075f",
   "metadata": {
    "slideshow": {
     "slide_type": "slide"
    }
   },
   "source": [
    "**Exercise**: Create a class called Employee. It has to:\n",
    "\n",
    "1. Store:\n",
    "    - Name: first name of the person\n",
    "    - Age: age of the person\n",
    "    - Salary: salary\n",
    "    - Job: job description\n",
    "    \n",
    "2. Has the following methods:\n",
    "    - A constructor to build new elements\n",
    "    - A `birthday` method, to increase the age in one one year old.\n",
    "    - A `give_raise` method, to give the person x amount of raise.\n",
    "    - A `monthly_salary` method, that returns the monthly salary of the person\n",
    "    \n",
    "Test your class by creating an employee of your choice."
   ]
  },
  {
   "cell_type": "code",
   "execution_count": null,
   "id": "1c16a469",
   "metadata": {
    "slideshow": {
     "slide_type": "slide"
    }
   },
   "outputs": [],
   "source": [
    "## Your answers here!"
   ]
  },
  {
   "cell_type": "markdown",
   "id": "3da65f8a",
   "metadata": {
    "slideshow": {
     "slide_type": "slide"
    }
   },
   "source": [
    "## Class-Level Data\n",
    "\n",
    "Suppose that all students now have an email `@ucsd.edu`, and their emails is: their login + `@ucsd.edu`. We can add the `@ucsd.edu` to the class, as a class-level data."
   ]
  },
  {
   "cell_type": "code",
   "execution_count": null,
   "id": "1272e698",
   "metadata": {
    "slideshow": {
     "slide_type": "fragment"
    }
   },
   "outputs": [],
   "source": [
    "# My code here"
   ]
  },
  {
   "cell_type": "markdown",
   "id": "06fae66c",
   "metadata": {
    "slideshow": {
     "slide_type": "slide"
    }
   },
   "source": [
    "**Exercise**: Suppose you have the following class:\n",
    "\n",
    "```\n",
    "class Voter:\n",
    "    def __init__(self, name, age):\n",
    "        self.name = name\n",
    "        self.age = age\n",
    "```\n",
    "\n",
    "The voter cannot be younger than 17 years old. Create a minimum age class level data, that changes any younger age set by the user to 17."
   ]
  },
  {
   "cell_type": "code",
   "execution_count": null,
   "id": "619ca54e",
   "metadata": {
    "slideshow": {
     "slide_type": "fragment"
    }
   },
   "outputs": [],
   "source": [
    "## Your answers here!"
   ]
  },
  {
   "cell_type": "markdown",
   "id": "19822f66",
   "metadata": {
    "slideshow": {
     "slide_type": "slide"
    }
   },
   "source": [
    "## String Representation\n",
    "\n",
    "We can also add the methods for representation:"
   ]
  },
  {
   "cell_type": "code",
   "execution_count": null,
   "id": "5dcc8911",
   "metadata": {
    "slideshow": {
     "slide_type": "fragment"
    }
   },
   "outputs": [],
   "source": [
    "# My code here"
   ]
  },
  {
   "cell_type": "markdown",
   "id": "5e01980a",
   "metadata": {},
   "source": [
    "**Exercise**: For the `Voter` class, add a `__repr__`."
   ]
  },
  {
   "cell_type": "markdown",
   "id": "cc301a85",
   "metadata": {
    "slideshow": {
     "slide_type": "slide"
    }
   },
   "source": [
    "## Class-Level Data\n",
    "\n",
    "Let us start with this class here:\n",
    "\n",
    "```\n",
    "# My code here\n",
    "class Student:\n",
    "    # My constructor for the student class\n",
    "    def __init__(self, nam, num, gr, lg):\n",
    "        self.name = nam\n",
    "        self.number = num\n",
    "        self.grades = gr\n",
    "        self.login = lg\n",
    "```\n",
    "\n",
    "- Suppose that all students now have an email `@ucsd.edu`, and their emails is: their login + `@ucsd.edu`. \n",
    "\n",
    "- We can add the `@ucsd.edu` to the class, as a **class-level data**."
   ]
  },
  {
   "cell_type": "code",
   "execution_count": null,
   "id": "e53eecdd",
   "metadata": {
    "slideshow": {
     "slide_type": "fragment"
    }
   },
   "outputs": [],
   "source": [
    "# My code here\n",
    "class Student:\n",
    "    \n",
    "    # Class-level data\n",
    "    EMAIL = '@ucsd.edu'\n",
    "    \n",
    "    # My constructor for the student class\n",
    "    def __init__(self, nam, num, gr, lg):\n",
    "        self.name = nam\n",
    "        self.number = num\n",
    "        self.grades = gr\n",
    "        self.login = lg\n",
    "        \n",
    "    def get_email(self):\n",
    "        return self.login + self.EMAIL\n",
    "\n",
    "stu = Student('Mary', 12334, [10, 9, 8, 10], 'marylee')\n",
    "stu.get_email()"
   ]
  },
  {
   "cell_type": "markdown",
   "id": "c5a3d5b5",
   "metadata": {
    "slideshow": {
     "slide_type": "slide"
    }
   },
   "source": [
    "### Exercise\n",
    "\n",
    "Suppose the voter cannot be younger than 17 years old. Create a minimum age class-level data, that changes any younger age set by the user to 17."
   ]
  },
  {
   "cell_type": "code",
   "execution_count": null,
   "id": "db089f3e",
   "metadata": {
    "slideshow": {
     "slide_type": "fragment"
    }
   },
   "outputs": [],
   "source": [
    "class Voter:\n",
    "    pass"
   ]
  },
  {
   "cell_type": "markdown",
   "id": "a2580615",
   "metadata": {
    "slideshow": {
     "slide_type": "slide"
    }
   },
   "source": [
    "## Inheritance\n",
    "\n",
    "Inheritance are situations when we build one class on the top of another. The idea is that the new class inherits the old class functionality, adding some extra functions.\n",
    "\n",
    "For instance, consider our student class:\n",
    "\n",
    "```\n",
    "# My code here\n",
    "class Student:\n",
    "    # My constructor for the student class\n",
    "    def __init__(self, nam, num, gr, lg):\n",
    "        self.name = nam\n",
    "        self.number = num\n",
    "        self.grades = gr\n",
    "        self.login = lg\n",
    "    def average_grade(self):\n",
    "        pass\n",
    "```"
   ]
  },
  {
   "cell_type": "markdown",
   "id": "447be531",
   "metadata": {
    "slideshow": {
     "slide_type": "slide"
    }
   },
   "source": [
    "## Inheritance\n",
    "\n",
    "Suppose that we want to add a `GradStudent` class on the top of it. \n",
    "\n",
    "- The `GradStudent` class has other functionalities, such as the name of the advisor, and the field that the person is studying.\n",
    "\n",
    "Ideally, this class should have all atributes that the `Student` class, plus two:\n",
    "\n",
    "- Field\n",
    "- Advisor\n",
    "\n",
    "Let's try it?"
   ]
  },
  {
   "cell_type": "code",
   "execution_count": null,
   "id": "a6c3b889",
   "metadata": {},
   "outputs": [],
   "source": [
    "class Student:\n",
    "    # My constructor for the student class\n",
    "    def __init__(self, nam, num, gr, lg):\n",
    "        self.name = nam\n",
    "        self.number = num\n",
    "        self.grades = gr\n",
    "        self.login = lg\n",
    "    \n",
    "    def average_grade(self):\n",
    "        avg = 0\n",
    "        for i in self.grades:\n",
    "            avg += i\n",
    "        avg = avg/len(self.grades)\n",
    "        return avg\n",
    "\n",
    "class GradStudent(Student):\n",
    "    pass\n",
    "\n",
    "stu = GradStudent('Ann', 12345, [], 'asmith')"
   ]
  },
  {
   "cell_type": "markdown",
   "id": "8be0ea53",
   "metadata": {
    "slideshow": {
     "slide_type": "slide"
    }
   },
   "source": [
    "## Inheritance\n",
    "\n",
    "- The new class (the Child) has all the attributes of the late class (the Parent).\n",
    "\n",
    "- For instance:"
   ]
  },
  {
   "cell_type": "code",
   "execution_count": null,
   "id": "c2ed4d43",
   "metadata": {
    "slideshow": {
     "slide_type": "fragment"
    }
   },
   "outputs": [],
   "source": [
    "stu1 = GradStudent('Rose', 5678, [10, 10, 9], 'rosej')\n",
    "stu1.average_grade()"
   ]
  },
  {
   "cell_type": "markdown",
   "id": "f6a7b0f6",
   "metadata": {
    "slideshow": {
     "slide_type": "slide"
    }
   },
   "source": [
    "## Inheritance\n",
    "\n",
    "1. The `GradStudent` is a `Student`. \n",
    "\n",
    "2. The `Student` **is not** a `GradStudent`."
   ]
  },
  {
   "cell_type": "code",
   "execution_count": null,
   "id": "ce21a8d5",
   "metadata": {
    "slideshow": {
     "slide_type": "fragment"
    }
   },
   "outputs": [],
   "source": [
    "stu1 = GradStudent('Rose', 5678, [10, 10, 9], 'rosej')\n",
    "stu2 = Student('Mark', 4321, [8, 8, 0, 9, 8, 10], 'marklee')\n",
    "print(isinstance(stu1, Student))\n",
    "print(isinstance(stu1, GradStudent))\n",
    "print(isinstance(stu2, Student))\n",
    "print(isinstance(stu2, GradStudent))"
   ]
  },
  {
   "cell_type": "markdown",
   "id": "f32a3f68",
   "metadata": {
    "slideshow": {
     "slide_type": "slide"
    }
   },
   "source": [
    "### Exercise\n",
    "\n",
    "Create a `SpecialVoter` class, based on the Voter class."
   ]
  },
  {
   "cell_type": "code",
   "execution_count": null,
   "id": "60bb400d",
   "metadata": {
    "slideshow": {
     "slide_type": "fragment"
    }
   },
   "outputs": [],
   "source": [
    "class Voter:\n",
    "    pass"
   ]
  },
  {
   "cell_type": "markdown",
   "id": "cab5ccf4",
   "metadata": {
    "slideshow": {
     "slide_type": "slide"
    }
   },
   "source": [
    "## Customizing Constructors for Inheritances\n",
    "\n",
    "The new class may have a different contructor, because it has more parameters.\n",
    "\n",
    "For instance, my `GradStudent` class needs the name of the **advisor**, and the **field** of study.\n",
    "\n",
    "Let's see how we add these to the child class:"
   ]
  },
  {
   "cell_type": "code",
   "execution_count": null,
   "id": "0912dc6d",
   "metadata": {
    "slideshow": {
     "slide_type": "slide"
    }
   },
   "outputs": [],
   "source": [
    "class Student:\n",
    "    # My constructor for the student class\n",
    "    def __init__(self, nam, num, gr, lg):\n",
    "        self.name = nam\n",
    "        self.number = num\n",
    "        self.grades = gr\n",
    "        self.login = lg\n",
    "    \n",
    "    def average_grade(self):\n",
    "        avg = 0\n",
    "        for i in self.grades:\n",
    "            avg += i\n",
    "        avg = avg/len(self.grades)\n",
    "        return avg\n",
    "\n",
    "class GradStudent(Student):\n",
    "    # My constructor for the grad student class\n",
    "    def __init__(self, nam, num, gr, lg, field, advisor):\n",
    "        #self.name = nam\n",
    "        #self.number = num\n",
    "        #self.grades = gr\n",
    "        #self.login = lg\n",
    "        Student.__init__(self, nam, num, gr, lg)\n",
    "        self.field = field\n",
    "        self.advisor = advisor\n",
    "        \n",
    "stu = GradStudent('Rose', 5678, [10, 10, 9], 'rosej', 'Evolutionary Biology', 'iufasdhgo')"
   ]
  },
  {
   "cell_type": "markdown",
   "id": "379a3a5c",
   "metadata": {
    "slideshow": {
     "slide_type": "slide"
    }
   },
   "source": [
    "## Customizing Constructors for Inheritances\n",
    "\n",
    "We can also edit the methods of the original class."
   ]
  },
  {
   "cell_type": "code",
   "execution_count": null,
   "id": "4b033e3f",
   "metadata": {
    "slideshow": {
     "slide_type": "fragment"
    }
   },
   "outputs": [],
   "source": [
    "class Student:\n",
    "    # My constructor for the student class\n",
    "    def __init__(self, nam, num, gr, lg):\n",
    "        self.name = nam\n",
    "        self.number = num\n",
    "        self.grades = gr\n",
    "        self.login = lg\n",
    "    \n",
    "    def average_grade(self):\n",
    "        avg = 0\n",
    "        for i in self.grades:\n",
    "            avg += i\n",
    "        avg = avg/len(self.grades)\n",
    "        return avg\n",
    "    \n",
    "    def __eq__(self, other):\n",
    "        return self.number == other.number\n",
    "\n",
    "class GradStudent(Student):\n",
    "    # My constructor for the grad student class\n",
    "    def __init__(self, nam, num, gr, lg, field):\n",
    "        Student.__init__(self, nam, num, gr, lg)\n",
    "        self.field = field\n",
    "        \n",
    "    def average_grade(self):\n",
    "        avg = Student.average_grade(self)\n",
    "        avg = 4 * (avg / 10)\n",
    "        return avg\n",
    "        \n",
    "stu = GradStudent('Rose', 5678, [10, 10, 9], 'rosej', 'Evolutionary Biology')\n",
    "print(stu.average_grade())"
   ]
  },
  {
   "cell_type": "markdown",
   "id": "07192f2c",
   "metadata": {
    "slideshow": {
     "slide_type": "slide"
    }
   },
   "source": [
    "## Operator Comparison\n",
    "\n",
    "If you have two objects with the same data, they are probably not equal to each other! That's is weird, but it is easy to fix."
   ]
  },
  {
   "cell_type": "code",
   "execution_count": null,
   "id": "d0c97a25",
   "metadata": {
    "slideshow": {
     "slide_type": "fragment"
    }
   },
   "outputs": [],
   "source": [
    "stu = Student('Ann', 1234, [10, 10, 10, 9, 8, 10], 'annlee')\n",
    "stu2 = Student('Mark', 4321, [8, 8, 0, 9, 8, 10], 'marklee')\n",
    "stu3 = Student('Mark', 4321, [8, 8, 0, 9, 8, 10], 'marklee')\n",
    "print(stu == stu2)\n",
    "print(stu == stu3)\n",
    "print(stu2 == stu3) #?\n",
    "print(stu3)\n",
    "print(stu2)"
   ]
  },
  {
   "cell_type": "markdown",
   "id": "6b213fe0",
   "metadata": {
    "slideshow": {
     "slide_type": "slide"
    }
   },
   "source": [
    "## Operator Comparison\n",
    "\n",
    "We can define each of these classes here:\n",
    "\n",
    "| Operator | Method   |\n",
    "|----------|----------|\n",
    "| `==`     | `__eq__` |\n",
    "| `!=`     | `__ne__` |\n",
    "| `>=`     | `__ge__` |\n",
    "| `<=`     | `__le__` |\n",
    "| `>`      | `__gt__` |\n",
    "| `<`      | `__lt__` |"
   ]
  },
  {
   "cell_type": "markdown",
   "id": "edad0e16",
   "metadata": {
    "slideshow": {
     "slide_type": "slide"
    }
   },
   "source": [
    "### Exercise\n",
    "\n",
    "For the `Voter` class, create one equality and one inequality operator."
   ]
  },
  {
   "cell_type": "code",
   "execution_count": null,
   "id": "b8a7b7e8",
   "metadata": {
    "slideshow": {
     "slide_type": "fragment"
    }
   },
   "outputs": [],
   "source": [
    "class Voter:\n",
    "    def __init__(self, name, age):\n",
    "        self.name = name\n",
    "        self.age = age"
   ]
  },
  {
   "cell_type": "markdown",
   "id": "46fe5993",
   "metadata": {
    "slideshow": {
     "slide_type": "slide"
    }
   },
   "source": [
    "## String Representation\n",
    "\n",
    "We can also add the methods for representation and printing:"
   ]
  },
  {
   "cell_type": "code",
   "execution_count": null,
   "id": "bb283541",
   "metadata": {
    "slideshow": {
     "slide_type": "fragment"
    }
   },
   "outputs": [],
   "source": [
    "class Student:\n",
    "    EMAIL = '@ucsd.edu'\n",
    "    \n",
    "    # My constructor for the student class\n",
    "    def __init__(self, nam, num, gr, lg):\n",
    "        self.name = nam\n",
    "        self.number = num\n",
    "        self.grades = gr\n",
    "        self.login = lg\n",
    "    \n",
    "    def average_grade(self):\n",
    "        avg = 0\n",
    "        for i in self.grades:\n",
    "            avg += i\n",
    "        avg = avg/len(self.grades)\n",
    "        return avg\n",
    "    \n",
    "    def __repr__(self):\n",
    "        mystudent = 'Student: {}; Email: {}'.format(self.name, self.login + self.EMAIL)\n",
    "        return mystudent\n",
    "    \n",
    "    def __str__(self):\n",
    "        mystudent = \"\"\"\n",
    "Student: {}\n",
    "    Email: {}\n",
    "    Grades: {}\n",
    "    PID: {}\"\"\".format(self.name, self.login + self.EMAIL, self.grades, self.number)\n",
    "        return mystudent\n",
    "\n",
    "class GradStudent(Student):\n",
    "    # My constructor for the grad student class\n",
    "    def __init__(self, nam, num, gr, lg, field):\n",
    "        Student.__init__(self, nam, num, gr, lg)\n",
    "        self.field = field\n",
    "        \n",
    "    def average_grade(self):\n",
    "        avg = Student.average_grade(self)\n",
    "        avg = 4 * (avg / 10)\n",
    "        return avg\n",
    "        \n",
    "stu = GradStudent('Rose', 5678, [10, 10, 9], 'rosej', 'Evolutionary Biology')\n",
    "print(stu)"
   ]
  },
  {
   "cell_type": "markdown",
   "id": "f0ba81c4",
   "metadata": {
    "slideshow": {
     "slide_type": "slide"
    }
   },
   "source": [
    "## JSON"
   ]
  },
  {
   "cell_type": "markdown",
   "id": "4cc3851b",
   "metadata": {
    "slideshow": {
     "slide_type": "slide"
    }
   },
   "source": [
    "## What is a `.json` file?\n",
    "\n",
    "> A `.json` file is a **file written in the JSON file format**. It allows us to store structured data objects consisting of **key-value** pairs."
   ]
  },
  {
   "cell_type": "markdown",
   "id": "f838c763",
   "metadata": {
    "slideshow": {
     "slide_type": "slide"
    }
   },
   "source": [
    "### What is JSON?\n",
    "\n",
    "**JSON** = JavaScript Object Notation.\n",
    "\n",
    "- Standard format for *representing* and *transmitting* data.  \n",
    "   - \"Standard\" = different people/systems agree to use this format to send and receive information.  \n",
    "- Represents data in **key-value** pairs."
   ]
  },
  {
   "cell_type": "markdown",
   "id": "6a869603",
   "metadata": {
    "slideshow": {
     "slide_type": "slide"
    }
   },
   "source": [
    "#### Check-in\n",
    "\n",
    "What else have we seen that represents data in **key-value pairs**?"
   ]
  },
  {
   "cell_type": "markdown",
   "id": "dd904bdd",
   "metadata": {
    "slideshow": {
     "slide_type": "slide"
    }
   },
   "source": [
    "### A Python `dict` is a collection of key-value pairs\n",
    "\n",
    "A **dictionary** (`dict`) stores **key-value** pairs."
   ]
  },
  {
   "cell_type": "code",
   "execution_count": null,
   "id": "dcdc1e5e",
   "metadata": {
    "slideshow": {
     "slide_type": "-"
    }
   },
   "outputs": [],
   "source": [
    "my_class = {'Code': '1',\n",
    "           'Department': 'CSS',\n",
    "           'Instructor': 'Mignozzetti',\n",
    "            'Prerequisite': True,\n",
    "           'Enrollment': 120}\n",
    "print(my_class)"
   ]
  },
  {
   "cell_type": "code",
   "execution_count": null,
   "id": "3e30798f",
   "metadata": {
    "slideshow": {
     "slide_type": "-"
    }
   },
   "outputs": [],
   "source": [
    "my_class['Department']"
   ]
  },
  {
   "cell_type": "markdown",
   "id": "c668230d",
   "metadata": {
    "slideshow": {
     "slide_type": "slide"
    }
   },
   "source": [
    "### JSON and `dict`: an analogy\n",
    "\n",
    "Conceptually, JSON accomplishes the same goals as a Python `dict`.\n",
    "\n",
    "- In fact, Python programmers often *convert* a `dict` into a JSON `str` when they want to store it in a file.  \n",
    "- Similarly, you can **read in** a `.json` file and convert the contents into a `dict`.\n",
    "\n",
    "**Bottom line**: we're not dealing with a fundamentally new data sturcture––it's another standardized way to represent **key-value pairs**."
   ]
  },
  {
   "cell_type": "markdown",
   "id": "9d967777",
   "metadata": {
    "slideshow": {
     "slide_type": "slide"
    }
   },
   "source": [
    "## Reading in a `.json` file\n",
    "\n",
    "Reading in a `.json` file shares some similarities with [reading `.txt` files](17-reading-text).  \n",
    "\n",
    "- Must specify a **file path**.  \n",
    "- File path can be either *absolute* or *relative*.\n",
    "\n",
    "But there are also some important differences:\n",
    "\n",
    "- To **read in** a `.json` file, we'll need to `import` the `json` library.  \n",
    "- `json.load` will read in a **structured `.json` file** as a `dict`, not a `str`."
   ]
  },
  {
   "cell_type": "markdown",
   "id": "515a6509",
   "metadata": {
    "slideshow": {
     "slide_type": "slide"
    }
   },
   "source": [
    "### Example: simple file\n",
    "\n",
    "Here, we will work with a simple `.json` file: `data/restaurant.json`. \n",
    "\n",
    "- The file contains a structured representation of a restaurant.  \n",
    "- We use `json.load(...)` to **load** this representation as a `dict`."
   ]
  },
  {
   "cell_type": "code",
   "execution_count": null,
   "id": "09263960",
   "metadata": {
    "slideshow": {
     "slide_type": "-"
    }
   },
   "outputs": [],
   "source": [
    "## This imports the json library\n",
    "import json"
   ]
  },
  {
   "cell_type": "code",
   "execution_count": null,
   "id": "b19b3ed6",
   "metadata": {
    "slideshow": {
     "slide_type": "-"
    }
   },
   "outputs": [],
   "source": [
    "## As with normal .txt. files, we use \"open\" to open the target restaurant\n",
    "with open(\"data/restaurant.json\", \"r\") as fp:\n",
    "    ## use json.load to load as dict\n",
    "    info = json.load(fp)"
   ]
  },
  {
   "cell_type": "code",
   "execution_count": null,
   "id": "98306902",
   "metadata": {
    "slideshow": {
     "slide_type": "-"
    }
   },
   "outputs": [],
   "source": [
    "info"
   ]
  },
  {
   "cell_type": "markdown",
   "id": "dd7a8046",
   "metadata": {
    "slideshow": {
     "slide_type": "slide"
    }
   },
   "source": [
    "### `load` creates a `dict`\n",
    "\n",
    "Now, we can work with the **contents** of this file as we would any `dict`."
   ]
  },
  {
   "cell_type": "code",
   "execution_count": null,
   "id": "47502f08",
   "metadata": {
    "slideshow": {
     "slide_type": "-"
    }
   },
   "outputs": [],
   "source": [
    "info['Name']"
   ]
  },
  {
   "cell_type": "code",
   "execution_count": null,
   "id": "2c906bb6",
   "metadata": {
    "slideshow": {
     "slide_type": "-"
    }
   },
   "outputs": [],
   "source": [
    "info['Location']"
   ]
  },
  {
   "cell_type": "code",
   "execution_count": null,
   "id": "f916caac",
   "metadata": {
    "slideshow": {
     "slide_type": "-"
    }
   },
   "outputs": [],
   "source": [
    "info['Cuisine']"
   ]
  },
  {
   "cell_type": "markdown",
   "id": "86209f52",
   "metadata": {
    "slideshow": {
     "slide_type": "slide"
    }
   },
   "source": [
    "### Check-in\n",
    "\n",
    "Try reading in another file that's stored in `data`: `data/school.json`. \n",
    "\n",
    "What is the value of the **Name** key?"
   ]
  },
  {
   "cell_type": "code",
   "execution_count": null,
   "id": "cf870791",
   "metadata": {
    "slideshow": {
     "slide_type": "-"
    }
   },
   "outputs": [],
   "source": [
    "### Your code here\n",
    "with open('data/school.json', 'r') as f:\n",
    "    school = json.load(f)\n",
    "print(school)\n",
    "print(school['Name'])"
   ]
  },
  {
   "cell_type": "markdown",
   "id": "b9674761",
   "metadata": {
    "slideshow": {
     "slide_type": "slide"
    }
   },
   "source": [
    "### Solution"
   ]
  },
  {
   "cell_type": "code",
   "execution_count": null,
   "id": "5651136d",
   "metadata": {
    "slideshow": {
     "slide_type": "-"
    }
   },
   "outputs": [],
   "source": [
    "## As before, we use \"open\" to open the target file\n",
    "with open(\"data/school.json\", \"r\") as fp:\n",
    "    ## use json.load to load as dict\n",
    "    school_info = json.load(fp)"
   ]
  },
  {
   "cell_type": "code",
   "execution_count": null,
   "id": "5d70b079",
   "metadata": {
    "slideshow": {
     "slide_type": "-"
    }
   },
   "outputs": [],
   "source": [
    "## Get name of school\n",
    "school_info['Name']"
   ]
  },
  {
   "cell_type": "markdown",
   "id": "1e6a2fe4",
   "metadata": {
    "slideshow": {
     "slide_type": "slide"
    }
   },
   "source": [
    "## Writing a `.json` file\n",
    "\n",
    "Often, you'll want to **write** a structured `dict` to a file.  \n",
    "\n",
    "- Useful for *storing* information, so you can access it later.  \n",
    "- Useful for *transmitting* information between programs.  \n",
    "\n",
    "We can use `json.dump(...)` to **write** (or \"dump\") a `dict` into a `.json` file."
   ]
  },
  {
   "cell_type": "markdown",
   "id": "4f17dde9",
   "metadata": {
    "slideshow": {
     "slide_type": "slide"
    }
   },
   "source": [
    "### Simple example: course \n",
    "\n",
    "To start out, let's use the `my_class` dict we defined earlier."
   ]
  },
  {
   "cell_type": "code",
   "execution_count": null,
   "id": "bd5d6097",
   "metadata": {
    "slideshow": {
     "slide_type": "-"
    }
   },
   "outputs": [],
   "source": [
    "my_class['Code']"
   ]
  },
  {
   "cell_type": "markdown",
   "id": "d3759c7d",
   "metadata": {
    "slideshow": {
     "slide_type": "slide"
    }
   },
   "source": [
    "To **write** this to a file, we:\n",
    "\n",
    "- `open` (create) a file with the name we want to call it.  \n",
    "- Use `json.dump(dict_name, filename)`."
   ]
  },
  {
   "cell_type": "code",
   "execution_count": null,
   "id": "fdecabfc",
   "metadata": {
    "slideshow": {
     "slide_type": "-"
    }
   },
   "outputs": [],
   "source": [
    "with open(\"course.json\", \"w\") as fp:\n",
    "    json.dump(my_class, fp)"
   ]
  },
  {
   "cell_type": "markdown",
   "id": "d63bf786",
   "metadata": {
    "slideshow": {
     "slide_type": "slide"
    }
   },
   "source": [
    "#### Checking that this worked"
   ]
  },
  {
   "cell_type": "code",
   "execution_count": null,
   "id": "6e35eedb",
   "metadata": {
    "slideshow": {
     "slide_type": "-"
    }
   },
   "outputs": [],
   "source": [
    "with open(\"course.json\", \"r\") as fp:\n",
    "    course_info = json.load(fp)\n",
    "print(course_info)"
   ]
  },
  {
   "cell_type": "markdown",
   "id": "752acfb3",
   "metadata": {
    "slideshow": {
     "slide_type": "slide"
    }
   },
   "source": [
    "### Check-in\n",
    "\n",
    "Create a new `dict` called `my_info`. Add the following keys/values:\n",
    "\n",
    "- `Name`. \n",
    "- `Major`. \n",
    "\n",
    "Then, use `json.dump` to **write** this `dict` to a `.json` file called `my_info.json` to your own computer (in whichever directory you prefer)."
   ]
  },
  {
   "cell_type": "code",
   "execution_count": null,
   "id": "16910589",
   "metadata": {
    "slideshow": {
     "slide_type": "-"
    }
   },
   "outputs": [],
   "source": [
    "### Your code here\n",
    "my_info = {\n",
    "    'Name': 'Umberto',\n",
    "    'Major': 'PoliSci'\n",
    "}\n",
    "with open('my_info.json', 'w') as f:\n",
    "    json.dump(my_info, f)"
   ]
  },
  {
   "cell_type": "markdown",
   "id": "ff48d03e",
   "metadata": {
    "slideshow": {
     "slide_type": "slide"
    }
   },
   "source": [
    "## JSON files vs. JSON strings\n",
    "\n",
    "The `load` and `dump` methods can be used to **read** and **write** a `dict` from/to a `.json` file.  \n",
    "\n",
    "However, Python can also represent JSON as a **`str`**.\n",
    "\n",
    "- To *read* a `dict` from a JSON `str`, use `loads` (load + *s*tring).  \n",
    "- To *write* a `dict` into a JSON `str`, use `dumps` (dump + *s*tring)."
   ]
  },
  {
   "cell_type": "markdown",
   "id": "4983dc04",
   "metadata": {
    "slideshow": {
     "slide_type": "slide"
    }
   },
   "source": [
    "### `json.dumps`\n",
    "\n",
    "- Input: a `dict`. \n",
    "- Output: a JSON `str`.  "
   ]
  },
  {
   "cell_type": "code",
   "execution_count": null,
   "id": "db62177e",
   "metadata": {
    "slideshow": {
     "slide_type": "-"
    }
   },
   "outputs": [],
   "source": [
    "json_str = json.dumps(my_class)\n",
    "json_str"
   ]
  },
  {
   "cell_type": "code",
   "execution_count": null,
   "id": "938b617c",
   "metadata": {
    "slideshow": {
     "slide_type": "-"
    }
   },
   "outputs": [],
   "source": [
    "type(json_str)"
   ]
  },
  {
   "cell_type": "markdown",
   "id": "499c4d09",
   "metadata": {
    "slideshow": {
     "slide_type": "slide"
    }
   },
   "source": [
    "### `json.loads`\n",
    "\n",
    "- Input: a JSON `str`.  \n",
    "- Output: a `dict`."
   ]
  },
  {
   "cell_type": "markdown",
   "id": "113d4857",
   "metadata": {
    "slideshow": {
     "slide_type": "slide"
    }
   },
   "source": [
    "### Other objects besides `dict`s\n",
    "\n",
    "- Technically, you can use `dumps`/`loads` for other objects, such as `str`, `list`, and more.\n",
    "- Though in my experience, a `dict` is the most common format."
   ]
  },
  {
   "cell_type": "code",
   "execution_count": null,
   "id": "0114298e",
   "metadata": {
    "slideshow": {
     "slide_type": "-"
    }
   },
   "outputs": [],
   "source": [
    "json.dumps([1, 2, 3])"
   ]
  },
  {
   "cell_type": "code",
   "execution_count": null,
   "id": "a4be1383",
   "metadata": {
    "slideshow": {
     "slide_type": "-"
    }
   },
   "outputs": [],
   "source": [
    "json.loads('[1, 2, 3]')"
   ]
  },
  {
   "cell_type": "markdown",
   "id": "d5450ab3",
   "metadata": {
    "slideshow": {
     "slide_type": "slide"
    }
   },
   "source": [
    "# Numpy"
   ]
  },
  {
   "cell_type": "markdown",
   "id": "922e1ace",
   "metadata": {
    "slideshow": {
     "slide_type": "slide"
    }
   },
   "source": [
    "### Is this different from what we've been doing?\n",
    "\n",
    "Yes and no.\n",
    "\n",
    "**Scientific computing** will involve a heavier focus on:\n",
    " - Thinking about *data structures*. \n",
    " - Thinking about *relationships between data*.  \n",
    "  "
   ]
  },
  {
   "cell_type": "markdown",
   "id": "9fe74070",
   "metadata": {
    "slideshow": {
     "slide_type": "slide"
    }
   },
   "source": [
    "### Illustrative example\n",
    "\n",
    "- Previously, we've relied on *loops* while working with `list` objects.\n",
    "- E.g., if we wanted to add every *i*th item in one `list` to every *i*th item in another `list`, we have to iterate through each loop item-by-item.  \n",
    "- However, `numpy` is a tool for **vector-wise arithmetic**: \n",
    "  - Can add/multiply/divide/etc. entire *vectors* together, rather than having to loop through each item.\n",
    "  \n",
    "Onto `numpy`!\n"
   ]
  },
  {
   "cell_type": "markdown",
   "id": "fc7f1197",
   "metadata": {
    "slideshow": {
     "slide_type": "slide"
    }
   },
   "source": [
    "## What is `numpy`?\n",
    "\n",
    "> [**`numpy`**](https://numpy.org/doc/) is a *package* for scientific computing; specifically, it enables fast computation with *vectors* and *matrices*, along with a number of important mathematical operations.\n",
    "\n",
    "Because `numpy` is a package, it must be *imported*."
   ]
  },
  {
   "cell_type": "code",
   "execution_count": null,
   "id": "0558bd68",
   "metadata": {
    "slideshow": {
     "slide_type": "-"
    }
   },
   "outputs": [],
   "source": [
    "# Import statement\n",
    "import numpy as np"
   ]
  },
  {
   "cell_type": "markdown",
   "id": "79bc2d82",
   "metadata": {
    "slideshow": {
     "slide_type": "slide"
    }
   },
   "source": [
    "### What can I use `numpy` for?\n",
    "\n",
    "- `numpy` allows you to work with **homogenous** arrays.\n",
    "  - A [**homogenous array**](https://numpy.org/doc/stable/user/quickstart.html) is an array with objects all of the same `type`.  \n",
    "  - E.g., all `int`, or all `bool`, etc.\n",
    "- The benefit of this is that you can do **computations** very **efficiently**.\n",
    "  - No more need to *loop*!\n",
    "- Enables more advanced mathematical operations.\n",
    "\n",
    "**Note**: `numpy` is a key part of many *advanced machine learning* packages!\n"
   ]
  },
  {
   "cell_type": "markdown",
   "id": "68941719",
   "metadata": {
    "slideshow": {
     "slide_type": "slide"
    }
   },
   "source": [
    "### Creating a `numpy.ndarray`\n",
    "\n",
    "The basic data type of `numpy` is an `ndarray`.\n",
    "\n",
    "- `ndarray` = **N-dimensional array**.  \n",
    "\n",
    "A simple way to create an `ndarray` is `np.arange` (\"a range\")."
   ]
  },
  {
   "cell_type": "code",
   "execution_count": null,
   "id": "98f1368b",
   "metadata": {
    "slideshow": {
     "slide_type": "-"
    }
   },
   "outputs": [],
   "source": [
    "# Works similar to range(N)\n",
    "np.arange(1, 4)"
   ]
  },
  {
   "cell_type": "markdown",
   "id": "7f04d5ec",
   "metadata": {
    "slideshow": {
     "slide_type": "slide"
    }
   },
   "source": [
    "#### `np.arange` in detail\n",
    "\n",
    "- By default, `np.arange(start, stop)` returns an array of integers from `start` to `stop`. \n",
    "- The `step` parameter allows you to determine the **granularity** of how you \"step\" between `start` and `stop`."
   ]
  },
  {
   "cell_type": "code",
   "execution_count": null,
   "id": "06a13658",
   "metadata": {
    "slideshow": {
     "slide_type": "-"
    }
   },
   "outputs": [],
   "source": [
    "## step size = 2\n",
    "np.arange(1, 10, step = 2)"
   ]
  },
  {
   "cell_type": "code",
   "execution_count": null,
   "id": "80a75a89",
   "metadata": {
    "slideshow": {
     "slide_type": "-"
    }
   },
   "outputs": [],
   "source": [
    "## step size = .5\n",
    "np.arange(1, 4, step = .5)"
   ]
  },
  {
   "cell_type": "markdown",
   "id": "a7b259ad",
   "metadata": {
    "slideshow": {
     "slide_type": "slide"
    }
   },
   "source": [
    "#### Check-in\n",
    "\n",
    "How would you create an array ranging from `1` to `20`, incrementing with a step size of `.5`? How long would this array be?"
   ]
  },
  {
   "cell_type": "code",
   "execution_count": null,
   "id": "a30198c6",
   "metadata": {},
   "outputs": [],
   "source": [
    "### Your code here\n",
    "np.arange(1, 20, step = 1/3)"
   ]
  },
  {
   "cell_type": "markdown",
   "id": "0cfe51b3",
   "metadata": {
    "slideshow": {
     "slide_type": "slide"
    }
   },
   "source": [
    "#### Solution"
   ]
  },
  {
   "cell_type": "code",
   "execution_count": null,
   "id": "18236629",
   "metadata": {},
   "outputs": [],
   "source": [
    "np_range = np.arange(1, 20, step = .5)\n",
    "len(np_range)"
   ]
  },
  {
   "cell_type": "markdown",
   "id": "5685fe30",
   "metadata": {
    "slideshow": {
     "slide_type": "slide"
    }
   },
   "source": [
    "### Turning a `list` into a `ndarray`\n",
    "\n",
    "Another way to create an `ndarray` is to pass a `list` into the `np.array(...)` function."
   ]
  },
  {
   "cell_type": "code",
   "execution_count": null,
   "id": "2ee4978c",
   "metadata": {
    "slideshow": {
     "slide_type": "-"
    }
   },
   "outputs": [],
   "source": [
    "og_list = [1, 2, 3]\n",
    "type(og_list)"
   ]
  },
  {
   "cell_type": "code",
   "execution_count": null,
   "id": "35b6bf2b",
   "metadata": {
    "slideshow": {
     "slide_type": "-"
    }
   },
   "outputs": [],
   "source": [
    "myarray = np.array(og_list)\n",
    "print(type(myarray))"
   ]
  },
  {
   "cell_type": "code",
   "execution_count": null,
   "id": "87f191de",
   "metadata": {
    "slideshow": {
     "slide_type": "-"
    }
   },
   "outputs": [],
   "source": [
    "myarray"
   ]
  },
  {
   "cell_type": "markdown",
   "id": "4ee21aed",
   "metadata": {
    "slideshow": {
     "slide_type": "slide"
    }
   },
   "source": [
    "#### Check-in\n",
    "\n",
    "How would you create a `numpy` array with the elements `[5, 6, 7]`?"
   ]
  },
  {
   "cell_type": "code",
   "execution_count": null,
   "id": "36e7a54b",
   "metadata": {
    "slideshow": {
     "slide_type": "-"
    }
   },
   "outputs": [],
   "source": [
    "### Your code here"
   ]
  },
  {
   "cell_type": "markdown",
   "id": "114bbe8b",
   "metadata": {
    "slideshow": {
     "slide_type": "slide"
    }
   },
   "source": [
    "#### Solution"
   ]
  },
  {
   "cell_type": "code",
   "execution_count": null,
   "id": "8b4d3c48",
   "metadata": {
    "slideshow": {
     "slide_type": "-"
    }
   },
   "outputs": [],
   "source": [
    "np_array = np.array([5, 6, 7])\n",
    "np_array"
   ]
  },
  {
   "cell_type": "markdown",
   "id": "aab2748d",
   "metadata": {
    "slideshow": {
     "slide_type": "slide"
    }
   },
   "source": [
    "#### Check-in\n",
    "\n",
    "Why is this code throwing an error?"
   ]
  },
  {
   "cell_type": "code",
   "execution_count": null,
   "id": "225aa4cb",
   "metadata": {
    "slideshow": {
     "slide_type": "-"
    }
   },
   "outputs": [],
   "source": [
    "test_array = np.array(1, 2, 3)"
   ]
  },
  {
   "cell_type": "markdown",
   "id": "d770f84c",
   "metadata": {
    "slideshow": {
     "slide_type": "slide"
    }
   },
   "source": [
    "#### Solution\n",
    "\n",
    "Make sure you **wrap** the input array in `[]`."
   ]
  },
  {
   "cell_type": "code",
   "execution_count": null,
   "id": "5b5f4e58",
   "metadata": {
    "slideshow": {
     "slide_type": "-"
    }
   },
   "outputs": [],
   "source": [
    "test_array = np.array([1, 2, 3])\n",
    "test_array"
   ]
  },
  {
   "cell_type": "markdown",
   "id": "c0258d4b",
   "metadata": {
    "slideshow": {
     "slide_type": "slide"
    }
   },
   "source": [
    "### Indexing into a one-dimensional array\n",
    "\n",
    "Indexing works just like it does for `list`s."
   ]
  },
  {
   "cell_type": "code",
   "execution_count": null,
   "id": "ef532861",
   "metadata": {
    "slideshow": {
     "slide_type": "-"
    }
   },
   "outputs": [],
   "source": [
    "myarray[0]"
   ]
  },
  {
   "cell_type": "code",
   "execution_count": null,
   "id": "8e58ab8b",
   "metadata": {
    "slideshow": {
     "slide_type": "-"
    }
   },
   "outputs": [],
   "source": [
    "myarray[1]"
   ]
  },
  {
   "cell_type": "code",
   "execution_count": null,
   "id": "a52ddec6",
   "metadata": {
    "slideshow": {
     "slide_type": "-"
    }
   },
   "outputs": [],
   "source": [
    "myarray[2]"
   ]
  },
  {
   "cell_type": "markdown",
   "id": "0f06cc11",
   "metadata": {
    "slideshow": {
     "slide_type": "slide"
    }
   },
   "source": [
    "### Multi-dimensional arrays\n",
    "\n",
    "- So far, we've just been looking at 1-dimensional arrays.\n",
    "- But `numpy` is excellent at storing **multi-dimensional arrays**.\n"
   ]
  },
  {
   "cell_type": "markdown",
   "id": "a3cdaa05",
   "metadata": {
    "slideshow": {
     "slide_type": "slide"
    }
   },
   "source": [
    "### Checking *attributes* of an array\n",
    "\n",
    "The `shape` attribute tells you the dimensions of an array."
   ]
  },
  {
   "cell_type": "markdown",
   "id": "cc540e63",
   "metadata": {
    "slideshow": {
     "slide_type": "slide"
    }
   },
   "source": [
    "#### Check-in\n",
    "\n",
    "What is the **dimensionality** of `md_array`?"
   ]
  },
  {
   "cell_type": "code",
   "execution_count": null,
   "id": "cef3539b",
   "metadata": {
    "slideshow": {
     "slide_type": "-"
    }
   },
   "outputs": [],
   "source": [
    "### What is dimensionality\n",
    "md_array = np.array([[1, 2], [3, 3]])"
   ]
  },
  {
   "cell_type": "markdown",
   "id": "f40f0760",
   "metadata": {
    "slideshow": {
     "slide_type": "slide"
    }
   },
   "source": [
    "#### Solution\n",
    "\n",
    "You can check this using `md_array.shape`."
   ]
  },
  {
   "cell_type": "code",
   "execution_count": null,
   "id": "f4155238",
   "metadata": {
    "slideshow": {
     "slide_type": "-"
    }
   },
   "outputs": [],
   "source": [
    "md_array.shape"
   ]
  },
  {
   "cell_type": "markdown",
   "id": "cd5e1fcf",
   "metadata": {
    "slideshow": {
     "slide_type": "slide"
    }
   },
   "source": [
    "#### Check-in\n",
    "\n",
    "What about `md_array2`?"
   ]
  },
  {
   "cell_type": "code",
   "execution_count": null,
   "id": "f3551bb5",
   "metadata": {
    "slideshow": {
     "slide_type": "-"
    }
   },
   "outputs": [],
   "source": [
    "## 2x3 array\n",
    "md_array2 = np.array([[1, 2, 3], [4, 5, 6]])"
   ]
  },
  {
   "cell_type": "markdown",
   "id": "f8c1bdc2",
   "metadata": {
    "slideshow": {
     "slide_type": "slide"
    }
   },
   "source": [
    "#### Solution\n",
    "\n",
    "You can check this using `md_array.shape`."
   ]
  },
  {
   "cell_type": "code",
   "execution_count": null,
   "id": "9dc7e17f",
   "metadata": {
    "slideshow": {
     "slide_type": "-"
    }
   },
   "outputs": [],
   "source": [
    "md_array2.shape"
   ]
  },
  {
   "cell_type": "markdown",
   "id": "e94b184c",
   "metadata": {
    "slideshow": {
     "slide_type": "slide"
    }
   },
   "source": [
    "### Checking *attributes* of an array (pt. 2)\n",
    "\n",
    "The `dtype` attribute tells you the *type* of data in the array."
   ]
  },
  {
   "cell_type": "code",
   "execution_count": null,
   "id": "8f2ea873",
   "metadata": {
    "slideshow": {
     "slide_type": "-"
    }
   },
   "outputs": [],
   "source": [
    "md_array2.dtype"
   ]
  },
  {
   "cell_type": "markdown",
   "id": "346294a4",
   "metadata": {
    "slideshow": {
     "slide_type": "slide"
    }
   },
   "source": [
    "### Homogenous data\n",
    "\n",
    "As noted earlier, an array is meant to store **homogenous elements**.\n",
    "\n",
    "- This means that `np.array` will try to **convert** any heterogenous elements to a common `type`."
   ]
  },
  {
   "cell_type": "code",
   "execution_count": null,
   "id": "352928b9",
   "metadata": {
    "slideshow": {
     "slide_type": "slide"
    }
   },
   "outputs": [],
   "source": [
    "## Note what happens to 5 and 7!\n",
    "arr3 = np.array([\"a\", 5, 7])\n",
    "arr3"
   ]
  },
  {
   "cell_type": "code",
   "execution_count": null,
   "id": "6f23f116",
   "metadata": {},
   "outputs": [],
   "source": [
    "arr3.dtype"
   ]
  },
  {
   "cell_type": "markdown",
   "id": "fb07ec1f",
   "metadata": {
    "slideshow": {
     "slide_type": "slide"
    }
   },
   "source": [
    "### Interim summary\n",
    "\n",
    "- `numpy` is a package that forms the foundation of scientific computing.  \n",
    "- `numpy` arrays are the cornerstone of `numpy`.\n",
    "- A `numpy` array is like a `list`, with a couple differences:\n",
    "  - Requires **homogenous elements**.  \n",
    "  - Better at representing **multi-dimensional arrays**.\n",
    "  - Can be used for **vector operations** (coming up!). \n"
   ]
  },
  {
   "cell_type": "markdown",
   "id": "0c4bcf7d",
   "metadata": {
    "slideshow": {
     "slide_type": "slide"
    }
   },
   "source": [
    "## Working with vectors (intro)\n",
    "\n",
    "- `numpy` vectors make it easier to do all sorts of operations, such as **arithmetic** operations.\n",
    "- No more need to use `for` loops––can do vector arithmetic the same way we multiply individual numbers."
   ]
  },
  {
   "cell_type": "markdown",
   "id": "5a674786",
   "metadata": {
    "slideshow": {
     "slide_type": "slide"
    }
   },
   "source": [
    "### The old way: arithmetic with `for` loops and `list`s\n",
    "\n",
    "Adding one `list` to another requires using a `for` loop. "
   ]
  },
  {
   "cell_type": "code",
   "execution_count": null,
   "id": "5df624ad",
   "metadata": {
    "slideshow": {
     "slide_type": "-"
    }
   },
   "outputs": [],
   "source": [
    "list1 = [1, 2, 3]\n",
    "list2 = [2, 3, 4]"
   ]
  },
  {
   "cell_type": "code",
   "execution_count": null,
   "id": "8a4a79dd",
   "metadata": {
    "slideshow": {
     "slide_type": "-"
    }
   },
   "outputs": [],
   "source": [
    "## The \"+\" operator just combines them\n",
    "list1 + list2"
   ]
  },
  {
   "cell_type": "code",
   "execution_count": null,
   "id": "afde0d22",
   "metadata": {
    "slideshow": {
     "slide_type": "-"
    }
   },
   "outputs": [],
   "source": [
    "## To add them, we must use a for loop\n",
    "sum_list = []\n",
    "for index, item in enumerate(list1):\n",
    "    sum_list.append(item + list2[index])\n",
    "sum_list"
   ]
  },
  {
   "cell_type": "markdown",
   "id": "48361a14",
   "metadata": {
    "slideshow": {
     "slide_type": "slide"
    }
   },
   "source": [
    "### The new way: arithmetic with `numpy`\n",
    "\n",
    "`numpy` makes it *much* easier to do arithmetic operations with vectors."
   ]
  },
  {
   "cell_type": "code",
   "execution_count": null,
   "id": "0b4e2c6a",
   "metadata": {
    "slideshow": {
     "slide_type": "-"
    }
   },
   "outputs": [],
   "source": [
    "## First, define some vectors\n",
    "arr1 = np.array([list1])\n",
    "arr2 = np.array([list2])"
   ]
  },
  {
   "cell_type": "code",
   "execution_count": null,
   "id": "87084187",
   "metadata": {},
   "outputs": [],
   "source": [
    "## Can just use \"+\"!\n",
    "arr1 + arr2"
   ]
  },
  {
   "cell_type": "markdown",
   "id": "fa7fea87",
   "metadata": {
    "slideshow": {
     "slide_type": "slide"
    }
   },
   "source": [
    "#### Other arithmetic operations"
   ]
  },
  {
   "cell_type": "code",
   "execution_count": null,
   "id": "35cccc9f",
   "metadata": {
    "slideshow": {
     "slide_type": "-"
    }
   },
   "outputs": [],
   "source": [
    "arr1 -  arr2"
   ]
  },
  {
   "cell_type": "code",
   "execution_count": null,
   "id": "bc67346f",
   "metadata": {
    "slideshow": {
     "slide_type": "-"
    }
   },
   "outputs": [],
   "source": [
    "arr1 *  arr2"
   ]
  },
  {
   "cell_type": "code",
   "execution_count": null,
   "id": "5a544676",
   "metadata": {
    "slideshow": {
     "slide_type": "-"
    }
   },
   "outputs": [],
   "source": [
    "arr1 / arr2"
   ]
  },
  {
   "cell_type": "markdown",
   "id": "c5c03656",
   "metadata": {
    "slideshow": {
     "slide_type": "slide"
    }
   },
   "source": [
    "#### Vectors vs. scalars\n",
    "\n",
    "- A **vector** is a list of numbers; a **scalar** is a single number.\n",
    "- We can multiply (or add, subtract, etc.) an entire *vector* by a single number."
   ]
  },
  {
   "cell_type": "code",
   "execution_count": null,
   "id": "8a28e091",
   "metadata": {
    "slideshow": {
     "slide_type": "-"
    }
   },
   "outputs": [],
   "source": [
    "arr1"
   ]
  },
  {
   "cell_type": "code",
   "execution_count": null,
   "id": "f3cb9ab7",
   "metadata": {
    "slideshow": {
     "slide_type": "-"
    }
   },
   "outputs": [],
   "source": [
    "## Multiply all elements by 100\n",
    "arr1 * 100"
   ]
  },
  {
   "cell_type": "markdown",
   "id": "ecd87686",
   "metadata": {
    "slideshow": {
     "slide_type": "slide"
    }
   },
   "source": [
    "#### Check-in\n",
    "\n",
    "What would multiplying the two arrays below return?\n",
    "\n",
    "```python\n",
    "a = np.array([2, 4, 5])\n",
    "b = np.array([2, 2, 3])\n",
    "a * b\n",
    "```"
   ]
  },
  {
   "cell_type": "code",
   "execution_count": null,
   "id": "dde92776",
   "metadata": {},
   "outputs": [],
   "source": [
    "### Your code here"
   ]
  },
  {
   "cell_type": "markdown",
   "id": "c89a648c",
   "metadata": {
    "slideshow": {
     "slide_type": "slide"
    }
   },
   "source": [
    "#### Check-in\n",
    "\n",
    "What would happen if we ran the code below?\n",
    "\n",
    "```python\n",
    "a = np.array([2, 4, 5])\n",
    "b = np.array([2, 2])\n",
    "a * b\n",
    "```"
   ]
  },
  {
   "cell_type": "code",
   "execution_count": null,
   "id": "72733cef",
   "metadata": {},
   "outputs": [],
   "source": [
    "### Your code here"
   ]
  },
  {
   "cell_type": "markdown",
   "id": "448cf9a7",
   "metadata": {
    "slideshow": {
     "slide_type": "slide"
    }
   },
   "source": [
    "### Thinking with vectors\n",
    "\n",
    "- Using `numpy` for vector arithmetic can sometimes involve a \"cognitive shift\".  \n",
    "- We're used to multiplying *individual elements*; now we have to transition to thinking about multiplying *entire vectors*.\n",
    "- But it's much more efficient!"
   ]
  },
  {
   "cell_type": "markdown",
   "id": "8a010b94",
   "metadata": {
    "slideshow": {
     "slide_type": "slide"
    }
   },
   "source": [
    "### The old way: arithmetic with `for` loops and `list`s\n",
    "\n",
    "Adding one `list` to another requires using a `for` loop. "
   ]
  },
  {
   "cell_type": "code",
   "execution_count": null,
   "id": "63ded923",
   "metadata": {
    "slideshow": {
     "slide_type": "-"
    }
   },
   "outputs": [],
   "source": [
    "list1 = [1, 2, 3]\n",
    "list2 = [2, 3, 4]"
   ]
  },
  {
   "cell_type": "code",
   "execution_count": null,
   "id": "9924ee55",
   "metadata": {
    "slideshow": {
     "slide_type": "-"
    }
   },
   "outputs": [],
   "source": [
    "## The \"+\" operator just combines them\n",
    "list1 + list2"
   ]
  },
  {
   "cell_type": "code",
   "execution_count": null,
   "id": "5df84cb6",
   "metadata": {
    "slideshow": {
     "slide_type": "-"
    }
   },
   "outputs": [],
   "source": [
    "## To add them, we must use a for loop\n",
    "sum_list = []\n",
    "for index, item in enumerate(list1):\n",
    "    sum_list.append(item + list2[index])\n",
    "sum_list"
   ]
  },
  {
   "cell_type": "markdown",
   "id": "56b7da76",
   "metadata": {
    "slideshow": {
     "slide_type": "slide"
    }
   },
   "source": [
    "### The new way: arithmetic with `numpy`\n",
    "\n",
    "`numpy` makes it *much* easier to do arithmetic operations with vectors."
   ]
  },
  {
   "cell_type": "code",
   "execution_count": null,
   "id": "5c15c406",
   "metadata": {
    "slideshow": {
     "slide_type": "-"
    }
   },
   "outputs": [],
   "source": [
    "## First, define some vectors\n",
    "arr1 = np.array([list1])\n",
    "arr2 = np.array([list2])"
   ]
  },
  {
   "cell_type": "code",
   "execution_count": null,
   "id": "ea4b5300",
   "metadata": {},
   "outputs": [],
   "source": [
    "## Can just use \"+\"!\n",
    "arr1 + arr2"
   ]
  },
  {
   "cell_type": "markdown",
   "id": "328af36d",
   "metadata": {
    "slideshow": {
     "slide_type": "slide"
    }
   },
   "source": [
    "#### Other arithmetic operations"
   ]
  },
  {
   "cell_type": "code",
   "execution_count": null,
   "id": "895aba69",
   "metadata": {
    "slideshow": {
     "slide_type": "-"
    }
   },
   "outputs": [],
   "source": [
    "arr1 -  arr2"
   ]
  },
  {
   "cell_type": "code",
   "execution_count": null,
   "id": "2d13c5b4",
   "metadata": {
    "slideshow": {
     "slide_type": "-"
    }
   },
   "outputs": [],
   "source": [
    "arr1 * arr2"
   ]
  },
  {
   "cell_type": "code",
   "execution_count": null,
   "id": "ee19211a",
   "metadata": {
    "slideshow": {
     "slide_type": "-"
    }
   },
   "outputs": [],
   "source": [
    "arr1 / arr2"
   ]
  },
  {
   "cell_type": "markdown",
   "id": "db83a86d",
   "metadata": {
    "slideshow": {
     "slide_type": "slide"
    }
   },
   "source": [
    "#### Vectors vs. scalars\n",
    "\n",
    "- A **vector** is a list of numbers; a **scalar** is a single number.\n",
    "- We can multiply (or add, subtract, etc.) an entire *vector* by a single number."
   ]
  },
  {
   "cell_type": "code",
   "execution_count": null,
   "id": "0c6cba66",
   "metadata": {
    "slideshow": {
     "slide_type": "-"
    }
   },
   "outputs": [],
   "source": [
    "arr1"
   ]
  },
  {
   "cell_type": "code",
   "execution_count": null,
   "id": "d89e109f",
   "metadata": {
    "slideshow": {
     "slide_type": "-"
    }
   },
   "outputs": [],
   "source": [
    "## Multiply all elements by 100\n",
    "arr1 * 100"
   ]
  },
  {
   "cell_type": "markdown",
   "id": "63eefe2e",
   "metadata": {
    "slideshow": {
     "slide_type": "slide"
    }
   },
   "source": [
    "#### Check-in\n",
    "\n",
    "What would multiplying the two arrays below return?\n",
    "\n",
    "```python\n",
    "a = np.array([2, 4, 5])\n",
    "b = np.array([2, 2, 3])\n",
    "a * b\n",
    "```"
   ]
  },
  {
   "cell_type": "code",
   "execution_count": null,
   "id": "f05e8641",
   "metadata": {},
   "outputs": [],
   "source": [
    "### Your code here"
   ]
  },
  {
   "cell_type": "markdown",
   "id": "523ffcd5",
   "metadata": {
    "slideshow": {
     "slide_type": "slide"
    }
   },
   "source": [
    "#### Check-in\n",
    "\n",
    "What would happen if we ran the code below?\n",
    "\n",
    "```python\n",
    "a = np.array([2, 4, 5])\n",
    "b = np.array([2, 2])\n",
    "a * b\n",
    "```"
   ]
  },
  {
   "cell_type": "code",
   "execution_count": null,
   "id": "d5ced126",
   "metadata": {},
   "outputs": [],
   "source": [
    "### Your code here"
   ]
  },
  {
   "cell_type": "markdown",
   "id": "92cf81f2",
   "metadata": {
    "slideshow": {
     "slide_type": "slide"
    }
   },
   "source": [
    "#### Check-in\n",
    "\n",
    "Consider the same two arrays as before. How would you:\n",
    "\n",
    "- Calculate the **product** of these arrays?  \n",
    "- Calculate the **sum** of the elements in this new \"product\" array?\n",
    "\n",
    "Note that this is also called the [dot product](https://en.wikipedia.org/wiki/Dot_product)."
   ]
  },
  {
   "cell_type": "code",
   "execution_count": null,
   "id": "0c19c77e",
   "metadata": {
    "slideshow": {
     "slide_type": "-"
    }
   },
   "outputs": [],
   "source": [
    "### Your code here\n",
    "a = np.array([2, 4, 5])\n",
    "b = np.array([2, 2, 3])"
   ]
  },
  {
   "cell_type": "markdown",
   "id": "83dd94f1",
   "metadata": {
    "slideshow": {
     "slide_type": "slide"
    }
   },
   "source": [
    "#### Solution\n",
    "\n",
    "This is also called the [dot product](https://en.wikipedia.org/wiki/Dot_product)."
   ]
  },
  {
   "cell_type": "code",
   "execution_count": null,
   "id": "a743114d",
   "metadata": {
    "slideshow": {
     "slide_type": "-"
    }
   },
   "outputs": [],
   "source": [
    "## First, calculate the product\n",
    "product = a * b\n",
    "product\n"
   ]
  },
  {
   "cell_type": "code",
   "execution_count": null,
   "id": "08fea66f",
   "metadata": {
    "slideshow": {
     "slide_type": "-"
    }
   },
   "outputs": [],
   "source": [
    "## Then, calculate the sum of this array\n",
    "product.sum()\n"
   ]
  },
  {
   "cell_type": "markdown",
   "id": "fd6a7e80",
   "metadata": {
    "slideshow": {
     "slide_type": "slide"
    }
   },
   "source": [
    "## Descriptive statistics with `numpy`\n",
    "\n",
    "> **Descriptive statistics** are ways to summarize and organize data.\n",
    "\n",
    "A big advantage of `numpy` is that it has **built-in functions** to calculate various descriptive statistics:\n",
    "\n",
    "- The `sum` of a set of numbers.  \n",
    "- The `mean` (or \"average\") of a set of numbers.  \n",
    "- The `median` (or \"middle value\") of a set of numbers.\n"
   ]
  },
  {
   "cell_type": "markdown",
   "id": "8ff4dad1",
   "metadata": {
    "slideshow": {
     "slide_type": "slide"
    }
   },
   "source": [
    "### `sum`\n",
    "\n",
    "> The **sum** of a set of numbers is simply the result of adding each number together.\n",
    "\n",
    "The `numpy` package has a `sum` function built in, which makes it easier to calculate the sum of a vector."
   ]
  },
  {
   "cell_type": "code",
   "execution_count": null,
   "id": "6055ef6c",
   "metadata": {
    "slideshow": {
     "slide_type": "-"
    }
   },
   "outputs": [],
   "source": [
    "## First, create an array with some numbers\n",
    "v = np.array([5, 9, 10])\n",
    "v"
   ]
  },
  {
   "cell_type": "code",
   "execution_count": null,
   "id": "5d5c3bc4",
   "metadata": {
    "slideshow": {
     "slide_type": "-"
    }
   },
   "outputs": [],
   "source": [
    "## Now calculate the sum\n",
    "v.sum()"
   ]
  },
  {
   "cell_type": "markdown",
   "id": "9e0968ab",
   "metadata": {
    "slideshow": {
     "slide_type": "slide"
    }
   },
   "source": [
    "### `mean`\n",
    "\n",
    "> The **mean** of a set of scores is the *sum* of those scores divided by the number of the observations.\n",
    "\n",
    "The `numpy` package also has a `mean` function built in. Two options:\n",
    "\n",
    "- `array_name.mean()`\n",
    "- `np.mean(array_name)`"
   ]
  },
  {
   "cell_type": "code",
   "execution_count": null,
   "id": "3be4f0ac",
   "metadata": {
    "slideshow": {
     "slide_type": "-"
    }
   },
   "outputs": [],
   "source": [
    "## First, create an array with some numbers\n",
    "v = np.array([5, 9, 10])\n",
    "v"
   ]
  },
  {
   "cell_type": "code",
   "execution_count": null,
   "id": "f3fa2609",
   "metadata": {
    "slideshow": {
     "slide_type": "-"
    }
   },
   "outputs": [],
   "source": [
    "## Now calculate the mean\n",
    "v.mean()"
   ]
  },
  {
   "cell_type": "code",
   "execution_count": null,
   "id": "38b6a45b",
   "metadata": {
    "slideshow": {
     "slide_type": "-"
    }
   },
   "outputs": [],
   "source": [
    "## Or do it with numpy.mean\n",
    "np.mean(v)"
   ]
  },
  {
   "cell_type": "markdown",
   "id": "788a008e",
   "metadata": {
    "slideshow": {
     "slide_type": "slide"
    }
   },
   "source": [
    "#### Check-in\n",
    "\n",
    "What would happen if we ran the following code?\n",
    "\n",
    "```python\n",
    "v = np.array([1, 5, 9])\n",
    "np.mean(v)\n",
    "```"
   ]
  },
  {
   "cell_type": "code",
   "execution_count": null,
   "id": "5e7f0938",
   "metadata": {},
   "outputs": [],
   "source": [
    "### Your code here"
   ]
  },
  {
   "cell_type": "markdown",
   "id": "cb39711b",
   "metadata": {
    "slideshow": {
     "slide_type": "slide"
    }
   },
   "source": [
    "#### Solution\n",
    "\n",
    "This will also calculate the `mean`. "
   ]
  },
  {
   "cell_type": "code",
   "execution_count": null,
   "id": "9fddd7ac",
   "metadata": {},
   "outputs": [],
   "source": [
    "v = np.array([1, 5, 9])\n",
    "np.mean(v)"
   ]
  },
  {
   "cell_type": "markdown",
   "id": "20d14871",
   "metadata": {
    "slideshow": {
     "slide_type": "slide"
    }
   },
   "source": [
    "#### Check-in\n",
    "\n",
    "What would happen if we ran the following code?\n",
    "\n",
    "```python\n",
    "v = np.array([\"a\", \"b\", \"a\"])\n",
    "v.mean()\n",
    "```"
   ]
  },
  {
   "cell_type": "code",
   "execution_count": null,
   "id": "23593734",
   "metadata": {},
   "outputs": [],
   "source": [
    "### Your code here"
   ]
  },
  {
   "cell_type": "markdown",
   "id": "f89529e5",
   "metadata": {
    "slideshow": {
     "slide_type": "slide"
    }
   },
   "source": [
    "#### Solution\n",
    "\n",
    "It will throw an **error**. \n",
    "\n",
    "- You cannot calculate the `mean` of a vector of `str` types.\n",
    "- The `mean` can only be calculated for **interval/ratio data**.  "
   ]
  },
  {
   "cell_type": "markdown",
   "id": "08417977",
   "metadata": {
    "slideshow": {
     "slide_type": "slide"
    }
   },
   "source": [
    "### `median`\n",
    "\n",
    "> The **median** of a set of scores is the *middle* score when those scores are arranged from least to greatest.\n",
    "\n",
    "The `numpy` package also has a `mean` function built in.\n",
    "\n",
    "- Syntax: `np.median(array_name)`. \n",
    "- Unlike `mean`, **cannot use** `array_name.median()`"
   ]
  },
  {
   "cell_type": "code",
   "execution_count": null,
   "id": "97e09da7",
   "metadata": {
    "slideshow": {
     "slide_type": "-"
    }
   },
   "outputs": [],
   "source": [
    "## First, create an array with some numbers\n",
    "v = np.array([5, 9, 10, 1, 20])\n",
    "v"
   ]
  },
  {
   "cell_type": "code",
   "execution_count": null,
   "id": "060f0fa1",
   "metadata": {
    "slideshow": {
     "slide_type": "-"
    }
   },
   "outputs": [],
   "source": [
    "## Now calculate the median\n",
    "np.median(v)"
   ]
  },
  {
   "cell_type": "markdown",
   "id": "b0533aa1",
   "metadata": {
    "slideshow": {
     "slide_type": "slide"
    }
   },
   "source": [
    "#### Check-in\n",
    "\n",
    "What would be the **median** of the following vector?\n",
    "\n",
    "```python\n",
    "v = np.array([1, 2, 5, 8])\n",
    "```"
   ]
  },
  {
   "cell_type": "markdown",
   "id": "37c366ff",
   "metadata": {
    "slideshow": {
     "slide_type": "slide"
    }
   },
   "source": [
    "#### Solution\n",
    "\n",
    "If the vector has an *even* number of elements, the **median** is the *mean* of the middle two elements."
   ]
  },
  {
   "cell_type": "code",
   "execution_count": null,
   "id": "d6e8acee",
   "metadata": {
    "slideshow": {
     "slide_type": "-"
    }
   },
   "outputs": [],
   "source": [
    "## First, create an array with some numbers\n",
    "v = np.array([1, 2, 5, 8])\n",
    "v"
   ]
  },
  {
   "cell_type": "code",
   "execution_count": null,
   "id": "4b1aadd9",
   "metadata": {},
   "outputs": [],
   "source": [
    "## Use np.median\n",
    "np.median(v)"
   ]
  },
  {
   "cell_type": "code",
   "execution_count": null,
   "id": "86fca24f",
   "metadata": {},
   "outputs": [],
   "source": [
    "## Equivalent to *mean* of 2 and 5\n",
    "(2 + 5) / 2"
   ]
  },
  {
   "cell_type": "markdown",
   "id": "2d223212",
   "metadata": {
    "slideshow": {
     "slide_type": "slide"
    }
   },
   "source": [
    "### Interim summary\n",
    "\n",
    "- **Descriptive statistics** are a really useful way to *summarize* data.  \n",
    "- Very valuable for both basic and applied research (e.g., in industry).  \n",
    "   - Examples: `median` salary, `mean` sales per fiscal quarter, `mean` reaction time on a psychophysics task, etc.\n",
    "- `numpy` makes this much easier.\n",
    "   - Later, we'll discuss how `pandas` (a way to represent data tables) uses these same functions."
   ]
  },
  {
   "cell_type": "markdown",
   "id": "b8148ad1",
   "metadata": {
    "slideshow": {
     "slide_type": "slide"
    }
   },
   "source": [
    "## Working with matrices\n",
    "\n",
    "> A **matrix** is a rectangular array of data (i.e., a **multi-dimensional array**).\n",
    "\n",
    "`numpy` is *designed* for **representing** and **performing calculations** with matrices.\n",
    "\n",
    "- A \"vector\" is just a one-dimensional matrix.\n",
    "- Many of the same operations we've discussed also apply to working with matrices."
   ]
  },
  {
   "cell_type": "markdown",
   "id": "0b21f572",
   "metadata": {
    "slideshow": {
     "slide_type": "slide"
    }
   },
   "source": [
    "### Creating a matrix\n",
    "\n",
    "- Matrices can be created just like vectors.  \n",
    "- The key difference is that they contain **nested lists**."
   ]
  },
  {
   "cell_type": "code",
   "execution_count": null,
   "id": "2956746e",
   "metadata": {
    "slideshow": {
     "slide_type": "-"
    }
   },
   "outputs": [],
   "source": [
    "md_array = np.array([[1, 2, 5], [3, 4, 7]])\n",
    "md_array"
   ]
  },
  {
   "cell_type": "code",
   "execution_count": null,
   "id": "3434705a",
   "metadata": {
    "slideshow": {
     "slide_type": "-"
    }
   },
   "outputs": [],
   "source": [
    "## This is a 2 by 3 matrix\n",
    "md_array.shape"
   ]
  },
  {
   "cell_type": "markdown",
   "id": "e5ca3a14",
   "metadata": {
    "slideshow": {
     "slide_type": "slide"
    }
   },
   "source": [
    "### Indexing into a matrix\n",
    "\n",
    "- You can **index** into a matrix, just like with a vector.  \n",
    "- A key difference is that you use *multiple indices*, for each dimension.\n",
    "   - `matrix_name[D1_index, D2_index, ...]`"
   ]
  },
  {
   "cell_type": "code",
   "execution_count": null,
   "id": "8f0c0b85",
   "metadata": {
    "slideshow": {
     "slide_type": "-"
    }
   },
   "outputs": [],
   "source": [
    "# This just returns the first *row*\n",
    "md_array[0]"
   ]
  },
  {
   "cell_type": "code",
   "execution_count": null,
   "id": "b2d50d83",
   "metadata": {
    "slideshow": {
     "slide_type": "-"
    }
   },
   "outputs": [],
   "source": [
    "# This returns the second element of the first row\n",
    "md_array[0, 1]\n"
   ]
  },
  {
   "cell_type": "markdown",
   "id": "27a80f04",
   "metadata": {
    "slideshow": {
     "slide_type": "slide"
    }
   },
   "source": [
    "#### Check-in\n",
    "\n",
    "How would you return the *first element* of the *second row* of `md_array`?\n",
    "\n",
    "```python\n",
    "md_array = np.array([[1, 2, 5], [3, 4, 7]])\n",
    "md_array\n",
    "```"
   ]
  },
  {
   "cell_type": "code",
   "execution_count": null,
   "id": "3e995076",
   "metadata": {
    "slideshow": {
     "slide_type": "-"
    }
   },
   "outputs": [],
   "source": [
    "### Your code here\n",
    "md_array = np.array([[1, 2, 5], [3, 4, 7]])\n",
    "md_array"
   ]
  },
  {
   "cell_type": "markdown",
   "id": "d0b5d075",
   "metadata": {
    "slideshow": {
     "slide_type": "slide"
    }
   },
   "source": [
    "#### Solution"
   ]
  },
  {
   "cell_type": "code",
   "execution_count": null,
   "id": "4835dd39",
   "metadata": {
    "slideshow": {
     "slide_type": "-"
    }
   },
   "outputs": [],
   "source": [
    "# Can use [1] to get second row\n",
    "md_array"
   ]
  },
  {
   "cell_type": "code",
   "execution_count": null,
   "id": "63f3805c",
   "metadata": {
    "slideshow": {
     "slide_type": "-"
    }
   },
   "outputs": [],
   "source": [
    "# Use [1, 0] to get first element of second row\n",
    "md_array[1, 0]"
   ]
  },
  {
   "cell_type": "code",
   "execution_count": null,
   "id": "b10aded3",
   "metadata": {
    "slideshow": {
     "slide_type": "-"
    }
   },
   "outputs": [],
   "source": [
    "### Your code here"
   ]
  },
  {
   "cell_type": "markdown",
   "id": "e03495f4",
   "metadata": {
    "slideshow": {
     "slide_type": "slide"
    }
   },
   "source": [
    "#### Solution\n",
    "\n",
    "Retrieving a **column** uses the `[:,column_index]` syntax."
   ]
  },
  {
   "cell_type": "code",
   "execution_count": null,
   "id": "84340493",
   "metadata": {
    "slideshow": {
     "slide_type": "-"
    }
   },
   "outputs": [],
   "source": [
    "## column 1\n",
    "md_array[:, 0]"
   ]
  },
  {
   "cell_type": "code",
   "execution_count": null,
   "id": "93c7d6ff",
   "metadata": {
    "slideshow": {
     "slide_type": "-"
    }
   },
   "outputs": [],
   "source": [
    "## column 2\n",
    "md_array[:, 1]"
   ]
  },
  {
   "cell_type": "code",
   "execution_count": null,
   "id": "f8b6607f",
   "metadata": {
    "slideshow": {
     "slide_type": "-"
    }
   },
   "outputs": [],
   "source": [
    "## column 3\n",
    "md_array[:, 2]"
   ]
  },
  {
   "cell_type": "markdown",
   "id": "c6ab6acc",
   "metadata": {
    "slideshow": {
     "slide_type": "slide"
    }
   },
   "source": [
    "#### Check-in\n",
    "\n",
    "How would you retrieve the *second* and *third* element of the second row?\n",
    "\n",
    "```python\n",
    "md_array = np.array([[1, 2, 5], [3, 4, 7]])\n",
    "md_array\n",
    "```"
   ]
  },
  {
   "cell_type": "code",
   "execution_count": null,
   "id": "a66afd93",
   "metadata": {
    "slideshow": {
     "slide_type": "-"
    }
   },
   "outputs": [],
   "source": [
    "### Your code here\n",
    "md_array = np.array([[1, 2, 5], [3, 4, 7]])\n",
    "md_array[1, 1:3]"
   ]
  },
  {
   "cell_type": "markdown",
   "id": "6ec7e1be",
   "metadata": {
    "slideshow": {
     "slide_type": "slide"
    }
   },
   "source": [
    "#### Solution"
   ]
  },
  {
   "cell_type": "code",
   "execution_count": null,
   "id": "0ea64a29",
   "metadata": {
    "slideshow": {
     "slide_type": "-"
    }
   },
   "outputs": [],
   "source": [
    "## First, get second row with md_array[1]\n",
    "md_array[1]"
   ]
  },
  {
   "cell_type": "code",
   "execution_count": null,
   "id": "6fd4b2f7",
   "metadata": {
    "slideshow": {
     "slide_type": "-"
    }
   },
   "outputs": [],
   "source": [
    "## First, get second/third elements with slicing\n",
    "## I.e., [1:3] syntax\n",
    "md_array[1, 1:3]"
   ]
  },
  {
   "cell_type": "markdown",
   "id": "d8086789",
   "metadata": {
    "slideshow": {
     "slide_type": "slide"
    }
   },
   "source": [
    "### Summary statistics with matrices\n",
    "\n",
    "- When you call `np.sum` (or `mean`, etc.), you can specify which **axis** to calculate that statistic from.  \n",
    "- `axis = 0`: calculate `sum` (or `mean`, etc.) of each **column**.\n",
    "- `axis = 1`: calculate `sum` (or `mean`, etc.) of each **row**."
   ]
  },
  {
   "cell_type": "code",
   "execution_count": null,
   "id": "82eab486",
   "metadata": {},
   "outputs": [],
   "source": [
    "## Calcaulate mean of each column\n",
    "print(md_array)\n",
    "md_array.sum(axis = 0)"
   ]
  },
  {
   "cell_type": "code",
   "execution_count": null,
   "id": "eb37a7b2",
   "metadata": {},
   "outputs": [],
   "source": [
    "## Calcaulate mean of each row\n",
    "md_array.sum(axis = 1)"
   ]
  },
  {
   "cell_type": "markdown",
   "id": "0095b687",
   "metadata": {
    "slideshow": {
     "slide_type": "slide"
    }
   },
   "source": [
    "#### Check-in\n",
    "\n",
    "How would you calculate the `mean` of each **row** of the following matrix?"
   ]
  },
  {
   "cell_type": "code",
   "execution_count": null,
   "id": "7b09efb9",
   "metadata": {},
   "outputs": [],
   "source": [
    "m = np.array([[5, 10, 2],\n",
    "            [20, 5, 100]])\n",
    "### your code here\n",
    "np.mean(m, axis = 1)"
   ]
  },
  {
   "cell_type": "markdown",
   "id": "90e42a05",
   "metadata": {
    "slideshow": {
     "slide_type": "slide"
    }
   },
   "source": [
    "#### Solution"
   ]
  },
  {
   "cell_type": "code",
   "execution_count": null,
   "id": "c85b02fa",
   "metadata": {},
   "outputs": [],
   "source": [
    "m.mean(axis = 1)"
   ]
  },
  {
   "cell_type": "code",
   "execution_count": null,
   "id": "122558d9",
   "metadata": {},
   "outputs": [],
   "source": [
    "m.mean(axis = 1).shape"
   ]
  },
  {
   "cell_type": "markdown",
   "id": "7165afef",
   "metadata": {
    "slideshow": {
     "slide_type": "slide"
    }
   },
   "source": [
    "#### Check-in\n",
    "\n",
    "Suppose you have a 5x6 matrix (5 rows, 6 columns). If you calculated the `mean` of each **column**, what would the `shape` be of the resulting vector?"
   ]
  },
  {
   "cell_type": "markdown",
   "id": "09fe30f6",
   "metadata": {
    "slideshow": {
     "slide_type": "slide"
    }
   },
   "source": [
    "#### Solution\n",
    "\n",
    "The vector would have a `shape` of `(6,)`, i.e., **six observations**.\n",
    "\n",
    "- There are six columns, so calculating the mean of each column would result in *six observations*."
   ]
  },
  {
   "cell_type": "markdown",
   "id": "57b6096c",
   "metadata": {
    "slideshow": {
     "slide_type": "slide"
    }
   },
   "source": [
    "### Side note: arithmetic with matrices\n",
    "\n",
    "- You can also perform arithmetic with matrices (e.g., **addition**, **multiplication**, etc.).\n",
    "- However, note that matrices must have compatible dimensions.  \n",
    "   - More discussion of this in a [Linear Algebra class](https://en.wikipedia.org/wiki/Linear_algebra)."
   ]
  },
  {
   "cell_type": "markdown",
   "id": "e94306ff",
   "metadata": {
    "slideshow": {
     "slide_type": "slide"
    }
   },
   "source": [
    "## Identifying the location of an item\n",
    "\n",
    "Often, you'll need to **search** a vector or matrix for items that meet a certain conditions.\n",
    "\n",
    "- All `scores == 100`.\n",
    "- All `building_heights` above a certain threshold.  \n",
    "- All `reaction_times` above a certain cutoff.\n",
    "\n",
    "You can think of this as **applying a conditional statement** to *search* a vector."
   ]
  },
  {
   "cell_type": "markdown",
   "id": "f0d581cc",
   "metadata": {
    "slideshow": {
     "slide_type": "slide"
    }
   },
   "source": [
    "### Identifying the location of an item\n",
    "\n",
    "Often, you'll need to **search** a vector or matrix for items that meet a certain conditions.\n",
    "\n",
    "- All `scores == 100`.\n",
    "- All `building_heights` above a certain threshold.  \n",
    "- All `reaction_times` above a certain cutoff.\n",
    "\n",
    "You can think of this as **applying a conditional statement** to *search* a vector."
   ]
  },
  {
   "cell_type": "markdown",
   "id": "4d7071bd",
   "metadata": {
    "slideshow": {
     "slide_type": "slide"
    }
   },
   "source": [
    "### Using `==`\n",
    "\n",
    "This will return a vector of `True` or `False`, indicating whether each index/element matches the condition."
   ]
  },
  {
   "cell_type": "code",
   "execution_count": null,
   "id": "f4219bf2",
   "metadata": {
    "slideshow": {
     "slide_type": "-"
    }
   },
   "outputs": [],
   "source": [
    "## Scores\n",
    "scores = np.array([100, 95, 100, 85])"
   ]
  },
  {
   "cell_type": "code",
   "execution_count": null,
   "id": "9aba37a8",
   "metadata": {
    "slideshow": {
     "slide_type": "-"
    }
   },
   "outputs": [],
   "source": [
    "## Which scores == 100?\n",
    "scores == 100"
   ]
  },
  {
   "cell_type": "code",
   "execution_count": null,
   "id": "e2881e3e",
   "metadata": {
    "slideshow": {
     "slide_type": "-"
    }
   },
   "outputs": [],
   "source": [
    "## Select only scores == 100\n",
    "scores[scores >= 95]"
   ]
  },
  {
   "cell_type": "markdown",
   "id": "6d75ec25",
   "metadata": {
    "slideshow": {
     "slide_type": "slide"
    }
   },
   "source": [
    "### Using `np.where`\n",
    "\n",
    "By default, this will return the **indices** in the initial array corresponding to the condition."
   ]
  },
  {
   "cell_type": "code",
   "execution_count": null,
   "id": "708203e3",
   "metadata": {
    "slideshow": {
     "slide_type": "-"
    }
   },
   "outputs": [],
   "source": [
    "## Get indices\n",
    "np.where(scores == 100)"
   ]
  },
  {
   "cell_type": "code",
   "execution_count": null,
   "id": "915164c5",
   "metadata": {
    "slideshow": {
     "slide_type": "-"
    }
   },
   "outputs": [],
   "source": [
    "## Applying indices to vector\n",
    "scores[np.where(scores == 100)]"
   ]
  },
  {
   "cell_type": "markdown",
   "id": "6e3b9204",
   "metadata": {
    "slideshow": {
     "slide_type": "slide"
    }
   },
   "source": [
    "### Check-in\n",
    "\n",
    "Consider the following array of `building_heights`. How would you find out which buildings are taller than 50 feet?"
   ]
  },
  {
   "cell_type": "code",
   "execution_count": null,
   "id": "f1247f7e",
   "metadata": {
    "slideshow": {
     "slide_type": "-"
    }
   },
   "outputs": [],
   "source": [
    "building_heights = np.array([25, 45, 10, 60, 10, 85, 100])\n",
    "### Your code here\n",
    "building_heights[building_heights > 50]"
   ]
  },
  {
   "cell_type": "markdown",
   "id": "d6257791",
   "metadata": {
    "slideshow": {
     "slide_type": "slide"
    }
   },
   "source": [
    "## Other useful functions\n",
    "\n",
    "`numpy` also has a host of other useful functions. For now, we'll focus on:\n",
    "\n",
    "- **Generating an array** with either random numbers or `ones` or `zeros`.\n",
    "- **Reshaping an array** with `reshape."
   ]
  },
  {
   "cell_type": "markdown",
   "id": "9dee2a5a",
   "metadata": {
    "slideshow": {
     "slide_type": "slide"
    }
   },
   "source": [
    "### Initializing a random array\n",
    "\n",
    "`numpy.random.rand(d1, ...)` can be used to initialize an array with **random numbers** and dimensionality `(d1, ...)`."
   ]
  },
  {
   "cell_type": "code",
   "execution_count": null,
   "id": "7bd478da",
   "metadata": {
    "slideshow": {
     "slide_type": "-"
    }
   },
   "outputs": [],
   "source": [
    "## Generates a 1-D vector with 10 elements\n",
    "np.random.rand(10)"
   ]
  },
  {
   "cell_type": "code",
   "execution_count": null,
   "id": "6e83ebf2",
   "metadata": {
    "slideshow": {
     "slide_type": "-"
    }
   },
   "outputs": [],
   "source": [
    "## Generates a 2-D vector with shape (2, 2)\n",
    "np.random.rand(5, 5)"
   ]
  },
  {
   "cell_type": "markdown",
   "id": "700dca67",
   "metadata": {
    "slideshow": {
     "slide_type": "slide"
    }
   },
   "source": [
    "#### Check-in\n",
    "\n",
    "Generate a random array with shape (3, 2), then calculate the `mean` of each column."
   ]
  },
  {
   "cell_type": "code",
   "execution_count": null,
   "id": "1bf4bd0a",
   "metadata": {
    "slideshow": {
     "slide_type": "-"
    }
   },
   "outputs": [],
   "source": [
    "### Your code here"
   ]
  },
  {
   "cell_type": "markdown",
   "id": "725218fc",
   "metadata": {
    "slideshow": {
     "slide_type": "slide"
    }
   },
   "source": [
    "### Initializing an array of `ones` or `zeros`\n",
    "\n",
    "This is like `np.random.rand`, but each element is either a `1` or `0`."
   ]
  },
  {
   "cell_type": "code",
   "execution_count": null,
   "id": "64a31c7a",
   "metadata": {
    "slideshow": {
     "slide_type": "-"
    }
   },
   "outputs": [],
   "source": [
    "np.ones((2, 2))"
   ]
  },
  {
   "cell_type": "code",
   "execution_count": null,
   "id": "eb99947b",
   "metadata": {
    "slideshow": {
     "slide_type": "-"
    }
   },
   "outputs": [],
   "source": [
    "np.zeros((2, 2))"
   ]
  },
  {
   "cell_type": "markdown",
   "id": "e7479aa7",
   "metadata": {
    "slideshow": {
     "slide_type": "slide"
    }
   },
   "source": [
    "### Using `numpy.reshape`\n",
    "\n",
    "Sometimes, a matrix or vector isn't the right **shape** to perform a computation.\n",
    "\n",
    "- E.g., multiplying by another vector.  \n",
    "- E.g., using for regression in a regression equation.\n",
    "\n",
    "We can use `np.reshape` to reshape that array."
   ]
  },
  {
   "cell_type": "markdown",
   "id": "f3485548",
   "metadata": {
    "slideshow": {
     "slide_type": "slide"
    }
   },
   "source": [
    "#### Example: turning a vector into a matrix"
   ]
  },
  {
   "cell_type": "code",
   "execution_count": null,
   "id": "7796c899",
   "metadata": {
    "slideshow": {
     "slide_type": "-"
    }
   },
   "outputs": [],
   "source": [
    "# Create a (10, ) vector\n",
    "og_array = np.ones(10)\n",
    "og_array"
   ]
  },
  {
   "cell_type": "code",
   "execution_count": null,
   "id": "00641249",
   "metadata": {},
   "outputs": [],
   "source": [
    "# Reshape to (2, 5)\n",
    "og_array.reshape((2, 5))"
   ]
  },
  {
   "cell_type": "code",
   "execution_count": null,
   "id": "f2905cac",
   "metadata": {},
   "outputs": [],
   "source": [
    "# Reshape to (5, 2)\n",
    "og_array.reshape((5, 2))"
   ]
  },
  {
   "cell_type": "markdown",
   "id": "5887c6c3",
   "metadata": {
    "slideshow": {
     "slide_type": "slide"
    }
   },
   "source": [
    "#### Dimensions must be compatible\n",
    "\n",
    "If you try to `reshape` into a `shape` that's not compatible with the original `size` (i.e., not **divisible** by `size`), you'll get an error."
   ]
  },
  {
   "cell_type": "code",
   "execution_count": null,
   "id": "032bb803",
   "metadata": {},
   "outputs": [],
   "source": [
    "# Reshape to (5, 2)\n",
    "og_array.reshape((4, 4))"
   ]
  },
  {
   "cell_type": "markdown",
   "id": "8c9ac09c",
   "metadata": {
    "slideshow": {
     "slide_type": "slide"
    }
   },
   "source": [
    "## Conclusion\n",
    "\n",
    "There's lots more to working with files (including text files), but this sets the **foundation**. Now you should feel a little more comfortable:\n",
    "\n",
    "- Understanding how to navigate your computer's **directory structure**.  \n",
    "  - E.g., knowing \"where\" a file is located.\n",
    "- Knowing how to `open` a file in Python.\n",
    "- Knowing how to **read** or **write** that file.\n",
    "\n",
    "This will form the basis of working with future file types, such as `.csv` (a very common format for representing tabular data)."
   ]
  }
 ],
 "metadata": {
  "kernelspec": {
   "display_name": "Python 3 (ipykernel)",
   "language": "python",
   "name": "python3"
  },
  "language_info": {
   "codemirror_mode": {
    "name": "ipython",
    "version": 3
   },
   "file_extension": ".py",
   "mimetype": "text/x-python",
   "name": "python",
   "nbconvert_exporter": "python",
   "pygments_lexer": "ipython3",
   "version": "3.9.5"
  }
 },
 "nbformat": 4,
 "nbformat_minor": 5
}
