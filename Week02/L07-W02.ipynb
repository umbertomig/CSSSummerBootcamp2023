{
 "cells": [
  {
   "cell_type": "markdown",
   "id": "ff8da194",
   "metadata": {
    "slideshow": {
     "slide_type": "slide"
    }
   },
   "source": [
    "# CSS 201.5 - CSS Bootcamp\n",
    "\n",
    "## Python Programming"
   ]
  },
  {
   "cell_type": "markdown",
   "id": "9115a930",
   "metadata": {
    "slideshow": {
     "slide_type": "slide"
    }
   },
   "source": [
    "# Python Programming\n",
    "\n",
    "## Dictionaries"
   ]
  },
  {
   "cell_type": "markdown",
   "id": "8f053319",
   "metadata": {
    "slideshow": {
     "slide_type": "slide"
    }
   },
   "source": [
    "## Goals of this lecture\n",
    "\n",
    "The goal of this lecture is to introduce **dictionaries**. Python [dictionaries](https://www.w3schools.com/python/python_dictionaries.asp) are incredibly powerful objects, which you'll end up using a lot (as well as *variants* of dictionaries) in your work.\n",
    "\n",
    "- What is a dictionary? How is it different from a `list`?\n",
    "- How do you create a dictionary?  \n",
    "- How do you **index** into a dictionary? \n",
    "- Updating a dictionary.  \n",
    "- Iterating through a dictionary.  \n",
    "- Nested dictionaries"
   ]
  },
  {
   "cell_type": "markdown",
   "id": "83fd5e53",
   "metadata": {
    "slideshow": {
     "slide_type": "slide"
    }
   },
   "source": [
    "## What is a dictionary?\n",
    "\n",
    "> In Python, a **dictionary**, or `dict`, is a mutable collection of items, which stores **key/value** pairings.\n",
    "\n",
    "Key features:\n",
    "\n",
    "- **Mutable**: dictionaries can be updated.  \n",
    "- **Collection**: like a `list`, dictionaries can contain multiple *entries*.  \n",
    "- **Key/value pairings**: unlike a `list`, dictionary entries consist of a *key* (i.e., how you *index* into that entry), and its *value* (i.e., what it maps onto). "
   ]
  },
  {
   "cell_type": "markdown",
   "id": "477d931a",
   "metadata": {
    "slideshow": {
     "slide_type": "slide"
    }
   },
   "source": [
    "### Simple example of a `dict`\n",
    "\n",
    "A dictionary is very useful for storing **structured information**. "
   ]
  },
  {
   "cell_type": "code",
   "execution_count": null,
   "id": "261b04be",
   "metadata": {
    "slideshow": {
     "slide_type": "-"
    }
   },
   "outputs": [],
   "source": [
    "person = {'Name': 'Smarty Student',\n",
    "          'Occupation': 'UCSD Grad Student',\n",
    "          'Location': 'San Diego'}\n",
    "print(type(person))\n",
    "print(person)"
   ]
  },
  {
   "cell_type": "markdown",
   "id": "8c926ba7",
   "metadata": {
    "slideshow": {
     "slide_type": "-"
    }
   },
   "source": [
    "They also make it really easy to **access** that information. "
   ]
  },
  {
   "cell_type": "code",
   "execution_count": null,
   "id": "4e740c88",
   "metadata": {
    "slideshow": {
     "slide_type": "-"
    }
   },
   "outputs": [],
   "source": [
    "print(person['Name'])\n",
    "print(person['Occupation'])"
   ]
  },
  {
   "cell_type": "markdown",
   "id": "b1e45041",
   "metadata": {
    "slideshow": {
     "slide_type": "slide"
    }
   },
   "source": [
    "### `dict` vs. `list`\n",
    "\n",
    "We could store the same information in a `list`, but it would be a little harder to work with."
   ]
  },
  {
   "cell_type": "code",
   "execution_count": null,
   "id": "7697206e",
   "metadata": {
    "slideshow": {
     "slide_type": "-"
    }
   },
   "outputs": [],
   "source": [
    "person_list = ['Smarty Student', \n",
    "               'UCSD Grad Student',\n",
    "               'San Diego']"
   ]
  },
  {
   "cell_type": "markdown",
   "id": "2a46f004",
   "metadata": {
    "slideshow": {
     "slide_type": "-"
    }
   },
   "source": [
    "To access the information, we have to remember **where** a particular value was stored. This is harder to do, especially if there's not any intrinsic ordering to the values."
   ]
  },
  {
   "cell_type": "code",
   "execution_count": null,
   "id": "12e8189e",
   "metadata": {
    "scrolled": true,
    "slideshow": {
     "slide_type": "-"
    }
   },
   "outputs": [],
   "source": [
    "print(person_list[0])"
   ]
  },
  {
   "cell_type": "markdown",
   "id": "104598cf",
   "metadata": {
    "slideshow": {
     "slide_type": "slide"
    }
   },
   "source": [
    "### Rules about keys and values\n",
    "\n",
    "- A `dict` cannot contain **duplicate keys**. That is, all keys must be unique.  \n",
    "- However, multiple keys can have the same **value**."
   ]
  },
  {
   "cell_type": "code",
   "execution_count": null,
   "id": "544aecba",
   "metadata": {
    "scrolled": true,
    "slideshow": {
     "slide_type": "-"
    }
   },
   "outputs": [],
   "source": [
    "## Different keys, same value\n",
    "fruits = {'apple': 25, \n",
    "         'banana': 25}\n",
    "fruits"
   ]
  },
  {
   "cell_type": "markdown",
   "id": "d359de11",
   "metadata": {
    "slideshow": {
     "slide_type": "slide"
    }
   },
   "source": [
    "## How do you create a dictionary?\n",
    "\n",
    "A dictionary (`dict`) can be created with curly brackets `{}`, along with the syntax `{key_name:value}`."
   ]
  },
  {
   "cell_type": "code",
   "execution_count": null,
   "id": "1e35193b",
   "metadata": {
    "slideshow": {
     "slide_type": "-"
    }
   },
   "outputs": [],
   "source": [
    "simple_dict = {'a': 1,\n",
    "              'b': 2,\n",
    "              'c': 1}\n",
    "simple_dict"
   ]
  },
  {
   "cell_type": "code",
   "execution_count": null,
   "id": "4ac94b12",
   "metadata": {
    "slideshow": {
     "slide_type": "-"
    }
   },
   "outputs": [],
   "source": [
    "simple_dict['d']"
   ]
  },
  {
   "cell_type": "markdown",
   "id": "d75bef7d",
   "metadata": {
    "slideshow": {
     "slide_type": "slide"
    }
   },
   "source": [
    "### Keys vs. values\n",
    "\n",
    "**Keys** are your access-point into a dictionary. \n",
    "\n",
    "- Must be an immutable type (e.g., a `str` or `int`); they *can't* be a `list`.  \n",
    "- Not all keys must be of same `type`.\n",
    "\n",
    "**Values** are what the keys *map onto*.  \n",
    "\n",
    "- Values can be anything: a `str`, `int`, `list`, or even another `dict`."
   ]
  },
  {
   "cell_type": "code",
   "execution_count": null,
   "id": "6bdd3733",
   "metadata": {
    "slideshow": {
     "slide_type": "-"
    }
   },
   "outputs": [],
   "source": [
    "allowable_dict = {'a': [1, 2, 3]}\n",
    "allowable_dict['a']"
   ]
  },
  {
   "cell_type": "code",
   "execution_count": null,
   "id": "22fe4a44",
   "metadata": {
    "slideshow": {
     "slide_type": "-"
    }
   },
   "outputs": [],
   "source": [
    "bad_key = {[1, 2, 3]: 'a'}"
   ]
  },
  {
   "cell_type": "markdown",
   "id": "3fc81061",
   "metadata": {
    "slideshow": {
     "slide_type": "slide"
    }
   },
   "source": [
    "### Dictionary length\n",
    "\n",
    "The `len` of a `dict` is the number of **keys** that it has (*not* the number of values)."
   ]
  },
  {
   "cell_type": "code",
   "execution_count": null,
   "id": "5caaa997",
   "metadata": {
    "slideshow": {
     "slide_type": "-"
    }
   },
   "outputs": [],
   "source": [
    "allowable_dict = {'a': [1, 2, 3],\n",
    "                 'b': [2, 3, 4, 5, 6, 8]}\n",
    "len(allowable_dict)"
   ]
  },
  {
   "cell_type": "markdown",
   "id": "6775a336",
   "metadata": {
    "slideshow": {
     "slide_type": "slide"
    }
   },
   "source": [
    "### Check-in\n",
    "\n",
    "What would the `len` of the dictionary below?"
   ]
  },
  {
   "cell_type": "code",
   "execution_count": null,
   "id": "ca4167bb",
   "metadata": {
    "slideshow": {
     "slide_type": "-"
    }
   },
   "outputs": [],
   "source": [
    "test_dict = {'Artist': 'The Beatles',\n",
    "            'Songs': ['Hey Jude', 'Revolution', 'In My Life']}\n",
    "### Your code here"
   ]
  },
  {
   "cell_type": "markdown",
   "id": "67ef224d",
   "metadata": {
    "slideshow": {
     "slide_type": "slide"
    }
   },
   "source": [
    "### Check-in\n",
    "\n",
    "What would the `len` of the dictionary below?"
   ]
  },
  {
   "cell_type": "code",
   "execution_count": null,
   "id": "dd82a386",
   "metadata": {
    "slideshow": {
     "slide_type": "-"
    }
   },
   "outputs": [],
   "source": [
    "test_dict = {'name': 'John',\n",
    "            'items': {'food': 'sandwich',\n",
    "                     'money': '$40'}}\n",
    "### Your code here"
   ]
  },
  {
   "cell_type": "markdown",
   "id": "d76f005a",
   "metadata": {
    "slideshow": {
     "slide_type": "slide"
    }
   },
   "source": [
    "## Indexing into a dictionary\n",
    "\n",
    "Once you've created a dictionary, you'll want to **access** the items in it.\n",
    "\n",
    "- An advantage of a `dict` (over a `list`) is that key/value pairings are inherently **structured**.  \n",
    "- So rather than indexing by *position*, you can index by *key*.\n",
    "\n",
    "The syntax for indexing is: `dict_name[key_name]`. "
   ]
  },
  {
   "cell_type": "code",
   "execution_count": null,
   "id": "b233105d",
   "metadata": {
    "slideshow": {
     "slide_type": "-"
    }
   },
   "outputs": [],
   "source": [
    "person = {'Name': 'Smarty Student',\n",
    "          'Occupation': 'UCSD Grad',\n",
    "          'Location': 'San Diego'}\n",
    "print(person['Name'])"
   ]
  },
  {
   "cell_type": "code",
   "execution_count": null,
   "id": "f52d30ee",
   "metadata": {
    "slideshow": {
     "slide_type": "-"
    }
   },
   "outputs": [],
   "source": [
    "print(person['Location'])\n",
    "print(person['Occupation'])"
   ]
  },
  {
   "cell_type": "markdown",
   "id": "11d3bc97",
   "metadata": {
    "slideshow": {
     "slide_type": "slide"
    }
   },
   "source": [
    "### Check-in\n",
    "\n",
    "How would you retrieve the value `25` from the dictionary below?"
   ]
  },
  {
   "cell_type": "code",
   "execution_count": null,
   "id": "e25dc6db",
   "metadata": {
    "slideshow": {
     "slide_type": "-"
    }
   },
   "outputs": [],
   "source": [
    "test_dict = {'apple': 25,\n",
    "            'banana': 37}\n",
    "### Your code here\n",
    "test_dict['apple']"
   ]
  },
  {
   "cell_type": "markdown",
   "id": "52a71e4f",
   "metadata": {
    "slideshow": {
     "slide_type": "slide"
    }
   },
   "source": [
    "### Indexing requires a key\n",
    "\n",
    "To index into a `dict`, you **need to use the key**.\n",
    "\n",
    "- The *position* of a value will not work.  \n",
    "- The *value* itself will also not work."
   ]
  },
  {
   "cell_type": "code",
   "execution_count": null,
   "id": "e2d64052",
   "metadata": {},
   "outputs": [],
   "source": [
    "test_dict[0] ### will throw an error"
   ]
  },
  {
   "cell_type": "code",
   "execution_count": null,
   "id": "c1b45b18",
   "metadata": {},
   "outputs": [],
   "source": [
    "test_dict[25] ### will throw an error"
   ]
  },
  {
   "cell_type": "markdown",
   "id": "a21c9df9",
   "metadata": {
    "slideshow": {
     "slide_type": "slide"
    }
   },
   "source": [
    "## Updating a `dict`\n",
    "\n",
    "Once you've created a `dict`, it's not set in stone––there are multiple ways to **modify** that dictionary.\n",
    "\n",
    "- Adding new entries.  \n",
    "- Deleting existing entries.  \n",
    "- Combining two dictionaries."
   ]
  },
  {
   "cell_type": "markdown",
   "id": "35cf3e8f",
   "metadata": {
    "slideshow": {
     "slide_type": "slide"
    }
   },
   "source": [
    "### Adding new entries"
   ]
  },
  {
   "cell_type": "code",
   "execution_count": null,
   "id": "622e30f8",
   "metadata": {
    "slideshow": {
     "slide_type": "-"
    }
   },
   "outputs": [],
   "source": [
    "## First, let's create a new dictionary\n",
    "registrar = {'Mignozzetti': 'POLI', \n",
    "             'Trott': 'COGS'}\n",
    "print(registrar)"
   ]
  },
  {
   "cell_type": "markdown",
   "id": "9db111da",
   "metadata": {
    "slideshow": {
     "slide_type": "-"
    }
   },
   "source": [
    "We can add a new entry using the `dict_name[key_name] = new_value` syntax."
   ]
  },
  {
   "cell_type": "code",
   "execution_count": null,
   "id": "46d5dbcb",
   "metadata": {
    "slideshow": {
     "slide_type": "-"
    }
   },
   "outputs": [],
   "source": [
    "## Now we add a new entry to the dictionary\n",
    "registrar['Styler'] = 'LING'\n",
    "print(registrar)"
   ]
  },
  {
   "cell_type": "markdown",
   "id": "92d1958a",
   "metadata": {
    "slideshow": {
     "slide_type": "slide"
    }
   },
   "source": [
    "### Check-in\n",
    "\n",
    "Add an entry for the price of `\"pasta\"` to `prices_dict` below using this new syntax. "
   ]
  },
  {
   "cell_type": "code",
   "execution_count": null,
   "id": "56e0bc99",
   "metadata": {
    "slideshow": {
     "slide_type": "-"
    }
   },
   "outputs": [],
   "source": [
    "prices_dict = {'rice': 4, 'bananas': 3}\n",
    "### Your code here\n",
    "prices_dict['pasta'] = 5\n",
    "print(prices_dict)"
   ]
  },
  {
   "cell_type": "markdown",
   "id": "41b64a1d",
   "metadata": {
    "slideshow": {
     "slide_type": "slide"
    }
   },
   "source": [
    "### Check-in\n",
    "\n",
    "What would the `len` of `prices_dict` be after you've added that entry?"
   ]
  },
  {
   "cell_type": "code",
   "execution_count": null,
   "id": "d8d516fd",
   "metadata": {
    "slideshow": {
     "slide_type": "-"
    }
   },
   "outputs": [],
   "source": [
    "### How long is prices_dict after you've added \"pasta\"?\n",
    "len(prices_dict)"
   ]
  },
  {
   "cell_type": "markdown",
   "id": "74905d93",
   "metadata": {
    "slideshow": {
     "slide_type": "slide"
    }
   },
   "source": [
    "### Deleting entries\n",
    "\n",
    "We can also use the `del` function to delete specific key/value pairs from a dictionary."
   ]
  },
  {
   "cell_type": "code",
   "execution_count": null,
   "id": "2d017cc2",
   "metadata": {
    "slideshow": {
     "slide_type": "-"
    }
   },
   "outputs": [],
   "source": [
    "## First, we create a new dictionary.\n",
    "attendance = {'A1': True, 'A2': False}\n",
    "print(attendance)"
   ]
  },
  {
   "cell_type": "code",
   "execution_count": null,
   "id": "dee6d4b6",
   "metadata": {
    "slideshow": {
     "slide_type": "-"
    }
   },
   "outputs": [],
   "source": [
    "## Then, we delete the entry with the \"A2\" key.\n",
    "del(attendance['A2'])\n",
    "print(attendance)"
   ]
  },
  {
   "cell_type": "markdown",
   "id": "4a365dbc",
   "metadata": {
    "slideshow": {
     "slide_type": "slide"
    }
   },
   "source": [
    "### Merging dictionaries using `update`\n",
    "\n",
    "What if we have **two different dictionaries** that we want to combine or *merge*? \n",
    "\n",
    "The `update` function can be used to do this."
   ]
  },
  {
   "cell_type": "code",
   "execution_count": null,
   "id": "fe534e48",
   "metadata": {
    "slideshow": {
     "slide_type": "-"
    }
   },
   "outputs": [],
   "source": [
    "## First, we create a new dictionary.\n",
    "registrar = {'Mignozzetti': 'POLI', \n",
    "             'Trott': 'COGS'}\n",
    "print(registrar)"
   ]
  },
  {
   "cell_type": "code",
   "execution_count": null,
   "id": "a191d50d",
   "metadata": {
    "slideshow": {
     "slide_type": "-"
    }
   },
   "outputs": [],
   "source": [
    "## Now, we define another dictionary with more info.\n",
    "registrar_other = {'Styler': 'LING',\n",
    "                   'Mignozzetti': ['POLI', 'CSS'],\n",
    "                   'Rangel': 'COGS'}\n",
    "## Finally, we \"update\" original registrar\n",
    "registrar.update(registrar_other)"
   ]
  },
  {
   "cell_type": "code",
   "execution_count": null,
   "id": "64b81697",
   "metadata": {
    "slideshow": {
     "slide_type": "-"
    }
   },
   "outputs": [],
   "source": [
    "print(registrar)"
   ]
  },
  {
   "cell_type": "markdown",
   "id": "8a6a47fe",
   "metadata": {
    "slideshow": {
     "slide_type": "slide"
    }
   },
   "source": [
    "### Check-in\n",
    "\n",
    "Recall that a dictionary cannot contain **duplicate keys**. What do you think would happen to `original_dict` if we ran the code below?"
   ]
  },
  {
   "cell_type": "code",
   "execution_count": null,
   "id": "315c00a6",
   "metadata": {
    "slideshow": {
     "slide_type": "-"
    }
   },
   "outputs": [],
   "source": [
    "original_dict = {'a': 1, 'b': 3}\n",
    "new_dict = {'a': 2}\n",
    "original_dict.update(new_dict)\n",
    "### What happens to original_dict['a']?\n",
    "original_dict"
   ]
  },
  {
   "cell_type": "markdown",
   "id": "3652295e",
   "metadata": {
    "slideshow": {
     "slide_type": "slide"
    }
   },
   "source": [
    "#### Updating with duplicate keys\n",
    "\n",
    "If we `update` a dictionary with another dictionary that contains **overlapping keys**, the **new values** replace the old values."
   ]
  },
  {
   "cell_type": "code",
   "execution_count": null,
   "id": "06709c38",
   "metadata": {
    "slideshow": {
     "slide_type": "-"
    }
   },
   "outputs": [],
   "source": [
    "original_dict = {'a': 1, 'b': 3}\n",
    "new_dict = {'a': 2}\n",
    "original_dict.update(new_dict)\n",
    "print(original_dict['a'])"
   ]
  },
  {
   "cell_type": "markdown",
   "id": "5d5c146c",
   "metadata": {
    "slideshow": {
     "slide_type": "slide"
    }
   },
   "source": [
    "## Iterating through a `dict`\n",
    "\n",
    "Dictionaries are **structured** collections of **key/value pairings**.\n",
    "\n",
    "As such, there are several ways to iterate (i.e., **loop**) through a `dict`:\n",
    "\n",
    "- Iterating through a `list` of **keys** (`.keys()`).  \n",
    "- Iterating through a `list` of **values** (`.values()`). \n",
    "- Iterating through a `list` of **key/value** `tuples` (`.items()`)."
   ]
  },
  {
   "cell_type": "markdown",
   "id": "dc8ec7fc",
   "metadata": {
    "slideshow": {
     "slide_type": "slide"
    }
   },
   "source": [
    "### Looping through keys with `.keys()`\n",
    "\n",
    "Each dictionary can be thought of as a `list` of **keys**; each key in turn maps onto some **value**.\n",
    "\n",
    "We can retrieve that `list` of keys using `dict_name.keys()`."
   ]
  },
  {
   "cell_type": "code",
   "execution_count": null,
   "id": "ac05c345",
   "metadata": {
    "slideshow": {
     "slide_type": "-"
    }
   },
   "outputs": [],
   "source": [
    "courses = {'CSS 201': 'Introduction to Computational Social Science',\n",
    "           'CSS 202': 'Computational Social Science Technical Bootcamp',\n",
    "           'CSS 296': 'Research in Computational Social Science'}\n",
    "courses.keys()"
   ]
  },
  {
   "cell_type": "markdown",
   "id": "ce77932f",
   "metadata": {
    "slideshow": {
     "slide_type": "-"
    }
   },
   "source": [
    "This `dict_keys` object behaves like a `list`: we can index into it, loop through it, and so on."
   ]
  },
  {
   "cell_type": "code",
   "execution_count": null,
   "id": "e18ae259",
   "metadata": {
    "slideshow": {
     "slide_type": "-"
    }
   },
   "outputs": [],
   "source": [
    "for abr in courses.keys():\n",
    "    print(abr)"
   ]
  },
  {
   "cell_type": "markdown",
   "id": "c7868572",
   "metadata": {
    "slideshow": {
     "slide_type": "slide"
    }
   },
   "source": [
    "#### Check-in\n",
    "\n",
    "How could we retrieve each **value** of the `dict` using `keys()`?"
   ]
  },
  {
   "cell_type": "code",
   "execution_count": null,
   "id": "2f6b57ee",
   "metadata": {
    "slideshow": {
     "slide_type": "-"
    }
   },
   "outputs": [],
   "source": [
    "### Your code here\n",
    "courses\n",
    "for i in courses.keys():\n",
    "    print(courses[i])\n",
    "\n",
    "[courses[i] for i in courses.keys()]"
   ]
  },
  {
   "cell_type": "markdown",
   "id": "da86e34c",
   "metadata": {
    "slideshow": {
     "slide_type": "slide"
    }
   },
   "source": [
    "#### Retrieving values\n",
    "\n",
    "Because each key maps onto a **value**, we can simply use it to index into `courses`."
   ]
  },
  {
   "cell_type": "code",
   "execution_count": null,
   "id": "c7df25ba",
   "metadata": {
    "slideshow": {
     "slide_type": "-"
    }
   },
   "outputs": [],
   "source": [
    "for course in courses.keys():\n",
    "    ## Index into courses\n",
    "    name = courses[course]\n",
    "    print(name)"
   ]
  },
  {
   "cell_type": "markdown",
   "id": "34ab8773",
   "metadata": {
    "slideshow": {
     "slide_type": "slide"
    }
   },
   "source": [
    "### Looping through values with `.values()`\n",
    "\n",
    "We can also retrieve the **values** directly using `dict_name.values()`."
   ]
  },
  {
   "cell_type": "code",
   "execution_count": null,
   "id": "e1c9cfec",
   "metadata": {
    "slideshow": {
     "slide_type": "-"
    }
   },
   "outputs": [],
   "source": [
    "courses.values()\n",
    "for abr in courses:\n",
    "    print(abr)"
   ]
  },
  {
   "cell_type": "code",
   "execution_count": null,
   "id": "e3189473",
   "metadata": {
    "slideshow": {
     "slide_type": "-"
    }
   },
   "outputs": [],
   "source": [
    "for course_name in courses.values():\n",
    "    print(course_name)"
   ]
  },
  {
   "cell_type": "markdown",
   "id": "99c202d1",
   "metadata": {
    "slideshow": {
     "slide_type": "slide"
    }
   },
   "source": [
    "### Looping through key/value pairings with `.items()`\n",
    "\n",
    "Dictionaries are, at their core, a list of **key/value pairings**. \n",
    "\n",
    "- We can access each of these using `dict_name.items()`.  \n",
    "- `items()` returns a `list` of `tuples`:\n",
    "  - The first element of each `tuple` is the **key**.\n",
    "  - The second element of each `tuple` is the **value**."
   ]
  },
  {
   "cell_type": "code",
   "execution_count": null,
   "id": "020234c5",
   "metadata": {
    "slideshow": {
     "slide_type": "-"
    }
   },
   "outputs": [],
   "source": [
    "print(list(courses.keys()))\n",
    "for key, value in courses.items():\n",
    "    print(value + ' is abbreviated as ' + key)"
   ]
  },
  {
   "cell_type": "markdown",
   "id": "eb47fc83",
   "metadata": {
    "slideshow": {
     "slide_type": "slide"
    }
   },
   "source": [
    "#### Assignment \"unpacking\"\n",
    "\n",
    "- We can access each element of the `tuple` using indexing, e.g., `item[0]` or `item[1]`.  \n",
    "- However, sometimes it's more convenient to **unpack** these elements directly in the `for` loop itself."
   ]
  },
  {
   "cell_type": "code",
   "execution_count": null,
   "id": "f31f5fb3",
   "metadata": {
    "slideshow": {
     "slide_type": "-"
    }
   },
   "outputs": [],
   "source": [
    "for code, name in courses.items():\n",
    "    print(code)\n",
    "    print(name)"
   ]
  },
  {
   "cell_type": "markdown",
   "id": "4143bcc2",
   "metadata": {
    "slideshow": {
     "slide_type": "slide"
    }
   },
   "source": [
    "#### Converting back to a `dict`\n",
    "\n",
    "We can use the `dict` function to convert a list of **items** back to a `dict`."
   ]
  },
  {
   "cell_type": "code",
   "execution_count": null,
   "id": "4417f523",
   "metadata": {
    "slideshow": {
     "slide_type": "-"
    }
   },
   "outputs": [],
   "source": [
    "items = courses.items()\n",
    "print(items)"
   ]
  },
  {
   "cell_type": "code",
   "execution_count": null,
   "id": "94e294a8",
   "metadata": {
    "slideshow": {
     "slide_type": "-"
    }
   },
   "outputs": [],
   "source": [
    "course_dict = dict(items)\n",
    "print(course_dict)"
   ]
  },
  {
   "cell_type": "markdown",
   "id": "730bcd6a",
   "metadata": {
    "slideshow": {
     "slide_type": "slide"
    }
   },
   "source": [
    "### Check-in: Looping through values\n",
    "\n",
    "Use the `.items()` function to loop through `fruits_dict` below. `print` out each item in a formatted string using `format`: \n",
    "\n",
    "`{fruit_name}: {price}`. "
   ]
  },
  {
   "cell_type": "code",
   "execution_count": null,
   "id": "a4ff0c24",
   "metadata": {
    "slideshow": {
     "slide_type": "-"
    }
   },
   "outputs": [],
   "source": [
    "fruits_dict = {'apple': 2, 'banana': 3}\n",
    "### Your code here\n",
    "for k, v in fruits_dict.items():\n",
    "    print('There are ' + str(v) + ' ' + k)"
   ]
  },
  {
   "cell_type": "markdown",
   "id": "6680a8e3",
   "metadata": {
    "slideshow": {
     "slide_type": "slide"
    }
   },
   "source": [
    "### Check-in: Debug\n",
    "\n",
    "Suppose someone writes a piece of code (see below) to loop through `fruits_dict`. Ultimately, they want to print out the price of each fruit. \n",
    "\n",
    "However, they keep running into an error. Can you figure out what they're doing wrong? And further, could you suggest a way to fix it?"
   ]
  },
  {
   "cell_type": "code",
   "execution_count": null,
   "id": "d75e16e5",
   "metadata": {
    "slideshow": {
     "slide_type": "-"
    }
   },
   "outputs": [],
   "source": [
    "### Why is this throwing an error?\n",
    "for fruit in fruits_dict.keys():\n",
    "    print(fruits_dict[fruit])"
   ]
  },
  {
   "cell_type": "markdown",
   "id": "0aae0e9c",
   "metadata": {
    "slideshow": {
     "slide_type": "slide"
    }
   },
   "source": [
    "## Nested dictionaries\n",
    "\n",
    "> A **nested dictionary** is a dictionary contained inside another dictionary, i.e., as a **value**.  \n",
    "\n",
    "In principle, there is no limit on how many nested dictionaries can be contained in a `dict` (besides memory capacity on one's computer).\n",
    "\n",
    "- A nested dictionary is useful when you want to store **complex information** in each entry.  \n",
    "- So far, we've dealt mostly with very simple key/value entries.  \n",
    "- But what if we wanted to represent more complicated information?\n",
    "\n",
    "Example, for each student in CSS (or COGS, etc.), store:\n",
    "\n",
    "- `username`.\n",
    "- `Name`.  \n",
    "- `Courses` (a `list`). \n",
    "- `College`\n",
    "- `Major`. "
   ]
  },
  {
   "cell_type": "markdown",
   "id": "4e5bf058",
   "metadata": {
    "slideshow": {
     "slide_type": "slide"
    }
   },
   "source": [
    "### Check-in (conceptual)\n",
    "\n",
    "What would be a useful `dict` structure to represent information about instructors? For example, say we wanted to represent:\n",
    "\n",
    "- `username` (e.g., `sstudent`)\n",
    "- `Name` (e.g., `Smarty Student`)\n",
    "- `Courses` (e.g., `['CSS 1', ...]`)\n",
    "- `College` (e.g., `ERC`)\n",
    "- `Major` (e.g., `Psychology`)"
   ]
  },
  {
   "cell_type": "markdown",
   "id": "ab5a4ddf",
   "metadata": {
    "slideshow": {
     "slide_type": "slide"
    }
   },
   "source": [
    "### A possible implementation\n",
    "\n",
    "One approach is to use **nested dictionaries**.\n",
    "\n",
    "- At the top level, each instructor is represented by their `username`.  \n",
    "- Each PID then maps onto a nested dictionary, which contains their `Name`, `Email`, and any other info we need."
   ]
  },
  {
   "cell_type": "code",
   "execution_count": null,
   "id": "2a8aa620",
   "metadata": {
    "slideshow": {
     "slide_type": "-"
    }
   },
   "outputs": [],
   "source": [
    "student = {\n",
    "    'sstudent': {'Name': 'Smarty Student',\n",
    "                'Courses': ['COGS 14A', 'CSS 1', 'CSS 2'],\n",
    "               'College': 'ERC',\n",
    "               'Major': 'Psychology'},\n",
    "    'jdoe': {'Name': 'John Doe',\n",
    "                'Courses': ['COGS 18', 'CSS 1'],\n",
    "               'College': 'Revelle',\n",
    "               'Major': 'Undeclared'},\n",
    "    'jlopez': {'Name': 'Jane Lopez',\n",
    "                'Courses': ['LING 6', 'LING 101'],\n",
    "               'College': 'Revelle',\n",
    "               'Major': 'Linguistics'},\n",
    "}"
   ]
  },
  {
   "cell_type": "markdown",
   "id": "67973ee4",
   "metadata": {
    "slideshow": {
     "slide_type": "slide"
    }
   },
   "source": [
    "### Indexing our nested `dict`\n",
    "\n",
    "We can index into this `dict` as we would normally. Note that now, the **value** is itself a `dict`."
   ]
  },
  {
   "cell_type": "code",
   "execution_count": null,
   "id": "0ac0f5d4",
   "metadata": {
    "slideshow": {
     "slide_type": "-"
    }
   },
   "outputs": [],
   "source": [
    "student['jlopez']"
   ]
  },
  {
   "cell_type": "markdown",
   "id": "422000a3",
   "metadata": {
    "slideshow": {
     "slide_type": "slide"
    }
   },
   "source": [
    "#### Check-in\n",
    "\n",
    "How might we index the `College` of a particular student? I.e., what if we wanted to find out the `College` of `jdoe`?"
   ]
  },
  {
   "cell_type": "code",
   "execution_count": null,
   "id": "ea0a9947",
   "metadata": {
    "slideshow": {
     "slide_type": "-"
    }
   },
   "outputs": [],
   "source": [
    "### Your code here\n",
    "student['jdoe']['College']"
   ]
  },
  {
   "cell_type": "markdown",
   "id": "efc7d3fb",
   "metadata": {
    "slideshow": {
     "slide_type": "slide"
    }
   },
   "source": [
    "#### Nested indices\n",
    "\n",
    "Indexing into a **nested dictionary** follows the same logic––we can *chain together* index statements to retrieve a particular value."
   ]
  },
  {
   "cell_type": "code",
   "execution_count": null,
   "id": "00fea4ea",
   "metadata": {
    "slideshow": {
     "slide_type": "-"
    }
   },
   "outputs": [],
   "source": [
    "student['jdoe']['College']"
   ]
  },
  {
   "cell_type": "code",
   "execution_count": null,
   "id": "ae19af67",
   "metadata": {
    "slideshow": {
     "slide_type": "-"
    }
   },
   "outputs": [],
   "source": [
    "student['jlopez']['Courses'][1]"
   ]
  },
  {
   "cell_type": "markdown",
   "id": "8059988b",
   "metadata": {
    "slideshow": {
     "slide_type": "slide"
    }
   },
   "source": [
    "### Check-in\n",
    "\n",
    "How would you retrieve the list of `username`s (i.e., keys) in this `dict`?"
   ]
  },
  {
   "cell_type": "markdown",
   "id": "04aad81e",
   "metadata": {
    "slideshow": {
     "slide_type": "slide"
    }
   },
   "source": [
    "### Solution"
   ]
  },
  {
   "cell_type": "code",
   "execution_count": null,
   "id": "5394da75",
   "metadata": {
    "slideshow": {
     "slide_type": "-"
    }
   },
   "outputs": [],
   "source": [
    "usernames = student.keys()\n",
    "print(usernames)"
   ]
  },
  {
   "cell_type": "markdown",
   "id": "ee1f5a63",
   "metadata": {
    "slideshow": {
     "slide_type": "slide"
    }
   },
   "source": [
    "# Functions"
   ]
  },
  {
   "cell_type": "markdown",
   "id": "0d4f6fb5",
   "metadata": {
    "slideshow": {
     "slide_type": "slide"
    }
   },
   "source": [
    "## What is a function?\n",
    "\n",
    "> A **function** is a re-usable piece of code that performs some operation (typically on some *input*), and then typically returns a result (i.e., an *output*). \n",
    "\n",
    "Breaking this down:\n",
    "\n",
    "- **Input**: a variable defined by the user that is *passed into* a function using the `(input)` syntax.\n",
    "   - Also called an **argument**.\n",
    "   - Functions can have multiple **arguments**.\n",
    "- **Output**: the variable **returned** by a function after this operation is performed.  \n",
    "   - If a `return` value is not specified, a function will return `None`."
   ]
  },
  {
   "cell_type": "markdown",
   "id": "e9183d0a",
   "metadata": {
    "slideshow": {
     "slide_type": "slide"
    }
   },
   "source": [
    "### A very simple function\n",
    "\n",
    "We'll explore the syntax more in a bit, but this will give you a sense for what we're talking about."
   ]
  },
  {
   "cell_type": "code",
   "execution_count": null,
   "id": "1d873342",
   "metadata": {
    "slideshow": {
     "slide_type": "-"
    }
   },
   "outputs": [],
   "source": [
    "def square(x):\n",
    "    \"\"\"Returns the square of X.\"\"\"\n",
    "    return x**2"
   ]
  },
  {
   "cell_type": "code",
   "execution_count": null,
   "id": "2f6abbdf",
   "metadata": {
    "slideshow": {
     "slide_type": "-"
    }
   },
   "outputs": [],
   "source": [
    "square(1)"
   ]
  },
  {
   "cell_type": "code",
   "execution_count": null,
   "id": "e9d2278e",
   "metadata": {
    "slideshow": {
     "slide_type": "-"
    }
   },
   "outputs": [],
   "source": [
    "square(2)"
   ]
  },
  {
   "cell_type": "markdown",
   "id": "1dc36566",
   "metadata": {
    "slideshow": {
     "slide_type": "slide"
    }
   },
   "source": [
    "## Why functions?\n",
    "\n",
    "In principle, we could just rewrite the same code each time we want to execute that operation. So why bother defining functions at all?\n",
    "\n",
    "The answer lies in **modular programming**.\n",
    "\n",
    "- As operations become more and more complex, it becomes unwieldy (and just inefficient) to copy/paste the *same code* again and again.  \n",
    "- In modular programming, we emphasize building **re-usable chunks of code**.\n",
    "- Functions (and loops) are ways to re-use chunks of code that solve basic, recurring problems.\n",
    "\n",
    "Learning to think in a modular way can be hard! But it's a helpful approach to **breaking down a problem into its sub-components**."
   ]
  },
  {
   "cell_type": "markdown",
   "id": "f06bacbc",
   "metadata": {
    "slideshow": {
     "slide_type": "slide"
    }
   },
   "source": [
    "### Functions we've encountered\n",
    "\n",
    "We've already encountered a number of functions in this course.\n",
    "\n",
    "#### `print`\n",
    "\n",
    "- Input: something to `print`.  \n",
    "- Output: technically, `None`.  \n",
    "- \"Side effects\": `print`s out input to designated log (by default, the terminal/Jupyter cell)."
   ]
  },
  {
   "cell_type": "code",
   "execution_count": null,
   "id": "64b97c9e",
   "metadata": {
    "slideshow": {
     "slide_type": "-"
    }
   },
   "outputs": [],
   "source": [
    "print(\"Hello!\")"
   ]
  },
  {
   "cell_type": "markdown",
   "id": "e3cccc7d",
   "metadata": {
    "slideshow": {
     "slide_type": "slide"
    }
   },
   "source": [
    "#### `sorted`\n",
    "\n",
    "- Input: a `list` \n",
    "- Output: a sorted `list`."
   ]
  },
  {
   "cell_type": "code",
   "execution_count": null,
   "id": "3ecd002f",
   "metadata": {
    "slideshow": {
     "slide_type": "-"
    }
   },
   "outputs": [],
   "source": [
    "unsorted = [2, 1, 5]\n",
    "sorted(unsorted)"
   ]
  },
  {
   "cell_type": "markdown",
   "id": "aa393b08",
   "metadata": {
    "slideshow": {
     "slide_type": "slide"
    }
   },
   "source": [
    "## Defining a function\n",
    "\n",
    "In Python, a new function can be created or **defined** using the `def` keyword, followed by the name of the function.\n",
    "\n",
    "See the `square` function definition below:\n",
    "\n",
    "- Function name: `square`. \n",
    "- Function arguments: `x`.  \n",
    "- Function `return`: `x ** 2`.  "
   ]
  },
  {
   "cell_type": "code",
   "execution_count": null,
   "id": "80bce04e",
   "metadata": {
    "slideshow": {
     "slide_type": "-"
    }
   },
   "outputs": [],
   "source": [
    "def square(x):\n",
    "    \"\"\"Returns the square of X.\"\"\"\n",
    "    return x**2"
   ]
  },
  {
   "cell_type": "markdown",
   "id": "8f19c17b",
   "metadata": {
    "slideshow": {
     "slide_type": "slide"
    }
   },
   "source": [
    "### Executing a function\n",
    "\n",
    "To **execute** a function, we can reference the function name (like a variable), followed by the parentheses `()` and any arguments/input for the function."
   ]
  },
  {
   "cell_type": "code",
   "execution_count": null,
   "id": "7dce64fd",
   "metadata": {
    "slideshow": {
     "slide_type": "-"
    }
   },
   "outputs": [],
   "source": [
    "## Function name = square\n",
    "## Input = 2\n",
    "square(2)"
   ]
  },
  {
   "cell_type": "code",
   "execution_count": null,
   "id": "36bec665",
   "metadata": {
    "slideshow": {
     "slide_type": "-"
    }
   },
   "outputs": [],
   "source": [
    "## Function name = square\n",
    "## Input = 4\n",
    "square(4)"
   ]
  },
  {
   "cell_type": "markdown",
   "id": "8a180bd8",
   "metadata": {
    "slideshow": {
     "slide_type": "slide"
    }
   },
   "source": [
    "### What type is a function?\n",
    "\n",
    "A function belongs to a special `type` in Python, called `function`."
   ]
  },
  {
   "cell_type": "code",
   "execution_count": null,
   "id": "ffc4e86f",
   "metadata": {
    "slideshow": {
     "slide_type": "-"
    }
   },
   "outputs": [],
   "source": [
    "type(square)"
   ]
  },
  {
   "cell_type": "markdown",
   "id": "0191963f",
   "metadata": {
    "slideshow": {
     "slide_type": "slide"
    }
   },
   "source": [
    "### A more complex function\n",
    "\n",
    "What if we wanted a function that did the following:\n",
    "\n",
    "- `if` the input `x` is **even**, we square it.  \n",
    "- `if` the input `x` is **odd**, we just `return` that number."
   ]
  },
  {
   "cell_type": "code",
   "execution_count": null,
   "id": "a5f72f4f",
   "metadata": {
    "slideshow": {
     "slide_type": "-"
    }
   },
   "outputs": [],
   "source": [
    "def square_if_even(x):\n",
    "    \"\"\"Squares x if x is even; otherwise return x.\"\"\"\n",
    "    if x % 2 == 0: ## check if even\n",
    "        return x ** 2 ## if so, return square\n",
    "    else: ## otherwise..\n",
    "        return x ## just return x"
   ]
  },
  {
   "cell_type": "code",
   "execution_count": null,
   "id": "d61f3340",
   "metadata": {
    "slideshow": {
     "slide_type": "-"
    }
   },
   "outputs": [],
   "source": [
    "## 2 is even, so square it\n",
    "square_if_even(2)"
   ]
  },
  {
   "cell_type": "code",
   "execution_count": null,
   "id": "7c54492a",
   "metadata": {
    "slideshow": {
     "slide_type": "-"
    }
   },
   "outputs": [],
   "source": [
    "## 3 is odd, so just return it\n",
    "square_if_even(3)"
   ]
  },
  {
   "cell_type": "markdown",
   "id": "5b389919",
   "metadata": {
    "slideshow": {
     "slide_type": "slide"
    }
   },
   "source": [
    "### Another more complex function\n",
    "\n",
    "So far, our functions have only had a **single argument**. But functions can take in *many* arguments. \n",
    "\n",
    "Let's define a function with *two inputs*, which just adds those inputs together."
   ]
  },
  {
   "cell_type": "code",
   "execution_count": null,
   "id": "031eab53",
   "metadata": {
    "slideshow": {
     "slide_type": "-"
    }
   },
   "outputs": [],
   "source": [
    "def add_two_numbers(num1, num2):\n",
    "    \"\"\"Adds num1 to num2.\"\"\"\n",
    "    return num1 + num2"
   ]
  },
  {
   "cell_type": "code",
   "execution_count": null,
   "id": "de96cea9",
   "metadata": {
    "slideshow": {
     "slide_type": "-"
    }
   },
   "outputs": [],
   "source": [
    "add_two_numbers(1, 2)"
   ]
  },
  {
   "cell_type": "code",
   "execution_count": null,
   "id": "b3f785b1",
   "metadata": {
    "slideshow": {
     "slide_type": "-"
    }
   },
   "outputs": [],
   "source": [
    "add_two_numbers(5, 3)"
   ]
  },
  {
   "cell_type": "markdown",
   "id": "93585e2f",
   "metadata": {
    "slideshow": {
     "slide_type": "slide"
    }
   },
   "source": [
    "### Check-in\n",
    "\n",
    "What would the function below produce if the input `x` was `25`?\n",
    "\n",
    "More generally: how would you describe what this function *does*? "
   ]
  },
  {
   "cell_type": "code",
   "execution_count": null,
   "id": "8dc16e47",
   "metadata": {
    "slideshow": {
     "slide_type": "-"
    }
   },
   "outputs": [],
   "source": [
    "def mystery_func(x):\n",
    "    if x % 5 == 0:\n",
    "        return True\n",
    "    return False"
   ]
  },
  {
   "cell_type": "markdown",
   "id": "b52558e1",
   "metadata": {
    "slideshow": {
     "slide_type": "slide"
    }
   },
   "source": [
    "### Solution\n",
    "\n",
    "`mystery_func` can be thought of as a binary \"check\" for whether a particular number is divisible by `5`. "
   ]
  },
  {
   "cell_type": "code",
   "execution_count": null,
   "id": "62fe0bdc",
   "metadata": {
    "slideshow": {
     "slide_type": "-"
    }
   },
   "outputs": [],
   "source": [
    "mystery_func(25)"
   ]
  },
  {
   "cell_type": "code",
   "execution_count": null,
   "id": "238a7c2f",
   "metadata": {
    "slideshow": {
     "slide_type": "-"
    }
   },
   "outputs": [],
   "source": [
    "mystery_func(28)"
   ]
  },
  {
   "cell_type": "markdown",
   "id": "c7434631",
   "metadata": {
    "slideshow": {
     "slide_type": "slide"
    }
   },
   "source": [
    "### Check-in\n",
    "\n",
    "Write a function that takes a `name` as input and `return`s the formatted `str`: `\"My name is {name}.\"`\n",
    "\n",
    "The code below can get you started:\n",
    "\n",
    "```\n",
    "def hello(name):\n",
    "### your code here\n",
    "```"
   ]
  },
  {
   "cell_type": "code",
   "execution_count": null,
   "id": "4f0c23e8",
   "metadata": {
    "slideshow": {
     "slide_type": "-"
    }
   },
   "outputs": [],
   "source": [
    "# Your code here\n",
    "def hello(name, age):\n",
    "    \"\"\"Receives a string n and say hello to n.\"\"\"\n",
    "    string = \"My name is {} and I am {} years old.\".format(str(age), name)\n",
    "    return string\n",
    "\n",
    "hello('Student', 20)"
   ]
  },
  {
   "cell_type": "markdown",
   "id": "4e4df46e",
   "metadata": {
    "slideshow": {
     "slide_type": "slide"
    }
   },
   "source": [
    "### Solution"
   ]
  },
  {
   "cell_type": "code",
   "execution_count": null,
   "id": "61cf9917",
   "metadata": {
    "slideshow": {
     "slide_type": "-"
    }
   },
   "outputs": [],
   "source": [
    "def hello(name = 'Student'):\n",
    "    return \"My name is {name}\".format(name = name)"
   ]
  },
  {
   "cell_type": "code",
   "execution_count": null,
   "id": "5387aee2",
   "metadata": {
    "slideshow": {
     "slide_type": "-"
    }
   },
   "outputs": [],
   "source": [
    "hello()"
   ]
  },
  {
   "cell_type": "markdown",
   "id": "1bc8beab",
   "metadata": {
    "slideshow": {
     "slide_type": "slide"
    }
   },
   "source": [
    "## Interim summary\n",
    "\n",
    "What we've learned so far:\n",
    "\n",
    "- A **function** is a re-usable piece of code that does something.  \n",
    "- A function can take in some **input** and `return` some **output**.  \n",
    "- In principle, a function can be as complex as you need (can contain `if` statements, `for` loops, etc.).\n",
    "   - Word of caution: a function should be modular.\n",
    "- In principle, a function also take in many different inputs and even produce multiple outputs. \n",
    "   - Again: be careful not to make things too complex."
   ]
  },
  {
   "cell_type": "markdown",
   "id": "dcca8b7d",
   "metadata": {
    "slideshow": {
     "slide_type": "slide"
    }
   },
   "source": [
    "## Function arguments: the details\n",
    "\n",
    "Beyond the basics, there are several other important things to know about the **arguments** for a function:\n",
    "\n",
    "- It's important to be aware of what `type` your function expects as an argument.\n",
    "- Arguments can have **default values**.  \n",
    "- Some arguments can be accessed with a **keyword**, while others are **positional** arguments."
   ]
  },
  {
   "cell_type": "markdown",
   "id": "2b065987",
   "metadata": {
    "slideshow": {
     "slide_type": "slide"
    }
   },
   "source": [
    "### Argument `type`\n",
    "\n",
    "Some languages, like Java, require that you specify the `type` of an argument (and variable names, etc.).\n",
    "\n",
    "Python doesn't require that, but it's still important to be aware of.\n",
    "\n",
    "- Otherwise, you can run into a `TypeError`.\n",
    "- If you're interested: Python uses something called [duck typing](https://en.wikipedia.org/wiki/Duck_typing). "
   ]
  },
  {
   "cell_type": "markdown",
   "id": "c337a381",
   "metadata": {
    "slideshow": {
     "slide_type": "slide"
    }
   },
   "source": [
    "#### Example of a `TypeError`\n",
    "\n",
    "Here, the `square` function performs an operation with `x` that requires `x` to be an `int`."
   ]
  },
  {
   "cell_type": "code",
   "execution_count": null,
   "id": "d1d46bd2",
   "metadata": {
    "slideshow": {
     "slide_type": "-"
    }
   },
   "outputs": [],
   "source": [
    "def square(x):\n",
    "    return x ** 2\n",
    "square(\"two\")"
   ]
  },
  {
   "cell_type": "markdown",
   "id": "a721ada0",
   "metadata": {
    "slideshow": {
     "slide_type": "slide"
    }
   },
   "source": [
    "#### How to avoid a `TypeError`?\n",
    "\n",
    "In practice, the best way to avoid a `TypeError` is to **document your code**. \n",
    "\n",
    "- In the `docstring` under a function, you can write details about what the function expects, e.g., whether the input is an `int`, a `str`, etc."
   ]
  },
  {
   "cell_type": "code",
   "execution_count": null,
   "id": "a14ff6c4",
   "metadata": {
    "slideshow": {
     "slide_type": "-"
    }
   },
   "outputs": [],
   "source": [
    "def square(x):\n",
    "    \"\"\"\n",
    "    Parameters\n",
    "    ------\n",
    "    x: int or float\n",
    "      number to be squared\n",
    "    \n",
    "    Returns\n",
    "    -------\n",
    "    int or float\n",
    "      square of x\n",
    "    \"\"\"\n",
    "    return x ** 2\n",
    "\n",
    "square(0.5)"
   ]
  },
  {
   "cell_type": "markdown",
   "id": "7386b204",
   "metadata": {
    "slideshow": {
     "slide_type": "slide"
    }
   },
   "source": [
    "#### Check-in\n",
    "\n",
    "Will the function below result in an error if you called it on the input `\"test\"`? Why or why not?"
   ]
  },
  {
   "cell_type": "code",
   "execution_count": null,
   "id": "55113165",
   "metadata": {
    "slideshow": {
     "slide_type": "-"
    }
   },
   "outputs": [],
   "source": [
    "def mystery_func(x):\n",
    "    return x ** 3"
   ]
  },
  {
   "cell_type": "markdown",
   "id": "123fba05",
   "metadata": {
    "slideshow": {
     "slide_type": "slide"
    }
   },
   "source": [
    "#### Solution\n",
    "\n",
    "As before, Python throws an error, because there's no way to raise a `str` to the power `3`. "
   ]
  },
  {
   "cell_type": "code",
   "execution_count": null,
   "id": "4505be0f",
   "metadata": {
    "slideshow": {
     "slide_type": "-"
    }
   },
   "outputs": [],
   "source": [
    "mystery_func(\"test\")"
   ]
  },
  {
   "cell_type": "markdown",
   "id": "cdd7a4f7",
   "metadata": {
    "slideshow": {
     "slide_type": "slide"
    }
   },
   "source": [
    "### Default values\n",
    "\n",
    "> A **default value** is the value taken on by an argument *by default*. If no other value is specified, this is the value assumed by the function.\n",
    "\n",
    "In the function definition, a default value can be specified by setting: `arg_name = default_value`.\n",
    "\n",
    "- In the example below, `name` is required.\n",
    "- But `major` has a default value of `\"COGS\"`."
   ]
  },
  {
   "cell_type": "code",
   "execution_count": null,
   "id": "14b9e0aa",
   "metadata": {
    "slideshow": {
     "slide_type": "-"
    }
   },
   "outputs": [],
   "source": [
    "def my_info(name, major = \"COGS\"):\n",
    "    return \"My name is {name}, and my major is {major}.\".format(name = name, major = major)"
   ]
  },
  {
   "cell_type": "markdown",
   "id": "fe786aa3",
   "metadata": {
    "slideshow": {
     "slide_type": "-"
    }
   },
   "source": [
    "Even if we don't specify a value for `major`, the function will run just fine––it just uses the default value."
   ]
  },
  {
   "cell_type": "code",
   "execution_count": null,
   "id": "8b401735",
   "metadata": {
    "slideshow": {
     "slide_type": "-"
    }
   },
   "outputs": [],
   "source": [
    "my_info(\"Mary\")"
   ]
  },
  {
   "cell_type": "markdown",
   "id": "01a96d6b",
   "metadata": {
    "slideshow": {
     "slide_type": "slide"
    }
   },
   "source": [
    "#### Overriding a default value\n",
    "\n",
    "A default value can be overridden in the call to the function itself. \n",
    "\n",
    "- Note that this can reference the argument name (`major`), or just occupy the correct **position** in the series of arguments. (More on this later.)"
   ]
  },
  {
   "cell_type": "code",
   "execution_count": null,
   "id": "4699346f",
   "metadata": {
    "slideshow": {
     "slide_type": "-"
    }
   },
   "outputs": [],
   "source": [
    "my_info(\"Umberto\", major = \"LIGN\")"
   ]
  },
  {
   "cell_type": "code",
   "execution_count": null,
   "id": "9bc663c2",
   "metadata": {
    "scrolled": true,
    "slideshow": {
     "slide_type": "-"
    }
   },
   "outputs": [],
   "source": [
    "my_info(major = \"LIGN\", name = \"Sean\")"
   ]
  },
  {
   "cell_type": "markdown",
   "id": "79bc5e98",
   "metadata": {
    "slideshow": {
     "slide_type": "slide"
    }
   },
   "source": [
    "#### Arguments without a default must be referenced!\n",
    "\n",
    "If an argument *doesn't* have a default, the function will throw an error if you don't pass in enough arguments."
   ]
  },
  {
   "cell_type": "code",
   "execution_count": null,
   "id": "8752b5a0",
   "metadata": {
    "slideshow": {
     "slide_type": "-"
    }
   },
   "outputs": [],
   "source": [
    "my_info()"
   ]
  },
  {
   "cell_type": "markdown",
   "id": "2b1aca31",
   "metadata": {
    "slideshow": {
     "slide_type": "slide"
    }
   },
   "source": [
    "#### Check-in\n",
    "\n",
    "Why does the following code not throw an error?"
   ]
  },
  {
   "cell_type": "code",
   "execution_count": null,
   "id": "83e35155",
   "metadata": {
    "scrolled": true,
    "slideshow": {
     "slide_type": "-"
    }
   },
   "outputs": [],
   "source": [
    "my_info(\"POLI\")"
   ]
  },
  {
   "cell_type": "markdown",
   "id": "0050dc35",
   "metadata": {
    "slideshow": {
     "slide_type": "slide"
    }
   },
   "source": [
    "### Positional vs. keyword arguments\n",
    "\n",
    "An argument to a function can be indicated using either:\n",
    "\n",
    "- Its **position**, i.e., in the list of possible arguments.\n",
    "- A **keyword**, i.e., the *name* of that argument."
   ]
  },
  {
   "cell_type": "markdown",
   "id": "0d70659d",
   "metadata": {
    "slideshow": {
     "slide_type": "-"
    }
   },
   "source": [
    "A **positional argument** uses the relative position of the arguments to determine which is which. "
   ]
  },
  {
   "cell_type": "code",
   "execution_count": null,
   "id": "d2a24ba1",
   "metadata": {
    "slideshow": {
     "slide_type": "-"
    }
   },
   "outputs": [],
   "source": [
    "def exponentiate(num, exp):\n",
    "    return num ** exp"
   ]
  },
  {
   "cell_type": "code",
   "execution_count": null,
   "id": "e355d311",
   "metadata": {
    "slideshow": {
     "slide_type": "-"
    }
   },
   "outputs": [],
   "source": [
    "## Raise 2 ^ 3\n",
    "exponentiate(2, 3)"
   ]
  },
  {
   "cell_type": "code",
   "execution_count": null,
   "id": "b7bf38ce",
   "metadata": {
    "slideshow": {
     "slide_type": "-"
    }
   },
   "outputs": [],
   "source": [
    "## Raise 3 ^ 2\n",
    "exponentiate(3, 2)"
   ]
  },
  {
   "cell_type": "markdown",
   "id": "7e577a19",
   "metadata": {
    "slideshow": {
     "slide_type": "slide"
    }
   },
   "source": [
    "A **keyword argument** uses the *name* of the argument to determine which is which. \n",
    "\n",
    "- Even if the positions are swapped, the *keyword* will take priority. \n",
    "- (Note that the best practice is to keep the order consistent, however.)"
   ]
  },
  {
   "cell_type": "code",
   "execution_count": null,
   "id": "50728500",
   "metadata": {
    "slideshow": {
     "slide_type": "-"
    }
   },
   "outputs": [],
   "source": [
    "## Raise 2 ^ 3\n",
    "exponentiate(num = 2, exp = 3)"
   ]
  },
  {
   "cell_type": "code",
   "execution_count": null,
   "id": "5c3ae5d8",
   "metadata": {
    "slideshow": {
     "slide_type": "-"
    }
   },
   "outputs": [],
   "source": [
    "## Raise 2 ^ 3\n",
    "exponentiate(exp = 3, num = 2)"
   ]
  },
  {
   "cell_type": "markdown",
   "id": "6814b10e",
   "metadata": {
    "slideshow": {
     "slide_type": "slide"
    }
   },
   "source": [
    "#### Position before keyword\n",
    "\n",
    "- Once you've used a keyword argument, you can't rely on **position** for any arguments coming after that keyword. This will throw a `SyntaxError`.\n",
    "- However, a **positional argument** can come before a **keyword argument**.\n"
   ]
  },
  {
   "cell_type": "code",
   "execution_count": null,
   "id": "70ee59bd",
   "metadata": {
    "slideshow": {
     "slide_type": "-"
    }
   },
   "outputs": [],
   "source": [
    "## This is incorrect\n",
    "exponentiate(num = 2, 3)"
   ]
  },
  {
   "cell_type": "code",
   "execution_count": null,
   "id": "8534ad37",
   "metadata": {
    "slideshow": {
     "slide_type": "-"
    }
   },
   "outputs": [],
   "source": [
    "## This is fine\n",
    "exponentiate(2, exp = 3)"
   ]
  },
  {
   "cell_type": "markdown",
   "id": "9b5ad7f9",
   "metadata": {
    "slideshow": {
     "slide_type": "slide"
    }
   },
   "source": [
    "## Conclusion\n",
    "\n",
    "This concludes our initial introduction to **functions**. If there is time, there are also two more challenging practice problems below to work on."
   ]
  },
  {
   "cell_type": "markdown",
   "id": "adc273f1",
   "metadata": {
    "slideshow": {
     "slide_type": "slide"
    }
   },
   "source": [
    "## Practice problems"
   ]
  },
  {
   "cell_type": "markdown",
   "id": "4c6ac8b5",
   "metadata": {
    "slideshow": {
     "slide_type": "slide"
    }
   },
   "source": [
    "### Problem 1\n",
    "\n",
    "Write a function called `fizzbuzz`. It should take in a single argument, `x`, and follow this behavior:\n",
    "\n",
    "- If `x` is divisible by both `3` and `5`, return the `str` `\"fizzbuzz\"`. \n",
    "- If `x` is divisible by only `3` (and not `5`), return `\"fizz\"`).\n",
    "- If `x` is divisible by only `5` (and not `3`), return `\"buzz\"`).\n",
    "\n",
    "Note: this is part of a famous problem in **coding interviews**!"
   ]
  },
  {
   "cell_type": "code",
   "execution_count": null,
   "id": "25a06421",
   "metadata": {
    "slideshow": {
     "slide_type": "-"
    }
   },
   "outputs": [],
   "source": [
    "def fizzbuzz(x):\n",
    "    pass"
   ]
  },
  {
   "cell_type": "markdown",
   "id": "014891b6",
   "metadata": {
    "slideshow": {
     "slide_type": "slide"
    }
   },
   "source": [
    "### Problem 2\n",
    "\n",
    "Write a function called **product**, which takes a `list` (`lst`) as input, and returns the **product** of every item in the list."
   ]
  },
  {
   "cell_type": "code",
   "execution_count": null,
   "id": "5b35c869",
   "metadata": {
    "slideshow": {
     "slide_type": "-"
    }
   },
   "outputs": [],
   "source": [
    "L = [2, 3, 4, 5]\n",
    "\n",
    "def product(lst):\n",
    "    pass"
   ]
  },
  {
   "cell_type": "markdown",
   "id": "2741a05a",
   "metadata": {
    "slideshow": {
     "slide_type": "slide"
    }
   },
   "source": [
    "## Returning multiple values\n",
    "\n",
    "Functions can `return` multiple values, or even another function. \n",
    "\n",
    "This can be useful when:\n",
    "\n",
    "- The goal of a `function` can't be distilled into a single value.  \n",
    "- You want to `return` multiple bits of information about something, e.g., its `len`, its value, and so on.  \n",
    "\n",
    "Multiple values can be separated with a `,`."
   ]
  },
  {
   "cell_type": "markdown",
   "id": "0540f222",
   "metadata": {
    "slideshow": {
     "slide_type": "slide"
    }
   },
   "source": [
    "### Multiple `return` values: an example\n",
    "\n",
    "Suppose we wanted a function that takes two numbers as input, and returns both:\n",
    "\n",
    "- Their sum.  \n",
    "- Their product."
   ]
  },
  {
   "cell_type": "code",
   "execution_count": null,
   "id": "ee665bc1",
   "metadata": {
    "slideshow": {
     "slide_type": "-"
    }
   },
   "outputs": [],
   "source": [
    "def sum_product(a, b):\n",
    "    sumvar = a + b\n",
    "    prod = a * b\n",
    "    L = [sumvar, prod]\n",
    "    return L, sumvar, prod"
   ]
  },
  {
   "cell_type": "code",
   "execution_count": null,
   "id": "64e739db",
   "metadata": {
    "slideshow": {
     "slide_type": "-"
    }
   },
   "outputs": [],
   "source": [
    "l, s, p = sum_product(10, 200)\n",
    "print(l)\n",
    "print(s)\n",
    "print(p)"
   ]
  },
  {
   "cell_type": "markdown",
   "id": "8e1bd1a6",
   "metadata": {
    "slideshow": {
     "slide_type": "slide"
    }
   },
   "source": [
    "### Check-in\n",
    "\n",
    "What do you notice about the `type` of the object that gets returned when a function returns *multiple values*?"
   ]
  },
  {
   "cell_type": "code",
   "execution_count": null,
   "id": "4eb40bb6",
   "metadata": {
    "slideshow": {
     "slide_type": "-"
    }
   },
   "outputs": [],
   "source": [
    "sum_product(5, 2)"
   ]
  },
  {
   "cell_type": "markdown",
   "id": "0b9c1a4c",
   "metadata": {
    "slideshow": {
     "slide_type": "slide"
    }
   },
   "source": [
    "### `return` and `tuple`s\n",
    "\n",
    "By default, a `function` will package these multiple values into a `tuple`.\n",
    "\n",
    "- It's possible to return them in another form, e.g., in a structured dictionary. \n",
    "- But if you use the `return a, b` syntax, `a` and `b` will returned like: `(a, b)`"
   ]
  },
  {
   "cell_type": "markdown",
   "id": "95967cf6",
   "metadata": {
    "slideshow": {
     "slide_type": "slide"
    }
   },
   "source": [
    "## Namespaces"
   ]
  },
  {
   "cell_type": "markdown",
   "id": "9f06d9c7",
   "metadata": {
    "slideshow": {
     "slide_type": "slide"
    }
   },
   "source": [
    "### Review: what is a namespace?\n",
    "\n",
    "> A [**namespace**](https://realpython.com/python-namespaces-scope/) is the \"space\" where a given set of variable names have been *declared*.\n",
    "\n",
    "Python has several types of namespaces:\n",
    "\n",
    "1. **Built-in**: Built-in objects within Python (e.g., **Exceptions**, **lists**, and more). These can be accessed from anywhere.  \n",
    "2. **Global**: Any objects defined in the main program. These can be accessed anywhere in the main program once you've defined them, but not in another Jupyter notebook, etc.\n",
    "3. **Local**: If you define new variables within a *function*, those variables can only be accessed within the \"scope\" of that function."
   ]
  },
  {
   "cell_type": "markdown",
   "id": "c93b00e1",
   "metadata": {
    "slideshow": {
     "slide_type": "slide"
    }
   },
   "source": [
    "### The global namespace\n",
    "\n",
    "So far, we've mostly been working with variables defined in the **global namespace**.\n",
    "\n",
    "- I.e., once we define a variable in a notebook (and run that cell), we can reference it in another cell."
   ]
  },
  {
   "cell_type": "code",
   "execution_count": null,
   "id": "9bf1751a",
   "metadata": {},
   "outputs": [],
   "source": [
    "## define global variable\n",
    "my_var = 2"
   ]
  },
  {
   "cell_type": "code",
   "execution_count": null,
   "id": "001036c9",
   "metadata": {},
   "outputs": [],
   "source": [
    "## reference global variable\n",
    "print(my_var)"
   ]
  },
  {
   "cell_type": "markdown",
   "id": "af2ac7c1",
   "metadata": {
    "slideshow": {
     "slide_type": "slide"
    }
   },
   "source": [
    "### Functions have their own namespace\n",
    "\n",
    "If you declare a variable **within** a function definition, that variable does *not* persist outside the scope of that function.\n",
    "\n",
    "In the function below, we declare a new variable called `answer`, which is eventually `return`ed.\n",
    "\n",
    "- However, the **variable itself** does not exist outside the function."
   ]
  },
  {
   "cell_type": "code",
   "execution_count": null,
   "id": "1d591ec1",
   "metadata": {
    "slideshow": {
     "slide_type": "-"
    }
   },
   "outputs": [],
   "source": [
    "def exponentiate(num, exp):\n",
    "    ### \"answer\" is a new variable \n",
    "    answer = num ** exp\n",
    "    return answer"
   ]
  },
  {
   "cell_type": "code",
   "execution_count": null,
   "id": "1a31a687",
   "metadata": {
    "slideshow": {
     "slide_type": "-"
    }
   },
   "outputs": [],
   "source": [
    "exponentiate(3, 2)\n",
    "### This will throw an error\n",
    "print(answer)"
   ]
  },
  {
   "cell_type": "markdown",
   "id": "70248681",
   "metadata": {
    "slideshow": {
     "slide_type": "slide"
    }
   },
   "source": [
    "### Global variables *can* be referenced inside a function\n",
    "\n",
    "If you've defined a variable in the global namespace, you *can* reference it inside a function.\n",
    "\n",
    "- **Word of caution ⚠️**: this can make for confusing code. "
   ]
  },
  {
   "cell_type": "code",
   "execution_count": null,
   "id": "82a0f1e5",
   "metadata": {},
   "outputs": [],
   "source": [
    "## define global variable\n",
    "my_var = 2\n",
    "## define function\n",
    "def add_two(x):\n",
    "    ## references my_var\n",
    "    return x + my_var\n",
    "\n",
    "add_two(2)"
   ]
  },
  {
   "cell_type": "markdown",
   "id": "7b349161",
   "metadata": {
    "slideshow": {
     "slide_type": "slide"
    }
   },
   "source": [
    "### Check-in\n",
    "\n",
    "What would value of `new_var` be after running the code below?\n",
    "\n",
    "What about `test_var`?"
   ]
  },
  {
   "cell_type": "code",
   "execution_count": null,
   "id": "186feb9d",
   "metadata": {
    "slideshow": {
     "slide_type": "-"
    }
   },
   "outputs": [],
   "source": [
    "test_var = 2\n",
    "def test_func(x):\n",
    "    test_var = x ** 2\n",
    "    return test_var\n",
    "\n",
    "new_var = test_func(5)"
   ]
  },
  {
   "cell_type": "markdown",
   "id": "52111d6c",
   "metadata": {
    "slideshow": {
     "slide_type": "slide"
    }
   },
   "source": [
    "### Using `whos`\n",
    "\n",
    "Remember that you can check which variables are defined using `whos`.\n",
    "\n",
    "**Warning**: It works on IPython and Jypyter Notebooks. If you open a python script in your computer, it is probably not going to work."
   ]
  },
  {
   "cell_type": "code",
   "execution_count": null,
   "id": "985c7690",
   "metadata": {
    "slideshow": {
     "slide_type": "-"
    }
   },
   "outputs": [],
   "source": [
    "whos"
   ]
  },
  {
   "cell_type": "markdown",
   "id": "7d857c00",
   "metadata": {
    "slideshow": {
     "slide_type": "slide"
    }
   },
   "source": [
    "## `lambda` functions\n",
    "\n",
    "So far, we've focused on creating functions using the `def func_name(...)` syntax.\n",
    "\n",
    "However, Python also has something called [**lambda functions**](https://www.w3schools.com/python/python_lambda.asp). \n",
    "\n",
    "- Syntax: `lambda x: ...`. \n",
    "- Main advantage: can be written in a single line, best if you want a **simple function**.  \n",
    "   - Excellent for passing as *arguments* into other functions, such as `sorted`."
   ]
  },
  {
   "cell_type": "code",
   "execution_count": null,
   "id": "55982d75",
   "metadata": {
    "slideshow": {
     "slide_type": "-"
    }
   },
   "outputs": [],
   "source": [
    "square = lambda x: x ** 2\n",
    "print(square(2))\n",
    "print(square(4))"
   ]
  },
  {
   "cell_type": "markdown",
   "id": "0a13b69a",
   "metadata": {
    "slideshow": {
     "slide_type": "-"
    }
   },
   "source": [
    "In theory, `lambda` functions can have multiple arguments."
   ]
  },
  {
   "cell_type": "code",
   "execution_count": null,
   "id": "039a3f2f",
   "metadata": {
    "slideshow": {
     "slide_type": "-"
    }
   },
   "outputs": [],
   "source": [
    "exp = lambda x, y: x ** y\n",
    "print(exp(2, 3))"
   ]
  },
  {
   "cell_type": "markdown",
   "id": "681897fa",
   "metadata": {
    "slideshow": {
     "slide_type": "slide"
    }
   },
   "source": [
    "### Check-in\n",
    "\n",
    "Convert the function below into a `lambda` function."
   ]
  },
  {
   "cell_type": "code",
   "execution_count": null,
   "id": "5769fb99",
   "metadata": {
    "slideshow": {
     "slide_type": "-"
    }
   },
   "outputs": [],
   "source": [
    "def add_one(x):\n",
    "    ## Adds 1 to x\n",
    "    return x + 1\n",
    "\n",
    "### Your code here\n",
    "add_one_lambda = lambda x: x + 1\n",
    "print(add_one(2))\n",
    "print(add_one_lambda(2))"
   ]
  },
  {
   "cell_type": "markdown",
   "id": "17a86126",
   "metadata": {
    "slideshow": {
     "slide_type": "slide"
    }
   },
   "source": [
    "### Solution"
   ]
  },
  {
   "cell_type": "code",
   "execution_count": null,
   "id": "80e62cbe",
   "metadata": {
    "slideshow": {
     "slide_type": "-"
    }
   },
   "outputs": [],
   "source": [
    "# Lambda solution\n",
    "add_one = lambda x: x + 1\n",
    "print(add_one(1))"
   ]
  },
  {
   "cell_type": "markdown",
   "id": "4cce465a",
   "metadata": {
    "slideshow": {
     "slide_type": "slide"
    }
   },
   "source": [
    "### `lambda`: summary\n",
    "\n",
    "- `lambda` is an easy, efficient way to define a simple function.  \n",
    "- In practice, `lambda` is most useful when defining functions \"on the fly\".\n",
    "   - As **arguments** to pass into another function.\n",
    "   - As **nested functions** within another function. "
   ]
  },
  {
   "cell_type": "markdown",
   "id": "5bb00b57",
   "metadata": {
    "slideshow": {
     "slide_type": "slide"
    }
   },
   "source": [
    "## Varying number of arguments\n",
    "\n",
    "So far, we've assumed that we *know* how many arguments will be passed into a function at any given time. But this isn't always the case.\n",
    "\n",
    "Fortunately, Python gives us two ways to handle an **arbitrary number** of arguments:\n",
    "\n",
    "- `*args`: allows a `function` to receive an arbitrary number of (positional) arguments, which can be \"unpacked\" as needed. The function treats them as a `tuple`. \n",
    "- `**kwargs`: allows a `function` to receive a `dictionary` of (keyword) arguments, which can be \"unpacked\" as needed. "
   ]
  },
  {
   "cell_type": "markdown",
   "id": "a066c1af",
   "metadata": {
    "slideshow": {
     "slide_type": "slide"
    }
   },
   "source": [
    "### `*args` in practice\n",
    "\n",
    "The `*args` syntax allows you to input an arbitrary number of arguments into a function."
   ]
  },
  {
   "cell_type": "code",
   "execution_count": null,
   "id": "d2657f4c",
   "metadata": {
    "slideshow": {
     "slide_type": "-"
    }
   },
   "outputs": [],
   "source": [
    "def my_function(*fruits):\n",
    "    print(\"The last fruit is \" + fruits[-1] + \".\")"
   ]
  },
  {
   "cell_type": "code",
   "execution_count": null,
   "id": "bae70d4f",
   "metadata": {
    "slideshow": {
     "slide_type": "-"
    }
   },
   "outputs": [],
   "source": [
    "my_function(\"strawberry\")"
   ]
  },
  {
   "cell_type": "code",
   "execution_count": null,
   "id": "8d4eceb8",
   "metadata": {
    "slideshow": {
     "slide_type": "-"
    }
   },
   "outputs": [],
   "source": [
    "my_function(\"strawberry\", \"apple\")"
   ]
  },
  {
   "cell_type": "markdown",
   "id": "c598cf5a",
   "metadata": {
    "slideshow": {
     "slide_type": "slide"
    }
   },
   "source": [
    "#### Check-in\n",
    "\n",
    "How exactly is this working? That is, what is `my_function` treating `*fruits` as? \n",
    "\n",
    "Try `print`ing out `fruits` to see what's going on."
   ]
  },
  {
   "cell_type": "code",
   "execution_count": null,
   "id": "4a902dcf",
   "metadata": {
    "slideshow": {
     "slide_type": "-"
    }
   },
   "outputs": [],
   "source": [
    "### Your code here\n",
    "def my_function(*fruits):\n",
    "    print(type(fruits))\n",
    "    print(\"The last fruit is \" + fruits[-1] + \".\")\n",
    "    \n",
    "my_function('apples', 'bananas')"
   ]
  },
  {
   "cell_type": "markdown",
   "id": "54a0da36",
   "metadata": {
    "slideshow": {
     "slide_type": "slide"
    }
   },
   "source": [
    "### `**kargs` in practice\n",
    "\n",
    "The `*kwargs` is similar to `*args`, but allows for an arbitrary number of **keyword arguments**.\n",
    "\n",
    "- These are treated as a `dict` by the function."
   ]
  },
  {
   "cell_type": "code",
   "execution_count": null,
   "id": "301b5ffa",
   "metadata": {
    "slideshow": {
     "slide_type": "-"
    }
   },
   "outputs": [],
   "source": [
    "def my_bad_function(*fruits):\n",
    "    print('I have ' + str(fruits[1]) + ' ' + str(fruits[0]))\n",
    "\n",
    "def my_function(**fruits):\n",
    "    print('I have ' + str(fruits['amount']) + ' ' + fruits['name'])\n",
    "    if (fruits['ripe']): print('And they are ripe!')"
   ]
  },
  {
   "cell_type": "code",
   "execution_count": null,
   "id": "3ad1788e",
   "metadata": {
    "slideshow": {
     "slide_type": "-"
    }
   },
   "outputs": [],
   "source": [
    "### Keyword and value are automatically placed into dictionary\n",
    "my_function(amount = 5, name = \"apple\", ripe = False)\n",
    "my_bad_function(5, \"apple\")"
   ]
  },
  {
   "cell_type": "code",
   "execution_count": null,
   "id": "693e7445",
   "metadata": {
    "slideshow": {
     "slide_type": "-"
    }
   },
   "outputs": [],
   "source": [
    "### The specific keyword can be altered as needed\n",
    "my_function(name = \"banana\", cost = 10)"
   ]
  },
  {
   "cell_type": "markdown",
   "id": "d91432d8",
   "metadata": {
    "slideshow": {
     "slide_type": "slide"
    }
   },
   "source": [
    "#### Why use this?\n",
    "\n",
    "In general, `**kwargs` is useful when you want **flexibility**.\n",
    "\n",
    "For example, suppose you have a website, in which people can (optionally) fill out the following information:\n",
    "\n",
    "- `Name`. \n",
    "- `Email`. \n",
    "- `Phone number`.\n",
    "- `Location`.\n",
    "\n",
    "But because not everyone fills out *every field*, the function you use to store this information needs to be flexible about how many arguments it receives."
   ]
  },
  {
   "cell_type": "code",
   "execution_count": null,
   "id": "6b66c35f",
   "metadata": {
    "slideshow": {
     "slide_type": "-"
    }
   },
   "outputs": [],
   "source": [
    "def store_user(**info):\n",
    "    ## For now, this is just a placeholder to demonstrate\n",
    "    for item in info.items():\n",
    "        print(item)"
   ]
  },
  {
   "cell_type": "code",
   "execution_count": null,
   "id": "3a81f3c5",
   "metadata": {
    "slideshow": {
     "slide_type": "-"
    }
   },
   "outputs": [],
   "source": [
    "store_user(Name = \"John\", Location = \"San Diego\", Email = 'john@ucsd.edu')"
   ]
  },
  {
   "cell_type": "markdown",
   "id": "783942f9",
   "metadata": {
    "slideshow": {
     "slide_type": "slide"
    }
   },
   "source": [
    "## Conclusion\n",
    "\n",
    "This is the end of our unit on functions––but we'll continue getting practice throughout the rest of the course!"
   ]
  },
  {
   "cell_type": "markdown",
   "id": "a47102bd",
   "metadata": {
    "slideshow": {
     "slide_type": "slide"
    }
   },
   "source": [
    "## Practice problems\n",
    "\n",
    "One of the best ways to learn a new concept is to actually practice it. Thus, I'm including a number of practice problems at the end of this lecture, which we'll work through."
   ]
  },
  {
   "cell_type": "markdown",
   "id": "a16bb8ea",
   "metadata": {
    "slideshow": {
     "slide_type": "slide"
    }
   },
   "source": [
    "### Problem 1: find the maximum number of a `list`\n",
    "\n",
    "Goal: write a function that takes in a `list` of numbers as input, and finds the **maximum** of the `list`.  \n",
    "\n",
    "The catch: you can't use the operator `max`. \n",
    "\n",
    "Things to consider:\n",
    "\n",
    "- If the input `list` is empty, you should return `None`.  \n",
    "- Since you can't use `max`, you might consider using a `for` loop, checking the value of each number in turn."
   ]
  },
  {
   "cell_type": "code",
   "execution_count": null,
   "id": "e45093aa",
   "metadata": {
    "slideshow": {
     "slide_type": "-"
    }
   },
   "outputs": [],
   "source": [
    "### Your code here"
   ]
  },
  {
   "cell_type": "markdown",
   "id": "cfda08a9",
   "metadata": {
    "slideshow": {
     "slide_type": "slide"
    }
   },
   "source": [
    "### Problem 2: find the maximum number in a set of `*args`\n",
    "\n",
    "Goal: write a function that takes in an arbitrary number of arguments (i.e., uses `*args`), and finds the maximum.\n",
    "\n",
    "The catch: you can't use the operator `max`. \n",
    "\n",
    "Things to consider:\n",
    "\n",
    "- If there are no arguments, you should return `None`.  \n",
    "- Since you can't use `max`, you might consider using a `for` loop, checking the value of each number in turn."
   ]
  },
  {
   "cell_type": "code",
   "execution_count": null,
   "id": "e6877b49",
   "metadata": {
    "slideshow": {
     "slide_type": "-"
    }
   },
   "outputs": [],
   "source": [
    "### Your code here"
   ]
  },
  {
   "cell_type": "markdown",
   "id": "b5c6108b",
   "metadata": {
    "slideshow": {
     "slide_type": "slide"
    }
   },
   "source": [
    "### Problem 3: find the even numbers\n",
    "\n",
    "Goal: write a function that takes in a `list` of numbers, and prints the even ones."
   ]
  },
  {
   "cell_type": "code",
   "execution_count": null,
   "id": "cac2e37e",
   "metadata": {
    "slideshow": {
     "slide_type": "-"
    }
   },
   "outputs": [],
   "source": [
    "### Your code here"
   ]
  },
  {
   "cell_type": "markdown",
   "id": "be3b9dc4",
   "metadata": {
    "slideshow": {
     "slide_type": "slide"
    }
   },
   "source": [
    "### Problem 4: find the tallest in a dictionary.\n",
    "\n",
    "Suppose we want a `function` that takes in a `dict` of `Names` and `Heights`. That is, each *key* is a `Name`, and it maps onto a `Height`.\n",
    "\n",
    "We want the function to return the `Name` of the person with the largest `Height`, *as well as* the `Height` itself."
   ]
  },
  {
   "cell_type": "code",
   "execution_count": null,
   "id": "bf6d04a4",
   "metadata": {
    "slideshow": {
     "slide_type": "-"
    }
   },
   "outputs": [],
   "source": [
    "## Can't just max...that'll return \"Sean\"\n",
    "heights = {'Sean': 67, 'Ben': 72, 'Anne': 66}\n",
    "### Your code here"
   ]
  },
  {
   "cell_type": "markdown",
   "id": "6a638571",
   "metadata": {
    "slideshow": {
     "slide_type": "slide"
    }
   },
   "source": [
    "## Conclusion\n",
    "\n",
    "We learned so far:\n",
    "\n",
    "- **L05**: Operators, assignment, flow control (`if-elif-else`, `for`, `while`)\n",
    "- **L06**: `strings`, `lists` \n",
    "- **L07** (today): `dictionaries`, `functions`\n",
    "\n",
    "Next class we are going to learn:\n",
    "\n",
    "- `classes` and object-oriented programming\n",
    "- Reading files\n",
    "- `numpy` basics"
   ]
  }
 ],
 "metadata": {
  "celltoolbar": "Slideshow",
  "kernelspec": {
   "display_name": "Python 3 (ipykernel)",
   "language": "python",
   "name": "python3"
  },
  "language_info": {
   "codemirror_mode": {
    "name": "ipython",
    "version": 3
   },
   "file_extension": ".py",
   "mimetype": "text/x-python",
   "name": "python",
   "nbconvert_exporter": "python",
   "pygments_lexer": "ipython3",
   "version": "3.10.9"
  }
 },
 "nbformat": 4,
 "nbformat_minor": 5
}
