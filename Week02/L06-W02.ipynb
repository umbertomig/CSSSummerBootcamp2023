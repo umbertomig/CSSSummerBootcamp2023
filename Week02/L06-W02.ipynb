{
 "cells": [
  {
   "cell_type": "markdown",
   "id": "ff8da194",
   "metadata": {
    "slideshow": {
     "slide_type": "slide"
    }
   },
   "source": [
    "# CSS 201.5 - CSS Bootcamp\n",
    "\n",
    "## Python Programming"
   ]
  },
  {
   "cell_type": "markdown",
   "id": "4f01d73f",
   "metadata": {
    "slideshow": {
     "slide_type": "slide"
    }
   },
   "source": [
    "# Python Programming\n",
    "\n",
    "## Strings in Python"
   ]
  },
  {
   "cell_type": "markdown",
   "id": "14c0fb0a",
   "metadata": {
    "slideshow": {
     "slide_type": "slide"
    }
   },
   "source": [
    "## What is a string?\n",
    "\n",
    "> A **string** is a *sequence* of characters. It belongs to the `str` type in Python.\n",
    "\n",
    "A string stores characters as text, and is created using either single (`''`) or double (`\"\"`) quotes.\n",
    "\n",
    "Note that although strings are often used to store *words*, this isn't necessarily the case. A string could be:"
   ]
  },
  {
   "cell_type": "code",
   "execution_count": null,
   "id": "659cc36c",
   "metadata": {
    "slideshow": {
     "slide_type": "-"
    }
   },
   "outputs": [],
   "source": [
    "\"dog\\tand\\tcat\""
   ]
  },
  {
   "cell_type": "code",
   "execution_count": null,
   "id": "c7222fbf",
   "metadata": {
    "slideshow": {
     "slide_type": "-"
    }
   },
   "outputs": [],
   "source": [
    "\"abcdef\""
   ]
  },
  {
   "cell_type": "code",
   "execution_count": null,
   "id": "067a818b",
   "metadata": {
    "slideshow": {
     "slide_type": "-"
    }
   },
   "outputs": [],
   "source": [
    "\"1 + 4\""
   ]
  },
  {
   "cell_type": "markdown",
   "id": "f27dd7c9",
   "metadata": {
    "slideshow": {
     "slide_type": "-"
    }
   },
   "source": [
    "With many more possibilities. Basically, *any* character that you wrap with quotes becomes part of a `str` in Python."
   ]
  },
  {
   "cell_type": "markdown",
   "id": "17ee597e",
   "metadata": {
    "slideshow": {
     "slide_type": "slide"
    }
   },
   "source": [
    "### Multi-line strings\n",
    "\n",
    "Multi-line strings can be defined using `\"\"\" \"\"\"`, as below."
   ]
  },
  {
   "cell_type": "code",
   "execution_count": null,
   "id": "40c5e850",
   "metadata": {
    "slideshow": {
     "slide_type": "-"
    }
   },
   "outputs": [],
   "source": [
    "long_str = \"\"\"\n",
    "This string spans multiple lines.\n",
    "    This is the second line.\n",
    "\\\"This is the third line.\\\"\n",
    "Umberto's\n",
    "{} and {}.\n",
    "\"\"\"\n",
    "print(long_str.format('{}','house'))"
   ]
  },
  {
   "cell_type": "markdown",
   "id": "532ee3e8",
   "metadata": {
    "slideshow": {
     "slide_type": "slide"
    }
   },
   "source": [
    "### Side note: a `str` is a kind of sequence\n",
    "\n",
    "> A **sequence** is a collection of items (e.g., numbers, characters, etc.) with some *determined order*.  \n",
    "\n",
    "A `list` and `str` are both kinds of sequences. \n",
    "\n",
    "We'll discuss **sequences** more when we talk about `list`s, but there are a couple of important properties to remember:\n",
    "\n",
    "- Sequences have a particular *order*.  \n",
    "- You can **index** into a sequence to obtain the item at a particular position.  "
   ]
  },
  {
   "cell_type": "markdown",
   "id": "63be9d74",
   "metadata": {
    "slideshow": {
     "slide_type": "slide"
    }
   },
   "source": [
    "### Checking whether something is a `str`\n",
    "\n",
    "Recall that you can check the **type** of a variable using `type`."
   ]
  },
  {
   "cell_type": "code",
   "execution_count": null,
   "id": "5fd3656c",
   "metadata": {
    "slideshow": {
     "slide_type": "-"
    }
   },
   "outputs": [],
   "source": [
    "type(\"This is a sentence.\")"
   ]
  },
  {
   "cell_type": "code",
   "execution_count": null,
   "id": "c5b30c7c",
   "metadata": {
    "slideshow": {
     "slide_type": "-"
    }
   },
   "outputs": [],
   "source": [
    "type(\"1 + 4\")"
   ]
  },
  {
   "cell_type": "code",
   "execution_count": null,
   "id": "0cad8c0e",
   "metadata": {
    "slideshow": {
     "slide_type": "-"
    }
   },
   "outputs": [],
   "source": [
    "type(1 + 4)"
   ]
  },
  {
   "cell_type": "markdown",
   "id": "9e298aac",
   "metadata": {
    "slideshow": {
     "slide_type": "slide"
    }
   },
   "source": [
    "### Check-in\n",
    "\n",
    "Which of the following variables would evaluate to a `str`?"
   ]
  },
  {
   "cell_type": "code",
   "execution_count": null,
   "id": "10df57b0",
   "metadata": {
    "slideshow": {
     "slide_type": "-"
    }
   },
   "outputs": [],
   "source": [
    "x1 = 1.5\n",
    "x2 = True\n",
    "x3 = \"2 * 100\""
   ]
  },
  {
   "cell_type": "markdown",
   "id": "9452484e",
   "metadata": {
    "slideshow": {
     "slide_type": "slide"
    }
   },
   "source": [
    "## Why care about strings?\n",
    "\n",
    "**Strings** are incredibly useful and versatile, so it's important to understand how they work and how to manipulate them.\n",
    "\n",
    "Common uses of strings:\n",
    "\n",
    "- Pretty much all text data is stored as a `str` (e.g., a text corpus, a word, etc.).  \n",
    "- Storing information that can't be represented as `int` or `bool`, such as **password**.  \n",
    "- Declaring **features** of an object in Python that can't be represented as `int` or `bool`. \n",
    "- Representing a **filename**.\n",
    "\n",
    "Strings are so useful that virtually all programming languages have something like a `str` type."
   ]
  },
  {
   "cell_type": "markdown",
   "id": "51de795e",
   "metadata": {
    "slideshow": {
     "slide_type": "slide"
    }
   },
   "source": [
    "## Working with strings: basic operations\n",
    "\n",
    "Today, we're going to focus on a few **basic operations** we can use with strings. In a future lecture, we'll talk about more complex operations.\n",
    "\n",
    "The basic operations include:\n",
    "\n",
    "1. Getting the length (`len`) of a string.  \n",
    "2. Indexing into a string (`string_name[0]`).  \n",
    "3. Looping through a string (`for ch in string_name...`).  \n",
    "\n",
    "You'll note that each of these operations can also be applied to a `list` type!"
   ]
  },
  {
   "cell_type": "markdown",
   "id": "0ba02fba",
   "metadata": {
    "slideshow": {
     "slide_type": "slide"
    }
   },
   "source": [
    "### Calculating string length with `len`\n",
    "\n",
    "> The `len` operator calculates the number of characters in a `str` (or `list`).  "
   ]
  },
  {
   "cell_type": "code",
   "execution_count": null,
   "id": "192536f6",
   "metadata": {
    "slideshow": {
     "slide_type": "-"
    }
   },
   "outputs": [],
   "source": [
    "x1 = \"CSS 201 jhdfkjahsdjfh kfjdhsfkjhasdkjhf. fkjdhsaklfjasdf\"\n",
    "print(len(x1))"
   ]
  },
  {
   "cell_type": "code",
   "execution_count": null,
   "id": "0f0ab10c",
   "metadata": {
    "slideshow": {
     "slide_type": "-"
    }
   },
   "outputs": [],
   "source": [
    "x2 = \"class\"\n",
    "print(len(x2))"
   ]
  },
  {
   "cell_type": "markdown",
   "id": "dd7c590a",
   "metadata": {
    "slideshow": {
     "slide_type": "slide"
    }
   },
   "source": [
    "#### Check-in\n",
    "\n",
    "How many characters are in the string `\"2 + 2\"`?\n",
    "\n",
    "Try answering before you try typing in the expression."
   ]
  },
  {
   "cell_type": "markdown",
   "id": "35555964",
   "metadata": {
    "slideshow": {
     "slide_type": "slide"
    }
   },
   "source": [
    "#### Spaces count as characters!\n",
    "\n",
    "An empty space (`\" \"`) counts as a character in Python.\n",
    "\n",
    "Thus, the `str` `\"big dog\"` has one extra character than the `str` `\"bigdog\"`. "
   ]
  },
  {
   "cell_type": "code",
   "execution_count": null,
   "id": "93b8e83d",
   "metadata": {
    "slideshow": {
     "slide_type": "-"
    }
   },
   "outputs": [],
   "source": [
    "len(\"big dog\")"
   ]
  },
  {
   "cell_type": "code",
   "execution_count": null,
   "id": "578c1104",
   "metadata": {
    "slideshow": {
     "slide_type": "-"
    }
   },
   "outputs": [],
   "source": [
    "len(\"bigdog\")"
   ]
  },
  {
   "cell_type": "markdown",
   "id": "d9ad2f5a",
   "metadata": {
    "slideshow": {
     "slide_type": "slide"
    }
   },
   "source": [
    "#### Check-in\n",
    "\n",
    "How many characters are in the `str` below?"
   ]
  },
  {
   "cell_type": "code",
   "execution_count": null,
   "id": "2e9624ff",
   "metadata": {
    "slideshow": {
     "slide_type": "-"
    }
   },
   "outputs": [],
   "source": [
    "str_test = \"Computational Social Science is fun.\""
   ]
  },
  {
   "cell_type": "markdown",
   "id": "181eb5a2",
   "metadata": {
    "slideshow": {
     "slide_type": "slide"
    }
   },
   "source": [
    "#### Putting quotes into a string\n",
    "\n",
    "Certain characters, like quotes, require an **escape** character if you want to put them into a string. Otherwise they'll simply *end* the string."
   ]
  },
  {
   "cell_type": "code",
   "execution_count": null,
   "id": "68c4a8c1",
   "metadata": {
    "slideshow": {
     "slide_type": "-"
    }
   },
   "outputs": [],
   "source": [
    "quote_str = \"Then he said, \\\"I love CSS!\\\"\"\n",
    "print(quote_str)"
   ]
  },
  {
   "cell_type": "markdown",
   "id": "3d3c37bb",
   "metadata": {
    "slideshow": {
     "slide_type": "slide"
    }
   },
   "source": [
    "### Indexing into a `str`\n",
    "\n",
    "> In programming, **indexing** into a sequence means retrieving the item at a particular position.\n",
    "\n",
    "Because a `str` is a kind of sequence, we can retrieve the character at a particular position.\n",
    "\n",
    "We can index into a `str` (or `list`) using the `string_name[...]` notation, where `...` would be replaced with the **index** of the character we want to retrieve."
   ]
  },
  {
   "cell_type": "code",
   "execution_count": null,
   "id": "a31b6eb2",
   "metadata": {
    "slideshow": {
     "slide_type": "-"
    }
   },
   "outputs": [],
   "source": [
    "test_var = \"computer\"\n",
    "test_var[::-1]"
   ]
  },
  {
   "cell_type": "markdown",
   "id": "e8fcab64",
   "metadata": {
    "slideshow": {
     "slide_type": "slide"
    }
   },
   "source": [
    "#### Note on indexing\n",
    "\n",
    "Python uses **zero-indexing**: the first element in a sequence is assigned the index `0`, the second is assigned `1`, and so on.\n",
    "\n",
    "- This can be hard to get used to at first!  \n",
    "- But over time, it'll start to seem more natural.  "
   ]
  },
  {
   "cell_type": "markdown",
   "id": "7ac1a6d7",
   "metadata": {
    "slideshow": {
     "slide_type": "slide"
    }
   },
   "source": [
    "#### Check-in\n",
    "\n",
    "Which of the indexing operations below would return the letter `\"S\"`?"
   ]
  },
  {
   "cell_type": "code",
   "execution_count": null,
   "id": "704a3af5",
   "metadata": {
    "slideshow": {
     "slide_type": "-"
    }
   },
   "outputs": [],
   "source": [
    "s = \"CSS\"\n",
    "x1 = s[0]\n",
    "x2 = s[1]\n",
    "x3 = s[2]"
   ]
  },
  {
   "cell_type": "markdown",
   "id": "cf63cee6",
   "metadata": {
    "slideshow": {
     "slide_type": "slide"
    }
   },
   "source": [
    "#### Check-in\n",
    "\n",
    "Why does the code below return an **error**?"
   ]
  },
  {
   "cell_type": "code",
   "execution_count": null,
   "id": "7a86a8a6",
   "metadata": {
    "slideshow": {
     "slide_type": "-"
    }
   },
   "outputs": [],
   "source": [
    "s = \"CSS\"\n",
    "s[4]"
   ]
  },
  {
   "cell_type": "markdown",
   "id": "ce63b6d8",
   "metadata": {
    "slideshow": {
     "slide_type": "slide"
    }
   },
   "source": [
    "### Slicing into a `str`\n",
    "\n",
    "> **Slicing** is like indexing, but allows you to return a *subset* within a sequence.\n",
    "\n",
    "For example, rather than getting the *n-th* character of a `str`, you can return the characters between index `0` and index `2`.\n",
    "\n",
    "- To **slice**, use the syntax `[start_index:end_index]`.  \n",
    "- `start_index` is the index of the first character you want to return.  \n",
    "- `end_index` is the index of the final character you want to return, plus one.\n",
    "   - Like `range`, the final index is not \"inclusive\".  "
   ]
  },
  {
   "cell_type": "code",
   "execution_count": null,
   "id": "dfcab118",
   "metadata": {
    "slideshow": {
     "slide_type": "-"
    }
   },
   "outputs": [],
   "source": [
    "s = \"programming\"\n",
    "s[0:4]"
   ]
  },
  {
   "cell_type": "markdown",
   "id": "8c7a8e45",
   "metadata": {
    "slideshow": {
     "slide_type": "slide"
    }
   },
   "source": [
    "#### Check-in\n",
    "\n",
    "How many characters would the following **slice** return? *Which* characters would they be?"
   ]
  },
  {
   "cell_type": "code",
   "execution_count": null,
   "id": "d19559b5",
   "metadata": {
    "slideshow": {
     "slide_type": "-"
    }
   },
   "outputs": [],
   "source": [
    "s = \"programming\"\n",
    "subset = s[5:7] ## how many characters is this?"
   ]
  },
  {
   "cell_type": "markdown",
   "id": "86a84d5d",
   "metadata": {
    "slideshow": {
     "slide_type": "slide"
    }
   },
   "source": [
    "#### Check-in\n",
    "\n",
    "Write a **slice** operation to return the `str` `\"humid\"` within the string `\"dehumidify\"`."
   ]
  },
  {
   "cell_type": "code",
   "execution_count": null,
   "id": "5ad242ea",
   "metadata": {
    "slideshow": {
     "slide_type": "-"
    }
   },
   "outputs": [],
   "source": [
    "original_str = \"dehumidify\"\n",
    "### Your code here"
   ]
  },
  {
   "cell_type": "markdown",
   "id": "67a1ecce",
   "metadata": {
    "slideshow": {
     "slide_type": "slide"
    }
   },
   "source": [
    "### Looping through strings\n",
    "\n",
    "> **Looping** through a `str` means repeating some piece of code for each (or a subset) of the characters within a string.\n",
    "\n",
    "We've already discussed [loops in previous lectures](06-loops), so this will be a brief review:\n",
    "\n",
    "- A `for` loop **iterates** through each item in a sequence (like a `str`), repeating some piece of code.  \n",
    "- A `while` loop **continues** as long as some condition is met, and can also be used to iterate through a sequence."
   ]
  },
  {
   "cell_type": "markdown",
   "id": "7e0d158a",
   "metadata": {
    "slideshow": {
     "slide_type": "slide"
    }
   },
   "source": [
    "#### Looping with a `for` loop"
   ]
  },
  {
   "cell_type": "code",
   "execution_count": null,
   "id": "b193de75",
   "metadata": {
    "slideshow": {
     "slide_type": "-"
    }
   },
   "outputs": [],
   "source": [
    "seq = \"CSS\"\n",
    "for i in seq:\n",
    "    print(i)"
   ]
  },
  {
   "cell_type": "markdown",
   "id": "dfa9f4a1",
   "metadata": {
    "slideshow": {
     "slide_type": "slide"
    }
   },
   "source": [
    "#### Looping with a `while` loop"
   ]
  },
  {
   "cell_type": "code",
   "execution_count": null,
   "id": "0ddbeb9f",
   "metadata": {
    "scrolled": true,
    "slideshow": {
     "slide_type": "-"
    }
   },
   "outputs": [],
   "source": [
    "i = 0\n",
    "seq = \"CSS\"\n",
    "while i < len(seq):\n",
    "    print(seq[i])\n",
    "    i += 1"
   ]
  },
  {
   "cell_type": "markdown",
   "id": "cd4cc620",
   "metadata": {
    "slideshow": {
     "slide_type": "slide"
    }
   },
   "source": [
    "## Modifying case\n",
    "\n",
    "Often, you'll need to modify the **case** of a `str` (i.e., make it either *upper* or *lower* case). \n",
    "\n",
    "- One use-case for this is needing to *compare* two strings, but not caring about whether they have identical case. \n",
    "- E.g., \"APplE\" is the same *word* as \"apple\", but these strings wouldn't evaluate as equal."
   ]
  },
  {
   "cell_type": "code",
   "execution_count": null,
   "id": "09e9eb12",
   "metadata": {
    "slideshow": {
     "slide_type": "-"
    }
   },
   "outputs": [],
   "source": [
    "\"appLe\" == \"apple\""
   ]
  },
  {
   "cell_type": "code",
   "execution_count": null,
   "id": "816a04d2",
   "metadata": {
    "slideshow": {
     "slide_type": "-"
    }
   },
   "outputs": [],
   "source": [
    "\"apple\" == \"apple\"\n",
    "\n",
    "'2 * 2' == '4'"
   ]
  },
  {
   "cell_type": "markdown",
   "id": "7807db5a",
   "metadata": {
    "slideshow": {
     "slide_type": "slide"
    }
   },
   "source": [
    "### `upper` and `lower`\n",
    "\n",
    "As the names imply, `upper` and `lower` are both *functions* that you can use on a `str`.  "
   ]
  },
  {
   "cell_type": "code",
   "execution_count": null,
   "id": "4cda0584",
   "metadata": {
    "slideshow": {
     "slide_type": "-"
    }
   },
   "outputs": [],
   "source": [
    "\"APPLE\".lower()"
   ]
  },
  {
   "cell_type": "code",
   "execution_count": null,
   "id": "572432c4",
   "metadata": {
    "slideshow": {
     "slide_type": "-"
    }
   },
   "outputs": [],
   "source": [
    "\"apple\".upper()"
   ]
  },
  {
   "cell_type": "code",
   "execution_count": null,
   "id": "a052db65",
   "metadata": {
    "slideshow": {
     "slide_type": "-"
    }
   },
   "outputs": [],
   "source": [
    "\"APPLE\".lower() == \"apple\""
   ]
  },
  {
   "cell_type": "markdown",
   "id": "5bd5c205",
   "metadata": {
    "slideshow": {
     "slide_type": "slide"
    }
   },
   "source": [
    "### `title`\n",
    "\n",
    "The `title` function is a variant of `upper`/`lower`, which just capitalizes the *first* letter of each word."
   ]
  },
  {
   "cell_type": "code",
   "execution_count": null,
   "id": "61565e20",
   "metadata": {
    "slideshow": {
     "slide_type": "-"
    }
   },
   "outputs": [],
   "source": [
    "og_string = \"my name is umberto\"\n",
    "og_string.title()"
   ]
  },
  {
   "cell_type": "markdown",
   "id": "4b2e0737",
   "metadata": {
    "slideshow": {
     "slide_type": "-"
    }
   },
   "source": [
    "Note that if you have capital letters *after* the first letter of a word, these will now become lowercase!"
   ]
  },
  {
   "cell_type": "code",
   "execution_count": null,
   "id": "05be3bc2",
   "metadata": {
    "slideshow": {
     "slide_type": "-"
    }
   },
   "outputs": [],
   "source": [
    "og_string = \"DNA\"\n",
    "og_string.title()"
   ]
  },
  {
   "cell_type": "markdown",
   "id": "d5b569b3",
   "metadata": {
    "slideshow": {
     "slide_type": "slide"
    }
   },
   "source": [
    "### Evaluating case\n",
    "\n",
    "Just as you can **modify** the case of these strings, you can also evaluate it:\n",
    "\n",
    "- `isupper()` \n",
    "- `islower()` \n",
    "- `istitle()`\n",
    "\n",
    "These functions all check whether a string conforms to those patterns."
   ]
  },
  {
   "cell_type": "code",
   "execution_count": null,
   "id": "dc4f237d",
   "metadata": {
    "slideshow": {
     "slide_type": "-"
    }
   },
   "outputs": [],
   "source": [
    "\"CSS\".isupper()"
   ]
  },
  {
   "cell_type": "code",
   "execution_count": null,
   "id": "0340cb07",
   "metadata": {
    "slideshow": {
     "slide_type": "-"
    }
   },
   "outputs": [],
   "source": [
    "\"CSS\".islower()"
   ]
  },
  {
   "cell_type": "code",
   "execution_count": null,
   "id": "0f3828e8",
   "metadata": {
    "slideshow": {
     "slide_type": "-"
    }
   },
   "outputs": [],
   "source": [
    "\"I Love Programming\".istitle()"
   ]
  },
  {
   "cell_type": "markdown",
   "id": "166fd63d",
   "metadata": {
    "slideshow": {
     "slide_type": "slide"
    }
   },
   "source": [
    "### Check-in\n",
    "\n",
    "If you called `istitle()` on the following string, would it evaluate to `True` or `False`?"
   ]
  },
  {
   "cell_type": "code",
   "execution_count": null,
   "id": "fcb0c83a",
   "metadata": {
    "slideshow": {
     "slide_type": "-"
    }
   },
   "outputs": [],
   "source": [
    "test_str = \"I love CSS\"\n",
    "### Your answer/code here"
   ]
  },
  {
   "cell_type": "markdown",
   "id": "dd4abfae",
   "metadata": {
    "slideshow": {
     "slide_type": "slide"
    }
   },
   "source": [
    "### Other helpful evaluation methods\n",
    "\n",
    "There are a few other helpful methods for **evaluating** properties of a string:\n",
    "\n",
    "- `isdigit`: checks if the characters are entirely digits (e.g., $0, 1, ..., 9$)  \n",
    "- `isalpha`: checks if the characters are entirely alphabetic characters (e.g., `abcd...`). \n",
    "- `isspace`: checks if the string is entirely space characters (e.g., ` `). "
   ]
  },
  {
   "cell_type": "markdown",
   "id": "255e38e8",
   "metadata": {
    "slideshow": {
     "slide_type": "slide"
    }
   },
   "source": [
    "## Replacing characters\n",
    "\n",
    "Another common operation is [**replacing** elements of a string](https://www.w3schools.com/python/ref_string_replace.asp). \n",
    "\n",
    "Examples:\n",
    "\n",
    "- In a `list` of filenames, replacing every `-` with a `_`. \n",
    "- Removing certain words or characters, e.g., replacing every instance of a word with a ` `.  \n",
    "\n",
    "This can be done with the `replace` function."
   ]
  },
  {
   "cell_type": "code",
   "execution_count": null,
   "id": "9c7fce7c",
   "metadata": {
    "slideshow": {
     "slide_type": "-"
    }
   },
   "outputs": [],
   "source": [
    "## Replace \"-\" with \"_\"\n",
    "og_filename = \"css-lecture-06\"\n",
    "og_filename.replace(\"-\", \"_\")"
   ]
  },
  {
   "cell_type": "markdown",
   "id": "38f19007",
   "metadata": {
    "slideshow": {
     "slide_type": "slide"
    }
   },
   "source": [
    "### Replacing the first $N$ instances\n",
    "\n",
    "`replace` can also be used to replace only the first $N$ instances of a string. "
   ]
  },
  {
   "cell_type": "code",
   "execution_count": null,
   "id": "4aa7bb64",
   "metadata": {
    "slideshow": {
     "slide_type": "-"
    }
   },
   "outputs": [],
   "source": [
    "## Replace only the first instance of \"bananas\"\n",
    "og_string = \"bananas, apples, bananas, grapes\"\n",
    "og_string.replace(\"bananas\", \"oranges\", 1)"
   ]
  },
  {
   "cell_type": "markdown",
   "id": "6fe80ac9",
   "metadata": {
    "slideshow": {
     "slide_type": "slide"
    }
   },
   "source": [
    "### Check-in\n",
    "\n",
    "Use the `replace` function to replace the **first 2 instances** of `-` with `_`."
   ]
  },
  {
   "cell_type": "code",
   "execution_count": null,
   "id": "0d359af7",
   "metadata": {
    "slideshow": {
     "slide_type": "-"
    }
   },
   "outputs": [],
   "source": [
    "original_filename = \"css-l06-su23-test.py\"\n",
    "### Your code here"
   ]
  },
  {
   "cell_type": "markdown",
   "id": "35d3a3b1",
   "metadata": {
    "slideshow": {
     "slide_type": "slide"
    }
   },
   "source": [
    "### `replace` is case-sensitive\n",
    "\n",
    "Note that `replace` attempts an **exact match** of the `str` you're looking to replace.\n",
    "\n",
    "- This includes exact **case match**. \n",
    "- `\"apple\" != \"APPLE\"`. "
   ]
  },
  {
   "cell_type": "code",
   "execution_count": null,
   "id": "e5bac30a",
   "metadata": {
    "slideshow": {
     "slide_type": "-"
    }
   },
   "outputs": [],
   "source": [
    "case_mismatch = \"I like Apples\"\n",
    "### replace won't do anything here\n",
    "case_mismatch.replace(\"apples\", \"bananas\")"
   ]
  },
  {
   "cell_type": "code",
   "execution_count": null,
   "id": "7126ce80",
   "metadata": {
    "slideshow": {
     "slide_type": "-"
    }
   },
   "outputs": [],
   "source": [
    "case_mismatch = \"I like Apples\"\n",
    "### replace will replace it here\n",
    "case_mismatch.replace(\"Apples\", \"bananas\")"
   ]
  },
  {
   "cell_type": "markdown",
   "id": "c8904eda",
   "metadata": {
    "slideshow": {
     "slide_type": "slide"
    }
   },
   "source": [
    "## Concatenating strings\n",
    "\n",
    "> String **concatenation** simply means *combining* multiple strings.\n",
    "\n",
    "Often, you'll need to *combine* the characters in multiple strings.\n",
    "\n",
    "- Combining the **directory path** and a **filename** to get the full path of a file.\n",
    "- Combining parts of strings to get a valid **URL**.  \n",
    "- Combining the first and last name of a client to `print` out the **full name**."
   ]
  },
  {
   "cell_type": "markdown",
   "id": "49b5278f",
   "metadata": {
    "slideshow": {
     "slide_type": "slide"
    }
   },
   "source": [
    "### Approach 1: the `+` operator\n",
    "\n",
    "The `+` operator can be used to **combine** multiple `str` objects."
   ]
  },
  {
   "cell_type": "code",
   "execution_count": null,
   "id": "9abfd6e9",
   "metadata": {
    "slideshow": {
     "slide_type": "-"
    }
   },
   "outputs": [],
   "source": [
    "\"Comput\" + \"ational\""
   ]
  },
  {
   "cell_type": "code",
   "execution_count": null,
   "id": "e5bd0c2d",
   "metadata": {
    "slideshow": {
     "slide_type": "-"
    }
   },
   "outputs": [],
   "source": [
    "\"css201/\" + \"lec06/\" + \"file.py\""
   ]
  },
  {
   "cell_type": "markdown",
   "id": "08a5fc81",
   "metadata": {
    "slideshow": {
     "slide_type": "slide"
    }
   },
   "source": [
    "#### Check-in\n",
    "\n",
    "What do you notice about how these strings are combined? Is a space added between each constituent `str` or no?"
   ]
  },
  {
   "cell_type": "markdown",
   "id": "707610e3",
   "metadata": {
    "slideshow": {
     "slide_type": "slide"
    }
   },
   "source": [
    "#### Watch out for spaces (and lack thereof)!\n",
    "\n",
    "By default, `+` will just combine two different string objects directly.\n",
    "\n",
    "That is, `\"Hello\" + \"World\"` will become `\"HelloWorld\"`.\n",
    "\n",
    "If you want to add a space *between* these objects, make sure to add a space character in your concatenation operation."
   ]
  },
  {
   "cell_type": "code",
   "execution_count": null,
   "id": "eaab2f7e",
   "metadata": {
    "slideshow": {
     "slide_type": "-"
    }
   },
   "outputs": [],
   "source": [
    "p1 = \"Hello\"\n",
    "p2 = \"World\"\n",
    "p1 + \" \" + p2"
   ]
  },
  {
   "cell_type": "markdown",
   "id": "14ad8596",
   "metadata": {
    "slideshow": {
     "slide_type": "slide"
    }
   },
   "source": [
    "#### Check-in\n",
    "\n",
    "Why does the code below throw an error? \n",
    "\n",
    "**Bonus**: What would you need to do to make it *not* throw an error?"
   ]
  },
  {
   "cell_type": "code",
   "execution_count": null,
   "id": "af4c0f60",
   "metadata": {
    "slideshow": {
     "slide_type": "-"
    }
   },
   "outputs": [],
   "source": [
    "2 + \" cats\""
   ]
  },
  {
   "cell_type": "markdown",
   "id": "fe273ad9",
   "metadata": {
    "slideshow": {
     "slide_type": "slide"
    }
   },
   "source": [
    "#### Concatenating an `int` to a `str`\n",
    "\n",
    "The `+` operator assumes you are concatenating multiple `str` objects. Thus, trying to combine an `int` with a `str` this way will throw an error.\n",
    "\n",
    "However, you can use **type-casting** to turn the `int` into a `str`, and then combine them."
   ]
  },
  {
   "cell_type": "code",
   "execution_count": null,
   "id": "a39dc2fb",
   "metadata": {
    "slideshow": {
     "slide_type": "-"
    }
   },
   "outputs": [],
   "source": [
    "str(2) + \" cats\""
   ]
  },
  {
   "cell_type": "markdown",
   "id": "013a86f2",
   "metadata": {
    "slideshow": {
     "slide_type": "slide"
    }
   },
   "source": [
    "#### Check-in\n",
    "\n",
    "Use the `+` operator to combine the variables below into a single string (in order, i.e., `var1` followed by `var2`, etc.). \n",
    "- Add a space between each variable. \n",
    "- Watch out for conflicting types!"
   ]
  },
  {
   "cell_type": "code",
   "execution_count": null,
   "id": "cc78dc43",
   "metadata": {
    "slideshow": {
     "slide_type": "-"
    }
   },
   "outputs": [],
   "source": [
    "var1 = \"This\"\n",
    "var2 = \"Is\"\n",
    "var3 = \"CSS\"\n",
    "var4 = 202\n",
    "#### Your code here"
   ]
  },
  {
   "cell_type": "markdown",
   "id": "dd3d79df",
   "metadata": {
    "slideshow": {
     "slide_type": "slide"
    }
   },
   "source": [
    "### Approach 2: using `format`\n",
    "\n",
    "The `format` method can also be used to merge multiple strings together.\n",
    "\n",
    "- This approach is less intuitive at first, but is very flexible.  \n",
    "- I use this approach when I'm `print`ing out lots of custom variable values, e.g., as in an output message.\n",
    "\n",
    "With `format`, you can declare \"variables\" within a `str` using the `{x}` syntax. "
   ]
  },
  {
   "cell_type": "code",
   "execution_count": null,
   "id": "cc9bebbe",
   "metadata": {
    "slideshow": {
     "slide_type": "-"
    }
   },
   "outputs": [],
   "source": [
    "first = \"Smarty\"\n",
    "last = \"Student\"\n",
    "print(\"Hello, {f} {l}\".format(f = first, l = last))"
   ]
  },
  {
   "cell_type": "markdown",
   "id": "90f62e98",
   "metadata": {
    "slideshow": {
     "slide_type": "slide"
    }
   },
   "source": [
    "#### Check-in\n",
    "\n",
    "Use `format` to `print` out a message that reads: \n",
    "\n",
    "`\"Welcome to CSS 201\"`."
   ]
  },
  {
   "cell_type": "code",
   "execution_count": null,
   "id": "c7910fba",
   "metadata": {
    "slideshow": {
     "slide_type": "-"
    }
   },
   "outputs": [],
   "source": [
    "department = \"CSS\"\n",
    "number = \"201\"\n",
    "#### Your code here"
   ]
  },
  {
   "cell_type": "markdown",
   "id": "0cf1698d",
   "metadata": {
    "slideshow": {
     "slide_type": "slide"
    }
   },
   "source": [
    "### Approach 3: using `join`\n",
    "\n",
    "Another somewhat common use-case is **joining** strings that are currently stored as elements of a list.\n",
    "\n",
    "The `join` syntax starts with the *character* (or character*s*) you'll be using to **join** each `str` together.\n",
    "\n",
    "- This could be a space character, an underscore, or anything you want.  \n",
    "- It then makes a call to `.join(list_name)`. "
   ]
  },
  {
   "cell_type": "code",
   "execution_count": null,
   "id": "3bdbf87e",
   "metadata": {
    "slideshow": {
     "slide_type": "-"
    }
   },
   "outputs": [],
   "source": [
    "separate_str = ['The', 'quick', 'brown', 'fox', 'jumped']\n",
    "separate_str"
   ]
  },
  {
   "cell_type": "code",
   "execution_count": null,
   "id": "48a77b65",
   "metadata": {
    "slideshow": {
     "slide_type": "-"
    }
   },
   "outputs": [],
   "source": [
    "\" \".join(separate_str)"
   ]
  },
  {
   "cell_type": "markdown",
   "id": "6ef5fc30",
   "metadata": {
    "slideshow": {
     "slide_type": "slide"
    }
   },
   "source": [
    "#### Check-in\n",
    "\n",
    "Use `join` to turn the following list of directory and sub-directory names into a full file path, connected by the `\"\\\"` symbol. "
   ]
  },
  {
   "cell_type": "code",
   "execution_count": null,
   "id": "b7ff2d97",
   "metadata": {
    "slideshow": {
     "slide_type": "-"
    }
   },
   "outputs": [],
   "source": [
    "dirs = [\"css\", \"201\", \"lectures\", \"lec06\"]\n",
    "#### Your code here"
   ]
  },
  {
   "cell_type": "markdown",
   "id": "03facc1c",
   "metadata": {
    "slideshow": {
     "slide_type": "slide"
    }
   },
   "source": [
    "### Other approaches\n",
    "\n",
    "There are a number of [other approaches](https://www.pythontutorial.net/python-string-methods/python-string-concatenation/) to concatenating strings. \n",
    "\n",
    "Personally, I primarily use:\n",
    "\n",
    "- The `format` operator when I'm `print`ing out complicated strings. \n",
    "- The `+` operator for everything else.  "
   ]
  },
  {
   "cell_type": "markdown",
   "id": "18716a4d",
   "metadata": {
    "slideshow": {
     "slide_type": "slide"
    }
   },
   "source": [
    "## `split`ting a string\n",
    "\n",
    "Just as you can `join` parts of a `list` into a `str`, you can also `split` a `str` into a `list`!\n",
    "\n",
    "Common use cases:\n",
    "\n",
    "- Extracting directories and sub-directories of a file path.  \n",
    "- **Tokenizing** a sentence, i.e., retrieving all the distinct *words* (e.g., in English, written words are typically separated by spaces).  \n",
    "- Extracting different **hash-tags** from a tweet (e.g., `\"#CSS#Programming\"`). "
   ]
  },
  {
   "cell_type": "code",
   "execution_count": null,
   "id": "ef1bff5f",
   "metadata": {
    "slideshow": {
     "slide_type": "-"
    }
   },
   "outputs": [],
   "source": [
    "example_sentence = \"The quick brown fox jumped over the lazy dog\"\n",
    "example_sentence.split(\" \")"
   ]
  },
  {
   "cell_type": "markdown",
   "id": "a688a910",
   "metadata": {
    "slideshow": {
     "slide_type": "slide"
    }
   },
   "source": [
    "#### Check-in\n",
    "\n",
    "How many **words** (i.e., character-sequences separated by spaces) are in the sentence below?\n",
    "\n",
    "Hint: use a combination of `split` and `len` to solve this question."
   ]
  },
  {
   "cell_type": "code",
   "execution_count": null,
   "id": "96a6617d",
   "metadata": {
    "slideshow": {
     "slide_type": "-"
    }
   },
   "outputs": [],
   "source": [
    "test_sentence = \"This sentence has a number of different words and your goal is to count them\"\n",
    "### Your code here"
   ]
  },
  {
   "cell_type": "markdown",
   "id": "b209d4b9",
   "metadata": {
    "slideshow": {
     "slide_type": "slide"
    }
   },
   "source": [
    "## Combining lists\n",
    "\n",
    "Two or more lists can be combined using the `+` operator."
   ]
  },
  {
   "cell_type": "code",
   "execution_count": null,
   "id": "8e98a9b3",
   "metadata": {
    "slideshow": {
     "slide_type": "-"
    }
   },
   "outputs": [],
   "source": [
    "list1 = [1, 2, 3]\n",
    "list2 = ['4', 5, '6']\n",
    "list1 + list2"
   ]
  },
  {
   "cell_type": "markdown",
   "id": "a72cd697",
   "metadata": {
    "slideshow": {
     "slide_type": "slide"
    }
   },
   "source": [
    "These lists do *not* have to have the same `type` or number of objects."
   ]
  },
  {
   "cell_type": "code",
   "execution_count": null,
   "id": "a651e9e2",
   "metadata": {
    "slideshow": {
     "slide_type": "-"
    }
   },
   "outputs": [],
   "source": [
    "list3 = [\"a\", \"b\"]\n",
    "list1 + list3"
   ]
  },
  {
   "cell_type": "markdown",
   "id": "89633e47",
   "metadata": {
    "slideshow": {
     "slide_type": "slide"
    }
   },
   "source": [
    "### Check-in\n",
    "\n",
    "Use the `+` operator to combine the lists below, then use `join` to join the words into a complete sentence (with each word separated by a `\" \"`)."
   ]
  },
  {
   "cell_type": "code",
   "execution_count": null,
   "id": "c39d6665",
   "metadata": {
    "slideshow": {
     "slide_type": "-"
    }
   },
   "outputs": [],
   "source": [
    "l1 = ['CSS', '201']\n",
    "l2 = ['is', 'fun']\n",
    "### Your code here"
   ]
  },
  {
   "cell_type": "markdown",
   "id": "c37a42e2",
   "metadata": {
    "slideshow": {
     "slide_type": "slide"
    }
   },
   "source": [
    "## Adding items to a `list`\n",
    "\n",
    "In addition to using the `+` operator, you can add individual *items* to a list using the `append` function.\n",
    "\n",
    "- Note that this modifies the list \"in place\", i.e., it doesn't *return* a value, but rather it mutates the existing `list` object."
   ]
  },
  {
   "cell_type": "code",
   "execution_count": null,
   "id": "900e300c",
   "metadata": {
    "slideshow": {
     "slide_type": "-"
    }
   },
   "outputs": [],
   "source": [
    "fruits = ['apple', 'banana']\n",
    "fruits.append('orange')\n",
    "print(fruits)"
   ]
  },
  {
   "cell_type": "markdown",
   "id": "28696f40",
   "metadata": {
    "slideshow": {
     "slide_type": "slide"
    }
   },
   "source": [
    "### Filling up an empty `list`\n",
    "\n",
    "The `append` function is often used to **fill up** a `list` with items, such as during a `for` loop.\n",
    "\n",
    "For example, you might:\n",
    "\n",
    "- Initialize an *empty* list.  \n",
    "- Loop through numbers between `1` and `100`.\n",
    "- Add those numbers to the empty list if they're odd."
   ]
  },
  {
   "cell_type": "code",
   "execution_count": null,
   "id": "2f495a1b",
   "metadata": {
    "slideshow": {
     "slide_type": "-"
    }
   },
   "outputs": [],
   "source": [
    "new_list = [] ### Initialize empty list\n",
    "for num in range(1, 101): ### Loop through range\n",
    "    if num % 2 == 1: ### If number is odd...\n",
    "        new_list.append(num) ### Append it to list\n",
    "new_list[0:3] ### Get the first three elements of new list"
   ]
  },
  {
   "cell_type": "markdown",
   "id": "08f30155",
   "metadata": {
    "slideshow": {
     "slide_type": "slide"
    }
   },
   "source": [
    "### Check-in\n",
    "\n",
    "Add the number `4` to the list below using `append`."
   ]
  },
  {
   "cell_type": "code",
   "execution_count": null,
   "id": "ddc36572",
   "metadata": {
    "slideshow": {
     "slide_type": "-"
    }
   },
   "outputs": [],
   "source": [
    "sample_list = [1, 2, 3]\n",
    "### Your code here"
   ]
  },
  {
   "cell_type": "markdown",
   "id": "db202507",
   "metadata": {
    "slideshow": {
     "slide_type": "slide"
    }
   },
   "source": [
    "### Check-in\n",
    "\n",
    "The code cell below contains two lists: one contains a list of foods, the other contains a list of words with the letter \"a\". \n",
    "\n",
    "Using `append` and a `for` loop, add the items from `foods` to `a_words` if:\n",
    "\n",
    "- they contain the letter \"a\".\n",
    "- they don't already appear in `a_words`. "
   ]
  },
  {
   "cell_type": "code",
   "execution_count": null,
   "id": "3c244b1c",
   "metadata": {
    "slideshow": {
     "slide_type": "-"
    }
   },
   "outputs": [],
   "source": [
    "foods = ['apple', 'banana', 'orange', 'kiwi', 'strawberry', 'mango', 'pineapple', 'berry']\n",
    "a_words = ['board', 'table', 'apple', 'human']\n",
    "### Your code here\n",
    "for f in foods:\n",
    "    if 'a' in f and f not in a_words:\n",
    "        a_words.append(f)\n",
    "\n",
    "print(a_words)"
   ]
  },
  {
   "cell_type": "markdown",
   "id": "2677cbd7",
   "metadata": {
    "slideshow": {
     "slide_type": "slide"
    }
   },
   "source": [
    "### Using `insert`\n",
    "\n",
    "- The `append` function always adds items to the **end** of a list.  \n",
    "- Instead, you can use `insert` to insert items at a specific location, such as the start.\n",
    "- Syntax: `list_name.insert(position, item)`"
   ]
  },
  {
   "cell_type": "code",
   "execution_count": null,
   "id": "9318e193",
   "metadata": {},
   "outputs": [],
   "source": [
    "sample_list = [2, 3, 4]\n",
    "sample_list.insert(0, 1) ### insert a 1 at the zero-th position\n",
    "print(sample_list)"
   ]
  },
  {
   "cell_type": "markdown",
   "id": "387eddea",
   "metadata": {
    "slideshow": {
     "slide_type": "slide"
    }
   },
   "source": [
    "## Removing items from a `list`\n",
    "\n",
    "There are two primary ways to **remove** an item from a list.\n",
    "\n",
    "- `pop`: this removes the item at a given index (by default, this is the *last* item), and also **returns** that item. \n",
    "- `remove`: this removes the first occurrence of a particular *value* from a `list`.\n",
    "\n",
    "So, roughly:\n",
    "\n",
    "- `pop` removes by *position*.  \n",
    "- `remove` removes by *value*.  "
   ]
  },
  {
   "cell_type": "markdown",
   "id": "5c75920f",
   "metadata": {
    "slideshow": {
     "slide_type": "slide"
    }
   },
   "source": [
    "### `pop`ping in action\n",
    "\n",
    "The syntax for `pop` is straightforward: `list_name.pop()`"
   ]
  },
  {
   "cell_type": "code",
   "execution_count": null,
   "id": "5ca26e7f",
   "metadata": {
    "slideshow": {
     "slide_type": "-"
    }
   },
   "outputs": [],
   "source": [
    "sample_list = [1, 2, 5, 7]\n",
    "sample_list.pop() ### by default, returns final element"
   ]
  },
  {
   "cell_type": "markdown",
   "id": "27e8b4cb",
   "metadata": {
    "slideshow": {
     "slide_type": "-"
    }
   },
   "source": [
    "Now, if we look back at `sample_list`, we see that the final element has indeed been removed."
   ]
  },
  {
   "cell_type": "code",
   "execution_count": null,
   "id": "c7b0a700",
   "metadata": {
    "slideshow": {
     "slide_type": "-"
    }
   },
   "outputs": [],
   "source": [
    "sample_list"
   ]
  },
  {
   "cell_type": "markdown",
   "id": "3fe109a5",
   "metadata": {
    "slideshow": {
     "slide_type": "slide"
    }
   },
   "source": [
    "### Check-in\n",
    "\n",
    "What do you think would happen if we `pop` from an empty list?"
   ]
  },
  {
   "cell_type": "code",
   "execution_count": null,
   "id": "3315b80e",
   "metadata": {
    "slideshow": {
     "slide_type": "-"
    }
   },
   "outputs": [],
   "source": [
    "empty_list = []\n",
    "### what would happen if we call empty_list.pop()"
   ]
  },
  {
   "cell_type": "markdown",
   "id": "23dd2c54",
   "metadata": {
    "slideshow": {
     "slide_type": "slide"
    }
   },
   "source": [
    "### `remov`ing in action\n",
    "\n",
    "The syntax for `remove` is also straightforward: `list_name.remove(value)`\n",
    "\n",
    "- Where `value` is the value that you want to remove.  \n",
    "- Note that unlike `pop`, `remove` does *not* return a particular value, but it does modify the list in place."
   ]
  },
  {
   "cell_type": "code",
   "execution_count": null,
   "id": "b9d092f2",
   "metadata": {
    "slideshow": {
     "slide_type": "-"
    }
   },
   "outputs": [],
   "source": [
    "sample_list = [1, 2, 5, 7]\n",
    "sample_list.remove(5)\n",
    "print(sample_list)"
   ]
  },
  {
   "cell_type": "markdown",
   "id": "f4213e06",
   "metadata": {
    "slideshow": {
     "slide_type": "slide"
    }
   },
   "source": [
    "### Check-in\n",
    "\n",
    "What would happen to `test_list` if we call `test_list.remove(\"apple\")`?\n",
    "\n",
    "1. `['bread', 'apple', 'cheese', 'apple']`\n",
    "2. `['bread', 'cheese', 'apple']`\n",
    "3. `['bread', 'cheese']`"
   ]
  },
  {
   "cell_type": "code",
   "execution_count": null,
   "id": "eb32778a",
   "metadata": {
    "slideshow": {
     "slide_type": "-"
    }
   },
   "outputs": [],
   "source": [
    "test_list = ['bread', 'apple', 'cheese', 'apple']\n",
    "### Your code here"
   ]
  },
  {
   "cell_type": "markdown",
   "id": "41f90f11",
   "metadata": {
    "slideshow": {
     "slide_type": "slide"
    }
   },
   "source": [
    "## Finding the index of a particular value\n",
    "\n",
    "The `index` function allows you to return the index corresponding to the *first occurrence* of a particular value.\n",
    "\n",
    "**Basic syntax**: `list_name.index(value)`\n",
    "\n",
    "- Note that you can also (optionally) parameterize the `start` and `end` of this search: \n",
    "   - `list_name.index(value, start, end)`"
   ]
  },
  {
   "cell_type": "code",
   "execution_count": null,
   "id": "423fd1c0",
   "metadata": {
    "slideshow": {
     "slide_type": "-"
    }
   },
   "outputs": [],
   "source": [
    "test_list = ['bread', 'apple', 'cheese', 'apple', 'house', 'car', 'yard', 'apple']\n",
    "test_list.index(\"bread\")"
   ]
  },
  {
   "cell_type": "code",
   "execution_count": null,
   "id": "2b64aad1",
   "metadata": {
    "slideshow": {
     "slide_type": "-"
    }
   },
   "outputs": [],
   "source": [
    "### Returns *first* occurrence of \"apple\"\n",
    "test_list.index(\"apple\")"
   ]
  },
  {
   "cell_type": "code",
   "execution_count": null,
   "id": "4210a990",
   "metadata": {
    "slideshow": {
     "slide_type": "-"
    }
   },
   "outputs": [],
   "source": [
    "### Returns first occurrence of \"apple\", *after* index = 2\n",
    "test_list.index(\"apple\", 4, 8)"
   ]
  },
  {
   "cell_type": "markdown",
   "id": "9fdbb2e1",
   "metadata": {
    "slideshow": {
     "slide_type": "slide"
    }
   },
   "source": [
    "### Check-in\n",
    "\n",
    "Use the `index` function to retrieve the index of the first occurrence of the number `10` in the list below."
   ]
  },
  {
   "cell_type": "code",
   "execution_count": null,
   "id": "cb9828d8",
   "metadata": {
    "slideshow": {
     "slide_type": "-"
    }
   },
   "outputs": [],
   "source": [
    "number_list = [1, 10, 15, 20, 10, 55]\n",
    "### Your code here"
   ]
  },
  {
   "cell_type": "markdown",
   "id": "1c43db1c",
   "metadata": {
    "slideshow": {
     "slide_type": "slide"
    }
   },
   "source": [
    "### Check-in\n",
    "\n",
    "Use the `index` function to retrieve the index of the first occurrence of the number `10` between the indices `2` and `5` in the list below."
   ]
  },
  {
   "cell_type": "code",
   "execution_count": null,
   "id": "12d713ba",
   "metadata": {
    "slideshow": {
     "slide_type": "-"
    }
   },
   "outputs": [],
   "source": [
    "number_list = [1, 10, 15, 20, 10, 55, 10]\n",
    "### Your code here"
   ]
  },
  {
   "cell_type": "markdown",
   "id": "1826f121",
   "metadata": {
    "slideshow": {
     "slide_type": "slide"
    }
   },
   "source": [
    "## `sort`ing a list\n",
    "\n",
    "> **Sorting** a `list` means rearranging its elements according to some measure of \"least\" and \"greatest\".\n",
    "\n",
    "There are many different [**algorithms** for sorting a list](https://en.wikipedia.org/wiki/Sorting_algorithm), which we won't cover in detail here.\n",
    "\n",
    "However, in Python, there are two main *functions*:\n",
    "\n",
    "- `sorted(list)`: returns a sorted version of a `list`.  \n",
    "- `list.sort()`: sorts a particular `list` **in place**. "
   ]
  },
  {
   "cell_type": "code",
   "execution_count": null,
   "id": "f9e2b113",
   "metadata": {
    "slideshow": {
     "slide_type": "-"
    }
   },
   "outputs": [],
   "source": [
    "number_list = [2, 1, 9, 5, 3, 4]\n",
    "sorted_list = sorted(number_list)\n",
    "sorted_list"
   ]
  },
  {
   "cell_type": "code",
   "execution_count": null,
   "id": "5836ba6d",
   "metadata": {
    "slideshow": {
     "slide_type": "-"
    }
   },
   "outputs": [],
   "source": [
    "number_list = [2, 1, 9, 5, 3, 4]\n",
    "number_list.sort()\n",
    "number_list"
   ]
  },
  {
   "cell_type": "markdown",
   "id": "94497e1e",
   "metadata": {
    "slideshow": {
     "slide_type": "slide"
    }
   },
   "source": [
    "### Ascending vs. descending?\n",
    "\n",
    "- By default, `sorted` will sort a list in **ascending** order.\n",
    "- The `reverse` key allows you to instead sort that list in **descending** order (i.e., largest elements first).\n",
    "\n"
   ]
  },
  {
   "cell_type": "code",
   "execution_count": null,
   "id": "90225d04",
   "metadata": {
    "slideshow": {
     "slide_type": "-"
    }
   },
   "outputs": [],
   "source": [
    "number_list = [2, 1, 9, 5, 3, 4]\n",
    "sorted_list = sorted(number_list, reverse = True)\n",
    "sorted_list"
   ]
  },
  {
   "cell_type": "markdown",
   "id": "74e5b90e",
   "metadata": {
    "slideshow": {
     "slide_type": "slide"
    }
   },
   "source": [
    "### Check-in\n",
    "\n",
    "The list `names` below is unsorted. Use the `sorted` function to return a new list with the names sorted, in **descending** order."
   ]
  },
  {
   "cell_type": "code",
   "execution_count": null,
   "id": "5286d36a",
   "metadata": {
    "slideshow": {
     "slide_type": "-"
    }
   },
   "outputs": [],
   "source": [
    "names = ['Umberto', 'Will', 'Sean', 'Eileen', 'Sam']\n",
    "names.sort()\n",
    "names"
   ]
  },
  {
   "cell_type": "markdown",
   "id": "7ebd15eb",
   "metadata": {
    "slideshow": {
     "slide_type": "slide"
    }
   },
   "source": [
    "## Nested lists\n",
    "\n",
    "A `list` can contain many different `type`s of objects: `str`, `int`, and even other `list`s!\n",
    "\n",
    "- Each **nested list** can contain further nested lists, or other types of objects.  \n",
    "- Nested lists do not have to be the same length."
   ]
  },
  {
   "cell_type": "code",
   "execution_count": null,
   "id": "8bb197ab",
   "metadata": {
    "slideshow": {
     "slide_type": "-"
    }
   },
   "outputs": [],
   "source": [
    "nested_list = [[1, 2, 3],\n",
    "              ['css', 'poli', 'econ'],\n",
    "              ['tea', 'coffee'],\n",
    "              'text',\n",
    "              [1, 2, 3, 4]]\n",
    "nested_list[4]"
   ]
  },
  {
   "cell_type": "markdown",
   "id": "d767b88e",
   "metadata": {
    "slideshow": {
     "slide_type": "slide"
    }
   },
   "source": [
    "### Check-in\n",
    "\n",
    "What would `len(nested_list)` return?"
   ]
  },
  {
   "cell_type": "code",
   "execution_count": null,
   "id": "cd38634e",
   "metadata": {
    "slideshow": {
     "slide_type": "-"
    }
   },
   "outputs": [],
   "source": [
    "nested_list = [[1, 2, 3],\n",
    "              ['css', 'poli', 'econ'],\n",
    "              ['tea', 'coffee']]\n",
    "## Your answer here"
   ]
  },
  {
   "cell_type": "markdown",
   "id": "c933b966",
   "metadata": {
    "slideshow": {
     "slide_type": "slide"
    }
   },
   "source": [
    "### Check-in\n",
    "\n",
    "Write a `for` loop that iterates through each item in `nested_list`, and prints its length."
   ]
  },
  {
   "cell_type": "code",
   "execution_count": null,
   "id": "8ec8067a",
   "metadata": {
    "slideshow": {
     "slide_type": "-"
    }
   },
   "outputs": [],
   "source": [
    "nested_list = [[1, 2, 3],\n",
    "              ['css', 'poli', 'econ'],\n",
    "              ['tea', 'coffee']]\n",
    "### Your code here\n",
    "for elem in nested_list:\n",
    "    print(len(elem))"
   ]
  },
  {
   "cell_type": "markdown",
   "id": "1016eb7e",
   "metadata": {
    "slideshow": {
     "slide_type": "slide"
    }
   },
   "source": [
    "### Check-in\n",
    "\n",
    "Write a `for` loop that iterates through each item in `nested_list`, and prints its length."
   ]
  },
  {
   "cell_type": "markdown",
   "id": "c3cf2cbd",
   "metadata": {
    "slideshow": {
     "slide_type": "slide"
    }
   },
   "source": [
    "## Lists vs. tuples\n",
    "\n",
    "So far, we've focused on **lists**.\n",
    "\n",
    "A **tuple** is another type of ordered sequence. They share several similarities with lists:\n",
    "\n",
    "- You can index into both a **tuple** and a **list**.  \n",
    "- You can loop through both a **tuple** and a **list**. \n",
    "\n",
    "However, there are also a couple key differences:\n",
    "\n",
    "- Tuples are declared using `()`, not `[]`.  \n",
    "- Unlike `list`s, a `tuple` is not mutable (i.e., it can't be changed in place)."
   ]
  },
  {
   "cell_type": "code",
   "execution_count": null,
   "id": "3bacc31f",
   "metadata": {},
   "outputs": [],
   "source": [
    "example_tuple = (1, 2, 3)\n",
    "example_tuple"
   ]
  },
  {
   "cell_type": "markdown",
   "id": "a32f227e",
   "metadata": {
    "slideshow": {
     "slide_type": "slide"
    }
   },
   "source": [
    "### Tuples (continued)\n",
    "\n",
    "- We won't focus *too much* on tuples for now.  \n",
    "- However, I wanted to highlight some of those similarities and differences. \n",
    "- It's likely that at some point in your journey with Python, you'll end up using or encountering tuples."
   ]
  },
  {
   "cell_type": "code",
   "execution_count": null,
   "id": "ecd801bd",
   "metadata": {},
   "outputs": [],
   "source": [
    "for i in example_tuple:\n",
    "    print(i)"
   ]
  },
  {
   "cell_type": "markdown",
   "id": "1014d71d",
   "metadata": {
    "slideshow": {
     "slide_type": "slide"
    }
   },
   "source": [
    "## Conclusion\n",
    "\n",
    "In this lecture we learned:\n",
    "\n",
    "1. `strings`\n",
    "1. `lists` \n",
    "1. And how to operate with these objects\n",
    "\n",
    "Next lecture:\n",
    "\n",
    "1. `dictionaries`\n",
    "1. `functions`"
   ]
  }
 ],
 "metadata": {
  "celltoolbar": "Slideshow",
  "kernelspec": {
   "display_name": "Python 3 (ipykernel)",
   "language": "python",
   "name": "python3"
  },
  "language_info": {
   "codemirror_mode": {
    "name": "ipython",
    "version": 3
   },
   "file_extension": ".py",
   "mimetype": "text/x-python",
   "name": "python",
   "nbconvert_exporter": "python",
   "pygments_lexer": "ipython3",
   "version": "3.10.9"
  }
 },
 "nbformat": 4,
 "nbformat_minor": 5
}
