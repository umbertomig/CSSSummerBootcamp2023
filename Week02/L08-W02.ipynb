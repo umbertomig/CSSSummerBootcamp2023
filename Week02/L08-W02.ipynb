{
 "cells": [
  {
   "cell_type": "markdown",
   "id": "ff8da194",
   "metadata": {
    "slideshow": {
     "slide_type": "slide"
    }
   },
   "source": [
    "# CSS 201.5 - CSS Bootcamp\n",
    "\n",
    "## Python Programming"
   ]
  },
  {
   "cell_type": "markdown",
   "id": "4f01d73f",
   "metadata": {
    "slideshow": {
     "slide_type": "slide"
    }
   },
   "source": [
    "# Python Programming\n",
    "\n",
    "## Working with Text Files"
   ]
  },
  {
   "cell_type": "markdown",
   "id": "e439b837",
   "metadata": {
    "slideshow": {
     "slide_type": "slide"
    }
   },
   "source": [
    "## Why read and write files?\n",
    "\n",
    "Fundamentally, a **file** is just a way to store **data**.\n",
    "\n",
    "This data could take many forms:\n",
    "\n",
    "- Unstructured text.  \n",
    "- [JSON](https://www.json.org/json-en.html), i.e., a kind of `dict`.  \n",
    "- `.csv`, i.e., like an Excel file.  \n",
    "- An executable file, like a Python script (`.py`). \n",
    "\n",
    "**Computational Social Science** centers around working with data. Thus, it's important to understand how to read and write these files."
   ]
  },
  {
   "cell_type": "markdown",
   "id": "38d369a9",
   "metadata": {
    "slideshow": {
     "slide_type": "slide"
    }
   },
   "source": [
    "### Some common use cases\n",
    "\n",
    "In CSS research, reading and writing files is pretty much *unavoidable*. It happens almost anytime you want to work with data.\n",
    "\n",
    "Examples:\n",
    "\n",
    "- Reading in a [text corpus](https://en.wikipedia.org/wiki/Text_corpus) of Tweets on a particular topic to perform **sentiment analysis**. \n",
    "- Reading in a corpus of [song lyrics](https://pudding.cool/2017/02/vocabulary/) to perform analyses about vocabulary, rhythm, and more.\n",
    "- Reading in [tabular data](https://www.statology.org/tabular-data/#:~:text=In%20statistics%2C%20tabular%20data%20refers,represent%20attributes%20for%20those%20observations.) about Economics to correlate `Economic Connectedness` with `Social Mobility`.  "
   ]
  },
  {
   "cell_type": "markdown",
   "id": "f0a2657a",
   "metadata": {
    "slideshow": {
     "slide_type": "slide"
    }
   },
   "source": [
    "## So what is a file?\n",
    "\n",
    "> A **file** is a set of *bytes* used to store some kind of data.\n",
    "\n",
    "The **format** of this data depends on what you're using it for, but at some level, it is translated into *binary bits* (`1`s and `0`s). \n",
    "\n",
    "The file format is usually specified in the **file extension**.  \n",
    "\n",
    "- `.csv`: comma separated values.  \n",
    "- `.txt`: a plain text file.  \n",
    "- `.py`: an executable Python file.  \n",
    "- `.png`: a portable network graphic file (i.e., an image)."
   ]
  },
  {
   "cell_type": "markdown",
   "id": "d9796bdc",
   "metadata": {
    "slideshow": {
     "slide_type": "slide"
    }
   },
   "source": [
    "### Where are files?\n",
    "\n",
    "Files are **stored** somewhere on your computer (or in a server, etc.), typically in a folder (also called a **directory**). Thus, each file has its own **location**\n",
    "\n",
    "- We call this **location** of a file its **path**.  \n",
    "- File paths can be either **absolute** or **relative**."
   ]
  },
  {
   "cell_type": "markdown",
   "id": "0c6f6b94",
   "metadata": {
    "slideshow": {
     "slide_type": "slide"
    }
   },
   "source": [
    "### Absolute file paths\n",
    "\n",
    "An **absolute** file path specifies the location of a file relative to some **root** directory.\n",
    "\n",
    "- On my computer, the root might be: `/Users/myusername/...`\n",
    "- If a file is called `my_file.txt`, the absolute file path would include *every directory* leading up to that file, starting from the root.\n",
    "- On Mac/Linux, each directory/folder is separated by the the `/` notation.\n",
    "- On Windows, they are separated by the `\\` notation.\n",
    "\n",
    "Example: `Users/myusername/CSS/css201/my_file.txt`"
   ]
  },
  {
   "cell_type": "markdown",
   "id": "98f0c92b",
   "metadata": {
    "slideshow": {
     "slide_type": "slide"
    }
   },
   "source": [
    "### Relative file paths\n",
    "\n",
    "A **relative** file path specifies the location of a file relative to the **current** directory (i.e., the one you're in right now). \n",
    "\n",
    "- For example, say our current directory is `css201`. \n",
    "- If a file is called `my_file.txt`, the relative file path would tell the computer how to get to `my_file.txt` from `css`.\n",
    "- On Mac/Linux, each directory/folder is separated by the the `/` notation.\n",
    "- On Windows, they are separated by the `\\` notation.\n",
    "\n",
    "Example: `css201/my_file.txt`"
   ]
  },
  {
   "cell_type": "markdown",
   "id": "6200ceb1",
   "metadata": {
    "slideshow": {
     "slide_type": "slide"
    }
   },
   "source": [
    "#### The `..` syntax\n",
    "\n",
    "If your target file (e.g., `my_file.txt`) is not stored within your current directory, you'll need to use the `..` syntax.\n",
    "\n",
    "- This tells your computer to \"go up a level\".\n",
    "\n",
    "For example, if we're currently in `css201/lectures/week2`, but we want to get to `css201/my_file.txt`, we'll need to use this notation:\n",
    "\n",
    "`../../my_file.txt`.\n"
   ]
  },
  {
   "cell_type": "markdown",
   "id": "8aaf17fd",
   "metadata": {
    "slideshow": {
     "slide_type": "slide"
    }
   },
   "source": [
    "### Check-in\n",
    "\n",
    "Suppose we want to access a file called `notes.txt`. This is the absolute path leading to that file:\n",
    "\n",
    "`/Users/myusername/css/lectures`\n",
    "\n",
    "How would we write the full **absolute path**, including the file name?\n"
   ]
  },
  {
   "cell_type": "code",
   "execution_count": 1,
   "id": "019c9ad1",
   "metadata": {
    "slideshow": {
     "slide_type": "-"
    }
   },
   "outputs": [],
   "source": [
    "### Your response here"
   ]
  },
  {
   "cell_type": "markdown",
   "id": "9a2b7f2b",
   "metadata": {
    "slideshow": {
     "slide_type": "slide"
    }
   },
   "source": [
    "#### Solution\n",
    "\n",
    "Suppose we want to access a file called `notes.txt`. This is the absolute path leading to that file:\n",
    "\n",
    "`/Users/myusername/css/lectures`\n",
    "\n",
    "Absolute path: `/Users/myusername/css/lectures/notes.txt`"
   ]
  },
  {
   "cell_type": "markdown",
   "id": "fe67d191",
   "metadata": {
    "slideshow": {
     "slide_type": "slide"
    }
   },
   "source": [
    "### Check-in\n",
    "\n",
    "Suppose we want to access a file called `notes.txt`. This is the absolute path leading to that file:\n",
    "\n",
    "`/Users/myusername/css/lectures`\n",
    "\n",
    "However, we're currently in the `labs` directory, which is also in the `css` folder.\n",
    "\n",
    "How would we write the **relative path** leading from our *current directory* to `lectures/notes.txt`?\n"
   ]
  },
  {
   "cell_type": "code",
   "execution_count": 1,
   "id": "662bea14",
   "metadata": {
    "slideshow": {
     "slide_type": "-"
    }
   },
   "outputs": [],
   "source": [
    "### Your response here"
   ]
  },
  {
   "cell_type": "markdown",
   "id": "4938257a",
   "metadata": {
    "slideshow": {
     "slide_type": "slide"
    }
   },
   "source": [
    "#### Solution\n",
    "\n",
    "Suppose we want to access a file called `notes.txt`. This is the absolute path leading to that file:\n",
    "\n",
    "`/Users/myusername/css/lectures`\n",
    "\n",
    "Relative path from `css/labs`: `../lectures/notes.txt`"
   ]
  },
  {
   "cell_type": "markdown",
   "id": "fe69b8a2",
   "metadata": {
    "slideshow": {
     "slide_type": "slide"
    }
   },
   "source": [
    "### File paths: wrap-up\n",
    "\n",
    "**File paths** can be one of the hardest things to get right.\n",
    "\n",
    "- Even as a more experienced programmer, I mess file paths up *all the time* (including for this class!). \n",
    "\n",
    "A helpful command is `pwd`, which reminds us *where we are*: i.e., what our current directory is."
   ]
  },
  {
   "cell_type": "code",
   "execution_count": 4,
   "id": "aaddb72e",
   "metadata": {
    "slideshow": {
     "slide_type": "-"
    }
   },
   "outputs": [
    {
     "data": {
      "text/plain": [
       "'/Users/seantrott/Dropbox/UCSD/Teaching/CSS/css1/css1_book/lectures'"
      ]
     },
     "execution_count": 4,
     "metadata": {},
     "output_type": "execute_result"
    }
   ],
   "source": [
    "pwd"
   ]
  },
  {
   "cell_type": "markdown",
   "id": "f46bcd00",
   "metadata": {
    "slideshow": {
     "slide_type": "slide"
    }
   },
   "source": [
    "## The *how*: interacting with files\n",
    "\n",
    "Once you've located a file, you probably want to either **read** or **write** it in some way. Both **modes** of interacting with a file will require the `open` keyword.\n",
    "\n",
    "In turn, you can `open` a file in one of several **modes**:\n",
    "\n",
    "- `w`: writing to that file (i.e., adding text to it).  \n",
    "- `r`: reading that file (i.e., reading what's already in it).\n",
    "- `a`: appending to what's already in the file. \n",
    "\n",
    "Let's take these step by step."
   ]
  },
  {
   "cell_type": "markdown",
   "id": "0ed7c873",
   "metadata": {
    "slideshow": {
     "slide_type": "slide"
    }
   },
   "source": [
    "### Writing a file\n",
    "\n",
    "The syntax to `open` a file in the **writing mode** is as follows:\n",
    "\n",
    "`open(\"filename.txt\", \"w\")`\n",
    "\n",
    "Often, we'll use the `with` keyword as in the codeblock below, which allows us to `open` that filename and assign it immediately to a variable.\n",
    "\n",
    "- Then, we can can call `var_name.write(\"TEXT TO ADD TO FILE\")`\n",
    "- The advantage of `with` is that it will automatically `close` the file once we're done with the `with` block.\n",
    "\n",
    "The `with` keyword is what we call a [**context manager**](https://book.pythontips.com/en/latest/context_managers.html). More on that in CSS 2 and CSS 100."
   ]
  },
  {
   "cell_type": "code",
   "execution_count": 14,
   "id": "b6afecb2",
   "metadata": {
    "slideshow": {
     "slide_type": "-"
    }
   },
   "outputs": [],
   "source": [
    "### Open up a file called `test.txt`\n",
    "with open(\"test.txt\", \"w\") as f:\n",
    "    ### Write string to file\n",
    "    f.write(\"This is a file.\")"
   ]
  },
  {
   "cell_type": "markdown",
   "id": "671449eb",
   "metadata": {
    "slideshow": {
     "slide_type": "slide"
    }
   },
   "source": [
    "#### Things to be aware of\n",
    "\n",
    "- `filename.txt` doesn't have to exist when you open a file for **writing**. It will be *created* by calling `open(filename.txt).  \n",
    "- If `filename.txt` *does* already exist, then by default you'll over-write what's there. If you want to just *add* to the file, use the `a` (**append**) mode instead.\n",
    "- To separate lines in this file, use the `\\n` character (*newline*). "
   ]
  },
  {
   "cell_type": "markdown",
   "id": "80864bdd",
   "metadata": {
    "slideshow": {
     "slide_type": "slide"
    }
   },
   "source": [
    "### Reading a file\n",
    "\n",
    "The syntax to `open` a file in the **reading mode** is as follows:\n",
    "\n",
    "`open(\"filename.txt\", \"r\")`\n",
    "\n",
    "Once we've opened the file, we can `read` the contents. The `read` function will return the contents as a `str`."
   ]
  },
  {
   "cell_type": "code",
   "execution_count": 18,
   "id": "489685ca",
   "metadata": {
    "slideshow": {
     "slide_type": "-"
    }
   },
   "outputs": [],
   "source": [
    "### Open up a file called `test.txt`\n",
    "with open(\"test.txt\", \"r\") as f:\n",
    "    ### Read the contents\n",
    "    contents = f.read()"
   ]
  },
  {
   "cell_type": "code",
   "execution_count": 19,
   "id": "a3fabaea",
   "metadata": {
    "slideshow": {
     "slide_type": "-"
    }
   },
   "outputs": [
    {
     "name": "stdout",
     "output_type": "stream",
     "text": [
      "This is a file.\n"
     ]
    }
   ],
   "source": [
    "### print out contents\n",
    "print(contents)"
   ]
  },
  {
   "cell_type": "markdown",
   "id": "a94bc387",
   "metadata": {
    "slideshow": {
     "slide_type": "slide"
    }
   },
   "source": [
    "### Check-in\n",
    "\n",
    "Use the `open` command to create and write a new file called `my_first_file.txt`. Once you've opened it, **write** a series of lines to that file:\n",
    "\n",
    "- The first line should read: `My name is {NAME}\\n`.\n",
    "- The next 5 lines should read: `This is line {i} of the file.\\n`, where `i` refers to the specfiic line number.\n",
    "\n",
    "**Hint**: Remember to use the *newline* character to separate each line."
   ]
  },
  {
   "cell_type": "code",
   "execution_count": 49,
   "id": "96888b01",
   "metadata": {
    "slideshow": {
     "slide_type": "-"
    }
   },
   "outputs": [],
   "source": [
    "### Your code here"
   ]
  },
  {
   "cell_type": "markdown",
   "id": "fd71e596",
   "metadata": {
    "slideshow": {
     "slide_type": "slide"
    }
   },
   "source": [
    "### Check-in\n",
    "\n",
    "Now use the `open` command to open `my_first_file.txt`. Once you've opened it, **read** the contents of that file into a new variable called `file_contents`."
   ]
  },
  {
   "cell_type": "code",
   "execution_count": 70,
   "id": "1e9f801d",
   "metadata": {
    "slideshow": {
     "slide_type": "-"
    }
   },
   "outputs": [],
   "source": [
    "### Your code here"
   ]
  },
  {
   "cell_type": "markdown",
   "id": "751c2c1d",
   "metadata": {
    "slideshow": {
     "slide_type": "slide"
    }
   },
   "source": [
    "### File reading, continued\n",
    "\n",
    "Before, we read in the *entire* file as one big `str`. There are several other ways to interact with and **read** a file, however.\n",
    "\n",
    "- `.read(n)`, where `n` refers to the number of characters you want to read.  \n",
    "- `.readlines()`, which returns a `list` of each *line* in the file."
   ]
  },
  {
   "cell_type": "markdown",
   "id": "7c26b41d",
   "metadata": {
    "slideshow": {
     "slide_type": "slide"
    }
   },
   "source": [
    "#### `.read(n)`\n",
    "\n",
    "The `read` function can be **parameterized** by the `n` argument, which tells Python how many characters of the file to read. "
   ]
  },
  {
   "cell_type": "code",
   "execution_count": 73,
   "id": "71a4a950",
   "metadata": {
    "slideshow": {
     "slide_type": "-"
    }
   },
   "outputs": [
    {
     "name": "stdout",
     "output_type": "stream",
     "text": [
      "My name is\n"
     ]
    }
   ],
   "source": [
    "with open(\"my_first_file.txt\", \"r\") as f:\n",
    "    n_characters = f.read(10)\n",
    "print(n_characters)"
   ]
  },
  {
   "cell_type": "code",
   "execution_count": 74,
   "id": "75375cfb",
   "metadata": {
    "slideshow": {
     "slide_type": "-"
    }
   },
   "outputs": [
    {
     "name": "stdout",
     "output_type": "stream",
     "text": [
      "My name is Sean\n"
     ]
    }
   ],
   "source": [
    "with open(\"my_first_file.txt\", \"r\") as f:\n",
    "    n_characters = f.read(15)\n",
    "print(n_characters)"
   ]
  },
  {
   "cell_type": "markdown",
   "id": "b28b1e2d",
   "metadata": {
    "slideshow": {
     "slide_type": "slide"
    }
   },
   "source": [
    "#### `.readlines()`\n",
    "\n",
    "The `readlines` function returns a `list`, where each element in the list corresponds to a line in the file.\n",
    "\n",
    "- *Lines* are defined as being separated by a `\\n` character."
   ]
  },
  {
   "cell_type": "code",
   "execution_count": 75,
   "id": "69ef3668",
   "metadata": {
    "slideshow": {
     "slide_type": "-"
    }
   },
   "outputs": [],
   "source": [
    "with open(\"my_first_file.txt\", \"r\") as f:\n",
    "    all_lines = f.readlines()"
   ]
  },
  {
   "cell_type": "code",
   "execution_count": 76,
   "id": "a1968f9b",
   "metadata": {
    "slideshow": {
     "slide_type": "-"
    }
   },
   "outputs": [
    {
     "data": {
      "text/plain": [
       "['My name is Sean.\\n',\n",
       " 'This is line 2 of the file.\\n',\n",
       " 'This is line 3 of the file.\\n',\n",
       " 'This is line 4 of the file.\\n',\n",
       " 'This is line 5 of the file.\\n']"
      ]
     },
     "execution_count": 76,
     "metadata": {},
     "output_type": "execute_result"
    }
   ],
   "source": [
    "all_lines"
   ]
  },
  {
   "cell_type": "markdown",
   "id": "e0c17f58",
   "metadata": {
    "slideshow": {
     "slide_type": "slide"
    }
   },
   "source": [
    "### Check-in\n",
    "\n",
    "- Use the `readlines` function to read in all lines from `my_first_file.txt`. \n",
    "- Then, use a `for` loop to iterate through each line.  \n",
    "  - For each line, `replace` the `\\n` character with an empty character (i.e., `\"\"`). \n",
    "  - Then, `print` out the line."
   ]
  },
  {
   "cell_type": "code",
   "execution_count": 77,
   "id": "aa885c18",
   "metadata": {
    "slideshow": {
     "slide_type": "-"
    }
   },
   "outputs": [],
   "source": [
    "### Your code here"
   ]
  },
  {
   "cell_type": "markdown",
   "id": "bbffd388",
   "metadata": {
    "slideshow": {
     "slide_type": "slide"
    }
   },
   "source": [
    "### Appending a file\n",
    "\n",
    "If you `open` a pre-existing file in the `w` mode, you can *overwrite* all of its existing content.\n",
    "\n",
    "If you wish to simply *add* to that file, you can instead open it in the `a` mode: `open(\"filename.txt\", \"a\")`"
   ]
  },
  {
   "cell_type": "code",
   "execution_count": 80,
   "id": "3068d513",
   "metadata": {
    "slideshow": {
     "slide_type": "-"
    }
   },
   "outputs": [],
   "source": [
    "## Open in append mode\n",
    "with open(\"my_first_file.txt\", \"a\") as f:\n",
    "    ## Syntax to write is the same.\n",
    "    f.write(\"This is new text I'm adding.\")"
   ]
  },
  {
   "cell_type": "code",
   "execution_count": 82,
   "id": "60e4d0e6",
   "metadata": {
    "slideshow": {
     "slide_type": "-"
    }
   },
   "outputs": [
    {
     "name": "stdout",
     "output_type": "stream",
     "text": [
      "My name is Sean.\n",
      "This is line 2 of the file.\n",
      "This is line 3 of the file.\n",
      "This is line 4 of the file.\n",
      "This is line 5 of the file.\n",
      "This is new text I'm adding.\n"
     ]
    }
   ],
   "source": [
    "## Now let's check if it worked...\n",
    "with open(\"my_first_file.txt\", \"r\") as f:\n",
    "    file_contents = f.read()\n",
    "print(file_contents)"
   ]
  },
  {
   "cell_type": "markdown",
   "id": "c891f283",
   "metadata": {
    "slideshow": {
     "slide_type": "slide"
    }
   },
   "source": [
    "### Closing a file\n",
    "\n",
    "Technically, it is good practice to always `close` a file once you've opened it. \n",
    "\n",
    "- If you're using the context manager (the `with` keyword), it will automatically `close` the file once you finish the `with` block.  \n",
    "- But if you're not, you can `close` a file using `var_name.close()`."
   ]
  },
  {
   "cell_type": "markdown",
   "id": "e69344c5",
   "metadata": {
    "slideshow": {
     "slide_type": "slide"
    }
   },
   "source": [
    "## Finding a target `str`\n",
    "\n",
    "One common use case is **searching** a large volume of text to `return` particular sub-string.\n",
    "\n",
    "- Where in the text does this sub-string occur?  \n",
    "- What is the text surrounding one of its occurrences?\n",
    "\n",
    "Note that this is not too far afield from a **search engine** like [Google](https://www.google.com/)!"
   ]
  },
  {
   "cell_type": "markdown",
   "id": "5ad3b2f9",
   "metadata": {
    "slideshow": {
     "slide_type": "slide"
    }
   },
   "source": [
    "### Our sample text\n",
    "\n",
    "To start, we'll use a `.txt` file of [**Hamlet**](https://en.wikipedia.org/wiki/Hamlet), by [William Shakespeare](https://en.wikipedia.org/wiki/William_Shakespeare). The `.txt` file was retrieved from the [Project Gutenberg Corpus](https://www.gutenberg.org/browse/scores/top) online, and should be credited as such. \n",
    "\n",
    "The file is included in the `lectures` GitHub repository under the `data` directory.\n",
    "\n",
    "First, let's use `readlines()` to extract each **line** of the play as a separate item in a list."
   ]
  },
  {
   "cell_type": "code",
   "execution_count": 1,
   "id": "da1b70a0",
   "metadata": {
    "slideshow": {
     "slide_type": "-"
    }
   },
   "outputs": [],
   "source": [
    "with open(\"data/hamlet.txt\") as f:\n",
    "    book = f.readlines()"
   ]
  },
  {
   "cell_type": "markdown",
   "id": "f08579fb",
   "metadata": {
    "slideshow": {
     "slide_type": "slide"
    }
   },
   "source": [
    "#### Inspecting the text"
   ]
  },
  {
   "cell_type": "code",
   "execution_count": 2,
   "id": "4d33b592",
   "metadata": {
    "slideshow": {
     "slide_type": "-"
    }
   },
   "outputs": [
    {
     "data": {
      "text/plain": [
       "'THE TRAGEDY OF HAMLET, PRINCE OF DENMARK\\n'"
      ]
     },
     "execution_count": 2,
     "metadata": {},
     "output_type": "execute_result"
    }
   ],
   "source": [
    "## This is just the title\n",
    "book[0]"
   ]
  },
  {
   "cell_type": "code",
   "execution_count": 3,
   "id": "8902cddb",
   "metadata": {
    "slideshow": {
     "slide_type": "-"
    }
   },
   "outputs": [
    {
     "name": "stdout",
     "output_type": "stream",
     "text": [
      "\n",
      "Dramatis Personae\n",
      "\n",
      "  Claudius, King of Denmark.\n",
      "  Marcellus, Officer.\n",
      "  Hamlet, son to the former, and nephew to the present king.\n",
      "  Polonius, Lord Chamberlain.\n"
     ]
    }
   ],
   "source": [
    "## Partial list of characters in play\n",
    "for line in book[5:12]:\n",
    "    l = line.replace(\"\\n\", \"\")\n",
    "    print(l)"
   ]
  },
  {
   "cell_type": "markdown",
   "id": "39999a7c",
   "metadata": {
    "slideshow": {
     "slide_type": "slide"
    }
   },
   "source": [
    "#### Check-in\n",
    "\n",
    "How could we check how many **lines** are in the `.txt` file?"
   ]
  },
  {
   "cell_type": "code",
   "execution_count": 4,
   "id": "63d76668",
   "metadata": {
    "slideshow": {
     "slide_type": "-"
    }
   },
   "outputs": [],
   "source": [
    "### Your code here"
   ]
  },
  {
   "cell_type": "markdown",
   "id": "f1363798",
   "metadata": {
    "slideshow": {
     "slide_type": "slide"
    }
   },
   "source": [
    "### Finding a sample `str`\n",
    "\n",
    "One of the most famous lines in *Hamlet* reads:\n",
    "\n",
    "> To be, or not to be- that is the question...\n",
    "\n",
    "Suppose we wanted to **find** the `str` `\"that is the question\"` in the book, and **return** the line number (at least in this `.txt` file).\n",
    "\n",
    "How could we go about that?"
   ]
  },
  {
   "cell_type": "markdown",
   "id": "92b1a9bb",
   "metadata": {
    "slideshow": {
     "slide_type": "slide"
    }
   },
   "source": [
    "### Solution: `enumerate`\n",
    "\n",
    "- Use `enumerate` to iterate through each line of the play.  \n",
    "- For each line, check if some `target_str` occurs in that line.  \n",
    "- If it does, use `break` to **stop** iterating, and record which line it is."
   ]
  },
  {
   "cell_type": "code",
   "execution_count": 5,
   "id": "4fc9c6ae",
   "metadata": {
    "slideshow": {
     "slide_type": "-"
    }
   },
   "outputs": [
    {
     "name": "stdout",
     "output_type": "stream",
     "text": [
      "Line:   Ham. To be, or not to be- that is the question:\n",
      "Line number: 2048\n"
     ]
    }
   ],
   "source": [
    "target_str = \"that is the question\"\n",
    "for index, line in enumerate(book):\n",
    "    if target_str in line:\n",
    "        break\n",
    "print(\"Line: {x}\".format(x = line.replace(\"\\n\", \"\")))\n",
    "print(\"Line number: {x}\".format(x = index))"
   ]
  },
  {
   "cell_type": "markdown",
   "id": "104d5335",
   "metadata": {
    "slideshow": {
     "slide_type": "slide"
    }
   },
   "source": [
    "### Check-in: Finding the next $N$ lines\n",
    "\n",
    "What if we wanted to return the next $N$ (e.g., `5`) lines *after* this target string? \n",
    "\n",
    "- To do this, we just need to add another variable: `keep_lines`, which tells us *how many* additional lines we want to return.  \n",
    "- Then, once we've retrieved the `index` of our `target_str`, we can **slice** between that `index` and `index + 3`.\n",
    "\n",
    "Try implementing this algorithm yourself first. \n",
    "\n",
    "**Hint**: The code can be *mostly* the same as before (i.e., use `enumerate`, etc.). "
   ]
  },
  {
   "cell_type": "code",
   "execution_count": 6,
   "id": "f480705a",
   "metadata": {
    "slideshow": {
     "slide_type": "-"
    }
   },
   "outputs": [],
   "source": [
    "keep_lines = 5 ### New variable to track\n",
    "### Your code here"
   ]
  },
  {
   "cell_type": "markdown",
   "id": "00e320c6",
   "metadata": {
    "slideshow": {
     "slide_type": "slide"
    }
   },
   "source": [
    "### Check-in: What if `target_str` occurs multiple times?\n",
    "\n",
    "What if we were looking for a more common `target_str`, e.g., one that occurred multiple times?  \n",
    "\n",
    "1. What problems do you see with our previous approach (e.g., using `break` once we find `target_str`)?\n",
    "2. How might you solve this problem? "
   ]
  },
  {
   "cell_type": "code",
   "execution_count": 7,
   "id": "949882a6",
   "metadata": {
    "slideshow": {
     "slide_type": "-"
    }
   },
   "outputs": [],
   "source": [
    "target_str = \"the question\"\n",
    "### Your answer here"
   ]
  },
  {
   "cell_type": "markdown",
   "id": "4497fc9d",
   "metadata": {
    "slideshow": {
     "slide_type": "slide"
    }
   },
   "source": [
    "### Check-in: Other considerations\n",
    "\n",
    "These exercises really only scratch the surface of **searching** a file. Here are some other issues for consideration and discussion. \n",
    "\n",
    "How might you address:\n",
    "\n",
    "1. Issues of **case**: e.g., what if *question* is spelled `\"Question\"`, not `\"question\"`?\n",
    "2. Situations where a `target_str` spans multiple *lines*? \n",
    "3. Mismatch in punctuation, e.g., a misplaced `,`? \n",
    "4. A **partial match**, e.g., if $90\\%$ of the characters match?\n",
    "\n",
    "**Note**: These are challenging issues! And each of them likely has multiple solutions."
   ]
  },
  {
   "cell_type": "markdown",
   "id": "3555cdf5",
   "metadata": {
    "slideshow": {
     "slide_type": "slide"
    }
   },
   "source": [
    "## Counting Words\n",
    "\n",
    "Another very common **use case** is simply **counting** words.\n",
    "\n",
    "- How many words are there overall?  \n",
    "- How many *unique words* are used?  \n",
    "- How many times does *each word* occur?  \n",
    "- What is the *most frequent word*?"
   ]
  },
  {
   "cell_type": "markdown",
   "id": "c88b8b75",
   "metadata": {
    "slideshow": {
     "slide_type": "slide"
    }
   },
   "source": [
    "### Caveat: what *is* a word?\n",
    "\n",
    "The question of what defines a word is surprisingly complex.\n",
    "\n",
    "- First, languages have very different [**morphological systems**](https://en.wikipedia.org/wiki/Morphological_typology). So even *conceptually*, it's not always clear what makes a word \"a word\" in a given language.  \n",
    "- Second, languages have very different [**writing systems**](https://en.wikipedia.org/wiki/Orthography). \n",
    "  - Some languages (like English, Spanish, etc.) have *spaces* between words in their written form.  \n",
    "  - Other languages (like Classical Latin, Chinese, etc.) do [not typically use *spaces* between words](https://en.wikipedia.org/wiki/Scriptio_continua) in their written form.\n",
    "\n",
    "Many **conceptual definitions** and **tools** for identifying *words* are rooted in English specifically, but those definitions and tools don't always generalize––languages can be very different."
   ]
  },
  {
   "cell_type": "markdown",
   "id": "3dd3d4c7",
   "metadata": {
    "slideshow": {
     "slide_type": "slide"
    }
   },
   "source": [
    "### How *many* words?\n",
    "\n",
    "The first question that might occur to us is *how many words* are in a book. \n",
    "\n",
    "To do this, we could:\n",
    "\n",
    "- `read` the book in as one long `str`.  \n",
    "- Use the `split` function to separate this long `str` by **spaces**, into a `list` of words.\n",
    "- Count the number of items in this list."
   ]
  },
  {
   "cell_type": "markdown",
   "id": "b2f3ff6a",
   "metadata": {
    "slideshow": {
     "slide_type": "slide"
    }
   },
   "source": [
    "#### Using `split`: a review"
   ]
  },
  {
   "cell_type": "code",
   "execution_count": 8,
   "id": "2bb32f70",
   "metadata": {
    "slideshow": {
     "slide_type": "-"
    }
   },
   "outputs": [
    {
     "data": {
      "text/plain": [
       "['To', 'be', 'or', 'not', 'to', 'be,', 'that', 'is', 'the', 'question']"
      ]
     },
     "execution_count": 8,
     "metadata": {},
     "output_type": "execute_result"
    }
   ],
   "source": [
    "sentence = \"To be or not to be, that is the question\"\n",
    "sentence.split(\" \")"
   ]
  },
  {
   "cell_type": "markdown",
   "id": "78bee5c3",
   "metadata": {
    "slideshow": {
     "slide_type": "slide"
    }
   },
   "source": [
    "#### Using `split` for Hamlet"
   ]
  },
  {
   "cell_type": "code",
   "execution_count": 9,
   "id": "0c4a3564",
   "metadata": {
    "slideshow": {
     "slide_type": "-"
    }
   },
   "outputs": [],
   "source": [
    "# First, read in as string\n",
    "with open(\"data/hamlet.txt\", \"r\") as f:\n",
    "    book_str = f.read()"
   ]
  },
  {
   "cell_type": "code",
   "execution_count": 10,
   "id": "32eaf7a4",
   "metadata": {
    "slideshow": {
     "slide_type": "-"
    }
   },
   "outputs": [
    {
     "data": {
      "text/plain": [
       "['the', 'tragedy', 'of', 'hamlet,', 'prince']"
      ]
     },
     "execution_count": 10,
     "metadata": {},
     "output_type": "execute_result"
    }
   ],
   "source": [
    "# We should also clean up all those *newline* characters.\n",
    "book_str = book_str.replace(\"\\n\", \" \")\n",
    "# To make it easier for later, we can also turn it into lowercase\n",
    "book_str = book_str.lower()\n",
    "# Now, use split to separate into words\n",
    "book_words = book_str.split()\n",
    "book_words[0:5]"
   ]
  },
  {
   "cell_type": "code",
   "execution_count": 11,
   "id": "33c1b6f8",
   "metadata": {
    "slideshow": {
     "slide_type": "-"
    }
   },
   "outputs": [
    {
     "data": {
      "text/plain": [
       "32724"
      ]
     },
     "execution_count": 11,
     "metadata": {},
     "output_type": "execute_result"
    }
   ],
   "source": [
    "# How many items in list?\n",
    "len(book_words)"
   ]
  },
  {
   "cell_type": "markdown",
   "id": "d822fa54",
   "metadata": {
    "slideshow": {
     "slide_type": "slide"
    }
   },
   "source": [
    "### How many *unique* words?\n",
    "\n",
    "Above, we calculated how many word *tokens* were in the book. \n",
    "\n",
    "- This means that the word \"the\" will be counted *every time* it occurs.  \n",
    "- Instead, let's calculate the number of *unique* word types."
   ]
  },
  {
   "cell_type": "markdown",
   "id": "52817de1",
   "metadata": {
    "slideshow": {
     "slide_type": "slide"
    }
   },
   "source": [
    "#### Using `set`\n",
    "\n",
    "The `set` function will turn a `list` into a `set` object, which contains only the *unique elements* in that list."
   ]
  },
  {
   "cell_type": "code",
   "execution_count": 12,
   "id": "c5cdb497",
   "metadata": {
    "slideshow": {
     "slide_type": "-"
    }
   },
   "outputs": [
    {
     "data": {
      "text/plain": [
       "{'best', 'dog', 'is', 'the'}"
      ]
     },
     "execution_count": 12,
     "metadata": {},
     "output_type": "execute_result"
    }
   ],
   "source": [
    "my_list = [\"the\", \"dog\", \"is\", \"the\", \"best\"]\n",
    "set(my_list)"
   ]
  },
  {
   "cell_type": "markdown",
   "id": "fee30ab3",
   "metadata": {
    "slideshow": {
     "slide_type": "slide"
    }
   },
   "source": [
    "#### Check-in\n",
    "\n",
    "Use the `set` function to calculate how many *unique* words are in this book."
   ]
  },
  {
   "cell_type": "code",
   "execution_count": 13,
   "id": "4faccada",
   "metadata": {
    "slideshow": {
     "slide_type": "-"
    }
   },
   "outputs": [],
   "source": [
    "### Your code here"
   ]
  },
  {
   "cell_type": "markdown",
   "id": "715a92fe",
   "metadata": {
    "slideshow": {
     "slide_type": "slide"
    }
   },
   "source": [
    "### How many times does each word occur?\n",
    "\n",
    "We might also want to know *how many times* each word occurs. \n",
    "\n",
    "- For example, perhaps \"the\" occurs $>1000$ times, whereas \"question\" occurs only ~$10$ times.  \n",
    "- Ideally, we would store this in a `dict`:\n",
    "   - Each **key** represents a *word*.  \n",
    "   - Each **value** represents *how many times* that word occurred in *Hamlet*.\n",
    "\n",
    "How might we go about this?"
   ]
  },
  {
   "cell_type": "markdown",
   "id": "ac76e6d5",
   "metadata": {
    "slideshow": {
     "slide_type": "slide"
    }
   },
   "source": [
    "#### First pass: counting each word\n",
    "\n",
    "As a first pass, let's use the following approach:\n",
    "\n",
    "- First, create a `dict` to store our words.  \n",
    "- Then, *iterate* through our `list` of words.  \n",
    "- `if` a given word is not in our `dict`, add an entry for it (and set the value to `1`).  \n",
    "- `if` a given word *is* in a `dict`, increase its value by `1`."
   ]
  },
  {
   "cell_type": "code",
   "execution_count": 14,
   "id": "587ca7b4",
   "metadata": {
    "slideshow": {
     "slide_type": "-"
    }
   },
   "outputs": [],
   "source": [
    "word_counts = {}\n",
    "for w in book_words:\n",
    "    if w not in word_counts:\n",
    "        word_counts[w] = 1\n",
    "    else:\n",
    "        word_counts[w] += 1"
   ]
  },
  {
   "cell_type": "code",
   "execution_count": 15,
   "id": "13d13d1e",
   "metadata": {
    "slideshow": {
     "slide_type": "-"
    }
   },
   "outputs": [
    {
     "data": {
      "text/plain": [
       "1095"
      ]
     },
     "execution_count": 15,
     "metadata": {},
     "output_type": "execute_result"
    }
   ],
   "source": [
    "# How many times does \"the\" occur?\n",
    "word_counts['the']"
   ]
  },
  {
   "cell_type": "code",
   "execution_count": 16,
   "id": "1bbf9eae",
   "metadata": {
    "slideshow": {
     "slide_type": "-"
    }
   },
   "outputs": [
    {
     "data": {
      "text/plain": [
       "43"
      ]
     },
     "execution_count": 16,
     "metadata": {},
     "output_type": "execute_result"
    }
   ],
   "source": [
    "# How many times does \"king\" occur?\n",
    "word_counts['king']"
   ]
  },
  {
   "cell_type": "markdown",
   "id": "027b6f75",
   "metadata": {
    "slideshow": {
     "slide_type": "slide"
    }
   },
   "source": [
    "#### Check-in\n",
    "\n",
    "Any issues with this **first pass** approach? \n",
    "\n",
    "**Hint**: One issue could have to do with punctuation...\n",
    "\n",
    "Write a code that works when you may or may not have a '.' in sentence."
   ]
  },
  {
   "cell_type": "code",
   "execution_count": 17,
   "id": "c9b59e27",
   "metadata": {
    "slideshow": {
     "slide_type": "-"
    }
   },
   "outputs": [],
   "source": [
    "### Your code here"
   ]
  },
  {
   "cell_type": "markdown",
   "id": "72f6816b",
   "metadata": {
    "slideshow": {
     "slide_type": "slide"
    }
   },
   "source": [
    "#### Solution\n",
    "\n",
    "One problem that you might've noticed is that words occurring at the *end of a sentence* don't have a space between the word and a period (e.g., `question.`). \n",
    "\n",
    "- This will *under-count* certain words.\n",
    "\n",
    "To resolve this, we can `replace` all periods with an empty character before adding a word to our `dict`."
   ]
  },
  {
   "cell_type": "code",
   "execution_count": 18,
   "id": "e9467e04",
   "metadata": {
    "slideshow": {
     "slide_type": "-"
    }
   },
   "outputs": [],
   "source": [
    "word_counts = {}\n",
    "for w in book_words:\n",
    "    w_no_period = w.replace(\".\", \"\")\n",
    "    if w_no_period not in word_counts:\n",
    "        word_counts[w_no_period] = 1\n",
    "    else:\n",
    "        word_counts[w_no_period] += 1"
   ]
  },
  {
   "cell_type": "code",
   "execution_count": 19,
   "id": "467297c4",
   "metadata": {
    "slideshow": {
     "slide_type": "-"
    }
   },
   "outputs": [
    {
     "data": {
      "text/plain": [
       "162"
      ]
     },
     "execution_count": 19,
     "metadata": {},
     "output_type": "execute_result"
    }
   ],
   "source": [
    "# How many times does \"king\" occur?\n",
    "word_counts['king']"
   ]
  },
  {
   "cell_type": "markdown",
   "id": "7f373957",
   "metadata": {
    "slideshow": {
     "slide_type": "slide"
    }
   },
   "source": [
    "### Which word is most common?\n",
    "\n",
    "Now that we have a `dict` representing how many times each word occurs, we can calculate **which word** is most common.\n",
    "\n",
    "**Check-in**: Which word do you think is most frequent in *Hamlet*?"
   ]
  },
  {
   "cell_type": "markdown",
   "id": "59df2aa1",
   "metadata": {
    "slideshow": {
     "slide_type": "slide"
    }
   },
   "source": [
    "#### Finding the most frequent word\n",
    "\n",
    "As always, there are multiple ways to do this.\n",
    "\n",
    "But one simple approach is to:\n",
    "\n",
    "- Use a `for` loop to iterate through all `items()` in the `dict`.  \n",
    "- Track the `key_with_highest_value` we've seen so far.  \n",
    "- Once the `for` loop is done, inspect `key_with_highest_value`."
   ]
  },
  {
   "cell_type": "code",
   "execution_count": 20,
   "id": "323aa87e",
   "metadata": {
    "slideshow": {
     "slide_type": "-"
    }
   },
   "outputs": [],
   "source": [
    "key_with_highest_value = None\n",
    "max_count = 0\n",
    "for word, count in word_counts.items():\n",
    "    # If this word frequency > max_count\n",
    "    if count > max_count:\n",
    "        # Set new \"highest word\" to this word\n",
    "        key_with_highest_value = word\n",
    "        max_count = count\n"
   ]
  },
  {
   "cell_type": "code",
   "execution_count": 21,
   "id": "d8828c40",
   "metadata": {
    "slideshow": {
     "slide_type": "-"
    }
   },
   "outputs": [
    {
     "data": {
      "text/plain": [
       "'the'"
      ]
     },
     "execution_count": 21,
     "metadata": {},
     "output_type": "execute_result"
    }
   ],
   "source": [
    "## Now, inspect which word was most frequent\n",
    "key_with_highest_value"
   ]
  },
  {
   "cell_type": "markdown",
   "id": "aa2a9d3b",
   "metadata": {
    "slideshow": {
     "slide_type": "slide"
    }
   },
   "source": [
    "#### Other approaches\n",
    "\n",
    "There are *many different approaches* you could take to solving this problem. Some are more generalizable (but also more complicated) than what I've shown here.\n",
    "\n",
    "- You can `sort` the dictionary by **value** (see the lecture on **dictionary operations**).  \n",
    "- You could use the `max` function with `dict.get` as your `key` parameter (see below)."
   ]
  },
  {
   "cell_type": "code",
   "execution_count": 22,
   "id": "f18ee1f1",
   "metadata": {
    "slideshow": {
     "slide_type": "-"
    }
   },
   "outputs": [
    {
     "data": {
      "text/plain": [
       "'the'"
      ]
     },
     "execution_count": 22,
     "metadata": {},
     "output_type": "execute_result"
    }
   ],
   "source": [
    "# Another approach\n",
    "max(word_counts, key = word_counts.get)"
   ]
  },
  {
   "cell_type": "markdown",
   "id": "f0ba81c4",
   "metadata": {
    "slideshow": {
     "slide_type": "slide"
    }
   },
   "source": [
    "## JSON"
   ]
  },
  {
   "cell_type": "markdown",
   "id": "4cc3851b",
   "metadata": {
    "slideshow": {
     "slide_type": "slide"
    }
   },
   "source": [
    "## What is a `.json` file?\n",
    "\n",
    "> A `.json` file is a **file written in the JSON file format**. It allows us to store structured data objects consisting of **key-value** pairs."
   ]
  },
  {
   "cell_type": "markdown",
   "id": "f838c763",
   "metadata": {
    "slideshow": {
     "slide_type": "slide"
    }
   },
   "source": [
    "### What is JSON?\n",
    "\n",
    "**JSON** = JavaScript Object Notation.\n",
    "\n",
    "- Standard format for *representing* and *transmitting* data.  \n",
    "   - \"Standard\" = different people/systems agree to use this format to send and receive information.  \n",
    "- Represents data in **key-value** pairs."
   ]
  },
  {
   "cell_type": "markdown",
   "id": "6a869603",
   "metadata": {
    "slideshow": {
     "slide_type": "slide"
    }
   },
   "source": [
    "#### Check-in\n",
    "\n",
    "What else have we seen that represents data in **key-value pairs**?"
   ]
  },
  {
   "cell_type": "markdown",
   "id": "dd904bdd",
   "metadata": {
    "slideshow": {
     "slide_type": "slide"
    }
   },
   "source": [
    "### A Python `dict` is a collection of key-value pairs\n",
    "\n",
    "A **dictionary** (`dict`) stores **key-value** pairs."
   ]
  },
  {
   "cell_type": "code",
   "execution_count": 13,
   "id": "dcdc1e5e",
   "metadata": {
    "slideshow": {
     "slide_type": "-"
    }
   },
   "outputs": [
    {
     "name": "stdout",
     "output_type": "stream",
     "text": [
      "{'Code': '1', 'Department': 'CSS', 'Instructor': 'Mignozzetti', 'Prerequisite': True, 'Enrollment': 120}\n"
     ]
    }
   ],
   "source": [
    "my_class = {'Code': '1',\n",
    "           'Department': 'CSS',\n",
    "           'Instructor': 'Mignozzetti',\n",
    "            'Prerequisite': True,\n",
    "           'Enrollment': 120}\n",
    "print(my_class)"
   ]
  },
  {
   "cell_type": "code",
   "execution_count": 24,
   "id": "3e30798f",
   "metadata": {
    "slideshow": {
     "slide_type": "-"
    }
   },
   "outputs": [
    {
     "data": {
      "text/plain": [
       "'CSS'"
      ]
     },
     "execution_count": 24,
     "metadata": {},
     "output_type": "execute_result"
    }
   ],
   "source": [
    "my_class['Department']"
   ]
  },
  {
   "cell_type": "markdown",
   "id": "c668230d",
   "metadata": {
    "slideshow": {
     "slide_type": "slide"
    }
   },
   "source": [
    "### JSON and `dict`: an analogy\n",
    "\n",
    "Conceptually, JSON accomplishes the same goals as a Python `dict`.\n",
    "\n",
    "- In fact, Python programmers often *convert* a `dict` into a JSON `str` when they want to store it in a file.  \n",
    "- Similarly, you can **read in** a `.json` file and convert the contents into a `dict`.\n",
    "\n",
    "**Bottom line**: we're not dealing with a fundamentally new data sturcture––it's another standardized way to represent **key-value pairs**."
   ]
  },
  {
   "cell_type": "markdown",
   "id": "9d967777",
   "metadata": {
    "slideshow": {
     "slide_type": "slide"
    }
   },
   "source": [
    "## Reading in a `.json` file\n",
    "\n",
    "Reading in a `.json` file shares some similarities with [reading `.txt` files](17-reading-text).  \n",
    "\n",
    "- Must specify a **file path**.  \n",
    "- File path can be either *absolute* or *relative*.\n",
    "\n",
    "But there are also some important differences:\n",
    "\n",
    "- To **read in** a `.json` file, we'll need to `import` the `json` library.  \n",
    "- `json.load` will read in a **structured `.json` file** as a `dict`, not a `str`."
   ]
  },
  {
   "cell_type": "markdown",
   "id": "515a6509",
   "metadata": {
    "slideshow": {
     "slide_type": "slide"
    }
   },
   "source": [
    "### Example: simple file\n",
    "\n",
    "Here, we will work with a simple `.json` file: `data/restaurant.json`. \n",
    "\n",
    "- The file contains a structured representation of a restaurant.  \n",
    "- We use `json.load(...)` to **load** this representation as a `dict`."
   ]
  },
  {
   "cell_type": "code",
   "execution_count": 2,
   "id": "09263960",
   "metadata": {
    "slideshow": {
     "slide_type": "-"
    }
   },
   "outputs": [],
   "source": [
    "## This imports the json library\n",
    "import json"
   ]
  },
  {
   "cell_type": "code",
   "execution_count": 3,
   "id": "b19b3ed6",
   "metadata": {
    "slideshow": {
     "slide_type": "-"
    }
   },
   "outputs": [],
   "source": [
    "## As with normal .txt. files, we use \"open\" to open the target restaurant\n",
    "with open(\"data/restaurant.json\", \"r\") as fp:\n",
    "    ## use json.load to load as dict\n",
    "    info = json.load(fp)"
   ]
  },
  {
   "cell_type": "code",
   "execution_count": 4,
   "id": "98306902",
   "metadata": {
    "slideshow": {
     "slide_type": "-"
    }
   },
   "outputs": [
    {
     "data": {
      "text/plain": [
       "{'Name': 'Plumeria', 'Location': 'University Heights', 'Cuisine': 'Thai'}"
      ]
     },
     "execution_count": 4,
     "metadata": {},
     "output_type": "execute_result"
    }
   ],
   "source": [
    "info"
   ]
  },
  {
   "cell_type": "markdown",
   "id": "dd7a8046",
   "metadata": {
    "slideshow": {
     "slide_type": "slide"
    }
   },
   "source": [
    "### `load` creates a `dict`\n",
    "\n",
    "Now, we can work with the **contents** of this file as we would any `dict`."
   ]
  },
  {
   "cell_type": "code",
   "execution_count": 6,
   "id": "47502f08",
   "metadata": {
    "slideshow": {
     "slide_type": "-"
    }
   },
   "outputs": [
    {
     "data": {
      "text/plain": [
       "'Plumeria'"
      ]
     },
     "execution_count": 6,
     "metadata": {},
     "output_type": "execute_result"
    }
   ],
   "source": [
    "info['Name']"
   ]
  },
  {
   "cell_type": "code",
   "execution_count": 7,
   "id": "2c906bb6",
   "metadata": {
    "slideshow": {
     "slide_type": "-"
    }
   },
   "outputs": [
    {
     "data": {
      "text/plain": [
       "'University Heights'"
      ]
     },
     "execution_count": 7,
     "metadata": {},
     "output_type": "execute_result"
    }
   ],
   "source": [
    "info['Location']"
   ]
  },
  {
   "cell_type": "code",
   "execution_count": 8,
   "id": "f916caac",
   "metadata": {
    "slideshow": {
     "slide_type": "-"
    }
   },
   "outputs": [
    {
     "data": {
      "text/plain": [
       "'Thai'"
      ]
     },
     "execution_count": 8,
     "metadata": {},
     "output_type": "execute_result"
    }
   ],
   "source": [
    "info['Cuisine']"
   ]
  },
  {
   "cell_type": "markdown",
   "id": "86209f52",
   "metadata": {
    "slideshow": {
     "slide_type": "slide"
    }
   },
   "source": [
    "### Check-in\n",
    "\n",
    "Try reading in another file that's stored in `data`: `data/school.json`. \n",
    "\n",
    "What is the value of the **Name** key?"
   ]
  },
  {
   "cell_type": "code",
   "execution_count": 11,
   "id": "cf870791",
   "metadata": {
    "slideshow": {
     "slide_type": "-"
    }
   },
   "outputs": [
    {
     "name": "stdout",
     "output_type": "stream",
     "text": [
      "{'Name': 'UCSD', 'Location': 'San Diego', 'Affiliation': 'University of California'}\n",
      "UCSD\n"
     ]
    }
   ],
   "source": [
    "### Your code here\n",
    "with open('data/school.json', 'r') as f:\n",
    "    school = json.load(f)\n",
    "print(school)\n",
    "print(school['Name'])"
   ]
  },
  {
   "cell_type": "markdown",
   "id": "b9674761",
   "metadata": {
    "slideshow": {
     "slide_type": "slide"
    }
   },
   "source": [
    "### Solution"
   ]
  },
  {
   "cell_type": "code",
   "execution_count": 32,
   "id": "5651136d",
   "metadata": {
    "slideshow": {
     "slide_type": "-"
    }
   },
   "outputs": [],
   "source": [
    "## As before, we use \"open\" to open the target file\n",
    "with open(\"data/school.json\", \"r\") as fp:\n",
    "    ## use json.load to load as dict\n",
    "    school_info = json.load(fp)"
   ]
  },
  {
   "cell_type": "code",
   "execution_count": 33,
   "id": "5d70b079",
   "metadata": {
    "slideshow": {
     "slide_type": "-"
    }
   },
   "outputs": [
    {
     "data": {
      "text/plain": [
       "'UCSD'"
      ]
     },
     "execution_count": 33,
     "metadata": {},
     "output_type": "execute_result"
    }
   ],
   "source": [
    "## Get name of school\n",
    "school_info['Name']"
   ]
  },
  {
   "cell_type": "markdown",
   "id": "1e6a2fe4",
   "metadata": {
    "slideshow": {
     "slide_type": "slide"
    }
   },
   "source": [
    "## Writing a `.json` file\n",
    "\n",
    "Often, you'll want to **write** a structured `dict` to a file.  \n",
    "\n",
    "- Useful for *storing* information, so you can access it later.  \n",
    "- Useful for *transmitting* information between programs.  \n",
    "\n",
    "We can use `json.dump(...)` to **write** (or \"dump\") a `dict` into a `.json` file."
   ]
  },
  {
   "cell_type": "markdown",
   "id": "4f17dde9",
   "metadata": {
    "slideshow": {
     "slide_type": "slide"
    }
   },
   "source": [
    "### Simple example: course \n",
    "\n",
    "To start out, let's use the `my_class` dict we defined earlier."
   ]
  },
  {
   "cell_type": "code",
   "execution_count": 14,
   "id": "bd5d6097",
   "metadata": {
    "slideshow": {
     "slide_type": "-"
    }
   },
   "outputs": [
    {
     "data": {
      "text/plain": [
       "'1'"
      ]
     },
     "execution_count": 14,
     "metadata": {},
     "output_type": "execute_result"
    }
   ],
   "source": [
    "my_class['Code']"
   ]
  },
  {
   "cell_type": "markdown",
   "id": "d3759c7d",
   "metadata": {
    "slideshow": {
     "slide_type": "slide"
    }
   },
   "source": [
    "To **write** this to a file, we:\n",
    "\n",
    "- `open` (create) a file with the name we want to call it.  \n",
    "- Use `json.dump(dict_name, filename)`."
   ]
  },
  {
   "cell_type": "code",
   "execution_count": 15,
   "id": "fdecabfc",
   "metadata": {
    "slideshow": {
     "slide_type": "-"
    }
   },
   "outputs": [],
   "source": [
    "with open(\"course.json\", \"w\") as fp:\n",
    "    json.dump(my_class, fp)"
   ]
  },
  {
   "cell_type": "markdown",
   "id": "d63bf786",
   "metadata": {
    "slideshow": {
     "slide_type": "slide"
    }
   },
   "source": [
    "#### Checking that this worked"
   ]
  },
  {
   "cell_type": "code",
   "execution_count": 16,
   "id": "6e35eedb",
   "metadata": {
    "slideshow": {
     "slide_type": "-"
    }
   },
   "outputs": [
    {
     "name": "stdout",
     "output_type": "stream",
     "text": [
      "{'Code': '1', 'Department': 'CSS', 'Instructor': 'Mignozzetti', 'Prerequisite': True, 'Enrollment': 120}\n"
     ]
    }
   ],
   "source": [
    "with open(\"course.json\", \"r\") as fp:\n",
    "    course_info = json.load(fp)\n",
    "print(course_info)"
   ]
  },
  {
   "cell_type": "markdown",
   "id": "752acfb3",
   "metadata": {
    "slideshow": {
     "slide_type": "slide"
    }
   },
   "source": [
    "### Check-in\n",
    "\n",
    "Create a new `dict` called `my_info`. Add the following keys/values:\n",
    "\n",
    "- `Name`. \n",
    "- `Major`. \n",
    "\n",
    "Then, use `json.dump` to **write** this `dict` to a `.json` file called `my_info.json` to your own computer (in whichever directory you prefer)."
   ]
  },
  {
   "cell_type": "code",
   "execution_count": 18,
   "id": "16910589",
   "metadata": {
    "slideshow": {
     "slide_type": "-"
    }
   },
   "outputs": [],
   "source": [
    "### Your code here\n",
    "my_info = {\n",
    "    'Name': 'Umberto',\n",
    "    'Major': 'PoliSci'\n",
    "}\n",
    "with open('my_info.json', 'w') as f:\n",
    "    json.dump(my_info, f)"
   ]
  },
  {
   "cell_type": "markdown",
   "id": "ff48d03e",
   "metadata": {
    "slideshow": {
     "slide_type": "slide"
    }
   },
   "source": [
    "## JSON files vs. JSON strings\n",
    "\n",
    "The `load` and `dump` methods can be used to **read** and **write** a `dict` from/to a `.json` file.  \n",
    "\n",
    "However, Python can also represent JSON as a **`str`**.\n",
    "\n",
    "- To *read* a `dict` from a JSON `str`, use `loads` (load + *s*tring).  \n",
    "- To *write* a `dict` into a JSON `str`, use `dumps` (dump + *s*tring)."
   ]
  },
  {
   "cell_type": "markdown",
   "id": "4983dc04",
   "metadata": {
    "slideshow": {
     "slide_type": "slide"
    }
   },
   "source": [
    "### `json.dumps`\n",
    "\n",
    "- Input: a `dict`. \n",
    "- Output: a JSON `str`.  "
   ]
  },
  {
   "cell_type": "code",
   "execution_count": 38,
   "id": "db62177e",
   "metadata": {
    "slideshow": {
     "slide_type": "-"
    }
   },
   "outputs": [
    {
     "data": {
      "text/plain": [
       "'{\"Code\": \"1\", \"Department\": \"CSS\", \"Instructor\": \"Mignozzetti\", \"Prerequisite\": true, \"Enrollment\": 120}'"
      ]
     },
     "execution_count": 38,
     "metadata": {},
     "output_type": "execute_result"
    }
   ],
   "source": [
    "json_str = json.dumps(my_class)\n",
    "json_str"
   ]
  },
  {
   "cell_type": "code",
   "execution_count": 39,
   "id": "938b617c",
   "metadata": {
    "slideshow": {
     "slide_type": "-"
    }
   },
   "outputs": [
    {
     "data": {
      "text/plain": [
       "str"
      ]
     },
     "execution_count": 39,
     "metadata": {},
     "output_type": "execute_result"
    }
   ],
   "source": [
    "type(json_str)"
   ]
  },
  {
   "cell_type": "markdown",
   "id": "499c4d09",
   "metadata": {
    "slideshow": {
     "slide_type": "slide"
    }
   },
   "source": [
    "### `json.loads`\n",
    "\n",
    "- Input: a JSON `str`.  \n",
    "- Output: a `dict`."
   ]
  },
  {
   "cell_type": "markdown",
   "id": "113d4857",
   "metadata": {
    "slideshow": {
     "slide_type": "slide"
    }
   },
   "source": [
    "### Other objects besides `dict`s\n",
    "\n",
    "- Technically, you can use `dumps`/`loads` for other objects, such as `str`, `list`, and more.\n",
    "- Though in my experience, a `dict` is the most common format."
   ]
  },
  {
   "cell_type": "code",
   "execution_count": 40,
   "id": "0114298e",
   "metadata": {
    "slideshow": {
     "slide_type": "-"
    }
   },
   "outputs": [
    {
     "data": {
      "text/plain": [
       "'[1, 2, 3]'"
      ]
     },
     "execution_count": 40,
     "metadata": {},
     "output_type": "execute_result"
    }
   ],
   "source": [
    "json.dumps([1, 2, 3])"
   ]
  },
  {
   "cell_type": "code",
   "execution_count": 41,
   "id": "a4be1383",
   "metadata": {
    "slideshow": {
     "slide_type": "-"
    }
   },
   "outputs": [
    {
     "data": {
      "text/plain": [
       "[1, 2, 3]"
      ]
     },
     "execution_count": 41,
     "metadata": {},
     "output_type": "execute_result"
    }
   ],
   "source": [
    "json.loads('[1, 2, 3]')"
   ]
  },
  {
   "cell_type": "markdown",
   "id": "d5450ab3",
   "metadata": {
    "slideshow": {
     "slide_type": "slide"
    }
   },
   "source": [
    "# Numpy"
   ]
  },
  {
   "cell_type": "markdown",
   "id": "8969df4f",
   "metadata": {
    "slideshow": {
     "slide_type": "slide"
    }
   },
   "source": [
    "## Computational social science in Python\n",
    "\n",
    "Python hosts a number of tools (packages) to enable **scientific computing**, including computational social science:\n",
    "\n",
    "- Packages to perform *vector operations* (e.g., `numpy`). \n",
    "- Packages to represent *data tables* (e.g., `pandas`).\n",
    "- Packages to make *visualizations* (e.g., `matplotlib`). \n",
    "- Packages to perform *statistical analyses* (e.g., `scipy`).  \n",
    "\n",
    "These packages form part of an **ecosystem**."
   ]
  },
  {
   "cell_type": "markdown",
   "id": "922e1ace",
   "metadata": {
    "slideshow": {
     "slide_type": "slide"
    }
   },
   "source": [
    "### Is this different from what we've been doing?\n",
    "\n",
    "Yes and no.\n",
    "\n",
    "So far, we've focused on **Python fundamentals**: \n",
    "\n",
    "- E.g., variables, loops, functions, and more.  \n",
    "- These fundamentals are critical––think of them as the **foundation** for everything that comes next.  \n",
    "\n",
    "But **scientific computing** will involve a heavier focus on:\n",
    " - Thinking about *data structures*. \n",
    " - Thinking about *relationships between data*.  \n",
    "  "
   ]
  },
  {
   "cell_type": "markdown",
   "id": "9fe74070",
   "metadata": {
    "slideshow": {
     "slide_type": "slide"
    }
   },
   "source": [
    "### Illustrative example\n",
    "\n",
    "- Previously, we've relied on *loops* while working with `list` objects.\n",
    "- E.g., if we wanted to add every *i*th item in one `list` to every *i*th item in another `list`, we have to iterate through each loop item-by-item.  \n",
    "- However, `numpy` is a tool for **vector-wise arithmetic**: \n",
    "  - Can add/multiply/divide/etc. entire *vectors* together, rather than having to loop through each item.\n",
    "  \n",
    "Onto `numpy`!\n"
   ]
  },
  {
   "cell_type": "markdown",
   "id": "fc7f1197",
   "metadata": {
    "slideshow": {
     "slide_type": "slide"
    }
   },
   "source": [
    "## What is `numpy`?\n",
    "\n",
    "> [**`numpy`**](https://numpy.org/doc/) is a *package* for scientific computing; specifically, it enables fast computation with *vectors* and *matrices*, along with a number of important mathematical operations.\n",
    "\n",
    "Because `numpy` is a package, it must be *imported*."
   ]
  },
  {
   "cell_type": "code",
   "execution_count": 7,
   "id": "0558bd68",
   "metadata": {
    "slideshow": {
     "slide_type": "-"
    }
   },
   "outputs": [],
   "source": [
    "# Import statement\n",
    "import numpy as np"
   ]
  },
  {
   "cell_type": "markdown",
   "id": "79bc2d82",
   "metadata": {
    "slideshow": {
     "slide_type": "slide"
    }
   },
   "source": [
    "### What can I use `numpy` for?\n",
    "\n",
    "- `numpy` allows you to work with **homogenous** arrays.\n",
    "  - A [**homogenous array**](https://numpy.org/doc/stable/user/quickstart.html) is an array with objects all of the same `type`.  \n",
    "  - E.g., all `int`, or all `bool`, etc.\n",
    "- The benefit of this is that you can do **computations** very **efficiently**.\n",
    "  - No more need to *loop*!\n",
    "- Enables more advanced mathematical operations.\n",
    "\n",
    "**Note**: `numpy` is a key part of many *advanced machine learning* packages!\n"
   ]
  },
  {
   "cell_type": "markdown",
   "id": "68941719",
   "metadata": {
    "slideshow": {
     "slide_type": "slide"
    }
   },
   "source": [
    "### Creating a `numpy.ndarray`\n",
    "\n",
    "The basic data type of `numpy` is an `ndarray`.\n",
    "\n",
    "- `ndarray` = **N-dimensional array**.  \n",
    "\n",
    "A simple way to create an `ndarray` is `np.arange` (\"a range\")."
   ]
  },
  {
   "cell_type": "code",
   "execution_count": 8,
   "id": "98f1368b",
   "metadata": {
    "slideshow": {
     "slide_type": "-"
    }
   },
   "outputs": [
    {
     "data": {
      "text/plain": [
       "array([1, 2, 3])"
      ]
     },
     "execution_count": 8,
     "metadata": {},
     "output_type": "execute_result"
    }
   ],
   "source": [
    "# Works similar to range(N)\n",
    "np.arange(1, 4)"
   ]
  },
  {
   "cell_type": "markdown",
   "id": "7f04d5ec",
   "metadata": {
    "slideshow": {
     "slide_type": "slide"
    }
   },
   "source": [
    "#### `np.arange` in detail\n",
    "\n",
    "- By default, `np.arange(start, stop)` returns an array of integers from `start` to `stop`. \n",
    "- The `step` parameter allows you to determine the **granularity** of how you \"step\" between `start` and `stop`."
   ]
  },
  {
   "cell_type": "code",
   "execution_count": 9,
   "id": "06a13658",
   "metadata": {
    "slideshow": {
     "slide_type": "-"
    }
   },
   "outputs": [
    {
     "data": {
      "text/plain": [
       "array([1, 3, 5, 7, 9])"
      ]
     },
     "execution_count": 9,
     "metadata": {},
     "output_type": "execute_result"
    }
   ],
   "source": [
    "## step size = 2\n",
    "np.arange(1, 10, step = 2)"
   ]
  },
  {
   "cell_type": "code",
   "execution_count": 10,
   "id": "80a75a89",
   "metadata": {
    "slideshow": {
     "slide_type": "-"
    }
   },
   "outputs": [
    {
     "data": {
      "text/plain": [
       "array([1. , 1.5, 2. , 2.5, 3. , 3.5])"
      ]
     },
     "execution_count": 10,
     "metadata": {},
     "output_type": "execute_result"
    }
   ],
   "source": [
    "## step size = .5\n",
    "np.arange(1, 4, step = .5)"
   ]
  },
  {
   "cell_type": "markdown",
   "id": "a7b259ad",
   "metadata": {
    "slideshow": {
     "slide_type": "slide"
    }
   },
   "source": [
    "#### Check-in\n",
    "\n",
    "How would you create an array ranging from `1` to `20`, incrementing with a step size of `.5`? How long would this array be?"
   ]
  },
  {
   "cell_type": "code",
   "execution_count": 14,
   "id": "a30198c6",
   "metadata": {},
   "outputs": [
    {
     "data": {
      "text/plain": [
       "array([ 1.        ,  1.33333333,  1.66666667,  2.        ,  2.33333333,\n",
       "        2.66666667,  3.        ,  3.33333333,  3.66666667,  4.        ,\n",
       "        4.33333333,  4.66666667,  5.        ,  5.33333333,  5.66666667,\n",
       "        6.        ,  6.33333333,  6.66666667,  7.        ,  7.33333333,\n",
       "        7.66666667,  8.        ,  8.33333333,  8.66666667,  9.        ,\n",
       "        9.33333333,  9.66666667, 10.        , 10.33333333, 10.66666667,\n",
       "       11.        , 11.33333333, 11.66666667, 12.        , 12.33333333,\n",
       "       12.66666667, 13.        , 13.33333333, 13.66666667, 14.        ,\n",
       "       14.33333333, 14.66666667, 15.        , 15.33333333, 15.66666667,\n",
       "       16.        , 16.33333333, 16.66666667, 17.        , 17.33333333,\n",
       "       17.66666667, 18.        , 18.33333333, 18.66666667, 19.        ,\n",
       "       19.33333333, 19.66666667])"
      ]
     },
     "execution_count": 14,
     "metadata": {},
     "output_type": "execute_result"
    }
   ],
   "source": [
    "### Your code here\n",
    "np.arange(1, 20, step = 1/3)"
   ]
  },
  {
   "cell_type": "markdown",
   "id": "0cfe51b3",
   "metadata": {
    "slideshow": {
     "slide_type": "slide"
    }
   },
   "source": [
    "#### Solution"
   ]
  },
  {
   "cell_type": "code",
   "execution_count": 34,
   "id": "18236629",
   "metadata": {},
   "outputs": [
    {
     "data": {
      "text/plain": [
       "38"
      ]
     },
     "execution_count": 34,
     "metadata": {},
     "output_type": "execute_result"
    }
   ],
   "source": [
    "np_range = np.arange(1, 20, step = .5)\n",
    "len(np_range)"
   ]
  },
  {
   "cell_type": "markdown",
   "id": "5685fe30",
   "metadata": {
    "slideshow": {
     "slide_type": "slide"
    }
   },
   "source": [
    "### Turning a `list` into a `ndarray`\n",
    "\n",
    "Another way to create an `ndarray` is to pass a `list` into the `np.array(...)` function."
   ]
  },
  {
   "cell_type": "code",
   "execution_count": 16,
   "id": "2ee4978c",
   "metadata": {
    "slideshow": {
     "slide_type": "-"
    }
   },
   "outputs": [
    {
     "data": {
      "text/plain": [
       "list"
      ]
     },
     "execution_count": 16,
     "metadata": {},
     "output_type": "execute_result"
    }
   ],
   "source": [
    "og_list = [1, 2, 3]\n",
    "type(og_list)"
   ]
  },
  {
   "cell_type": "code",
   "execution_count": 17,
   "id": "35b6bf2b",
   "metadata": {
    "slideshow": {
     "slide_type": "-"
    }
   },
   "outputs": [
    {
     "name": "stdout",
     "output_type": "stream",
     "text": [
      "<class 'numpy.ndarray'>\n"
     ]
    }
   ],
   "source": [
    "myarray = np.array(og_list)\n",
    "print(type(myarray))"
   ]
  },
  {
   "cell_type": "code",
   "execution_count": 18,
   "id": "87f191de",
   "metadata": {
    "slideshow": {
     "slide_type": "-"
    }
   },
   "outputs": [
    {
     "data": {
      "text/plain": [
       "array([1, 2, 3])"
      ]
     },
     "execution_count": 18,
     "metadata": {},
     "output_type": "execute_result"
    }
   ],
   "source": [
    "myarray"
   ]
  },
  {
   "cell_type": "markdown",
   "id": "4ee21aed",
   "metadata": {
    "slideshow": {
     "slide_type": "slide"
    }
   },
   "source": [
    "#### Check-in\n",
    "\n",
    "How would you create a `numpy` array with the elements `[5, 6, 7]`?"
   ]
  },
  {
   "cell_type": "code",
   "execution_count": 23,
   "id": "36e7a54b",
   "metadata": {
    "slideshow": {
     "slide_type": "-"
    }
   },
   "outputs": [
    {
     "data": {
      "text/plain": [
       "array([5, 6, 7])"
      ]
     },
     "execution_count": 23,
     "metadata": {},
     "output_type": "execute_result"
    }
   ],
   "source": [
    "### Your code here\n",
    "L = [5, 6, 7]\n",
    "L = np.array(L)\n",
    "L"
   ]
  },
  {
   "cell_type": "markdown",
   "id": "114bbe8b",
   "metadata": {
    "slideshow": {
     "slide_type": "slide"
    }
   },
   "source": [
    "#### Solution"
   ]
  },
  {
   "cell_type": "code",
   "execution_count": 51,
   "id": "8b4d3c48",
   "metadata": {
    "slideshow": {
     "slide_type": "-"
    }
   },
   "outputs": [
    {
     "data": {
      "text/plain": [
       "array([5, 6, 7])"
      ]
     },
     "execution_count": 51,
     "metadata": {},
     "output_type": "execute_result"
    }
   ],
   "source": [
    "np_array = np.array([5, 6, 7])\n",
    "np_array"
   ]
  },
  {
   "cell_type": "markdown",
   "id": "aab2748d",
   "metadata": {
    "slideshow": {
     "slide_type": "slide"
    }
   },
   "source": [
    "#### Check-in\n",
    "\n",
    "Why is this code throwing an error?"
   ]
  },
  {
   "cell_type": "code",
   "execution_count": 25,
   "id": "225aa4cb",
   "metadata": {
    "slideshow": {
     "slide_type": "-"
    }
   },
   "outputs": [
    {
     "ename": "TypeError",
     "evalue": "array() takes from 1 to 2 positional arguments but 3 were given",
     "output_type": "error",
     "traceback": [
      "\u001b[0;31m---------------------------------------------------------------------------\u001b[0m",
      "\u001b[0;31mTypeError\u001b[0m                                 Traceback (most recent call last)",
      "Cell \u001b[0;32mIn[25], line 1\u001b[0m\n\u001b[0;32m----> 1\u001b[0m test_array \u001b[38;5;241m=\u001b[39m \u001b[43mnp\u001b[49m\u001b[38;5;241;43m.\u001b[39;49m\u001b[43marray\u001b[49m\u001b[43m(\u001b[49m\u001b[38;5;241;43m1\u001b[39;49m\u001b[43m,\u001b[49m\u001b[43m \u001b[49m\u001b[38;5;241;43m2\u001b[39;49m\u001b[43m,\u001b[49m\u001b[43m \u001b[49m\u001b[38;5;241;43m3\u001b[39;49m\u001b[43m)\u001b[49m\n",
      "\u001b[0;31mTypeError\u001b[0m: array() takes from 1 to 2 positional arguments but 3 were given"
     ]
    }
   ],
   "source": [
    "test_array = np.array(1, 2, 3)"
   ]
  },
  {
   "cell_type": "markdown",
   "id": "d770f84c",
   "metadata": {
    "slideshow": {
     "slide_type": "slide"
    }
   },
   "source": [
    "#### Solution\n",
    "\n",
    "Make sure you **wrap** the input array in `[]`."
   ]
  },
  {
   "cell_type": "code",
   "execution_count": 78,
   "id": "5b5f4e58",
   "metadata": {
    "slideshow": {
     "slide_type": "-"
    }
   },
   "outputs": [
    {
     "data": {
      "text/plain": [
       "array([1, 2, 3])"
      ]
     },
     "execution_count": 78,
     "metadata": {},
     "output_type": "execute_result"
    }
   ],
   "source": [
    "test_array = np.array([1, 2, 3])\n",
    "test_array"
   ]
  },
  {
   "cell_type": "markdown",
   "id": "c0258d4b",
   "metadata": {
    "slideshow": {
     "slide_type": "slide"
    }
   },
   "source": [
    "### Indexing into a one-dimensional array\n",
    "\n",
    "Indexing works just like it does for `list`s."
   ]
  },
  {
   "cell_type": "code",
   "execution_count": 27,
   "id": "ef532861",
   "metadata": {
    "slideshow": {
     "slide_type": "-"
    }
   },
   "outputs": [
    {
     "data": {
      "text/plain": [
       "1"
      ]
     },
     "execution_count": 27,
     "metadata": {},
     "output_type": "execute_result"
    }
   ],
   "source": [
    "myarray[0]"
   ]
  },
  {
   "cell_type": "code",
   "execution_count": 28,
   "id": "8e58ab8b",
   "metadata": {
    "slideshow": {
     "slide_type": "-"
    }
   },
   "outputs": [
    {
     "data": {
      "text/plain": [
       "2"
      ]
     },
     "execution_count": 28,
     "metadata": {},
     "output_type": "execute_result"
    }
   ],
   "source": [
    "myarray[1]"
   ]
  },
  {
   "cell_type": "code",
   "execution_count": 29,
   "id": "a52ddec6",
   "metadata": {
    "slideshow": {
     "slide_type": "-"
    }
   },
   "outputs": [
    {
     "data": {
      "text/plain": [
       "3"
      ]
     },
     "execution_count": 29,
     "metadata": {},
     "output_type": "execute_result"
    }
   ],
   "source": [
    "myarray[2]"
   ]
  },
  {
   "cell_type": "markdown",
   "id": "0f06cc11",
   "metadata": {
    "slideshow": {
     "slide_type": "slide"
    }
   },
   "source": [
    "### Multi-dimensional arrays\n",
    "\n",
    "- So far, we've just been looking at 1-dimensional arrays.\n",
    "- But `numpy` is excellent at storing **multi-dimensional arrays**.\n"
   ]
  },
  {
   "cell_type": "markdown",
   "id": "a3cdaa05",
   "metadata": {
    "slideshow": {
     "slide_type": "slide"
    }
   },
   "source": [
    "### Checking *attributes* of an array\n",
    "\n",
    "The `shape` attribute tells you the dimensions of an array."
   ]
  },
  {
   "cell_type": "markdown",
   "id": "cc540e63",
   "metadata": {
    "slideshow": {
     "slide_type": "slide"
    }
   },
   "source": [
    "#### Check-in\n",
    "\n",
    "What is the **dimensionality** of `md_array`?"
   ]
  },
  {
   "cell_type": "code",
   "execution_count": 35,
   "id": "cef3539b",
   "metadata": {
    "slideshow": {
     "slide_type": "-"
    }
   },
   "outputs": [
    {
     "data": {
      "text/plain": [
       "(2, 2)"
      ]
     },
     "execution_count": 35,
     "metadata": {},
     "output_type": "execute_result"
    }
   ],
   "source": [
    "### What is dimensionality\n",
    "md_array = np.array([[1, 2], [3, 3]])\n",
    "md_array.shape"
   ]
  },
  {
   "cell_type": "markdown",
   "id": "f40f0760",
   "metadata": {
    "slideshow": {
     "slide_type": "slide"
    }
   },
   "source": [
    "#### Solution\n",
    "\n",
    "You can check this using `md_array.shape`."
   ]
  },
  {
   "cell_type": "code",
   "execution_count": 36,
   "id": "f4155238",
   "metadata": {
    "slideshow": {
     "slide_type": "-"
    }
   },
   "outputs": [
    {
     "data": {
      "text/plain": [
       "(2, 2)"
      ]
     },
     "execution_count": 36,
     "metadata": {},
     "output_type": "execute_result"
    }
   ],
   "source": [
    "md_array.shape"
   ]
  },
  {
   "cell_type": "markdown",
   "id": "cd5e1fcf",
   "metadata": {
    "slideshow": {
     "slide_type": "slide"
    }
   },
   "source": [
    "#### Check-in\n",
    "\n",
    "What about `md_array2`?"
   ]
  },
  {
   "cell_type": "code",
   "execution_count": 37,
   "id": "f3551bb5",
   "metadata": {
    "slideshow": {
     "slide_type": "-"
    }
   },
   "outputs": [
    {
     "data": {
      "text/plain": [
       "(2, 3)"
      ]
     },
     "execution_count": 37,
     "metadata": {},
     "output_type": "execute_result"
    }
   ],
   "source": [
    "## 2x3 array\n",
    "md_array2 = np.array([[1, 2, 3], [4, 5, 6]])\n",
    "md_array2.shape"
   ]
  },
  {
   "cell_type": "markdown",
   "id": "f8c1bdc2",
   "metadata": {
    "slideshow": {
     "slide_type": "slide"
    }
   },
   "source": [
    "#### Solution\n",
    "\n",
    "You can check this using `md_array.shape`."
   ]
  },
  {
   "cell_type": "code",
   "execution_count": 88,
   "id": "9dc7e17f",
   "metadata": {
    "slideshow": {
     "slide_type": "-"
    }
   },
   "outputs": [
    {
     "data": {
      "text/plain": [
       "(2, 3)"
      ]
     },
     "execution_count": 88,
     "metadata": {},
     "output_type": "execute_result"
    }
   ],
   "source": [
    "md_array2.shape"
   ]
  },
  {
   "cell_type": "markdown",
   "id": "e94b184c",
   "metadata": {
    "slideshow": {
     "slide_type": "slide"
    }
   },
   "source": [
    "### Checking *attributes* of an array (pt. 2)\n",
    "\n",
    "The `dtype` attribute tells you the *type* of data in the array."
   ]
  },
  {
   "cell_type": "code",
   "execution_count": 38,
   "id": "8f2ea873",
   "metadata": {
    "slideshow": {
     "slide_type": "-"
    }
   },
   "outputs": [
    {
     "data": {
      "text/plain": [
       "dtype('int64')"
      ]
     },
     "execution_count": 38,
     "metadata": {},
     "output_type": "execute_result"
    }
   ],
   "source": [
    "md_array2.dtype"
   ]
  },
  {
   "cell_type": "markdown",
   "id": "346294a4",
   "metadata": {
    "slideshow": {
     "slide_type": "slide"
    }
   },
   "source": [
    "### Homogenous data\n",
    "\n",
    "As noted earlier, an array is meant to store **homogenous elements**.\n",
    "\n",
    "- This means that `np.array` will try to **convert** any heterogenous elements to a common `type`."
   ]
  },
  {
   "cell_type": "code",
   "execution_count": 39,
   "id": "352928b9",
   "metadata": {
    "slideshow": {
     "slide_type": "slide"
    }
   },
   "outputs": [
    {
     "data": {
      "text/plain": [
       "array(['a', '5', '7'], dtype='<U21')"
      ]
     },
     "execution_count": 39,
     "metadata": {},
     "output_type": "execute_result"
    }
   ],
   "source": [
    "## Note what happens to 5 and 7!\n",
    "arr3 = np.array([\"a\", 5, 7])\n",
    "arr3"
   ]
  },
  {
   "cell_type": "code",
   "execution_count": 40,
   "id": "6f23f116",
   "metadata": {},
   "outputs": [
    {
     "data": {
      "text/plain": [
       "dtype('<U21')"
      ]
     },
     "execution_count": 40,
     "metadata": {},
     "output_type": "execute_result"
    }
   ],
   "source": [
    "arr3.dtype"
   ]
  },
  {
   "cell_type": "markdown",
   "id": "fb07ec1f",
   "metadata": {
    "slideshow": {
     "slide_type": "slide"
    }
   },
   "source": [
    "### Interim summary\n",
    "\n",
    "- `numpy` is a package that forms the foundation of scientific computing.  \n",
    "- `numpy` arrays are the cornerstone of `numpy`.\n",
    "- A `numpy` array is like a `list`, with a couple differences:\n",
    "  - Requires **homogenous elements**.  \n",
    "  - Better at representing **multi-dimensional arrays**.\n",
    "  - Can be used for **vector operations** (coming up!). \n"
   ]
  },
  {
   "cell_type": "markdown",
   "id": "0c4bcf7d",
   "metadata": {
    "slideshow": {
     "slide_type": "slide"
    }
   },
   "source": [
    "## Working with vectors (intro)\n",
    "\n",
    "- `numpy` vectors make it easier to do all sorts of operations, such as **arithmetic** operations.\n",
    "- No more need to use `for` loops––can do vector arithmetic the same way we multiply individual numbers."
   ]
  },
  {
   "cell_type": "markdown",
   "id": "5a674786",
   "metadata": {
    "slideshow": {
     "slide_type": "slide"
    }
   },
   "source": [
    "### The old way: arithmetic with `for` loops and `list`s\n",
    "\n",
    "Adding one `list` to another requires using a `for` loop. "
   ]
  },
  {
   "cell_type": "code",
   "execution_count": 108,
   "id": "5df624ad",
   "metadata": {
    "slideshow": {
     "slide_type": "-"
    }
   },
   "outputs": [],
   "source": [
    "list1 = [1, 2, 3]\n",
    "list2 = [2, 3, 4]"
   ]
  },
  {
   "cell_type": "code",
   "execution_count": 111,
   "id": "8a4a79dd",
   "metadata": {
    "slideshow": {
     "slide_type": "-"
    }
   },
   "outputs": [
    {
     "data": {
      "text/plain": [
       "[1, 2, 3, 2, 3, 4]"
      ]
     },
     "execution_count": 111,
     "metadata": {},
     "output_type": "execute_result"
    }
   ],
   "source": [
    "## The \"+\" operator just combines them\n",
    "list1 + list2"
   ]
  },
  {
   "cell_type": "code",
   "execution_count": 113,
   "id": "afde0d22",
   "metadata": {
    "slideshow": {
     "slide_type": "-"
    }
   },
   "outputs": [
    {
     "data": {
      "text/plain": [
       "[3, 5, 7]"
      ]
     },
     "execution_count": 113,
     "metadata": {},
     "output_type": "execute_result"
    }
   ],
   "source": [
    "## To add them, we must use a for loop\n",
    "sum_list = []\n",
    "for index, item in enumerate(list1):\n",
    "    sum_list.append(item + list2[index])\n",
    "sum_list"
   ]
  },
  {
   "cell_type": "markdown",
   "id": "48361a14",
   "metadata": {
    "slideshow": {
     "slide_type": "slide"
    }
   },
   "source": [
    "### The new way: arithmetic with `numpy`\n",
    "\n",
    "`numpy` makes it *much* easier to do arithmetic operations with vectors."
   ]
  },
  {
   "cell_type": "code",
   "execution_count": 114,
   "id": "0b4e2c6a",
   "metadata": {
    "slideshow": {
     "slide_type": "-"
    }
   },
   "outputs": [],
   "source": [
    "## First, define some vectors\n",
    "arr1 = np.array([list1])\n",
    "arr2 = np.array([list2])"
   ]
  },
  {
   "cell_type": "code",
   "execution_count": 115,
   "id": "87084187",
   "metadata": {},
   "outputs": [
    {
     "data": {
      "text/plain": [
       "array([[3, 5, 7]])"
      ]
     },
     "execution_count": 115,
     "metadata": {},
     "output_type": "execute_result"
    }
   ],
   "source": [
    "## Can just use \"+\"!\n",
    "arr1 + arr2"
   ]
  },
  {
   "cell_type": "markdown",
   "id": "fa7fea87",
   "metadata": {
    "slideshow": {
     "slide_type": "slide"
    }
   },
   "source": [
    "#### Other arithmetic operations"
   ]
  },
  {
   "cell_type": "code",
   "execution_count": 117,
   "id": "35cccc9f",
   "metadata": {
    "slideshow": {
     "slide_type": "-"
    }
   },
   "outputs": [
    {
     "data": {
      "text/plain": [
       "array([[-1, -1, -1]])"
      ]
     },
     "execution_count": 117,
     "metadata": {},
     "output_type": "execute_result"
    }
   ],
   "source": [
    "arr1 -  arr2"
   ]
  },
  {
   "cell_type": "code",
   "execution_count": 118,
   "id": "bc67346f",
   "metadata": {
    "slideshow": {
     "slide_type": "-"
    }
   },
   "outputs": [
    {
     "data": {
      "text/plain": [
       "array([[ 2,  6, 12]])"
      ]
     },
     "execution_count": 118,
     "metadata": {},
     "output_type": "execute_result"
    }
   ],
   "source": [
    "arr1 *  arr2"
   ]
  },
  {
   "cell_type": "code",
   "execution_count": 116,
   "id": "5a544676",
   "metadata": {
    "slideshow": {
     "slide_type": "-"
    }
   },
   "outputs": [
    {
     "data": {
      "text/plain": [
       "array([[0.5       , 0.66666667, 0.75      ]])"
      ]
     },
     "execution_count": 116,
     "metadata": {},
     "output_type": "execute_result"
    }
   ],
   "source": [
    "arr1 / arr2"
   ]
  },
  {
   "cell_type": "markdown",
   "id": "c5c03656",
   "metadata": {
    "slideshow": {
     "slide_type": "slide"
    }
   },
   "source": [
    "#### Vectors vs. scalars\n",
    "\n",
    "- A **vector** is a list of numbers; a **scalar** is a single number.\n",
    "- We can multiply (or add, subtract, etc.) an entire *vector* by a single number."
   ]
  },
  {
   "cell_type": "code",
   "execution_count": 123,
   "id": "8a28e091",
   "metadata": {
    "slideshow": {
     "slide_type": "-"
    }
   },
   "outputs": [
    {
     "data": {
      "text/plain": [
       "array([[1, 2, 3]])"
      ]
     },
     "execution_count": 123,
     "metadata": {},
     "output_type": "execute_result"
    }
   ],
   "source": [
    "arr1"
   ]
  },
  {
   "cell_type": "code",
   "execution_count": 125,
   "id": "f3cb9ab7",
   "metadata": {
    "slideshow": {
     "slide_type": "-"
    }
   },
   "outputs": [
    {
     "data": {
      "text/plain": [
       "array([[100, 200, 300]])"
      ]
     },
     "execution_count": 125,
     "metadata": {},
     "output_type": "execute_result"
    }
   ],
   "source": [
    "## Multiply all elements by 100\n",
    "arr1 * 100"
   ]
  },
  {
   "cell_type": "markdown",
   "id": "ecd87686",
   "metadata": {
    "slideshow": {
     "slide_type": "slide"
    }
   },
   "source": [
    "#### Check-in\n",
    "\n",
    "What would multiplying the two arrays below return?\n",
    "\n",
    "```python\n",
    "a = np.array([2, 4, 5])\n",
    "b = np.array([2, 2, 3])\n",
    "a * b\n",
    "```"
   ]
  },
  {
   "cell_type": "code",
   "execution_count": 126,
   "id": "dde92776",
   "metadata": {},
   "outputs": [],
   "source": [
    "### Your code here"
   ]
  },
  {
   "cell_type": "markdown",
   "id": "c89a648c",
   "metadata": {
    "slideshow": {
     "slide_type": "slide"
    }
   },
   "source": [
    "#### Check-in\n",
    "\n",
    "What would happen if we ran the code below?\n",
    "\n",
    "```python\n",
    "a = np.array([2, 4, 5])\n",
    "b = np.array([2, 2])\n",
    "a * b\n",
    "```"
   ]
  },
  {
   "cell_type": "code",
   "execution_count": 126,
   "id": "72733cef",
   "metadata": {},
   "outputs": [],
   "source": [
    "### Your code here"
   ]
  },
  {
   "cell_type": "markdown",
   "id": "448cf9a7",
   "metadata": {
    "slideshow": {
     "slide_type": "slide"
    }
   },
   "source": [
    "### Thinking with vectors\n",
    "\n",
    "- Using `numpy` for vector arithmetic can sometimes involve a \"cognitive shift\".  \n",
    "- We're used to multiplying *individual elements*; now we have to transition to thinking about multiplying *entire vectors*.\n",
    "- But it's much more efficient!"
   ]
  },
  {
   "cell_type": "markdown",
   "id": "8a010b94",
   "metadata": {
    "slideshow": {
     "slide_type": "slide"
    }
   },
   "source": [
    "### The old way: arithmetic with `for` loops and `list`s\n",
    "\n",
    "Adding one `list` to another requires using a `for` loop. "
   ]
  },
  {
   "cell_type": "code",
   "execution_count": 2,
   "id": "63ded923",
   "metadata": {
    "slideshow": {
     "slide_type": "-"
    }
   },
   "outputs": [],
   "source": [
    "list1 = [1, 2, 3]\n",
    "list2 = [2, 3, 4]"
   ]
  },
  {
   "cell_type": "code",
   "execution_count": 3,
   "id": "9924ee55",
   "metadata": {
    "slideshow": {
     "slide_type": "-"
    }
   },
   "outputs": [
    {
     "data": {
      "text/plain": [
       "[1, 2, 3, 2, 3, 4]"
      ]
     },
     "execution_count": 3,
     "metadata": {},
     "output_type": "execute_result"
    }
   ],
   "source": [
    "## The \"+\" operator just combines them\n",
    "list1 + list2"
   ]
  },
  {
   "cell_type": "code",
   "execution_count": 4,
   "id": "5df84cb6",
   "metadata": {
    "slideshow": {
     "slide_type": "-"
    }
   },
   "outputs": [
    {
     "data": {
      "text/plain": [
       "[3, 5, 7]"
      ]
     },
     "execution_count": 4,
     "metadata": {},
     "output_type": "execute_result"
    }
   ],
   "source": [
    "## To add them, we must use a for loop\n",
    "sum_list = []\n",
    "for index, item in enumerate(list1):\n",
    "    sum_list.append(item + list2[index])\n",
    "sum_list"
   ]
  },
  {
   "cell_type": "markdown",
   "id": "56b7da76",
   "metadata": {
    "slideshow": {
     "slide_type": "slide"
    }
   },
   "source": [
    "### The new way: arithmetic with `numpy`\n",
    "\n",
    "`numpy` makes it *much* easier to do arithmetic operations with vectors."
   ]
  },
  {
   "cell_type": "code",
   "execution_count": 5,
   "id": "5c15c406",
   "metadata": {
    "slideshow": {
     "slide_type": "-"
    }
   },
   "outputs": [],
   "source": [
    "## First, define some vectors\n",
    "arr1 = np.array([list1])\n",
    "arr2 = np.array([list2])"
   ]
  },
  {
   "cell_type": "code",
   "execution_count": 6,
   "id": "ea4b5300",
   "metadata": {},
   "outputs": [
    {
     "data": {
      "text/plain": [
       "array([[3, 5, 7]])"
      ]
     },
     "execution_count": 6,
     "metadata": {},
     "output_type": "execute_result"
    }
   ],
   "source": [
    "## Can just use \"+\"!\n",
    "arr1 + arr2"
   ]
  },
  {
   "cell_type": "markdown",
   "id": "328af36d",
   "metadata": {
    "slideshow": {
     "slide_type": "slide"
    }
   },
   "source": [
    "#### Other arithmetic operations"
   ]
  },
  {
   "cell_type": "code",
   "execution_count": 7,
   "id": "895aba69",
   "metadata": {
    "slideshow": {
     "slide_type": "-"
    }
   },
   "outputs": [
    {
     "data": {
      "text/plain": [
       "array([[-1, -1, -1]])"
      ]
     },
     "execution_count": 7,
     "metadata": {},
     "output_type": "execute_result"
    }
   ],
   "source": [
    "arr1 -  arr2"
   ]
  },
  {
   "cell_type": "code",
   "execution_count": 8,
   "id": "2d13c5b4",
   "metadata": {
    "slideshow": {
     "slide_type": "-"
    }
   },
   "outputs": [
    {
     "data": {
      "text/plain": [
       "array([[ 2,  6, 12]])"
      ]
     },
     "execution_count": 8,
     "metadata": {},
     "output_type": "execute_result"
    }
   ],
   "source": [
    "arr1 * arr2"
   ]
  },
  {
   "cell_type": "code",
   "execution_count": 9,
   "id": "ee19211a",
   "metadata": {
    "slideshow": {
     "slide_type": "-"
    }
   },
   "outputs": [
    {
     "data": {
      "text/plain": [
       "array([[0.5       , 0.66666667, 0.75      ]])"
      ]
     },
     "execution_count": 9,
     "metadata": {},
     "output_type": "execute_result"
    }
   ],
   "source": [
    "arr1 / arr2"
   ]
  },
  {
   "cell_type": "markdown",
   "id": "db83a86d",
   "metadata": {
    "slideshow": {
     "slide_type": "slide"
    }
   },
   "source": [
    "#### Vectors vs. scalars\n",
    "\n",
    "- A **vector** is a list of numbers; a **scalar** is a single number.\n",
    "- We can multiply (or add, subtract, etc.) an entire *vector* by a single number."
   ]
  },
  {
   "cell_type": "code",
   "execution_count": 10,
   "id": "0c6cba66",
   "metadata": {
    "slideshow": {
     "slide_type": "-"
    }
   },
   "outputs": [
    {
     "data": {
      "text/plain": [
       "array([[1, 2, 3]])"
      ]
     },
     "execution_count": 10,
     "metadata": {},
     "output_type": "execute_result"
    }
   ],
   "source": [
    "arr1"
   ]
  },
  {
   "cell_type": "code",
   "execution_count": 11,
   "id": "d89e109f",
   "metadata": {
    "slideshow": {
     "slide_type": "-"
    }
   },
   "outputs": [
    {
     "data": {
      "text/plain": [
       "array([[100, 200, 300]])"
      ]
     },
     "execution_count": 11,
     "metadata": {},
     "output_type": "execute_result"
    }
   ],
   "source": [
    "## Multiply all elements by 100\n",
    "arr1 * 100"
   ]
  },
  {
   "cell_type": "markdown",
   "id": "63eefe2e",
   "metadata": {
    "slideshow": {
     "slide_type": "slide"
    }
   },
   "source": [
    "#### Check-in\n",
    "\n",
    "What would multiplying the two arrays below return?\n",
    "\n",
    "```python\n",
    "a = np.array([2, 4, 5])\n",
    "b = np.array([2, 2, 3])\n",
    "a * b\n",
    "```"
   ]
  },
  {
   "cell_type": "code",
   "execution_count": 12,
   "id": "f05e8641",
   "metadata": {},
   "outputs": [],
   "source": [
    "### Your code here"
   ]
  },
  {
   "cell_type": "markdown",
   "id": "523ffcd5",
   "metadata": {
    "slideshow": {
     "slide_type": "slide"
    }
   },
   "source": [
    "#### Check-in\n",
    "\n",
    "What would happen if we ran the code below?\n",
    "\n",
    "```python\n",
    "a = np.array([2, 4, 5])\n",
    "b = np.array([2, 2])\n",
    "a * b\n",
    "```"
   ]
  },
  {
   "cell_type": "code",
   "execution_count": 13,
   "id": "d5ced126",
   "metadata": {},
   "outputs": [],
   "source": [
    "### Your code here"
   ]
  },
  {
   "cell_type": "markdown",
   "id": "92cf81f2",
   "metadata": {
    "slideshow": {
     "slide_type": "slide"
    }
   },
   "source": [
    "#### Check-in\n",
    "\n",
    "Consider the same two arrays as before. How would you:\n",
    "\n",
    "- Calculate the **product** of these arrays?  \n",
    "- Calculate the **sum** of the elements in this new \"product\" array?\n",
    "\n",
    "Note that this is also called the [dot product](https://en.wikipedia.org/wiki/Dot_product)."
   ]
  },
  {
   "cell_type": "code",
   "execution_count": 14,
   "id": "0c19c77e",
   "metadata": {
    "slideshow": {
     "slide_type": "-"
    }
   },
   "outputs": [],
   "source": [
    "### Your code here\n",
    "a = np.array([2, 4, 5])\n",
    "b = np.array([2, 2, 3])"
   ]
  },
  {
   "cell_type": "markdown",
   "id": "83dd94f1",
   "metadata": {
    "slideshow": {
     "slide_type": "slide"
    }
   },
   "source": [
    "#### Solution\n",
    "\n",
    "This is also called the [dot product](https://en.wikipedia.org/wiki/Dot_product)."
   ]
  },
  {
   "cell_type": "code",
   "execution_count": 15,
   "id": "a743114d",
   "metadata": {
    "slideshow": {
     "slide_type": "-"
    }
   },
   "outputs": [
    {
     "data": {
      "text/plain": [
       "array([ 4,  8, 15])"
      ]
     },
     "execution_count": 15,
     "metadata": {},
     "output_type": "execute_result"
    }
   ],
   "source": [
    "## First, calculate the product\n",
    "product = a * b\n",
    "product\n"
   ]
  },
  {
   "cell_type": "code",
   "execution_count": 16,
   "id": "08fea66f",
   "metadata": {
    "slideshow": {
     "slide_type": "-"
    }
   },
   "outputs": [
    {
     "data": {
      "text/plain": [
       "27"
      ]
     },
     "execution_count": 16,
     "metadata": {},
     "output_type": "execute_result"
    }
   ],
   "source": [
    "## Then, calculate the sum of this array\n",
    "product.sum()\n"
   ]
  },
  {
   "cell_type": "markdown",
   "id": "fd6a7e80",
   "metadata": {
    "slideshow": {
     "slide_type": "slide"
    }
   },
   "source": [
    "## Descriptive statistics with `numpy`\n",
    "\n",
    "> **Descriptive statistics** are ways to summarize and organize data.\n",
    "\n",
    "A big advantage of `numpy` is that it has **built-in functions** to calculate various descriptive statistics:\n",
    "\n",
    "- The `sum` of a set of numbers.  \n",
    "- The `mean` (or \"average\") of a set of numbers.  \n",
    "- The `median` (or \"middle value\") of a set of numbers.\n"
   ]
  },
  {
   "cell_type": "markdown",
   "id": "8ff4dad1",
   "metadata": {
    "slideshow": {
     "slide_type": "slide"
    }
   },
   "source": [
    "### `sum`\n",
    "\n",
    "> The **sum** of a set of numbers is simply the result of adding each number together.\n",
    "\n",
    "The `numpy` package has a `sum` function built in, which makes it easier to calculate the sum of a vector."
   ]
  },
  {
   "cell_type": "code",
   "execution_count": 17,
   "id": "6055ef6c",
   "metadata": {
    "slideshow": {
     "slide_type": "-"
    }
   },
   "outputs": [
    {
     "data": {
      "text/plain": [
       "array([ 5,  9, 10])"
      ]
     },
     "execution_count": 17,
     "metadata": {},
     "output_type": "execute_result"
    }
   ],
   "source": [
    "## First, create an array with some numbers\n",
    "v = np.array([5, 9, 10])\n",
    "v"
   ]
  },
  {
   "cell_type": "code",
   "execution_count": 18,
   "id": "5d5c3bc4",
   "metadata": {
    "slideshow": {
     "slide_type": "-"
    }
   },
   "outputs": [
    {
     "data": {
      "text/plain": [
       "24"
      ]
     },
     "execution_count": 18,
     "metadata": {},
     "output_type": "execute_result"
    }
   ],
   "source": [
    "## Now calculate the sum\n",
    "v.sum()"
   ]
  },
  {
   "cell_type": "markdown",
   "id": "9e0968ab",
   "metadata": {
    "slideshow": {
     "slide_type": "slide"
    }
   },
   "source": [
    "### `mean`\n",
    "\n",
    "> The **mean** of a set of scores is the *sum* of those scores divided by the number of the observations.\n",
    "\n",
    "The `numpy` package also has a `mean` function built in. Two options:\n",
    "\n",
    "- `array_name.mean()`\n",
    "- `np.mean(array_name)`"
   ]
  },
  {
   "cell_type": "code",
   "execution_count": 19,
   "id": "3be4f0ac",
   "metadata": {
    "slideshow": {
     "slide_type": "-"
    }
   },
   "outputs": [
    {
     "data": {
      "text/plain": [
       "array([ 5,  9, 10])"
      ]
     },
     "execution_count": 19,
     "metadata": {},
     "output_type": "execute_result"
    }
   ],
   "source": [
    "## First, create an array with some numbers\n",
    "v = np.array([5, 9, 10])\n",
    "v"
   ]
  },
  {
   "cell_type": "code",
   "execution_count": 20,
   "id": "f3fa2609",
   "metadata": {
    "slideshow": {
     "slide_type": "-"
    }
   },
   "outputs": [
    {
     "data": {
      "text/plain": [
       "8.0"
      ]
     },
     "execution_count": 20,
     "metadata": {},
     "output_type": "execute_result"
    }
   ],
   "source": [
    "## Now calculate the mean\n",
    "v.mean()"
   ]
  },
  {
   "cell_type": "code",
   "execution_count": 21,
   "id": "38b6a45b",
   "metadata": {
    "slideshow": {
     "slide_type": "-"
    }
   },
   "outputs": [
    {
     "data": {
      "text/plain": [
       "8.0"
      ]
     },
     "execution_count": 21,
     "metadata": {},
     "output_type": "execute_result"
    }
   ],
   "source": [
    "## Or do it with numpy.mean\n",
    "np.mean(v)"
   ]
  },
  {
   "cell_type": "markdown",
   "id": "788a008e",
   "metadata": {
    "slideshow": {
     "slide_type": "slide"
    }
   },
   "source": [
    "#### Check-in\n",
    "\n",
    "What would happen if we ran the following code?\n",
    "\n",
    "```python\n",
    "v = np.array([1, 5, 9])\n",
    "np.mean(v)\n",
    "```"
   ]
  },
  {
   "cell_type": "code",
   "execution_count": 22,
   "id": "5e7f0938",
   "metadata": {},
   "outputs": [],
   "source": [
    "### Your code here"
   ]
  },
  {
   "cell_type": "markdown",
   "id": "cb39711b",
   "metadata": {
    "slideshow": {
     "slide_type": "slide"
    }
   },
   "source": [
    "#### Solution\n",
    "\n",
    "This will also calculate the `mean`. "
   ]
  },
  {
   "cell_type": "code",
   "execution_count": 23,
   "id": "9fddd7ac",
   "metadata": {},
   "outputs": [
    {
     "data": {
      "text/plain": [
       "5.0"
      ]
     },
     "execution_count": 23,
     "metadata": {},
     "output_type": "execute_result"
    }
   ],
   "source": [
    "v = np.array([1, 5, 9])\n",
    "np.mean(v)"
   ]
  },
  {
   "cell_type": "markdown",
   "id": "20d14871",
   "metadata": {
    "slideshow": {
     "slide_type": "slide"
    }
   },
   "source": [
    "#### Check-in\n",
    "\n",
    "What would happen if we ran the following code?\n",
    "\n",
    "```python\n",
    "v = np.array([\"a\", \"b\", \"a\"])\n",
    "v.mean()\n",
    "```"
   ]
  },
  {
   "cell_type": "code",
   "execution_count": 24,
   "id": "23593734",
   "metadata": {},
   "outputs": [],
   "source": [
    "### Your code here"
   ]
  },
  {
   "cell_type": "markdown",
   "id": "f89529e5",
   "metadata": {
    "slideshow": {
     "slide_type": "slide"
    }
   },
   "source": [
    "#### Solution\n",
    "\n",
    "It will throw an **error**. \n",
    "\n",
    "- You cannot calculate the `mean` of a vector of `str` types.\n",
    "- The `mean` can only be calculated for **interval/ratio data**.  "
   ]
  },
  {
   "cell_type": "markdown",
   "id": "08417977",
   "metadata": {
    "slideshow": {
     "slide_type": "slide"
    }
   },
   "source": [
    "### `median`\n",
    "\n",
    "> The **median** of a set of scores is the *middle* score when those scores are arranged from least to greatest.\n",
    "\n",
    "The `numpy` package also has a `mean` function built in.\n",
    "\n",
    "- Syntax: `np.median(array_name)`. \n",
    "- Unlike `mean`, **cannot use** `array_name.median()`"
   ]
  },
  {
   "cell_type": "code",
   "execution_count": 25,
   "id": "97e09da7",
   "metadata": {
    "slideshow": {
     "slide_type": "-"
    }
   },
   "outputs": [
    {
     "data": {
      "text/plain": [
       "array([ 5,  9, 10,  1, 20])"
      ]
     },
     "execution_count": 25,
     "metadata": {},
     "output_type": "execute_result"
    }
   ],
   "source": [
    "## First, create an array with some numbers\n",
    "v = np.array([5, 9, 10, 1, 20])\n",
    "v"
   ]
  },
  {
   "cell_type": "code",
   "execution_count": 26,
   "id": "060f0fa1",
   "metadata": {
    "slideshow": {
     "slide_type": "-"
    }
   },
   "outputs": [
    {
     "data": {
      "text/plain": [
       "9.0"
      ]
     },
     "execution_count": 26,
     "metadata": {},
     "output_type": "execute_result"
    }
   ],
   "source": [
    "## Now calculate the median\n",
    "np.median(v)"
   ]
  },
  {
   "cell_type": "markdown",
   "id": "b0533aa1",
   "metadata": {
    "slideshow": {
     "slide_type": "slide"
    }
   },
   "source": [
    "#### Check-in\n",
    "\n",
    "What would be the **median** of the following vector?\n",
    "\n",
    "```python\n",
    "v = np.array([1, 2, 5, 8])\n",
    "```"
   ]
  },
  {
   "cell_type": "markdown",
   "id": "37c366ff",
   "metadata": {
    "slideshow": {
     "slide_type": "slide"
    }
   },
   "source": [
    "#### Solution\n",
    "\n",
    "If the vector has an *even* number of elements, the **median** is the *mean* of the middle two elements."
   ]
  },
  {
   "cell_type": "code",
   "execution_count": 27,
   "id": "d6e8acee",
   "metadata": {
    "slideshow": {
     "slide_type": "-"
    }
   },
   "outputs": [
    {
     "data": {
      "text/plain": [
       "array([1, 2, 5, 8])"
      ]
     },
     "execution_count": 27,
     "metadata": {},
     "output_type": "execute_result"
    }
   ],
   "source": [
    "## First, create an array with some numbers\n",
    "v = np.array([1, 2, 5, 8])\n",
    "v"
   ]
  },
  {
   "cell_type": "code",
   "execution_count": 28,
   "id": "4b1aadd9",
   "metadata": {},
   "outputs": [
    {
     "data": {
      "text/plain": [
       "3.5"
      ]
     },
     "execution_count": 28,
     "metadata": {},
     "output_type": "execute_result"
    }
   ],
   "source": [
    "## Use np.median\n",
    "np.median(v)"
   ]
  },
  {
   "cell_type": "code",
   "execution_count": 29,
   "id": "86fca24f",
   "metadata": {},
   "outputs": [
    {
     "data": {
      "text/plain": [
       "3.5"
      ]
     },
     "execution_count": 29,
     "metadata": {},
     "output_type": "execute_result"
    }
   ],
   "source": [
    "## Equivalent to *mean* of 2 and 5\n",
    "(2 + 5) / 2"
   ]
  },
  {
   "cell_type": "markdown",
   "id": "2d223212",
   "metadata": {
    "slideshow": {
     "slide_type": "slide"
    }
   },
   "source": [
    "### Interim summary\n",
    "\n",
    "- **Descriptive statistics** are a really useful way to *summarize* data.  \n",
    "- Very valuable for both basic and applied research (e.g., in industry).  \n",
    "   - Examples: `median` salary, `mean` sales per fiscal quarter, `mean` reaction time on a psychophysics task, etc.\n",
    "- `numpy` makes this much easier.\n",
    "   - Later, we'll discuss how `pandas` (a way to represent data tables) uses these same functions."
   ]
  },
  {
   "cell_type": "markdown",
   "id": "b8148ad1",
   "metadata": {
    "slideshow": {
     "slide_type": "slide"
    }
   },
   "source": [
    "## Working with matrices\n",
    "\n",
    "> A **matrix** is a rectangular array of data (i.e., a **multi-dimensional array**).\n",
    "\n",
    "`numpy` is *designed* for **representing** and **performing calculations** with matrices.\n",
    "\n",
    "- A \"vector\" is just a one-dimensional matrix.\n",
    "- Many of the same operations we've discussed also apply to working with matrices."
   ]
  },
  {
   "cell_type": "markdown",
   "id": "0b21f572",
   "metadata": {
    "slideshow": {
     "slide_type": "slide"
    }
   },
   "source": [
    "### Creating a matrix\n",
    "\n",
    "- Matrices can be created just like vectors.  \n",
    "- The key difference is that they contain **nested lists**."
   ]
  },
  {
   "cell_type": "code",
   "execution_count": 30,
   "id": "2956746e",
   "metadata": {
    "slideshow": {
     "slide_type": "-"
    }
   },
   "outputs": [
    {
     "data": {
      "text/plain": [
       "array([[1, 2, 5],\n",
       "       [3, 4, 7]])"
      ]
     },
     "execution_count": 30,
     "metadata": {},
     "output_type": "execute_result"
    }
   ],
   "source": [
    "md_array = np.array([[1, 2, 5], [3, 4, 7]])\n",
    "md_array"
   ]
  },
  {
   "cell_type": "code",
   "execution_count": 31,
   "id": "3434705a",
   "metadata": {
    "slideshow": {
     "slide_type": "-"
    }
   },
   "outputs": [
    {
     "data": {
      "text/plain": [
       "(2, 3)"
      ]
     },
     "execution_count": 31,
     "metadata": {},
     "output_type": "execute_result"
    }
   ],
   "source": [
    "## This is a 2 by 3 matrix\n",
    "md_array.shape"
   ]
  },
  {
   "cell_type": "markdown",
   "id": "e5ca3a14",
   "metadata": {
    "slideshow": {
     "slide_type": "slide"
    }
   },
   "source": [
    "### Indexing into a matrix\n",
    "\n",
    "- You can **index** into a matrix, just like with a vector.  \n",
    "- A key difference is that you use *multiple indices*, for each dimension.\n",
    "   - `matrix_name[D1_index, D2_index, ...]`"
   ]
  },
  {
   "cell_type": "code",
   "execution_count": 32,
   "id": "8f0c0b85",
   "metadata": {
    "slideshow": {
     "slide_type": "-"
    }
   },
   "outputs": [
    {
     "data": {
      "text/plain": [
       "array([1, 2, 5])"
      ]
     },
     "execution_count": 32,
     "metadata": {},
     "output_type": "execute_result"
    }
   ],
   "source": [
    "# This just returns the first *row*\n",
    "md_array[0]"
   ]
  },
  {
   "cell_type": "code",
   "execution_count": 33,
   "id": "b2d50d83",
   "metadata": {
    "slideshow": {
     "slide_type": "-"
    }
   },
   "outputs": [
    {
     "ename": "SyntaxError",
     "evalue": "invalid syntax (1053156695.py, line 2)",
     "output_type": "error",
     "traceback": [
      "\u001b[0;36m  Cell \u001b[0;32mIn[33], line 2\u001b[0;36m\u001b[0m\n\u001b[0;31m    md_array[0, 1]x\u001b[0m\n\u001b[0m                  ^\u001b[0m\n\u001b[0;31mSyntaxError\u001b[0m\u001b[0;31m:\u001b[0m invalid syntax\n"
     ]
    }
   ],
   "source": [
    "# This returns the second element of the first row\n",
    "md_array[0, 1]x\n"
   ]
  },
  {
   "cell_type": "markdown",
   "id": "27a80f04",
   "metadata": {
    "slideshow": {
     "slide_type": "slide"
    }
   },
   "source": [
    "#### Check-in\n",
    "\n",
    "How would you return the *first element* of the *second row* of `md_array`?\n",
    "\n",
    "```python\n",
    "md_array = np.array([[1, 2, 5], [3, 4, 7]])\n",
    "md_array\n",
    "```"
   ]
  },
  {
   "cell_type": "code",
   "execution_count": null,
   "id": "3e995076",
   "metadata": {
    "slideshow": {
     "slide_type": "-"
    }
   },
   "outputs": [],
   "source": [
    "### Your code here\n",
    "md_array = np.array([[1, 2, 5], [3, 4, 7]])\n",
    "md_array"
   ]
  },
  {
   "cell_type": "markdown",
   "id": "d0b5d075",
   "metadata": {
    "slideshow": {
     "slide_type": "slide"
    }
   },
   "source": [
    "#### Solution"
   ]
  },
  {
   "cell_type": "code",
   "execution_count": null,
   "id": "4835dd39",
   "metadata": {
    "slideshow": {
     "slide_type": "-"
    }
   },
   "outputs": [],
   "source": [
    "# Can use [1] to get second row\n",
    "md_array"
   ]
  },
  {
   "cell_type": "code",
   "execution_count": null,
   "id": "63f3805c",
   "metadata": {
    "slideshow": {
     "slide_type": "-"
    }
   },
   "outputs": [],
   "source": [
    "# Use [1, 0] to get first element of second row\n",
    "md_array[1, 0]"
   ]
  },
  {
   "cell_type": "code",
   "execution_count": null,
   "id": "b10aded3",
   "metadata": {
    "slideshow": {
     "slide_type": "-"
    }
   },
   "outputs": [],
   "source": [
    "### Your code here"
   ]
  },
  {
   "cell_type": "markdown",
   "id": "e03495f4",
   "metadata": {
    "slideshow": {
     "slide_type": "slide"
    }
   },
   "source": [
    "#### Solution\n",
    "\n",
    "Retrieving a **column** uses the `[:,column_index]` syntax."
   ]
  },
  {
   "cell_type": "code",
   "execution_count": null,
   "id": "84340493",
   "metadata": {
    "slideshow": {
     "slide_type": "-"
    }
   },
   "outputs": [],
   "source": [
    "## column 1\n",
    "md_array[:, 0]"
   ]
  },
  {
   "cell_type": "code",
   "execution_count": null,
   "id": "93c7d6ff",
   "metadata": {
    "slideshow": {
     "slide_type": "-"
    }
   },
   "outputs": [],
   "source": [
    "## column 2\n",
    "md_array[:, 1]"
   ]
  },
  {
   "cell_type": "code",
   "execution_count": null,
   "id": "f8b6607f",
   "metadata": {
    "slideshow": {
     "slide_type": "-"
    }
   },
   "outputs": [],
   "source": [
    "## column 3\n",
    "md_array[:, 2]"
   ]
  },
  {
   "cell_type": "markdown",
   "id": "c6ab6acc",
   "metadata": {
    "slideshow": {
     "slide_type": "slide"
    }
   },
   "source": [
    "#### Check-in\n",
    "\n",
    "How would you retrieve the *second* and *third* element of the second row?\n",
    "\n",
    "```python\n",
    "md_array = np.array([[1, 2, 5], [3, 4, 7]])\n",
    "md_array\n",
    "```"
   ]
  },
  {
   "cell_type": "code",
   "execution_count": null,
   "id": "a66afd93",
   "metadata": {
    "slideshow": {
     "slide_type": "-"
    }
   },
   "outputs": [],
   "source": [
    "### Your code here\n",
    "md_array = np.array([[1, 2, 5], [3, 4, 7]])\n",
    "md_array[1, 1:3]"
   ]
  },
  {
   "cell_type": "markdown",
   "id": "6ec7e1be",
   "metadata": {
    "slideshow": {
     "slide_type": "slide"
    }
   },
   "source": [
    "#### Solution"
   ]
  },
  {
   "cell_type": "code",
   "execution_count": null,
   "id": "0ea64a29",
   "metadata": {
    "slideshow": {
     "slide_type": "-"
    }
   },
   "outputs": [],
   "source": [
    "## First, get second row with md_array[1]\n",
    "md_array[1]"
   ]
  },
  {
   "cell_type": "code",
   "execution_count": null,
   "id": "6fd4b2f7",
   "metadata": {
    "slideshow": {
     "slide_type": "-"
    }
   },
   "outputs": [],
   "source": [
    "## First, get second/third elements with slicing\n",
    "## I.e., [1:3] syntax\n",
    "md_array[1, 1:3]"
   ]
  },
  {
   "cell_type": "markdown",
   "id": "d8086789",
   "metadata": {
    "slideshow": {
     "slide_type": "slide"
    }
   },
   "source": [
    "### Summary statistics with matrices\n",
    "\n",
    "- When you call `np.sum` (or `mean`, etc.), you can specify which **axis** to calculate that statistic from.  \n",
    "- `axis = 0`: calculate `sum` (or `mean`, etc.) of each **column**.\n",
    "- `axis = 1`: calculate `sum` (or `mean`, etc.) of each **row**."
   ]
  },
  {
   "cell_type": "code",
   "execution_count": null,
   "id": "82eab486",
   "metadata": {},
   "outputs": [],
   "source": [
    "## Calcaulate mean of each column\n",
    "print(md_array)\n",
    "md_array.sum(axis = 0)"
   ]
  },
  {
   "cell_type": "code",
   "execution_count": null,
   "id": "eb37a7b2",
   "metadata": {},
   "outputs": [],
   "source": [
    "## Calcaulate mean of each row\n",
    "md_array.sum(axis = 1)"
   ]
  },
  {
   "cell_type": "markdown",
   "id": "0095b687",
   "metadata": {
    "slideshow": {
     "slide_type": "slide"
    }
   },
   "source": [
    "#### Check-in\n",
    "\n",
    "How would you calculate the `mean` of each **row** of the following matrix?"
   ]
  },
  {
   "cell_type": "code",
   "execution_count": null,
   "id": "7b09efb9",
   "metadata": {},
   "outputs": [],
   "source": [
    "m = np.array([[5, 10, 2],\n",
    "            [20, 5, 100]])\n",
    "### your code here\n",
    "np.mean(m, axis = 1)"
   ]
  },
  {
   "cell_type": "markdown",
   "id": "90e42a05",
   "metadata": {
    "slideshow": {
     "slide_type": "slide"
    }
   },
   "source": [
    "#### Solution"
   ]
  },
  {
   "cell_type": "code",
   "execution_count": null,
   "id": "c85b02fa",
   "metadata": {},
   "outputs": [],
   "source": [
    "m.mean(axis = 1)"
   ]
  },
  {
   "cell_type": "code",
   "execution_count": null,
   "id": "122558d9",
   "metadata": {},
   "outputs": [],
   "source": [
    "m.mean(axis = 1).shape"
   ]
  },
  {
   "cell_type": "markdown",
   "id": "7165afef",
   "metadata": {
    "slideshow": {
     "slide_type": "slide"
    }
   },
   "source": [
    "#### Check-in\n",
    "\n",
    "Suppose you have a 5x6 matrix (5 rows, 6 columns). If you calculated the `mean` of each **column**, what would the `shape` be of the resulting vector?"
   ]
  },
  {
   "cell_type": "markdown",
   "id": "09fe30f6",
   "metadata": {
    "slideshow": {
     "slide_type": "slide"
    }
   },
   "source": [
    "#### Solution\n",
    "\n",
    "The vector would have a `shape` of `(6,)`, i.e., **six observations**.\n",
    "\n",
    "- There are six columns, so calculating the mean of each column would result in *six observations*."
   ]
  },
  {
   "cell_type": "markdown",
   "id": "57b6096c",
   "metadata": {
    "slideshow": {
     "slide_type": "slide"
    }
   },
   "source": [
    "### Side note: arithmetic with matrices\n",
    "\n",
    "- You can also perform arithmetic with matrices (e.g., **addition**, **multiplication**, etc.).\n",
    "- However, note that matrices must have compatible dimensions.  \n",
    "   - More discussion of this in a [Linear Algebra class](https://en.wikipedia.org/wiki/Linear_algebra)."
   ]
  },
  {
   "cell_type": "markdown",
   "id": "e94306ff",
   "metadata": {
    "slideshow": {
     "slide_type": "slide"
    }
   },
   "source": [
    "## Identifying the location of an item\n",
    "\n",
    "Often, you'll need to **search** a vector or matrix for items that meet a certain conditions.\n",
    "\n",
    "- All `scores == 100`.\n",
    "- All `building_heights` above a certain threshold.  \n",
    "- All `reaction_times` above a certain cutoff.\n",
    "\n",
    "You can think of this as **applying a conditional statement** to *search* a vector."
   ]
  },
  {
   "cell_type": "markdown",
   "id": "f0d581cc",
   "metadata": {
    "slideshow": {
     "slide_type": "slide"
    }
   },
   "source": [
    "### Identifying the location of an item\n",
    "\n",
    "Often, you'll need to **search** a vector or matrix for items that meet a certain conditions.\n",
    "\n",
    "- All `scores == 100`.\n",
    "- All `building_heights` above a certain threshold.  \n",
    "- All `reaction_times` above a certain cutoff.\n",
    "\n",
    "You can think of this as **applying a conditional statement** to *search* a vector."
   ]
  },
  {
   "cell_type": "markdown",
   "id": "4d7071bd",
   "metadata": {
    "slideshow": {
     "slide_type": "slide"
    }
   },
   "source": [
    "### Using `==`\n",
    "\n",
    "This will return a vector of `True` or `False`, indicating whether each index/element matches the condition."
   ]
  },
  {
   "cell_type": "code",
   "execution_count": null,
   "id": "f4219bf2",
   "metadata": {
    "slideshow": {
     "slide_type": "-"
    }
   },
   "outputs": [],
   "source": [
    "## Scores\n",
    "scores = np.array([100, 95, 100, 85])"
   ]
  },
  {
   "cell_type": "code",
   "execution_count": null,
   "id": "9aba37a8",
   "metadata": {
    "slideshow": {
     "slide_type": "-"
    }
   },
   "outputs": [],
   "source": [
    "## Which scores == 100?\n",
    "scores == 100"
   ]
  },
  {
   "cell_type": "code",
   "execution_count": null,
   "id": "e2881e3e",
   "metadata": {
    "slideshow": {
     "slide_type": "-"
    }
   },
   "outputs": [],
   "source": [
    "## Select only scores == 100\n",
    "scores[scores >= 95]"
   ]
  },
  {
   "cell_type": "markdown",
   "id": "6d75ec25",
   "metadata": {
    "slideshow": {
     "slide_type": "slide"
    }
   },
   "source": [
    "### Using `np.where`\n",
    "\n",
    "By default, this will return the **indices** in the initial array corresponding to the condition."
   ]
  },
  {
   "cell_type": "code",
   "execution_count": null,
   "id": "708203e3",
   "metadata": {
    "slideshow": {
     "slide_type": "-"
    }
   },
   "outputs": [],
   "source": [
    "## Get indices\n",
    "np.where(scores == 100)"
   ]
  },
  {
   "cell_type": "code",
   "execution_count": null,
   "id": "915164c5",
   "metadata": {
    "slideshow": {
     "slide_type": "-"
    }
   },
   "outputs": [],
   "source": [
    "## Applying indices to vector\n",
    "scores[np.where(scores == 100)]"
   ]
  },
  {
   "cell_type": "markdown",
   "id": "6e3b9204",
   "metadata": {
    "slideshow": {
     "slide_type": "slide"
    }
   },
   "source": [
    "### Check-in\n",
    "\n",
    "Consider the following array of `building_heights`. How would you find out which buildings are taller than 50 feet?"
   ]
  },
  {
   "cell_type": "code",
   "execution_count": null,
   "id": "f1247f7e",
   "metadata": {
    "slideshow": {
     "slide_type": "-"
    }
   },
   "outputs": [],
   "source": [
    "building_heights = np.array([25, 45, 10, 60, 10, 85, 100])\n",
    "### Your code here\n",
    "building_heights[building_heights > 50]"
   ]
  },
  {
   "cell_type": "markdown",
   "id": "ec680552",
   "metadata": {
    "slideshow": {
     "slide_type": "slide"
    }
   },
   "source": [
    "### Solution using `==`"
   ]
  },
  {
   "cell_type": "code",
   "execution_count": null,
   "id": "8f03d3dd",
   "metadata": {
    "slideshow": {
     "slide_type": "-"
    }
   },
   "outputs": [],
   "source": [
    "building_heights > 50"
   ]
  },
  {
   "cell_type": "code",
   "execution_count": null,
   "id": "92881262",
   "metadata": {
    "slideshow": {
     "slide_type": "-"
    }
   },
   "outputs": [],
   "source": [
    "building_heights[building_heights > 50]"
   ]
  },
  {
   "cell_type": "markdown",
   "id": "54f515c5",
   "metadata": {
    "slideshow": {
     "slide_type": "slide"
    }
   },
   "source": [
    "### Solution using `np.where`"
   ]
  },
  {
   "cell_type": "code",
   "execution_count": null,
   "id": "1459f885",
   "metadata": {
    "slideshow": {
     "slide_type": "-"
    }
   },
   "outputs": [],
   "source": [
    "## Get indices\n",
    "np.where(building_heights > 50)"
   ]
  },
  {
   "cell_type": "code",
   "execution_count": null,
   "id": "d71689f0",
   "metadata": {
    "slideshow": {
     "slide_type": "-"
    }
   },
   "outputs": [],
   "source": [
    "## Apply indices\n",
    "building_heights[np.where(building_heights > 50)]"
   ]
  },
  {
   "cell_type": "markdown",
   "id": "d6257791",
   "metadata": {
    "slideshow": {
     "slide_type": "slide"
    }
   },
   "source": [
    "## Other useful functions\n",
    "\n",
    "`numpy` also has a host of other useful functions. For now, we'll focus on:\n",
    "\n",
    "- **Generating an array** with either random numbers or `ones` or `zeros`.\n",
    "- **Reshaping an array** with `reshape."
   ]
  },
  {
   "cell_type": "markdown",
   "id": "9dee2a5a",
   "metadata": {
    "slideshow": {
     "slide_type": "slide"
    }
   },
   "source": [
    "### Initializing a random array\n",
    "\n",
    "`numpy.random.rand(d1, ...)` can be used to initialize an array with **random numbers** and dimensionality `(d1, ...)`."
   ]
  },
  {
   "cell_type": "code",
   "execution_count": null,
   "id": "7bd478da",
   "metadata": {
    "slideshow": {
     "slide_type": "-"
    }
   },
   "outputs": [],
   "source": [
    "## Generates a 1-D vector with 10 elements\n",
    "np.random.rand(10)"
   ]
  },
  {
   "cell_type": "code",
   "execution_count": null,
   "id": "6e83ebf2",
   "metadata": {
    "slideshow": {
     "slide_type": "-"
    }
   },
   "outputs": [],
   "source": [
    "## Generates a 2-D vector with shape (2, 2)\n",
    "np.random.rand(5, 5)"
   ]
  },
  {
   "cell_type": "markdown",
   "id": "700dca67",
   "metadata": {
    "slideshow": {
     "slide_type": "slide"
    }
   },
   "source": [
    "#### Check-in\n",
    "\n",
    "Generate a random array with shape (3, 2), then calculate the `mean` of each column."
   ]
  },
  {
   "cell_type": "code",
   "execution_count": null,
   "id": "1bf4bd0a",
   "metadata": {
    "slideshow": {
     "slide_type": "-"
    }
   },
   "outputs": [],
   "source": [
    "### Your code here\n",
    "cook = np.random.rand(100000000, 2)\n",
    "cook.mean(axis = 0)"
   ]
  },
  {
   "cell_type": "markdown",
   "id": "e951456d",
   "metadata": {
    "slideshow": {
     "slide_type": "slide"
    }
   },
   "source": [
    "#### Solution"
   ]
  },
  {
   "cell_type": "code",
   "execution_count": 34,
   "id": "4e7cb309",
   "metadata": {
    "slideshow": {
     "slide_type": "-"
    }
   },
   "outputs": [
    {
     "data": {
      "text/plain": [
       "array([[0.18374708, 0.72578191],\n",
       "       [0.75109432, 0.71579205],\n",
       "       [0.31648686, 0.98426268]])"
      ]
     },
     "execution_count": 34,
     "metadata": {},
     "output_type": "execute_result"
    }
   ],
   "source": [
    "r = np.random.rand(3, 2)\n",
    "r"
   ]
  },
  {
   "cell_type": "code",
   "execution_count": 35,
   "id": "25322909",
   "metadata": {
    "slideshow": {
     "slide_type": "-"
    }
   },
   "outputs": [
    {
     "data": {
      "text/plain": [
       "array([0.41710942, 0.80861221])"
      ]
     },
     "execution_count": 35,
     "metadata": {},
     "output_type": "execute_result"
    }
   ],
   "source": [
    "r.mean(axis = 0)"
   ]
  },
  {
   "cell_type": "markdown",
   "id": "725218fc",
   "metadata": {
    "slideshow": {
     "slide_type": "slide"
    }
   },
   "source": [
    "### Initializing an array of `ones` or `zeros`\n",
    "\n",
    "This is like `np.random.rand`, but each element is either a `1` or `0`."
   ]
  },
  {
   "cell_type": "code",
   "execution_count": 39,
   "id": "64a31c7a",
   "metadata": {
    "slideshow": {
     "slide_type": "-"
    }
   },
   "outputs": [
    {
     "data": {
      "text/plain": [
       "array([[1., 1.],\n",
       "       [1., 1.]])"
      ]
     },
     "execution_count": 39,
     "metadata": {},
     "output_type": "execute_result"
    }
   ],
   "source": [
    "np.ones((2, 2))"
   ]
  },
  {
   "cell_type": "code",
   "execution_count": 37,
   "id": "eb99947b",
   "metadata": {
    "slideshow": {
     "slide_type": "-"
    }
   },
   "outputs": [
    {
     "data": {
      "text/plain": [
       "array([[0., 0.],\n",
       "       [0., 0.]])"
      ]
     },
     "execution_count": 37,
     "metadata": {},
     "output_type": "execute_result"
    }
   ],
   "source": [
    "np.zeros((2, 2))"
   ]
  },
  {
   "cell_type": "markdown",
   "id": "e7479aa7",
   "metadata": {
    "slideshow": {
     "slide_type": "slide"
    }
   },
   "source": [
    "### Using `numpy.reshape`\n",
    "\n",
    "Sometimes, a matrix or vector isn't the right **shape** to perform a computation.\n",
    "\n",
    "- E.g., multiplying by another vector.  \n",
    "- E.g., using for regression in a regression equation.\n",
    "\n",
    "We can use `np.reshape` to reshape that array."
   ]
  },
  {
   "cell_type": "markdown",
   "id": "f3485548",
   "metadata": {
    "slideshow": {
     "slide_type": "slide"
    }
   },
   "source": [
    "#### Example: turning a vector into a matrix"
   ]
  },
  {
   "cell_type": "code",
   "execution_count": 40,
   "id": "7796c899",
   "metadata": {
    "slideshow": {
     "slide_type": "-"
    }
   },
   "outputs": [
    {
     "data": {
      "text/plain": [
       "array([1., 1., 1., 1., 1., 1., 1., 1., 1., 1.])"
      ]
     },
     "execution_count": 40,
     "metadata": {},
     "output_type": "execute_result"
    }
   ],
   "source": [
    "# Create a (10, ) vector\n",
    "og_array = np.ones(10)\n",
    "og_array"
   ]
  },
  {
   "cell_type": "code",
   "execution_count": 41,
   "id": "00641249",
   "metadata": {},
   "outputs": [
    {
     "data": {
      "text/plain": [
       "array([[1., 1., 1., 1., 1.],\n",
       "       [1., 1., 1., 1., 1.]])"
      ]
     },
     "execution_count": 41,
     "metadata": {},
     "output_type": "execute_result"
    }
   ],
   "source": [
    "# Reshape to (2, 5)\n",
    "og_array.reshape((2, 5))"
   ]
  },
  {
   "cell_type": "code",
   "execution_count": 42,
   "id": "f2905cac",
   "metadata": {},
   "outputs": [
    {
     "data": {
      "text/plain": [
       "array([[1., 1.],\n",
       "       [1., 1.],\n",
       "       [1., 1.],\n",
       "       [1., 1.],\n",
       "       [1., 1.]])"
      ]
     },
     "execution_count": 42,
     "metadata": {},
     "output_type": "execute_result"
    }
   ],
   "source": [
    "# Reshape to (5, 2)\n",
    "og_array.reshape((5, 2))"
   ]
  },
  {
   "cell_type": "markdown",
   "id": "5887c6c3",
   "metadata": {
    "slideshow": {
     "slide_type": "slide"
    }
   },
   "source": [
    "#### Dimensions must be compatible\n",
    "\n",
    "If you try to `reshape` into a `shape` that's not compatible with the original `size` (i.e., not **divisible** by `size`), you'll get an error."
   ]
  },
  {
   "cell_type": "code",
   "execution_count": 43,
   "id": "032bb803",
   "metadata": {},
   "outputs": [
    {
     "ename": "ValueError",
     "evalue": "cannot reshape array of size 10 into shape (4,4)",
     "output_type": "error",
     "traceback": [
      "\u001b[0;31m---------------------------------------------------------------------------\u001b[0m",
      "\u001b[0;31mValueError\u001b[0m                                Traceback (most recent call last)",
      "Cell \u001b[0;32mIn[43], line 2\u001b[0m\n\u001b[1;32m      1\u001b[0m \u001b[38;5;66;03m# Reshape to (5, 2)\u001b[39;00m\n\u001b[0;32m----> 2\u001b[0m \u001b[43mog_array\u001b[49m\u001b[38;5;241;43m.\u001b[39;49m\u001b[43mreshape\u001b[49m\u001b[43m(\u001b[49m\u001b[43m(\u001b[49m\u001b[38;5;241;43m4\u001b[39;49m\u001b[43m,\u001b[49m\u001b[43m \u001b[49m\u001b[38;5;241;43m4\u001b[39;49m\u001b[43m)\u001b[49m\u001b[43m)\u001b[49m\n",
      "\u001b[0;31mValueError\u001b[0m: cannot reshape array of size 10 into shape (4,4)"
     ]
    }
   ],
   "source": [
    "# Reshape to (5, 2)\n",
    "og_array.reshape((4, 4))"
   ]
  },
  {
   "cell_type": "markdown",
   "id": "8c9ac09c",
   "metadata": {
    "slideshow": {
     "slide_type": "slide"
    }
   },
   "source": [
    "## Conclusion\n",
    "\n",
    "There's lots more to working with files (including text files), but this sets the **foundation**. Now you should feel a little more comfortable:\n",
    "\n",
    "- Understanding how to navigate your computer's **directory structure**.  \n",
    "  - E.g., knowing \"where\" a file is located.\n",
    "- Knowing how to `open` a file in Python.\n",
    "- Knowing how to **read** or **write** that file.\n",
    "\n",
    "This will form the basis of working with future file types, such as `.csv` (a very common format for representing tabular data)."
   ]
  }
 ],
 "metadata": {
  "celltoolbar": "Slideshow",
  "kernelspec": {
   "display_name": "Python 3 (ipykernel)",
   "language": "python",
   "name": "python3"
  },
  "language_info": {
   "codemirror_mode": {
    "name": "ipython",
    "version": 3
   },
   "file_extension": ".py",
   "mimetype": "text/x-python",
   "name": "python",
   "nbconvert_exporter": "python",
   "pygments_lexer": "ipython3",
   "version": "3.10.9"
  }
 },
 "nbformat": 4,
 "nbformat_minor": 5
}
