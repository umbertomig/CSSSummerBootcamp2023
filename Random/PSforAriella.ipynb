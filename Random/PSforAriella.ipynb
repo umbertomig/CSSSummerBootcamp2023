{
 "cells": [
  {
   "cell_type": "markdown",
   "id": "a87d226f",
   "metadata": {},
   "source": [
    "## PS for Ariella\n",
    "\n",
    "Ariella, I will try to do as much as I can in order of difficulty. \n",
    "\n",
    "If you feel like you are good to go, skip until the problem is sufficiently hard. But try to implement even the easier ones.\n",
    "\n",
    "You should use for or while loops, unless otherwise instructed.\n",
    "\n",
    "**Hint 1**: The functions have no arguments. You should decide which arguments should be added to the function.\n",
    "\n",
    "**Hint 2**: The functions have no return statement. You should decide what the function should return."
   ]
  },
  {
   "cell_type": "markdown",
   "id": "2ae9c5da",
   "metadata": {},
   "source": [
    "### Question 01\n",
    "\n",
    "Write a program to print the numbers from 1 to 10 using a for loop."
   ]
  },
  {
   "cell_type": "code",
   "execution_count": 16,
   "id": "1f6d9935",
   "metadata": {},
   "outputs": [],
   "source": [
    "## Your code here\n",
    "def printten():\n",
    "    pass"
   ]
  },
  {
   "cell_type": "markdown",
   "id": "cdf1a49c",
   "metadata": {},
   "source": [
    "### Question 02\n",
    "\n",
    "Write a code to print the even numbers from 1 to 10 but the odd numbers from 11 to 20."
   ]
  },
  {
   "cell_type": "code",
   "execution_count": 17,
   "id": "e0f97012",
   "metadata": {},
   "outputs": [],
   "source": [
    "## Your code here\n",
    "def printeven():\n",
    "    pass"
   ]
  },
  {
   "cell_type": "markdown",
   "id": "6feb31cf",
   "metadata": {},
   "source": [
    "### Question 03\n",
    "\n",
    "Create a function that calculates the sum of all numbers from $k$ to $n$ (assume $k < n$, and both integers)."
   ]
  },
  {
   "cell_type": "code",
   "execution_count": 18,
   "id": "fb932993",
   "metadata": {},
   "outputs": [],
   "source": [
    "## Your code here"
   ]
  },
  {
   "cell_type": "markdown",
   "id": "52d035bd",
   "metadata": {},
   "source": [
    "### Question 04\n",
    "\n",
    "Create a function that receives a number and prints the times table of it **without using loops**. \n",
    "\n",
    "Example: \n",
    "\n",
    "```python\n",
    "mytimes(2)\n",
    "\n",
    "2 x 1 = 2\n",
    "2 x 2 = 4\n",
    "...\n",
    "2 x 10 = 20\n",
    "```"
   ]
  },
  {
   "cell_type": "code",
   "execution_count": 19,
   "id": "0f2498e3",
   "metadata": {},
   "outputs": [],
   "source": [
    "## Your code here\n",
    "def mytimes():\n",
    "    pass"
   ]
  },
  {
   "cell_type": "markdown",
   "id": "09bb5146",
   "metadata": {},
   "source": [
    "### Question 05\n",
    "\n",
    "Create a function that receives a number (above three) and prints the times table for the number below it, the number itself, and the number above it **using loops**. Example:\n",
    "\n",
    "```python\n",
    "mysupertimes(4)\n",
    "\n",
    "3 x 1 = 3    4 x 1 = 4    5 x 1 = 5\n",
    "3 x 2 = 6    4 x 2 = 8    5 x 2 = 10\n",
    "...\n",
    "3 x 10 = 30  4 x 10 = 40  5 x 10 = 50\n",
    "```"
   ]
  },
  {
   "cell_type": "code",
   "execution_count": 20,
   "id": "11188c58",
   "metadata": {},
   "outputs": [],
   "source": [
    "## Your code here\n",
    "def mysupertimes():\n",
    "    pass"
   ]
  },
  {
   "cell_type": "markdown",
   "id": "1d759dc2",
   "metadata": {},
   "source": [
    "### Question 06\n",
    "\n",
    "Create a function that prints the [factorial](https://en.wikipedia.org/wiki/Factorial) of a given number."
   ]
  },
  {
   "cell_type": "code",
   "execution_count": 21,
   "id": "210b7eb2",
   "metadata": {},
   "outputs": [],
   "source": [
    "## Your code here\n",
    "def factorial():\n",
    "    pass"
   ]
  },
  {
   "cell_type": "markdown",
   "id": "1b6a67f1",
   "metadata": {},
   "source": [
    "### Question 07\n",
    "\n",
    "Create a function to find whether a number is [prime](https://en.wikipedia.org/wiki/Prime_number) or not."
   ]
  },
  {
   "cell_type": "code",
   "execution_count": 22,
   "id": "adf90b40",
   "metadata": {},
   "outputs": [],
   "source": [
    "## Your code here\n",
    "def isprime():\n",
    "    pass"
   ]
  },
  {
   "cell_type": "markdown",
   "id": "01ee7920",
   "metadata": {},
   "source": [
    "### Question 08\n",
    "\n",
    "Using the function in Q07, write a program that finds all the prime numbers between 1 and $n$."
   ]
  },
  {
   "cell_type": "code",
   "execution_count": 23,
   "id": "36a86fb7",
   "metadata": {},
   "outputs": [],
   "source": [
    "## Your code here\n",
    "def findprimes():\n",
    "    pass"
   ]
  },
  {
   "cell_type": "markdown",
   "id": "d80d9397",
   "metadata": {},
   "source": [
    "### Question 09\n",
    "\n",
    "Write a code that finds the largest number in a given list."
   ]
  },
  {
   "cell_type": "code",
   "execution_count": 24,
   "id": "dfddbea7",
   "metadata": {},
   "outputs": [],
   "source": [
    "## Your code here\n",
    "def largest():\n",
    "    pass"
   ]
  },
  {
   "cell_type": "markdown",
   "id": "eeed91b8",
   "metadata": {},
   "source": [
    "### Question 10\n",
    "\n",
    "Create a program that checks if a given number is a palindrome (reads the same forward and backward)."
   ]
  },
  {
   "cell_type": "code",
   "execution_count": 25,
   "id": "a1605e1d",
   "metadata": {},
   "outputs": [],
   "source": [
    "## Your code here\n",
    "def palnumber():\n",
    "    pass"
   ]
  },
  {
   "cell_type": "markdown",
   "id": "d76c5e75",
   "metadata": {},
   "source": [
    "### Question 11\n",
    "\n",
    "Create a function that receives a start, a stop, and a step, and creates a sequence of points. Should pretty much work like `range`, but you should not use the function range to do it."
   ]
  },
  {
   "cell_type": "code",
   "execution_count": 26,
   "id": "7bea3d8e",
   "metadata": {},
   "outputs": [],
   "source": [
    "## Your code here\n",
    "def mypartition():\n",
    "    pass"
   ]
  },
  {
   "cell_type": "markdown",
   "id": "b4a115ec",
   "metadata": {},
   "source": [
    "### Question 12\n",
    "\n",
    "Suppose the user passes the following twitter handlers:\n",
    "\n",
    "```python\n",
    "handlers = ['@umberto', '@adelle', '@jeff', '@lilly', '@jiaqi', '@ting-an']\n",
    "```\n",
    "\n",
    "We have a function called `extract_tweets`, that takes the handler and extracts the info. \n",
    "\n",
    "Write a code that extracts it all and saves them in a list."
   ]
  },
  {
   "cell_type": "code",
   "execution_count": 27,
   "id": "009076ec",
   "metadata": {},
   "outputs": [],
   "source": [
    "# My code:\n",
    "def extract_tweets(handler):\n",
    "    print('Extracting info from @{}.'.format(handler))\n",
    "    return 'Here is the info about @{}'.format(handler)\n",
    "\n",
    "## Your code here\n",
    "def my_parser():\n",
    "    pass"
   ]
  },
  {
   "cell_type": "markdown",
   "id": "091a61d1",
   "metadata": {},
   "source": [
    "### Question 13\n",
    "\n",
    "Suppose you have a large dataset that does not fit inside the memory. You have a function called `readfrac(file, startshare, endshare)`, that reads a fraction of the file. You also have a function called `compstat(data)` that if receives the *right* data, gives you a good stat.\n",
    "\n",
    "Create a function that:\n",
    "\n",
    "1. Creates a partition of the interval [0, 1], with size `prop`. Example: if prop = 0.5, then the partition is: [0, 0.5, 1]. (Hint: use Q11 to help you)\n",
    "\n",
    "2. Extract a statistic for each chunk and save it.\n",
    "\n",
    "In the end, it should return a list with the stats for each portion of the dataset."
   ]
  },
  {
   "cell_type": "code",
   "execution_count": 28,
   "id": "ea45e9d1",
   "metadata": {},
   "outputs": [],
   "source": [
    "# To help you up\n",
    "def readfrac(file, startshare, endshare):\n",
    "    print('Reading portion {} to {} of file {}'.format(startshare, endshare, file))\n",
    "    return 'Here is the data'\n",
    "\n",
    "def compstat(data):\n",
    "    import random as rd\n",
    "    if data == 'Here is the data':\n",
    "        return rd.gauss(42)\n",
    "\n",
    "## Your code here\n",
    "def chunk_process():\n",
    "    pass"
   ]
  },
  {
   "cell_type": "markdown",
   "id": "92f454cf",
   "metadata": {},
   "source": [
    "### Question 14\n",
    "\n",
    "Create a function that receives the result from the previous question (Q13), and compute the mean of it."
   ]
  },
  {
   "cell_type": "code",
   "execution_count": 29,
   "id": "e7280e46",
   "metadata": {},
   "outputs": [],
   "source": [
    "## Your code here\n",
    "def mymean():\n",
    "    pass"
   ]
  },
  {
   "cell_type": "markdown",
   "id": "cc7a75d0",
   "metadata": {},
   "source": [
    "### Question 15\n",
    "\n",
    "Now, suppose that you have 999 files in a folder that are very large, and cannot be written at once.\n",
    "\n",
    "The files are:\n",
    "\n",
    "```\n",
    "myfile001.txt\n",
    "myfile002.txt\n",
    "myfile003.txt\n",
    "...\n",
    "myfile998.txt\n",
    "myfile999.txt\n",
    "```\n",
    "\n",
    "Create a function that:\n",
    "\n",
    "1. Reads 10% of each file\n",
    "2. Extract a stat\n",
    "3. After done with the file, take the mean of the stats, store the mean, and go to the next file\n",
    "\n",
    "By the end of the processing, it should take the mean of the means. This is the [\"*Answer to the Ultimate Question of Life, the Universe, and Everything*\"](https://en.wikipedia.org/wiki/Phrases_from_The_Hitchhiker%27s_Guide_to_the_Galaxy#Answer_to_the_Ultimate_Question_of_Life,_the_Universe,_and_Everything_(42))\n",
    "\n",
    "If your answer is not exactly 42, it is because our computers are not as strong as the [Deep Thought](https://en.wikipedia.org/wiki/List_of_The_Hitchhiker%27s_Guide_to_the_Galaxy_characters#Deep_Thought)."
   ]
  },
  {
   "cell_type": "code",
   "execution_count": 30,
   "id": "60c2fddc",
   "metadata": {},
   "outputs": [],
   "source": [
    "## Your code here\n",
    "def the_answer():\n",
    "    pass"
   ]
  },
  {
   "cell_type": "markdown",
   "id": "9b3c15d0",
   "metadata": {},
   "source": [
    "## The end"
   ]
  }
 ],
 "metadata": {
  "kernelspec": {
   "display_name": "Python 3 (ipykernel)",
   "language": "python",
   "name": "python3"
  },
  "language_info": {
   "codemirror_mode": {
    "name": "ipython",
    "version": 3
   },
   "file_extension": ".py",
   "mimetype": "text/x-python",
   "name": "python",
   "nbconvert_exporter": "python",
   "pygments_lexer": "ipython3",
   "version": "3.11.3"
  }
 },
 "nbformat": 4,
 "nbformat_minor": 5
}
