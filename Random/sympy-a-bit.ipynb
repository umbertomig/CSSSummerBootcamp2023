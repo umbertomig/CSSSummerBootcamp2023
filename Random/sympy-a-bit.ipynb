{
 "cells": [
  {
   "cell_type": "code",
   "execution_count": 78,
   "id": "fb84a263",
   "metadata": {},
   "outputs": [],
   "source": [
    "## Doing some SymPy\n",
    "\n",
    "# Step 0: Load packages\n",
    "\n",
    "import sympy\n",
    "import numpy as np\n",
    "sympy.init_printing()"
   ]
  },
  {
   "cell_type": "code",
   "execution_count": 79,
   "id": "0188e5d3",
   "metadata": {},
   "outputs": [],
   "source": [
    "# Step 1: Declare symbols\n",
    "x = sympy.Symbol('x')\n",
    "z = sympy.Symbol('z')"
   ]
  },
  {
   "cell_type": "code",
   "execution_count": 80,
   "id": "bd3817e3",
   "metadata": {},
   "outputs": [
    {
     "data": {
      "image/png": "[encoded data removed]",
      "text/latex": [
       "$\\displaystyle 6 z^{5}$"
      ],
      "text/plain": [
       "   5\n",
       "6⋅z "
      ]
     },
     "execution_count": 80,
     "metadata": {},
     "output_type": "execute_result"
    }
   ],
   "source": [
    "# Step 2: Write down the equation\n",
    "f = 3 * (z ** 2) * (2 * z ** 3)\n",
    "f"
   ]
  },
  {
   "cell_type": "code",
   "execution_count": 81,
   "id": "2461a71f",
   "metadata": {},
   "outputs": [
    {
     "data": {
      "image/png": "[encoded data removed]",
      "text/latex": [
       "$\\displaystyle 30 z^{4}$"
      ],
      "text/plain": [
       "    4\n",
       "30⋅z "
      ]
     },
     "execution_count": 81,
     "metadata": {},
     "output_type": "execute_result"
    }
   ],
   "source": [
    "# Step 3: Calculations\n",
    "\n",
    "# Derivative\n",
    "f.diff(z)"
   ]
  },
  {
   "cell_type": "code",
   "execution_count": 83,
   "id": "6ff487f5",
   "metadata": {},
   "outputs": [],
   "source": [
    "f = sympy.Function('f')(x)\n",
    "g = sympy.Function('g')(x)"
   ]
  },
  {
   "cell_type": "code",
   "execution_count": 84,
   "id": "bdbff3ca",
   "metadata": {},
   "outputs": [
    {
     "data": {
      "image/png": "[encoded data removed]",
      "text/latex": [
       "$\\displaystyle f{\\left(x \\right)}$"
      ],
      "text/plain": [
       "f(x)"
      ]
     },
     "execution_count": 84,
     "metadata": {},
     "output_type": "execute_result"
    }
   ],
   "source": [
    "f"
   ]
  },
  {
   "cell_type": "code",
   "execution_count": 85,
   "id": "0b126afc",
   "metadata": {},
   "outputs": [
    {
     "data": {
      "image/png": "[encoded data removed]",
      "text/latex": [
       "$\\displaystyle g{\\left(x \\right)}$"
      ],
      "text/plain": [
       "g(x)"
      ]
     },
     "execution_count": 85,
     "metadata": {},
     "output_type": "execute_result"
    }
   ],
   "source": [
    "g"
   ]
  },
  {
   "cell_type": "code",
   "execution_count": 90,
   "id": "798eec78",
   "metadata": {},
   "outputs": [
    {
     "data": {
      "image/png": "[encoded data removed]",
      "text/latex": [
       "$\\displaystyle y \\frac{d}{d x} f{\\left(x \\right)}$"
      ],
      "text/plain": [
       "  d       \n",
       "y⋅──(f(x))\n",
       "  dx      "
      ]
     },
     "execution_count": 90,
     "metadata": {},
     "output_type": "execute_result"
    }
   ],
   "source": [
    "sympy.diff(y * f, x)"
   ]
  }
 ],
 "metadata": {
  "kernelspec": {
   "display_name": "Python 3 (ipykernel)",
   "language": "python",
   "name": "python3"
  },
  "language_info": {
   "codemirror_mode": {
    "name": "ipython",
    "version": 3
   },
   "file_extension": ".py",
   "mimetype": "text/x-python",
   "name": "python",
   "nbconvert_exporter": "python",
   "pygments_lexer": "ipython3",
   "version": "3.9.5"
  }
 },
 "nbformat": 4,
 "nbformat_minor": 5
}
