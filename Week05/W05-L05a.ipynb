{
 "cells": [
  {
   "cell_type": "markdown",
   "metadata": {
    "slideshow": {
     "slide_type": "slide"
    }
   },
   "source": [
    "# CSS 201 / 202 - CSS Bootcamp\n",
    "\n",
    "## Week 05 - Lecture 05\n",
    "\n",
    "### Umberto Mignozzetti"
   ]
  },
  {
   "cell_type": "markdown",
   "metadata": {
    "slideshow": {
     "slide_type": "slide"
    }
   },
   "source": [
    "# CSS 201 / 202 - CSS Bootcamp\n",
    "\n",
    "## Statistical and Probability Theory"
   ]
  },
  {
   "cell_type": "markdown",
   "metadata": {
    "slideshow": {
     "slide_type": "slide"
    }
   },
   "source": [
    "$\\newcommand\\pN{N}$\n",
    "$\\newcommand\\pE{\\mathop{{}\\mathbb{E}}}$\n",
    "$\\newcommand\\pV{\\mathop{{}\\mathbb{V}}}$\n",
    "$\\newcommand\\pP{\\mathop{{}\\mathbb{P}}}$\n",
    "$\\newcommand{\\ind}{\\perp\\!\\!\\!\\!\\perp}$\n",
    "$\\newcommand{\\bX}{\\mathbf{X}}$\n",
    "\n",
    "\n",
    "# Statistical and Probability Theory\n",
    "\n",
    "$\\newcommand{\\by}{\\mathbf{y}}$\n",
    "$\\newcommand{\\be}{\\mathbf{y}}$\n",
    "$\\newcommand{\\bbs}{\\mathbf{b}}$\n",
    "$\\newcommand{\\bbeta}{\\mathbf{\\beta}}$\n",
    "$\\newcommand{\\hbbeta}{\\widehat{\\mathbf{\\beta}}}$\n",
    "$\\newcommand{\\bhb}{\\widehat{\\mathbf{b}}}$\n",
    "$\\newcommand{\\bvx}{\\mathbf{x}}$ \n",
    "$\\newcommand{\\Ex}{\\mathbb{E}}$\n",
    "$\\newcommand{\\Vax}{\\mathbb{V}}$\n",
    "$\\newcommand{\\real}{\\mathbb{R}}$\n",
    "$\\newcommand{\\realp}{\\mathbb{R}^{+}}$\n",
    "$\\newcommand{\\cov}{\\text{Cov}}$\n",
    "$\\newcommand{\\convp}{\\overset{p}{\\longrightarrow}}$\n",
    "$\\newcommand{\\convd}{\\overset{d}{\\longrightarrow}}$"
   ]
  },
  {
   "cell_type": "code",
   "execution_count": 4,
   "metadata": {},
   "outputs": [],
   "source": [
    "import numpy as np\n",
    "import pandas as pd\n",
    "from matplotlib import pyplot as plt \n",
    "import seaborn as sns"
   ]
  },
  {
   "cell_type": "markdown",
   "metadata": {
    "slideshow": {
     "slide_type": "slide"
    }
   },
   "source": [
    "## Expectations\n",
    "\n",
    "**Definition -- Expected Value**: For a random variable $X$ with bounded variation:\n",
    "\n",
    "- If $X$ is discrete, then $E[X] \\ = \\ \\sum_{x}xf(x)$\n",
    "\n",
    "- If $X$ is continuous, then $E[X] \\ = \\ \\int_{-\\infty}^{\\infty}xf(x)$\n",
    " \n",
    "**Theorem -- Linearity of Expected Values**: For a random variable $X$, and $a, b \\in \\mathbb{R}$, then:\n",
    "\n",
    "$$E[aX + b] \\ = \\ aE[X] + b$$"
   ]
  },
  {
   "cell_type": "markdown",
   "metadata": {
    "slideshow": {
     "slide_type": "slide"
    }
   },
   "source": [
    "## Expectations\n",
    "\n",
    "Example:\n",
    "\n",
    "A product has one year warranty. Let $X$ be the time at which the product fails. Suppose $X$ has the distribution\n",
    "\n",
    "$$\n",
    "f(x) =\n",
    "  \\begin{cases}\n",
    "    0 & \\text{for $x<1$}, \\\\\n",
    "    \\dfrac{2}{x^3} & \\text{for $x \\geq 1$}\n",
    "  \\end{cases}\n",
    "$$\n",
    "\n",
    "When is the expected time to failure?"
   ]
  },
  {
   "cell_type": "markdown",
   "metadata": {
    "slideshow": {
     "slide_type": "slide"
    }
   },
   "source": [
    "## Expectations\n",
    "\n",
    "*What is an Expectation?* \n",
    "\n",
    "It is the center of gravity of a distribution. If we place the distribution in a plate, and put our fingers exactly in the mean, we would be able to balance it.\n",
    "\n",
    "![img](./imgl5/im0.png)"
   ]
  },
  {
   "cell_type": "markdown",
   "metadata": {
    "slideshow": {
     "slide_type": "slide"
    }
   },
   "source": [
    "## Expectations\n",
    "\n",
    "**Theorem -- Expectation of the sum of Random Variables**: If $X_1, \\cdots, X_n$ are $n$ random variables such that each expectation $E(X_i)$ is finite ($i = 1, \\cdots, n$), then \n",
    "\n",
    "$$E(X_1 + \\cdots + X_n) = E(X_1) + \\cdots + E(X_n)$$\n",
    "\n",
    "**Theorem -- Expectation of the product of Random Variables**: If $X_1, \\cdots, X_n$ are $n$ independent random variables such that each expectation $E(X_i)$ is finite ($i = 1, \\cdots, n$), then \n",
    "\n",
    "$$E\\bigg(\\prod_{i=1}^ nX_i\\bigg) = \\prod_{i=1}^ nE(X_i)$$\n",
    "\n",
    "Example: Suppose that $X_1$, $X_2$, and $X_3$ are independent random variables such that $E(X_i) = 0$ and $E(X^2_i) = 1$ for $i = 1, 2, 3$. What is $E[X^2_1(X_2 - 4X_3)^2]$?"
   ]
  },
  {
   "cell_type": "markdown",
   "metadata": {
    "slideshow": {
     "slide_type": "slide"
    }
   },
   "source": [
    "## Expectations\n",
    "\n",
    "**Check-in**: A filtration process removes a random proportion of particulates in water to which it is applied. Suppose that a sample of water is subjected to this process twice. Let $X_1$ be the proportion of the particulates that are removed by the first pass. Let $X_2$ be the proportion of what remains after the first pass that is removed by the second pass. Assume that $X_1$ and $X_2$ are independent random variables with common p.d.f. $f(x) = 4x^3$ for $0 < x <1$ and $f(x) = 0$, otherwise. What proportion of particutes remain in the sample after two passes?"
   ]
  },
  {
   "cell_type": "markdown",
   "metadata": {
    "slideshow": {
     "slide_type": "slide"
    }
   },
   "source": [
    "## Variance\n",
    "\n",
    "Although the mean of a distribution is useful, it does not convey much information.\n",
    "\n",
    "- Two very different r.v.s can have the same mean without having much in common.\n",
    "\n",
    "But we can fix that by measuring the spread of a variable: the *variance*.\n",
    "\n",
    "**Definition -- Variance**: For a random variable $X$, the variance is defined as:\n",
    "\n",
    "$$ Var [X] = \\Ex \\left[(X -\\Ex [X])^{2} \\right] $$\n",
    "\n",
    "And the **standard deviation** of a variable $X$ is defined as $\\sigma_X = \\sqrt{Var[X]}$\n",
    "\n",
    "**Alternative formula for the Variance**:\n",
    "\n",
    "$$ Var [X] = \\Ex [X^2] - \\left[ \\Ex [X] \\right]^2 $$"
   ]
  },
  {
   "cell_type": "markdown",
   "metadata": {
    "slideshow": {
     "slide_type": "slide"
    }
   },
   "source": [
    "## Variance\n",
    "\n",
    "**Properties:**\n",
    "\n",
    "1. For a random variable $X$ and constants $a$ and $b$, $Var [aX + b] \\ = \\ a^{2}Var[X]$ (and $\\sigma_{aX+b} = |a|\\sqrt{Var[X]}$)\n",
    "\n",
    "1. If $X_1, \\cdots , X_n$ are independent random variables with finite means, then $Var(X_1 + \\cdots + X_n) = Var(X_1) + \\cdots + Var(X_n)$\n",
    "\n",
    "**Check-in**: Suppose that one word is selected at random from the sentence THE GIRL PUT ON HER BEAUTIFUL RED HAT. If $X$ denotes the number of letters in the word that is selected, what is the value of Var(X)?\n"
   ]
  },
  {
   "cell_type": "markdown",
   "metadata": {
    "slideshow": {
     "slide_type": "slide"
    }
   },
   "source": [
    "## Moments\n",
    "\n",
    "- **Definition -- Raw Moment**: For a random variable $X$, the $j$-th *raw moment* is defined as:\n",
    "\n",
    "$$ \\mu_{j}' = E [X^{j}] $$\n",
    "\n",
    "- **Definition -- Central Moment**: For a random variable $X$, the $j$-th *central moment* is defined as:\n",
    "\n",
    "$$ \\mu_{j} = E \\left[(X -E [X])^{j} \\right] $$\n",
    "\n",
    "Things to remember:\n",
    "\n",
    "1. First central moment is always zero.\n",
    "1. Second central moment: *variance*\n",
    "1. Third central moment: *skewness*\n",
    "1. Very easy to compute moments if you take derivatives on $t$ using the moment generating function: $ \\psi(t) = E(e^{tX})$."
   ]
  },
  {
   "cell_type": "markdown",
   "metadata": {
    "slideshow": {
     "slide_type": "slide"
    }
   },
   "source": [
    "## Median\n",
    "\n",
    "**Definition -- Median:** Let $X$ be a random variable. Every number $m$ with the following property is called a median of the distribution of $X$:\n",
    "\n",
    "$$P(X \\leq m) \\geq 1/2 \\text{  and  } P(X \\geq m) \\geq 1/2$$\n",
    "\n",
    "Things to remember:\n",
    "\n",
    "1. Median is the point (or points, there can be multiple medians) in the distribution divide the probability in 1/2."
   ]
  },
  {
   "cell_type": "markdown",
   "metadata": {
    "slideshow": {
     "slide_type": "slide"
    }
   },
   "source": [
    "## Median\n",
    "\n",
    "Interesting: \n",
    "\n",
    "Suppose that the mean annual income among the families in a certain community is `$30,000`. \n",
    "\n",
    "It is possible that only a few families in the community actually have an income as large as `$30,000`, but those few families have incomes that are very much larger than `$30,000`. \n",
    "\n",
    "As an extreme example, suppose that there are 100 families and 99 of them have income of `$1,000` while the other one has income of `$2,901,000`. \n",
    "\n",
    "If, however, the median annual income among the families is `$30,000`, then at least one-half of the families must have incomes of `$30,000` or more."
   ]
  },
  {
   "cell_type": "markdown",
   "metadata": {
    "slideshow": {
     "slide_type": "slide"
    }
   },
   "source": [
    "## Mean Squared Error\n",
    "\n",
    "Suppose a random variable with mean $\\mu$ and variance $\\sigma^2$. And suppose we want to predict the values of $X$ by selecting a number $d$.\n",
    "\n",
    "**Definition -- Mean Squared Error:** The number $E[(X-d)^ 2]$ is called *mean squared error* of the prediction $d$.\n",
    "\n",
    "If we want good predictions, we want to minimize the MSE. What number minimizes it?\n",
    "\n",
    "**Theorem -- Alternative formulation for the Mean Squared Error**: The *MSE* of a random variable about $c$ is equal to:\n",
    "\n",
    "$$ E[(X - c)^2] \\ = \\ Var[X] + (E[X] - c)^2 $$"
   ]
  },
  {
   "cell_type": "markdown",
   "metadata": {
    "slideshow": {
     "slide_type": "slide"
    }
   },
   "source": [
    "## Mean Absolute Error\n",
    "\n",
    "Suppose a random variable with mean $\\mu$, median $m$, and variance $\\sigma^2$. And suppose we want to predict the values of $X$ by selecting a number $d$.\n",
    "\n",
    "**Definition -- Mean Absolute Error:** The number $E[|X-d|]$ is called *mean absolute error* of the prediction $d$.\n",
    "\n",
    "If we want good predictions, we want to minimize the MAE. What number minimizes it?\n",
    "\n",
    "Hint: Try proving $E(|X − m|) \\leq E(|X − d|)$ for all $d$"
   ]
  },
  {
   "cell_type": "markdown",
   "metadata": {
    "slideshow": {
     "slide_type": "slide"
    }
   },
   "source": [
    "## MAE and MSE\n",
    "\n",
    "**Check-in** \n",
    "\n",
    "1. In a small community consisting of 153 families, the number of families that have $k$ children ($k = 0, 1, 2, \\cdots$) is given in the following table:\n",
    "\n",
    "![img](./imgl5/im1.png)\n",
    "\n",
    "Determine the mean and the median of the number of children per family. (For the mean, assume that all families with four or more children have only four children. Why doesn’t this point matter for the median?)\n",
    "\n",
    "1. If n houses are located at various points along a straight road, at what point along the road should a store be located in order to minimize the sum of the distances from the n houses to the store?"
   ]
  },
  {
   "cell_type": "markdown",
   "metadata": {
    "slideshow": {
     "slide_type": "slide"
    }
   },
   "source": [
    "##  Covariance and Correlation\n",
    "\n",
    "For a single variable, these measures are great. We have spread and we have two measures of centrality.\n",
    "\n",
    "But we rarely deal with just one variable. In that matter, how much one random variable depends on the other?\n",
    "\n",
    "We need some definitions to be able to tackle that:\n",
    "\n",
    "**Definition -- Covariance:** Let $X$ and $Y$ be random  variables having finite means. Let $E(X) = \\mu_X$ and $E(Y) = \\mu_Y$. The covariance of $X$ and $Y$, which is denoted by $Cov(X, Y)$, is defined as\n",
    "\n",
    "$$Cov(X, Y) = E[(X − \\mu_X)(Y − \\mu_Y)]$$\n",
    "\n",
    "Or $Cov(X, Y) = E[XY] - E[X]E[Y]$ (provided that variances are finite)."
   ]
  },
  {
   "cell_type": "markdown",
   "metadata": {
    "slideshow": {
     "slide_type": "slide"
    }
   },
   "source": [
    "##  Covariance and Correlation\n",
    "\n",
    "**Algebra of Covariance**: Let $X$, $Y$, $Z$, $W$ four r.v.s and $a,b,c,d \\in \\real$. \n",
    "\n",
    "Then:\n",
    "\n",
    "1. $\\text{Cov}[X, c]=\\text{Cov}[c, X]=\\text{Cov}[d, c]$\n",
    "\n",
    "2. $\\text{Cov}[X, Y] = \\text{Cov}[Y, X]$\n",
    "\n",
    "3. $\\text{Cov}[X, X] = Var[X]$\n",
    "\n",
    "4. $\\text{Cov}[X + W, Y + Z] = \\text{Cov}[X, Z] + \\text{Cov}[X, Y] + \\text{Cov}[W, Y]+\\text{Cov}[W,Z]$"
   ]
  },
  {
   "cell_type": "markdown",
   "metadata": {
    "slideshow": {
     "slide_type": "slide"
    }
   },
   "source": [
    "##  Covariance and Correlation\n",
    "\n",
    "Example: What is the covariance of $X$ and $Y$ when $f$ is:\n",
    "\n",
    "$$\n",
    "f(x, y) =\n",
    "  \\begin{cases}\n",
    "    2xy + 0.5 & \\text{for $0 \\leq x \\leq 1$ and $0 \\leq y \\leq 1$}, \\\\\n",
    "    0 & \\text{otherwise.}\n",
    "  \\end{cases}\n",
    "$$"
   ]
  },
  {
   "cell_type": "markdown",
   "metadata": {
    "slideshow": {
     "slide_type": "slide"
    }
   },
   "source": [
    "##  Covariance and Correlation\n",
    "\n",
    "Covariance is great, but it is affected by the magnitude of the random variables.\n",
    "\n",
    "Suppose we want a measure that is not affected by the magnitude of the r.v.s. This variable is going to be great when comparing two different sets of r.v.s\n",
    "\n",
    "**Definition -- Correlation:** Let $X$ and $Y$ be random variables with finite variances $\\sigma^2_X$ and $\\sigma^2_Y$, respectively. Then the correlation of $X$ and $Y$, which is denoted by $\\rho(X, Y)$, is defined as follows:\n",
    "\n",
    "$$\\rho(X, Y) = \\dfrac{Cov(X, Y)}{\\sigma_X\\sigma_Y}$$"
   ]
  },
  {
   "cell_type": "markdown",
   "metadata": {
    "slideshow": {
     "slide_type": "slide"
    }
   },
   "source": [
    "##  Covariance and Correlation\n",
    "\n",
    "Example:\n",
    "\n",
    "What is the correlation of $X$ and $Y$ when $f$ is:\n",
    "\n",
    "$$\n",
    "f(x, y) =\n",
    "  \\begin{cases}\n",
    "    2xy + 0.5 & \\text{for $0 \\leq x \\leq 1$ and $0 \\leq y \\leq 1$}, \\\\\n",
    "    0 & \\text{otherwise.}\n",
    "  \\end{cases}\n",
    "$$"
   ]
  },
  {
   "cell_type": "markdown",
   "metadata": {
    "slideshow": {
     "slide_type": "slide"
    }
   },
   "source": [
    "##  Covariance and Correlation\n",
    "\n",
    "Important: Assuming we have random variables $U$, $V$, $X$, and $Y$ with the first two having mean zero, and all four having finite variance:\n",
    "\n",
    "1. Schwarz Inequality: U, V, rvs, then $[E(UV)]^2 \\leq  E(U^2)E(V^2)$\n",
    "\n",
    "1. Cauchy-Schwarz Inequality: X, Y, rvs, then $[Cov(X,Y)]^2 \\leq \\sigma_X^2\\sigma_Y^2$ and $-1 \\leq \\rho(X,Y) \\leq 1$\n",
    "\n",
    "1. $\\rho(X,Y)>0$: positively correlated; $\\rho(X,Y)>0$: negatively correlated; $\\rho(X,Y)=0$: uncorrelated\n",
    "\n",
    "1. $\\rho(X,Y)= \\rho(X,Y)$\n",
    "\n",
    "1. $\\rho(X,Y) = 1$\n",
    "\n",
    "1. If $ab>0$, then $\\rho(aX + c, bY + d) = \\rho(X,Y)$\n",
    "\n",
    "1. If $ab<0$, then $\\rho(aX + c, bY + d) = -\\rho(X,Y)$"
   ]
  },
  {
   "cell_type": "markdown",
   "metadata": {
    "slideshow": {
     "slide_type": "slide"
    }
   },
   "source": [
    "##  Covariance and Correlation\n",
    "\n",
    "Important:\n",
    "\n",
    "1. $Cov(X, Y) = \\rho(X, Y) = 0$\n",
    "\n",
    "1. $Var(aX + bY + c) = a^2Var(X) + b^2Var(Y) + 2abCov(X,Y)$\n",
    "\n",
    "1. If $X_1, \\cdots, X_n$ uncorrelated, then $$Var\\bigg(\\sum_{i=1}^ nX_i\\bigg) = \\sum_{i=1}^ nVar(X_i)$$\n",
    "\n",
    "**Theorem -- Independence**: Let $X$ and $Y$ two independents r.v.s. Then:\n",
    "\n",
    "1. $\\rho(X, Y) = 0$\n",
    "1. $Cov(X, Y) = 0$\n",
    "1. $E[XY] = E[X]E[Y]$\n",
    "1. $Var[X + Y] = Var[X] + Var[Y]$"
   ]
  },
  {
   "cell_type": "markdown",
   "metadata": {
    "slideshow": {
     "slide_type": "slide"
    }
   },
   "source": [
    "##  Covariance and Correlation\n",
    "\n",
    "**Two variables can be dependent but uncorrelated**: Suppose that the random variable $X$ can take only the three values −1, 0, and 1, and that each of these three values has the same probability. Also, let the random variable $Y$ be defined by the relation $Y = X^2$.\n",
    "\n",
    "- Dependence: The value of Y is determined by the value of $X$.\n",
    "- Correlation: Compute $Cov(X,Y)$"
   ]
  },
  {
   "cell_type": "markdown",
   "metadata": {
    "slideshow": {
     "slide_type": "slide"
    }
   },
   "source": [
    "## Conditional Expectation\n",
    "\n",
    "Another interesting way of summarize multiple distributions is to use conditional expectations.\n",
    "\n",
    "**Definition -- Conditional Expectation/Mean**. Let $X$ and $Y$ be random variables such that the mean of $Y$ exists and is finite. The conditional expectation (or conditional mean) of $Y$ given $X = x$ is denoted by $E(Y|x)$ and is defined to be the expectation of the conditional distribution of $Y$ given $X = x$.\n",
    "\n",
    "If $Y$ has a continuous conditional distribution given $X = x$ with conditional p.d.f. $g_2(y|x)$, then\n",
    "\n",
    "$$E(Y|x) = \\int_{-\\infty}^{\\infty}yg_2(y|x)dy$$"
   ]
  },
  {
   "cell_type": "markdown",
   "metadata": {
    "slideshow": {
     "slide_type": "slide"
    }
   },
   "source": [
    "## Conditional Expectation\n",
    "\n",
    "Example:\n",
    "\n",
    "![img](./imgl5/im2.png)\n",
    "\n",
    "And the conditional expectation:\n",
    "\n",
    "![img](./imgl5/im3.png)"
   ]
  },
  {
   "cell_type": "markdown",
   "metadata": {
    "slideshow": {
     "slide_type": "slide"
    }
   },
   "source": [
    "## Conditional Expectation\n",
    "\n",
    "**Theorem -- Law of Iterated Expectations** (In the book, *Law of Total Probability for Expectations*): Let $X$ and $Y$ rvs. \n",
    "\n",
    "$$E[Y] = E\\big[E[Y | X]\\big]$$\n",
    "\n",
    "**Definition -- Conditional Variance:** For every given value $x$, let $Var(Y|x)$ denote:\n",
    "\n",
    "$$Var(Y|x) = E\\{ ([Y - E[Y|x])^2 | x \\}$$\n",
    "\n",
    "**Theorem -- Law of Total Variance**: Let $X$ and $Y$ rvs. \n",
    "\n",
    "$$Var[Y] = E\\big[Var[Y | X]\\big] + Var\\big[E[Y | X]\\big]$$"
   ]
  },
  {
   "cell_type": "markdown",
   "metadata": {
    "slideshow": {
     "slide_type": "slide"
    }
   },
   "source": [
    "## Prediction\n",
    "\n",
    "**Theorem:** (A bit hard to prove) The prediction $d(X)$ that minimizes $E\\{[Y − d(X)]^2\\}$ is $d(X) = E(Y|X)$.\n",
    "\n",
    "Example:\n",
    "\n",
    "Suppose that 20 percent of the students who took a certain test were from school A and that the arithmetic average of their scores on the test was 80. Suppose also that 30 percent of the students were from school B and that the arithmetic average of their scores was 76. Suppose, finally, that the other 50 percent of the students were from school C and that the arithmetic average of their scores was 84. If a student is selected at random from the entire group that took the test, what is the expected value of her score?"
   ]
  },
  {
   "cell_type": "markdown",
   "metadata": {
    "slideshow": {
     "slide_type": "slide"
    }
   },
   "source": [
    "## Normal Distribution\n",
    "\n",
    "**Definition -- Normal Distribution**: A continuous random variable $X$ follows a normal distribution (denoted by $X \\sim N(\\mu, \\sigma^2)$) if:\n",
    "\n",
    "$$ f(x) \\ = \\ \\dfrac{1}{\\sigma\\sqrt{2\\pi}} e^{-\\dfrac{(x - \\mu)^{2}}{2\\sigma^2}} $$\n",
    "\n",
    "**Theorem -- Mean and Standard Deviation of a Normal Distribution**: Let $X \\sim N(\\mu, \\sigma^2)$. Then, $E[X] \\ = \\ \\mu$ and $Var[X] \\ = \\ \\sigma^2$"
   ]
  },
  {
   "cell_type": "code",
   "execution_count": 7,
   "metadata": {},
   "outputs": [
    {
     "data": {
      "image/png": "[encoded data removed]",
      "text/plain": [
       "<Figure size 640x480 with 1 Axes>"
      ]
     },
     "metadata": {},
     "output_type": "display_data"
    }
   ],
   "source": [
    "x = np.random.normal(loc = 0,     # Mean\n",
    "                     scale = 1,   # Standard Deviation\n",
    "                     size = 1000) # Number cooked\n",
    "sns.histplot(x)\n",
    "plt.show()"
   ]
  },
  {
   "cell_type": "markdown",
   "metadata": {
    "slideshow": {
     "slide_type": "slide"
    }
   },
   "source": [
    "## Normal Distribution\n",
    "\n",
    "**Algebra of Normal Distributions**: \n",
    "\n",
    "Let $X \\sim N(\\mu_{X}, \\sigma_{X}^2)$, $Y \\sim N(\\mu_{Y}, \\sigma_{Y}^2)$, and $a, b \\in \\mathbb{R}$, $a \\neq 0$. Then:\n",
    "\n",
    "1. If $W = aX + b$, then $W \\sim N(a\\mu_{X} + b, a^2\\sigma_{X}^2)$\n",
    "2. If $X \\ind Y$, and $Z = X + Y$, then $Z \\sim N(\\mu_{X} + \\mu_{Y}, \\sigma_{X}^2 + \\sigma_{Y}^2)$\n",
    "\n",
    "**MGF**:\n",
    "\n",
    "$$\\psi(t) = e^{\\mu t + \\dfrac{1}{2}\\sigma^2t^2}$$"
   ]
  },
  {
   "cell_type": "markdown",
   "metadata": {
    "slideshow": {
     "slide_type": "slide"
    }
   },
   "source": [
    "## Normal Distribution\n",
    "\n",
    "Important: Standard Normal Distribution: $\\mu = 0$ and $\\sigma = 1$. Properties:\n",
    "\n",
    "1. p.d.f: $\\phi(x) = \\dfrac{1}{(2\\pi)^{1/2}}e^{-\\dfrac{1}{2}x^2}$\n",
    "\n",
    "1. c.d.f.: $\\Phi(x) = \\int_{-\\infty}^x \\phi(x)dx$\n",
    "\n",
    "1. Symmetric: $\\Phi(-x) = 1 - \\Phi(x)$\n",
    "\n",
    "1. Transformation: $F(x) = \\Phi\\bigg(\\dfrac{x-\\mu}{\\sigma}\\bigg)$\n",
    "\n",
    "1. Quantiles: $F^{-1}(p) = \\mu + \\sigma \\Phi^{-1}(x)$\n",
    "\n",
    "![img](./imgl5/im4.png)"
   ]
  },
  {
   "cell_type": "markdown",
   "metadata": {
    "slideshow": {
     "slide_type": "slide"
    }
   },
   "source": [
    "## Normal Distribution\n",
    "\n",
    "**Check-in**:\n",
    "\n",
    "If the temperature in degrees Fahrenheit at a certain location is normally distributed with a mean of 68 degrees and a standard deviation of 4 degrees, what is the distribution of the temperature in degrees Celsius at the same location? Find the 0.25 and 0.75 quantiles of the Fahrenheit temperature at the location."
   ]
  },
  {
   "cell_type": "markdown",
   "metadata": {
    "slideshow": {
     "slide_type": "slide"
    }
   },
   "source": [
    "## Conditional Expectation Functions\n",
    "\n",
    "**Theorem -- Properties of Deviations from the CEF**: Let $X$ and $Y$ rvs and let $\\epsilon = Y - E[Y|X]$.\n",
    "\n",
    "1. $E[\\epsilon|X] = 0$\n",
    "2. $E[\\epsilon] = 0$\n",
    "3. If $g$ is a function of $X$, $Cov\\big[g(X),\\epsilon \\big] = 0$\n",
    "4. $Var[\\epsilon|X] = Var[Y|X]$\n",
    "5. $Var[\\epsilon] = E\\big[Var[Y|X]\\big]$"
   ]
  },
  {
   "cell_type": "markdown",
   "metadata": {
    "slideshow": {
     "slide_type": "slide"
    }
   },
   "source": [
    "## Conditional Expectation Function\n",
    "\n",
    "**Theorem -- CEF and Best Linear Predictor**: Let $X$ and $Y$ rvs, $E[Y|X]$ is the best predictor of $Y$ given $X$.\n",
    "\n",
    "**Theorem -- Best Linear Predictor**: Let $X$ and $Y$ r.v.s, if $Var[X] > 0$, then the BLP of $Y$ given $X$ is $g(X) = \\beta_0 + \\beta_1X$ where:\n",
    "\n",
    "1. $\\beta_0 = E[Y] - \\beta_1E[X]$\n",
    "\n",
    "2. $\\beta_1 = \\dfrac{Cov[X,Y]}{Var[X]}$"
   ]
  },
  {
   "cell_type": "markdown",
   "metadata": {
    "slideshow": {
     "slide_type": "slide"
    }
   },
   "source": [
    "## Conditional Expectation Function\n",
    "\n",
    "**Theorem -- Implications of Independence**: Let $X$ and $Y$ independent rvs.:\n",
    "\n",
    "1. $E[Y|X] = E[Y]$\n",
    "2. $E[Y|X] = E[Y]$\n",
    "3. The BLP of $Y$ given $X$ is $E[Y]$\n",
    "4. If $g$ is a function of $X$ and $h$ is a function of $Y$:\n",
    "    - $E[h(Y)|g(X)] = E[h(Y)]$\n",
    "    - The BLP of $h(Y)$ given $g(X)$ is $E[h(X)]$"
   ]
  },
  {
   "cell_type": "markdown",
   "metadata": {
    "slideshow": {
     "slide_type": "slide"
    }
   },
   "source": [
    "## Weeke"
   ]
  },
  {
   "cell_type": "markdown",
   "metadata": {
    "slideshow": {
     "slide_type": "slide"
    }
   },
   "source": [
    "# Great work!"
   ]
  }
 ],
 "metadata": {
  "celltoolbar": "Slideshow",
  "kernelspec": {
   "display_name": "Python 3 (ipykernel)",
   "language": "python",
   "name": "python3"
  },
  "language_info": {
   "codemirror_mode": {
    "name": "ipython",
    "version": 3
   },
   "file_extension": ".py",
   "mimetype": "text/x-python",
   "name": "python",
   "nbconvert_exporter": "python",
   "pygments_lexer": "ipython3",
   "version": "3.11.3"
  }
 },
 "nbformat": 4,
 "nbformat_minor": 4
}
