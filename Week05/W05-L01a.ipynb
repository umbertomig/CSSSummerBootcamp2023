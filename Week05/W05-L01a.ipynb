{
 "cells": [
  {
   "cell_type": "markdown",
   "metadata": {
    "slideshow": {
     "slide_type": "slide"
    }
   },
   "source": [
    "# CSS 201 / 202 - CSS Bootcamp\n",
    "\n",
    "## Week 05 - Lecture 01\n",
    "\n",
    "### Umberto Mignozzetti"
   ]
  },
  {
   "cell_type": "markdown",
   "metadata": {
    "slideshow": {
     "slide_type": "slide"
    }
   },
   "source": [
    "# CSS 201 / 202 - CSS Bootcamp\n",
    "\n",
    "## Wrap-up W04, Statistical, and Probability Theory"
   ]
  },
  {
   "cell_type": "markdown",
   "metadata": {
    "slideshow": {
     "slide_type": "slide"
    }
   },
   "source": [
    "# Integration"
   ]
  },
  {
   "cell_type": "markdown",
   "metadata": {
    "slideshow": {
     "slide_type": "slide"
    }
   },
   "source": [
    "## Integration\n",
    "\n",
    "- Integration is one of the two main operations of Calculus.\n",
    "    - Differentiation\n",
    "    - Integration\n",
    "\n",
    "- Integration: inverse operation of differentiation.\n",
    "\n",
    "-  Idea: compute area, volume, and other concepts that arise by combining infinitesimal data.\n",
    "\n",
    "Given a function $f$ of a real variable $x$, and an interval $[a, b] \\in \\mathbb{R}$, the definite integral is equal to:\n",
    "\n",
    "$$ \\int^{b}_{a}f(x)dx $$"
   ]
  },
  {
   "cell_type": "markdown",
   "metadata": {
    "slideshow": {
     "slide_type": "slide"
    }
   },
   "source": [
    "## Integration\n",
    "\n",
    "![img](./imgl1/int1.png)"
   ]
  },
  {
   "cell_type": "markdown",
   "metadata": {
    "slideshow": {
     "slide_type": "slide"
    }
   },
   "source": [
    "## Integration\n",
    "\n",
    "![img](./imgl1/int2.png)"
   ]
  },
  {
   "cell_type": "markdown",
   "metadata": {
    "slideshow": {
     "slide_type": "slide"
    }
   },
   "source": [
    "## Integration\n",
    "\n",
    "### Indefinite Integral\n",
    "\n",
    "- Integration, up to an additive constant, is the inverse of the operation of differentiation.\n",
    "\n",
    "- For this reason, the term integral may also refer to the related notion of the antiderivative, a function F whose derivative is the given function $f$.\n",
    "\n",
    "Indefinite integral: $$F(x)=\\int f(x)dx + C$$"
   ]
  },
  {
   "cell_type": "markdown",
   "metadata": {
    "slideshow": {
     "slide_type": "slide"
    }
   },
   "source": [
    "## Integration\n",
    "\n",
    "### Indefinite Integrals\n",
    "\n",
    "An indefinite integral, defined as the inverse of a derivative (antiderivative), is as follows:\n",
    "\n",
    "![img](./imgl1/int3.png)\n",
    "\n",
    "The integral is the inverse of the derivative. The example below shows this:\n",
    "\n",
    "$$\\int x^{2}dx=\\dfrac{x^{3}}{3}+C$$\n",
    "\n",
    "$$\\dfrac{d}{dx}\\left[ \\dfrac{x^{3}}{3}+C\\right]=x^{2}$$"
   ]
  },
  {
   "cell_type": "markdown",
   "metadata": {
    "slideshow": {
     "slide_type": "slide"
    }
   },
   "source": [
    "## Integration\n",
    "\n",
    "### Properties of Indefinite Integrals\n",
    "\n",
    "1. $$ \\int cf(x)dx = c\\int f(x)dx $$\n",
    "1. $$ \\int[f(x)+g(x)]dx = \\int f(x)dx + \\int g(x)dx $$\n",
    "1. $$ \\int kdx = kx+C $$\n",
    "1. $$ \\int x^{n}dx = \\dfrac{x^{n+1}}{n+1}+C $$\n",
    "1. $$ \\int e^{x}dx = e^{x}+C $$\n",
    "1. $$ \\int \\dfrac{dx}{x} =\\ln \\vert x\\vert+C$$"
   ]
  },
  {
   "cell_type": "markdown",
   "metadata": {
    "slideshow": {
     "slide_type": "slide"
    }
   },
   "source": [
    "## Integration\n",
    "\n",
    "### Fundamental Theorem of Calculus\n",
    "\n",
    "Fundamental Theorem of Calculus:\n",
    "\n",
    "$$ \\int^{b}_{a}f(x)dx= F(b)-F(a) $$\n",
    "\n",
    "Properties:\n",
    "\n",
    "$$\\int^{b}_{a}f(x)dx=-\\int^{a}_{b}f(x)dx$$\n",
    "\n",
    "$$\\int^{a}_{a}f(x)dx=0$$\n",
    "\n",
    "![img](./imgl1/int3.png)"
   ]
  },
  {
   "cell_type": "markdown",
   "metadata": {
    "slideshow": {
     "slide_type": "slide"
    }
   },
   "source": [
    "## Integration\n",
    "\n",
    "### Properties of Definite Integrals\n",
    "\n",
    "![img](./imgl1/int4.png)"
   ]
  },
  {
   "cell_type": "markdown",
   "metadata": {
    "slideshow": {
     "slide_type": "slide"
    }
   },
   "source": [
    "## Integration\n",
    "\n",
    "### Substitution Rule\n",
    "\n",
    "![img](./imgl1/int5.png)\n",
    "\n",
    "\n",
    "1. $$\\int \\sqrt{2x+1}dx$$\n",
    "2. $$\\int^{2}_{1}\\dfrac{dx}{(3-5x)^{2}}$$"
   ]
  },
  {
   "cell_type": "markdown",
   "metadata": {
    "slideshow": {
     "slide_type": "slide"
    },
    "tags": []
   },
   "source": [
    "## Integration\n",
    "\n",
    "### Integration by parts\n",
    "\n",
    "For the indefinite integrals:\n",
    "\n",
    "![img](./imgl1/int6.png)\n",
    "\n",
    "Example:\n",
    "\n",
    "$$\\int t^{2}e^{t}dt$$"
   ]
  },
  {
   "cell_type": "markdown",
   "metadata": {
    "slideshow": {
     "slide_type": "slide"
    }
   },
   "source": [
    "## Integration\n",
    "\n",
    "### Formula for integration by parts\n",
    "\n",
    "![img](./imgl1/int7.png)\n",
    "\n",
    "Exercise:\n",
    "\n",
    "$$\\int^{1}_{0}(x^{2}+1)e^{-x}dx$$"
   ]
  },
  {
   "cell_type": "markdown",
   "metadata": {
    "slideshow": {
     "slide_type": "slide"
    }
   },
   "source": [
    "## Integration\n",
    "\n",
    "### Application\n",
    "\n",
    "We can use integrals to find areas of regions that lie between the graphs of two functions.\n",
    "\n",
    "Find the region's area bounded above by $y=e^{x}$, bounded below by $y=x$, and bounded on the sides by $x=0$ and $x=1$.\n",
    "\n",
    "![img](./imgl1/int8.png)"
   ]
  },
  {
   "cell_type": "markdown",
   "metadata": {
    "slideshow": {
     "slide_type": "slide"
    },
    "tags": []
   },
   "source": [
    "## Integration\n",
    "\n",
    "### Exercises\n",
    "\n",
    "**Check-in**: Compute:\n",
    "\n",
    "1. $\\int \\dfrac{4}{x^{2}}dx$\n",
    "\n",
    "1. $\\int (x^{3}-6x)dx$\n",
    "\n",
    "1. $\\int (2x^{3}-6x+e^{x})dx$\n",
    "\n",
    "1. Sketch the region enclosed by the given curves and find its area $y=12-x^{2}$ and $y=x^{2}-6$."
   ]
  },
  {
   "cell_type": "markdown",
   "metadata": {
    "slideshow": {
     "slide_type": "slide"
    }
   },
   "source": [
    "## Integration\n",
    "\n",
    "### SymPy Integration"
   ]
  },
  {
   "cell_type": "code",
   "execution_count": null,
   "metadata": {},
   "outputs": [],
   "source": [
    "# Importing libraries\n",
    "import numpy as np\n",
    "import pandas as pd\n",
    "import scipy\n",
    "import scipy.linalg\n",
    "from matplotlib import pyplot as plt\n",
    "import sympy\n",
    "from sympy.plotting import plot\n",
    "sympy.init_printing() # Display equations nicely"
   ]
  },
  {
   "cell_type": "markdown",
   "metadata": {
    "slideshow": {
     "slide_type": "slide"
    }
   },
   "source": [
    "## Symbolic Computing\n",
    "\n",
    "(Abstract) (Indefinite) Integrals:"
   ]
  },
  {
   "cell_type": "code",
   "execution_count": null,
   "metadata": {},
   "outputs": [],
   "source": [
    "a, b, x, y = sympy.symbols(\"a, b, x, y\")\n",
    "f = sympy.Function(\"f\")(x)\n",
    "f"
   ]
  },
  {
   "cell_type": "code",
   "execution_count": null,
   "metadata": {},
   "outputs": [],
   "source": [
    "sympy.integrate(f)"
   ]
  },
  {
   "cell_type": "markdown",
   "metadata": {},
   "source": [
    "(Abstract) (Definite) Integrals:"
   ]
  },
  {
   "cell_type": "code",
   "execution_count": null,
   "metadata": {},
   "outputs": [],
   "source": [
    "sympy.integrate(f, (x, a, b))"
   ]
  },
  {
   "cell_type": "markdown",
   "metadata": {
    "slideshow": {
     "slide_type": "slide"
    }
   },
   "source": [
    "## Symbolic Computing\n",
    "\n",
    "(Concrete) (Indefinite) Integrals:"
   ]
  },
  {
   "cell_type": "code",
   "execution_count": null,
   "metadata": {},
   "outputs": [],
   "source": [
    "f = x**2 + x + 1\n",
    "f"
   ]
  },
  {
   "cell_type": "code",
   "execution_count": null,
   "metadata": {},
   "outputs": [],
   "source": [
    "sympy.integrate(f)"
   ]
  },
  {
   "cell_type": "markdown",
   "metadata": {},
   "source": [
    "(Concrete) (Definite) Integrals:"
   ]
  },
  {
   "cell_type": "code",
   "execution_count": null,
   "metadata": {},
   "outputs": [],
   "source": [
    "sympy.integrate(f, (x, -1, 1))"
   ]
  },
  {
   "cell_type": "markdown",
   "metadata": {
    "slideshow": {
     "slide_type": "slide"
    }
   },
   "source": [
    "## Symbolic Computing\n",
    "\n",
    "Integrals with exps:"
   ]
  },
  {
   "cell_type": "code",
   "execution_count": null,
   "metadata": {},
   "outputs": [],
   "source": [
    "f = (1 / sympy.sqrt(2 * sympy.pi)) * sympy.exp(-(x ** 2)/2)\n",
    "f"
   ]
  },
  {
   "cell_type": "code",
   "execution_count": null,
   "metadata": {},
   "outputs": [],
   "source": [
    "sympy.integrate(f, x)"
   ]
  },
  {
   "cell_type": "code",
   "execution_count": null,
   "metadata": {},
   "outputs": [],
   "source": [
    "sympy.integrate(f, (x, -1.645, 1.645)).evalf(3)"
   ]
  },
  {
   "cell_type": "code",
   "execution_count": null,
   "metadata": {},
   "outputs": [],
   "source": [
    "sympy.integrate(f, (x, 0, 1.96)).evalf(3)"
   ]
  },
  {
   "cell_type": "markdown",
   "metadata": {
    "slideshow": {
     "slide_type": "slide"
    }
   },
   "source": [
    "## Symbolic Computing\n",
    "\n",
    "Double integrals:"
   ]
  },
  {
   "cell_type": "code",
   "execution_count": null,
   "metadata": {},
   "outputs": [],
   "source": [
    "expr = (x + y)**2\n",
    "expr"
   ]
  },
  {
   "cell_type": "code",
   "execution_count": null,
   "metadata": {},
   "outputs": [],
   "source": [
    "sympy.integrate(expr, x)"
   ]
  },
  {
   "cell_type": "code",
   "execution_count": null,
   "metadata": {},
   "outputs": [],
   "source": [
    "sympy.integrate(expr, x, y)"
   ]
  },
  {
   "cell_type": "code",
   "execution_count": null,
   "metadata": {},
   "outputs": [],
   "source": [
    "sympy.integrate(expr, (x, 0, 1), (y, 0, 1))"
   ]
  },
  {
   "cell_type": "markdown",
   "metadata": {
    "slideshow": {
     "slide_type": "slide"
    }
   },
   "source": [
    "# Numerical Analysis"
   ]
  },
  {
   "cell_type": "markdown",
   "metadata": {
    "slideshow": {
     "slide_type": "slide"
    }
   },
   "source": [
    "## Numerical Analysis\n",
    "\n",
    "### Solutions of Equations in One Variable\n",
    "\n",
    "We saw that sympy does solve stuff for us quickly. But what are the algorithms that it uses?\n",
    "\n",
    "What is a solution? We characterize it as $x$ such that $f(x) = 0$.\n",
    "\n",
    "A little theorem to help us up:\n",
    "\n",
    "**Theorem**: If $f \\in C[a, b]$ (meaning: $f$ is continuous in the interval $[a, b]$) and $K$ is a number between $f(a)$ and $f(b)$, then there exists $c \\in (a, b)$ for which $f(c) = K$\n",
    "\n",
    "<div>\n",
    "<img src=\"./imgl1/ivtheo.png\" width=\"300\"/>\n",
    "</div>"
   ]
  },
  {
   "cell_type": "markdown",
   "metadata": {
    "slideshow": {
     "slide_type": "slide"
    }
   },
   "source": [
    "## Numerical Analysis\n",
    "\n",
    "### Solutions of Equations in One Variable\n",
    "\n",
    "Going back to a solution, let a continuous function in an interval $[a, b]$. \n",
    "\n",
    "Do you agree that if $f(a)$ is positive (negative) and $f(b)$ is negative, then it crossed zero at some point?\n",
    "\n",
    "Consider this function:"
   ]
  },
  {
   "cell_type": "code",
   "execution_count": null,
   "metadata": {},
   "outputs": [],
   "source": [
    "f = x**5 - 2 * (x**3) + 3 * (x ** 2) -1\n",
    "f"
   ]
  },
  {
   "cell_type": "markdown",
   "metadata": {
    "slideshow": {
     "slide_type": "fragment"
    }
   },
   "source": [
    "Does it have a solution between $[0, 1]$?"
   ]
  },
  {
   "cell_type": "code",
   "execution_count": null,
   "metadata": {
    "slideshow": {
     "slide_type": "fragment"
    }
   },
   "outputs": [],
   "source": [
    "# Find out. Hint f.subs(x, 0) and f.subs(x, 1)"
   ]
  },
  {
   "cell_type": "markdown",
   "metadata": {
    "slideshow": {
     "slide_type": "slide"
    }
   },
   "source": [
    "## Numerical Analysis"
   ]
  },
  {
   "cell_type": "code",
   "execution_count": null,
   "metadata": {},
   "outputs": [],
   "source": [
    "p = plot(f, xlim = (0, 1), ylim = (-1, 1))"
   ]
  },
  {
   "cell_type": "markdown",
   "metadata": {
    "slideshow": {
     "slide_type": "slide"
    }
   },
   "source": [
    "## Numerical Analysis"
   ]
  },
  {
   "cell_type": "code",
   "execution_count": null,
   "metadata": {},
   "outputs": [],
   "source": [
    "p = plot(f, xlim = (-3, 3), ylim = (-6, 6))"
   ]
  },
  {
   "cell_type": "markdown",
   "metadata": {
    "slideshow": {
     "slide_type": "slide"
    }
   },
   "source": [
    "## Numerical Analysis\n",
    "\n",
    "### Solutions of Equations in One Variable\n",
    "\n",
    "**Check-in:**\n",
    "\n",
    "Show that:\n",
    "\n",
    "1. $x^3 + 4x^2 - 10 = 0$ has a root in $[1, 2]$\n",
    "2. $e^x - x^2 + 3x − 2 = 0$ has a root in $[0, 1]$\n",
    "3. $x^2 - 4x + 4 − \\ln x = 0$ has a root in $[1, 2]$ and $[2, 4]$"
   ]
  },
  {
   "cell_type": "code",
   "execution_count": null,
   "metadata": {},
   "outputs": [],
   "source": [
    "# Code (if needed) here"
   ]
  },
  {
   "cell_type": "markdown",
   "metadata": {
    "slideshow": {
     "slide_type": "slide"
    }
   },
   "source": [
    "## Numerical Analysis\n",
    "\n",
    "### Solutions of Equations in One Variable\n",
    "\n",
    "**Bisection Method** (or binary search in CS): Suppose $f$ is a continuous function defined on the interval $[a, b]$, with $f(a)$ and $f(b)$ of opposite sign. The Intermediate Value Theorem implies that a number $p$ exists in $(a, b)$ with $f(p) = 0$.\n",
    "\n",
    "How do we find it?\n",
    "\n",
    "<div>\n",
    "<img src=\"./imgl1/bisecmeth.png\" width=\"300\"/>\n",
    "</div>"
   ]
  },
  {
   "cell_type": "code",
   "execution_count": null,
   "metadata": {},
   "outputs": [],
   "source": [
    "p = plot(f, xlim = (-3, 3), ylim = (-6, 6))"
   ]
  },
  {
   "cell_type": "markdown",
   "metadata": {
    "slideshow": {
     "slide_type": "slide"
    }
   },
   "source": [
    "## Numerical Analysis\n",
    "\n",
    "### Solutions of Equations in One Variable\n",
    "\n",
    "**Bisection Method**\n",
    "\n",
    "<div>\n",
    "<img src=\"./imgl1/bisecmeth2.png\" width=\"300\"/>\n",
    "</div>\n",
    "\n",
    "Let us implement it?"
   ]
  },
  {
   "cell_type": "code",
   "execution_count": null,
   "metadata": {},
   "outputs": [],
   "source": [
    "# Our code here"
   ]
  },
  {
   "cell_type": "markdown",
   "metadata": {
    "slideshow": {
     "slide_type": "slide"
    }
   },
   "source": [
    "## Numerical Analysis\n",
    "\n",
    "### Solutions of Equations in One Variable\n",
    "\n",
    "**Bisection Method**\n",
    "\n",
    "Find the root of the functions in the intervals:\n",
    "\n",
    "1. $x^3 + 4x^2 - 10 = 0$ for $[1, 2]$\n",
    "2. $e^x - x^2 + 3x − 2 = 0$ for $[0, 1]$\n",
    "3. $x^2 - 4x + 4 − \\ln x = 0$ for $[1, 2]$ and $[2, 4]$"
   ]
  },
  {
   "cell_type": "code",
   "execution_count": null,
   "metadata": {},
   "outputs": [],
   "source": [
    "# code here"
   ]
  },
  {
   "cell_type": "markdown",
   "metadata": {
    "slideshow": {
     "slide_type": "slide"
    }
   },
   "source": [
    "# Statistical and Probability Theory"
   ]
  },
  {
   "cell_type": "markdown",
   "metadata": {
    "slideshow": {
     "slide_type": "slide"
    }
   },
   "source": [
    "## Statistical and Probability Theory\n",
    "\n",
    "This week we will study statistics and probability theory.\n",
    "\n",
    "These subjects are the foundation of CSS, Data Science, and all the quantitative flavors applied to each of our sciences:\n",
    "\n",
    "- Political Methodology\n",
    "- Econometrics\n",
    "- Psychometrics\n",
    "- Applied stats to [fill the blank with your field]"
   ]
  },
  {
   "cell_type": "markdown",
   "metadata": {
    "slideshow": {
     "slide_type": "slide"
    }
   },
   "source": [
    "## Statistical and Probability Theory\n",
    "\n",
    "Plan:\n",
    "\n",
    "1. We will have two lectures in the afternoon starting tomorrow (sorry for that).\n",
    "\n",
    "\n",
    "2. But to compensate, 1:30 of lunch (yay?!)\n",
    "\n",
    "\n",
    "3. Schedule:\n",
    "    - Days 01 and 02: Probability Theory\n",
    "    - Days 03 to 04: Statistical Inference\n",
    "    - Day 05: Numeric Analysis\n",
    "\n",
    "\n",
    "4. Mostly based on [Aronow and Miller (2019)](https://www.cambridge.org/core/books/foundations-of-agnostic-statistics/684756357E7E9B3DFF0A8157FB2DCECA): A great book that we have free access here at the UCSD! I am also taking things from DeGroot's book."
   ]
  },
  {
   "cell_type": "markdown",
   "metadata": {
    "slideshow": {
     "slide_type": "slide"
    }
   },
   "source": [
    "# Probability Theory"
   ]
  },
  {
   "cell_type": "markdown",
   "metadata": {
    "slideshow": {
     "slide_type": "slide"
    }
   },
   "source": [
    "## Probability Theory\n",
    "\n",
    "There are three most common interpretations of probability:\n",
    "\n",
    "1. **Frequency:** *Relative frequency of something of interest happening* when we repeat the trial an *infinite number of times*\n",
    "    - If we toss a *fair* coin infinitely many times, the chance of seeing head should converge to 1/2.\n",
    "\n",
    "2. **Classical:** Based on the idea of *equally likely* outcomes.\n",
    "    - When a coin is tossed, there is 1/2 chance of each face.\n",
    "    \n",
    "3. **Subjective:** The probability that a person assigns to a process, based on her subjective beliefs about the process.\n",
    "    - I *believe* that the likelyhood of a coin toss go head is 1/2 and I update my belief as we go.\n",
    "    \n",
    "**What matters:** Regardless of your way of seeing probability, the mathematical theory of probability is the same."
   ]
  },
  {
   "cell_type": "markdown",
   "metadata": {
    "slideshow": {
     "slide_type": "slide"
    }
   },
   "source": [
    "## Fundamentals of Probability Theory\n",
    "\n",
    "We are going to start by present the main ingredients of a *random generative process*.\n",
    "\n",
    "1. **Definition: Sample space**: Is the set of all possible outcomes of a random generative process. Denoted by $\\Omega$. Containing individual outcomes, denoted as $\\omega \\in \\Omega$.\n",
    "    + Polity IV scores: $\\Omega = [-10, 10]$\n",
    "    + Income: $\\Omega = \\mathbb{R}^+$\n",
    "    + GDP growth: $\\Omega = \\mathbb{R}$ (but not really...)\n",
    "    + Deaths in a civil conflict: $\\Omega = \\mathbb{N} \\cup {0}$\n",
    "    + Roll a die: $\\Omega = \\{1, 2, 3, 4, 5, 6\\}$.\n",
    "    + Roll two dice: $\\Omega = \\{x + y: x \\in \\mathbb{Z}, y \\in \\mathbb{Z} \\text{ such that } 1 \\leq x, y \\leq 6\\}$.\n",
    "    + And so on.\n",
    "  \n",
    "- One simple case, a coin toss: $\\Omega = \\{H, T\\}$."
   ]
  },
  {
   "cell_type": "markdown",
   "metadata": {
    "slideshow": {
     "slide_type": "slide"
    }
   },
   "source": [
    "## Fundamentals of Probability Theory\n",
    "\n",
    "2. **Definition: Event space**: A set $\\mathcal{S}$ of subsets of $\\Omega$ that satisfy the following properties:\n",
    "    + Nonempty: $\\mathcal{S} \\neq \\emptyset$\n",
    "    + Closed under complements: If $A \\in \\mathcal{S}$, then $A^C \\in \\mathcal{S}$\n",
    "    + Closed under Countable Unions: For a countable sequence $A_1, A_2, \\cdots \\in \\mathcal{S}$, then $\\bigcup A_i \\in \\mathcal{S}$\n",
    "  \n",
    "- For a coin toss, let us consider $\\mathcal{S} = 2^\\Omega$."
   ]
  },
  {
   "cell_type": "markdown",
   "metadata": {
    "slideshow": {
     "slide_type": "slide"
    },
    "tags": []
   },
   "source": [
    "## Fundamentals of Probability Theory\n",
    "\n",
    "3. **Definition: Probability Measure**: A function $P: \\mathcal{S} \\rightarrow [0, 1]$ that satisfy three axioms (Kolmogorov):\n",
    "    + Non-negativity: $\\forall A \\in \\mathcal{S}$, $P(A) \\in [0, 1]$.\n",
    "    + Unitarity: $P(\\Omega) = 1$.\n",
    "    + Countable Additivity: If $A_1, A_2, \\cdots \\in \\mathcal{S}$, such that $A_i \\cap A_j = \\emptyset$ $\\forall i \\neq j$. Then: \n",
    "    \n",
    "$$P(\\bigcup A_i) = \\sum P(A_i)$$\n",
    "\n",
    "- For a coin toss, let us consider $P(A) = \\frac{1}{2}|A|$.\n",
    "\n",
    "- Lots of consequences can be reached from these simple things: e.g., $P(\\emptyset)$ or $P(A^C) = 1 - P(A)$, etc."
   ]
  },
  {
   "cell_type": "markdown",
   "metadata": {
    "slideshow": {
     "slide_type": "slide"
    }
   },
   "source": [
    "## Fundamentals of Probability Theory\n",
    "\n",
    "**Theorem**: Let $(\\Omega, \\mathcal{S}, P)$ be a probability space. Then:\n",
    "\n",
    "1. *Monotonicity:* $\\forall A, B \\in \\mathcal{S}$, if $A \\subseteq B$, then $P(A) \\leq P(B)$.\n",
    "\n",
    "1. *Subtraction rule*: $\\forall A, B \\in \\mathcal{S}$, if $A \\subseteq B$, then $P(B \\setminus A) = P(B) - P(A)$. \n",
    "\n",
    "1. *Zero probability of the empty set:* $P(\\emptyset) = 0$.\n",
    "\n",
    "1. *Probability bounds:* $\\forall A \\in \\mathcal{S}$, $0 \\leq P(A) \\leq 1$.\n",
    "\n",
    "1. *Complement rule:* $\\forall A \\in \\mathcal{S}$, $P(A^C) = 1 - P(A)$."
   ]
  },
  {
   "cell_type": "markdown",
   "metadata": {
    "slideshow": {
     "slide_type": "slide"
    }
   },
   "source": [
    "## Fundamentals of Probability Theory\n",
    "\n",
    "**Checkin:** \n",
    "\n",
    "1. If three fair coins are tossed, what is the probability that all three faces will be the same?\n",
    "\n",
    "1. A school contains students in grades 1, 2, 3, 4, 5, and 6. Grades 2, 3, 4, 5, and 6 all contain the same number of students, but there are twice this number in grade 1. If a student is selected at random from a list of all the students in the school, what is the probability that she will be in grade 3?"
   ]
  },
  {
   "cell_type": "markdown",
   "metadata": {
    "slideshow": {
     "slide_type": "slide"
    }
   },
   "source": [
    "## Fundamentals of Probability Theory\n",
    "\n",
    "**Definition: Joint Probability**: For $A, B \\in \\mathcal{S}$, the joint probability of $A$ and $B$ is $P(A \\cap B)$\n",
    "\n",
    "- Example: Chance of rolling a die and get an even number bigger than three.\n",
    "\n",
    "**Theorem: Addition Rule**: For $A, B \\in \\mathcal{S}$\n",
    "\n",
    "$$ P(A \\cup B) \\ = \\ P(A) + P(B) - P(A \\cap B) $$\n",
    "\n",
    "Note that $A \\setminus B = A \\setminus (A \\cap B)$"
   ]
  },
  {
   "cell_type": "markdown",
   "metadata": {
    "slideshow": {
     "slide_type": "slide"
    }
   },
   "source": [
    "## Fundamentals of Probability Theory\n",
    "\n",
    "**Check-in:**\n",
    "\n",
    "1. In a certain city, three newspapers A, B, and C are published. \n",
    "    - Suppose that 60 percent of the families in the city subscribe to newspaper A, 40 percent of the families subscribe to newspaper B, and 30 percent subscribe to newspaper C. \n",
    "    - Suppose also that 20 percent of the families subscribe to both A and B, 10 percent subscribe to both A and C, 20 percent subscribe to both B and C, and 5 percent subscribe to all three newspapers A, B, and C.\n",
    "    -  What percentage of the families in the city subscribe to at least one of the three newspapers?"
   ]
  },
  {
   "cell_type": "markdown",
   "metadata": {
    "slideshow": {
     "slide_type": "slide"
    }
   },
   "source": [
    "## Fundamentals of Probability Theory\n",
    "\n",
    "**Definition: Conditional Probability**: For $A, B \\in \\mathcal{S}$, the **joint probability of A and B** is \n",
    "\n",
    "$$ P(A|B) \\ = \\dfrac{P(A \\cap B)}{P(B)} $$\n",
    "\n",
    "**Theorem: Multiplicative Law**: For $A, B \\in \\mathcal{S}$, with $P(B) > 0$, then $P(A | B)P(B) = P(A \\cap B)$."
   ]
  },
  {
   "cell_type": "markdown",
   "metadata": {
    "slideshow": {
     "slide_type": "slide"
    }
   },
   "source": [
    "## Fundamentals of Probability Theory\n",
    "\n",
    "**Check-in:**\n",
    "\n",
    "1. Suppose that two dice were rolled and it was observed that the sum $T$ of the two numbers was odd. Determine the probability that $T$ was less than 8."
   ]
  },
  {
   "cell_type": "markdown",
   "metadata": {
    "slideshow": {
     "slide_type": "slide"
    }
   },
   "source": [
    "## Fundamentals of Probability Theory\n",
    "\n",
    "One of the most important consequences of this reasoning is the *Bayes theorem*.\n",
    "\n",
    "1. It provides a foundation for us to update the predictive probability of events\n",
    "1. Example: Suppose that we want to predict an event $A$. If we observe an event $B$, we can use the information of $B$ to improve our understanding about the chance of $A$ occuring.\n",
    "1. Concrete example: Suppose you want to go to the beach (yes, please, desperately...). Then, if you see a cloud in the sky, you can update your accessment of the chance that it is going to rain.\n",
    "\n",
    "**Theorem: Bayes Rule**: For $A, B \\in \\mathcal{S}$, with $P(A) > 0$ and $P(B) > 0$, \n",
    "\n",
    "$$ P(A | B) \\ = \\ \\dfrac{P(B|A)P(A)}{P(B)} $$"
   ]
  },
  {
   "cell_type": "markdown",
   "metadata": {
    "slideshow": {
     "slide_type": "slide"
    }
   },
   "source": [
    "## Fundamentals of Probability Theory\n",
    "\n",
    "**Check-in**: \n",
    "\n",
    "1. Suppose that you are walking down the street and notice that the Department of Public Health is giving a free medical test for a certain disease. The test is 90 percent reliable in the following sense: If a person has the disease, there is a probability of 0.9 that the test will give a positive response; whereas, if a person does not have the disease, there is a probability of only 0.1 that the test will give a positive response. $\\newline$ Data indicate that your chances of having the disease are only 1 in 10,000. However, since the test costs you nothing, and is fast and harmless, you decide to stop and take the test. A few days later you learn that you had a positive response to the test. Now, what is the probability that you have the disease? $\\newline\\newline$\n",
    "\n",
    "1. In a certain city, 30 percent of the people are Conservatives, 50 percent are Liberals, and 20 percent are Independents. Records show that in a particular election, 65 percent of the Conservatives voted, 82 percent of the Liberals voted, and 50 percent of the Independents voted. If a person in the city is selected at random and it is learned that she did not vote in the last election, what is the probability that she is a Liberal?"
   ]
  },
  {
   "cell_type": "markdown",
   "metadata": {
    "slideshow": {
     "slide_type": "slide"
    }
   },
   "source": [
    "## Fundamentals of Probability Theory\n",
    "\n",
    "**Definition - Partition**: If $\\{A_{1},A_{2},\\cdots \\}$, with $A_{i} \\in \\mathcal{S}$, are non-empty and pairwise disjoint sets such that $\\Omega = \\cup_i A_{i}$, the set $\\{A_{1},A_{2},\\cdots\\}$ is called a *partition* of $\\Omega$.\n",
    "\n",
    "**Theorem - Law of Total Probability**: If $\\{ A_{1}, A_{2}, \\cdots \\}$ is a partition of $\\Omega$, and $B \\in \\mathcal{S}$, then\n",
    "\n",
    "$$ P(B) \\ = \\ \\sum_{i} P(B \\cap A_{i}) $$\n",
    "\n",
    "And if, $\\forall i$,  $P(A_{i}) > 0$, then\n",
    "\n",
    "$$ P(B) \\ = \\ \\sum_{i} P( B | A_{i}) P(A_{i}) $$"
   ]
  },
  {
   "cell_type": "markdown",
   "metadata": {
    "slideshow": {
     "slide_type": "slide"
    }
   },
   "source": [
    "## Fundamentals of Probability Theory\n",
    "\n",
    "**Check-in:**\n",
    "\n",
    "1. Each time a shopper purchases a tube of toothpaste, she chooses either brand A or brand B. Suppose that for each purchase after the first, the probability is 1/3 that she will choose the same brand that she chose on his preceding purchase and the probability is 2/3 that she will switch brands. If she is equally likely to choose either brand A or brand B on her first purchase, what is the probability that both her first and second purchases will be brand A and both her third and fourth purchases will be brand B?"
   ]
  },
  {
   "cell_type": "markdown",
   "metadata": {
    "slideshow": {
     "slide_type": "slide"
    }
   },
   "source": [
    "## Independence\n",
    "\n",
    "**Definition - Independence of Events**: Events $A, B \\in S$ are *independent* if $\\mathbb{P}(A \\cap B) = \\mathbb{P}(A)\\mathbb{P}(B)$\n",
    "\n",
    "**Theorem - Conditional Probability and Independence**: For $A, B \\in S$, with $\\mathbb{P}(B) > 0$, $A$ and $B$ are independent if, and only if, $\\mathbb{P}(A|B) = \\mathbb{P}(A)$."
   ]
  },
  {
   "cell_type": "markdown",
   "metadata": {
    "slideshow": {
     "slide_type": "slide"
    }
   },
   "source": [
    "## Independence\n",
    "\n",
    "**People v. Collins.** \n",
    "\n",
    "- Finkelstein and Levin (1990) describe a criminal case whose verdict was overturned by the Supreme Court of California in part due to a probability calculation involving both conditional probability and independence. \n",
    "\n",
    "- The case, People v. Collins, 68 Cal. 2d 319, 438 P.2d 33 (1968), involved a purse snatching in which witnesses claimed to see a young woman with blond hair in a ponytail fleeing from the scene in a yellow car driven by a black man with a beard. \n",
    "\n",
    "- A couple meeting the description was arrested a few days after the crime, but no physical evidence was found.\n",
    "\n",
    "- A mathematician calculated the probability that a randomly selected couple would possess the described characteristics as about $8.3 \\times 10^{−8}$, or 1 in 12 million. \n",
    "\n",
    "- Faced with such overwhelming odds and no physical evidence, the jury decided that the defendants must have been the only such couple and convicted them."
   ]
  },
  {
   "cell_type": "markdown",
   "metadata": {
    "slideshow": {
     "slide_type": "slide"
    }
   },
   "source": [
    "## Independence\n",
    "\n",
    "**People v. Collins.** \n",
    "\n",
    "- The Supreme Court thought that a more useful probability should have been calculated. \n",
    "\n",
    "- Based on the testimony of the witnesses, there was a couple that met the above description. Given that there was already one couple who met the description, ***what is the conditional probability that there was also a second couple such as the defendants?***\n",
    "\n",
    "- Let $p$ be the probability that a randomly selected couple from a population of $n$ couples has certain characteristics. \n",
    "\n",
    "- Let $A$ be the event that at least one couple in the population has the characteristics, and let $B$ be the event that at least two couples have the characteristics.\n",
    "\n",
    "- What is $P(B|A)$? Since $B \\subset A$:\n",
    "\n",
    "$$P(B|A) = \\dfrac{P(B \\cup A)}{P(A)} = \\dfrac{P(B)}{P(A)}$$"
   ]
  },
  {
   "cell_type": "markdown",
   "metadata": {
    "slideshow": {
     "slide_type": "slide"
    }
   },
   "source": [
    "## Independence\n",
    "\n",
    "**People v. Collins.** \n",
    "\n",
    "- To compute $P(A)$ and $P(B)$, suppose we number couples in the population $1, 2, \\cdots, n$. \n",
    "\n",
    "- Let $A_i$ the event that couple $i$ has the characteristic. Then, (A) ***the event that at least one couple has the characteristic*** is equal to:\n",
    "\n",
    "$$A = (A_1^C \\cap A_2^C \\cap \\cdots \\cap A_n^C)^C$$\n",
    "\n",
    "- Now, let us consider (C) ***the chance that exactly one couple has this characteristic***:\n",
    "\n",
    "$$C = (A_1 \\cap A_2^C \\cap \\cdots \\cap A_n^C) \\cup (A_1^C \\cap A_2 \\cap \\cdots \\cap A_n^C) \\cup \\cdots \\cup (A_1^C \\cap A_2^C \\cap \\cdots \\cap A_n)$$\n",
    "\n",
    "- Now $B$, which is (B) ***the event that at least two couples have the characteristics***, is equal to:\n",
    "\n",
    "$$B = A \\cap C^C$$"
   ]
  },
  {
   "cell_type": "markdown",
   "metadata": {
    "slideshow": {
     "slide_type": "slide"
    }
   },
   "source": [
    "## Independence\n",
    "\n",
    "**People v. Collins.**\n",
    "\n",
    "- Assuming the $n$ couples are mutually independent:\n",
    "\n",
    "    - $P(A^C) = (1-p)^n$ and $P(A) = 1 - (1-p)^n$\n",
    "    - $P(C) = np(1-p)^{n-1}$\n",
    "    - The chance that at least two couples have the same characteristics is equal to the chance that at least one minus exactly one. $P(B) = P(A) - P(C) = 1-(1-p)^n - np(1-p)^{n-1}$\n",
    "\n",
    "$$P(B|A) = \\dfrac{1-(1-p)^n - np(1-p)^{n-1}}{1 - (1-p)^n}$$\n",
    "\n",
    "- And if $n = 8,000,000$ and $p = 8.3 \\times 10^{-8}$, $P(B|A) = 0.2966$. \n",
    "\n",
    "- Thus, the Supreme Court ruled that there was enough grounds for reasonable doubt."
   ]
  },
  {
   "cell_type": "markdown",
   "metadata": {
    "slideshow": {
     "slide_type": "slide"
    }
   },
   "source": [
    "## Independence\n",
    "\n",
    "**Check-in**:\n",
    "\n",
    "1. Suppose that two machines 1 and 2 in a factory are operated independently of each other. Let $A$ be the event that machine 1 will become inoperative during a given 8-hour period, let $B$ be the event that machine 2 will become inoperative during the same period, and suppose that $P(A) = 1/3$ and $P(B) = 1/4$. What is the chance that at least one machine will become inoperative during a given period?\n",
    "\n",
    "1. Use the fact that $P(A \\cap B^C) = P(A) - P(A \\cap B)$ to prove that if two events $A$ and $B$ are independent, then the events $A$ and $B^C$ are also independent.\n",
    "\n",
    "1. Suppose that a fair coin is tossed until a head appears for the first time, and assume that the outcomes of the tosses are independent. What is the probability $p_n$ that exactly $n$ tosses will be required."
   ]
  },
  {
   "cell_type": "markdown",
   "metadata": {
    "slideshow": {
     "slide_type": "slide"
    }
   },
   "source": [
    "## Random Variable\n",
    "\n",
    "**Definition: Random Variable**: A *random variable* is a function $X: \\Omega \\rightarrow \\mathbb{R}$ such that, $\\forall r \\in \\mathbb{R}$, $\\{\\omega \\in \\Omega: X(\\omega) \\leq r\\} \\in \\mathcal{S}$\n",
    "\n",
    "A random variable maps each state of the world ($\\omega \\in \\Omega$) to a real number.\n",
    "\n",
    "- Example: The event $\\{X = 1\\}$ means $\\{\\omega \\in \\Omega: X(\\omega) = 1\\}$\n",
    "    \n",
    "- Example: Consider an experiment where a fair coin is tossed 10 times. We can define a random variable $X$ that counts the number of heads."
   ]
  },
  {
   "cell_type": "markdown",
   "metadata": {
    "slideshow": {
     "slide_type": "slide"
    }
   },
   "source": [
    "## Random Variable\n",
    "\n",
    "When a probability measure has been defined on the sample space, we can determine the probabilities associated with each possible value of the random variable.\n",
    "\n",
    "**Definition - Distribution**: Let $X$ be a random variable. The **distribution** of $X$ is the collection of all probabilities of the form $P(X \\in C$ for all sets $C$ of real numbers such that $\\{X \\in X\\}$."
   ]
  },
  {
   "cell_type": "markdown",
   "metadata": {
    "slideshow": {
     "slide_type": "slide"
    }
   },
   "source": [
    "## Random Variable\n",
    "\n",
    "**Definition - Discrete Random Variable**: A *random variable* $X$ is discrete if takes at most $k$ values or an infinite sequence of countable values.\n",
    "\n",
    "Example: In the 10 times coin toss example, each outcome has chance $\\dfrac{1}{2^{10}}$. But there are ${10 \\choose x}$ number of events with $x$ heads. Therefore:\n",
    "\n",
    "$$P(X = x) = {10 \\choose x}\\dfrac{1}{2^{10}}$$\n",
    "\n",
    "**Definition - Probability Mass Function (PMF) and Support**:\n",
    "\n",
    "- Probability mass function: $f(x) = P(X = x)$\n",
    "\n",
    "- Support of a probability function: The closure of the set $\\{x: f(x) > 0\\}$."
   ]
  },
  {
   "cell_type": "markdown",
   "metadata": {
    "slideshow": {
     "slide_type": "slide"
    }
   },
   "source": [
    "## Random Variable\n",
    "\n",
    "**Theorem**: If $X$ has a discrete distribution, the the probability of each subset $C$ in the real line is:\n",
    "\n",
    "$$P(X \\in C) = \\sum_{x_i \\in C} f(x_i)$$\n",
    "\n",
    "**Definition - Bernoulli Distribution**: A random variable $Z$ that takes only two values $0$ and $1$ with $P(Z = 1) = p$ has the ***Bernoulli distribution*** with parameter p. We also say that $Z$ is a Bernoulli random variable with parameter $p$ and denote $Z \\sim Bernoulli(p)$\n",
    "\n",
    "The distribution of the variable is:\n",
    "\n",
    "$$\n",
    "f(x) =\n",
    "  \\begin{cases}\n",
    "    1-p & \\text{for $x = 0$} \\\\\n",
    "    p & \\text{for $x = 1$} \\\\\n",
    "    0 & \\text{otherwise}\n",
    "  \\end{cases}\n",
    "$$"
   ]
  },
  {
   "cell_type": "markdown",
   "metadata": {
    "slideshow": {
     "slide_type": "slide"
    }
   },
   "source": [
    "## Random Variable\n",
    "\n",
    "**Definition - Uniform Distribution**: Let $a \\leq b$ integers. Suppose that the value of a random variable $X$ is equally likely to be each of the integers $a, \\cdots, b$. Then we say that $X$ has the uniform distribution on the integers $a, \\cdots, b$.\n",
    "\n",
    "The distribution of the variable is:\n",
    "\n",
    "$$\n",
    "f(x) =\n",
    "  \\begin{cases}\n",
    "    \\dfrac{1}{b - a + 1} & \\text{for $x = a, \\cdots, b$} \\\\\n",
    "    0 & \\text{otherwise}\n",
    "  \\end{cases}\n",
    "$$"
   ]
  },
  {
   "cell_type": "markdown",
   "metadata": {
    "slideshow": {
     "slide_type": "slide"
    }
   },
   "source": [
    "## Random Variable\n",
    "\n",
    "Suppose that we want to model the distribution of votes for a given politician. If each person has chance $p$, the number of voters is $n$. Then, the chance that the politician gets $x$ votes is:\n",
    "\n",
    "$$P(X = x) = {n \\choose x} p^x(1-p)^{n-x}$$\n",
    "\n",
    "**Definition - Binomial Distribution**: The discrete distribution represented by the probability function\n",
    "\n",
    "$$\n",
    "f(x) =\n",
    "  \\begin{cases}\n",
    "    {n \\choose x} p^x(1-p)^{n-x} & \\text{for $x = 0, 1, \\cdots, n$} \\\\\n",
    "    0 & \\text{otherwise}\n",
    "  \\end{cases}\n",
    "$$\n",
    "\n",
    "is called the binomial distribution with parameters $n$ and $p$."
   ]
  },
  {
   "cell_type": "markdown",
   "metadata": {
    "slideshow": {
     "slide_type": "slide"
    }
   },
   "source": [
    "## Random Variable\n",
    "\n",
    "**Check-in**\n",
    "\n",
    "1. Suppose that a random variable X has the uniform distribution on the integers $10, \\cdots, 20$. Find the probability that X is even.\n",
    "\n",
    "1. Suppose that a random variable X has a discrete distribution with the following probability function: $$\n",
    "f(x) =\n",
    "  \\begin{cases}\n",
    "    cx & \\text{for $x = 1, \\cdots, 5$} \\\\\n",
    "    0 & \\text{otherwise}\n",
    "  \\end{cases}\n",
    "$$ Determine the value of the constant $c$."
   ]
  },
  {
   "cell_type": "markdown",
   "metadata": {
    "slideshow": {
     "slide_type": "slide"
    }
   },
   "source": [
    "# Great work!"
   ]
  }
 ],
 "metadata": {
  "celltoolbar": "Slideshow",
  "kernelspec": {
   "display_name": "Python 3 (ipykernel)",
   "language": "python",
   "name": "python3"
  },
  "language_info": {
   "codemirror_mode": {
    "name": "ipython",
    "version": 3
   },
   "file_extension": ".py",
   "mimetype": "text/x-python",
   "name": "python",
   "nbconvert_exporter": "python",
   "pygments_lexer": "ipython3",
   "version": "3.11.3"
  }
 },
 "nbformat": 4,
 "nbformat_minor": 4
}
