{
 "cells": [
  {
   "cell_type": "code",
   "execution_count": 1,
   "id": "3c48a2d6",
   "metadata": {},
   "outputs": [
    {
     "data": {
      "text/plain": [
       "4"
      ]
     },
     "execution_count": 1,
     "metadata": {},
     "output_type": "execute_result"
    }
   ],
   "source": [
    "2 + 2"
   ]
  },
  {
   "cell_type": "markdown",
   "id": "f389b910",
   "metadata": {},
   "source": [
    "# My title\n",
    "\n",
    "## Subtitle\n",
    "\n",
    "### Sub-sub-title\n",
    "\n",
    "This is my text. It looks awesome!\n",
    "\n",
    "**bold**, *italics*, ***bold and italics***\n",
    "\n",
    "- the first element of my (unordered) list\n",
    "- second\n",
    "- third\n",
    "- ...\n",
    "\n",
    "1. first element\n",
    "2. second\n",
    "3. third\n",
    "\n",
    "| a | b | c |\n",
    "|---|---|---|\n",
    "| 1 | 2 | 3 |\n",
    "| 4 | 5 | 6 |\n",
    "\n",
    "---\n",
    "\n",
    "The best command you run here is `this`\n",
    "\n",
    "```\n",
    "fjdshakjfahs\n",
    "fdksabhfjksa\n",
    "```\n",
    "\n",
    ">\n",
    "> CSS is awesome\n",
    ">\n",
    "> by: very smart person\n",
    ">\n",
    "\n",
    "![myimg](https://upload.wikimedia.org/wikipedia/commons/1/1b/AI_hierarchy.svg)\n",
    "\n",
    "This is a link to a [Wikipedia ML page](https://en.wikipedia.org/wiki/Machine_learning)"
   ]
  },
  {
   "cell_type": "code",
   "execution_count": 2,
   "id": "85eef05c",
   "metadata": {},
   "outputs": [],
   "source": [
    "a = 3"
   ]
  },
  {
   "cell_type": "markdown",
   "id": "b38cbffe",
   "metadata": {},
   "source": [
    "This is my nice text."
   ]
  }
 ],
 "metadata": {
  "kernelspec": {
   "display_name": "Python 3 (ipykernel)",
   "language": "python",
   "name": "python3"
  },
  "language_info": {
   "codemirror_mode": {
    "name": "ipython",
    "version": 3
   },
   "file_extension": ".py",
   "mimetype": "text/x-python",
   "name": "python",
   "nbconvert_exporter": "python",
   "pygments_lexer": "ipython3",
   "version": "3.10.9"
  }
 },
 "nbformat": 4,
 "nbformat_minor": 5
}
