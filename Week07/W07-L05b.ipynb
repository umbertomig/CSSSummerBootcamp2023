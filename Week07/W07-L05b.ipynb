{
 "cells": [
  {
   "cell_type": "markdown",
   "id": "a0b8e7e8",
   "metadata": {
    "slideshow": {
     "slide_type": "slide"
    }
   },
   "source": [
    "# CSS 201 / 202 - CSS Bootcamp\n",
    "\n",
    "## Week 07 - Lecture 05\n",
    "\n",
    "### Umberto Mignozzetti"
   ]
  },
  {
   "cell_type": "markdown",
   "id": "754b027f",
   "metadata": {
    "slideshow": {
     "slide_type": "slide"
    }
   },
   "source": [
    "# Introduction to Julia"
   ]
  },
  {
   "cell_type": "markdown",
   "id": "a30fbe4c-01fd-4f5b-a8eb-cb37cba07c05",
   "metadata": {
    "slideshow": {
     "slide_type": "slide"
    }
   },
   "source": [
    "## Intro to Julia\n",
    "\n",
    "Julia is probably the best software for data science available.\n",
    "\n",
    "It has all the capabilities of R and Python, but it is faster, much faster.\n",
    "\n",
    "The reason for the speed is because it uses all the cores in your computer by default.\n",
    "\n",
    "It also can run and load code from the most important languages (Java, C, R, and Python included).\n",
    "\n",
    "It was the software used by the CERN for analyzing the LHC experiment and BlackRock to run financial assets simulation."
   ]
  },
  {
   "cell_type": "markdown",
   "id": "14cef0c8",
   "metadata": {
    "slideshow": {
     "slide_type": "slide"
    }
   },
   "source": [
    "## Intro to Julia\n",
    "\n",
    "Today, we will talk about:\n",
    "\n",
    "1. Arithmetics\n",
    "1. Install and load packages\n",
    "1. Loading data\n",
    "1. Data types\n",
    "1. Data wrangling\n",
    "1. Simple regression\n",
    "1. Programming"
   ]
  },
  {
   "cell_type": "markdown",
   "id": "0adbf85a",
   "metadata": {
    "slideshow": {
     "slide_type": "slide"
    }
   },
   "source": [
    "## Intro to Julia\n",
    "\n",
    "To install Julia, you need to download it from the internet: https://julialang.org\n",
    "\n",
    "Then, you can choose to work with Julia in:\n",
    "\n",
    "1. [Visual Studio](https://code.visualstudio.com/docs/languages/julia) (A great Graphical User Interface GUI)\n",
    "2. [Jupyter Notebooks / Jupyter Lab](https://www.geeksforgeeks.org/how-to-work-with-julia-on-jupyter-notebook/) \n",
    "\n",
    "We will use Jupyter Notebooks, since it is our editor of choice. If you are working locale, the link will have instructions on how to do the job."
   ]
  },
  {
   "cell_type": "markdown",
   "id": "7e70cffc",
   "metadata": {
    "slideshow": {
     "slide_type": "slide"
    }
   },
   "source": [
    "## Print and Comment\n",
    "\n",
    "With Julia, the print command is `println`. \n",
    "\n",
    "`#` for commenting.\n",
    "\n",
    "`#=...=#` for multiline commenting."
   ]
  },
  {
   "cell_type": "code",
   "execution_count": 1,
   "id": "ebf57e29",
   "metadata": {},
   "outputs": [
    {
     "name": "stdout",
     "output_type": "stream",
     "text": [
      "2\n"
     ]
    }
   ],
   "source": [
    "# This is 2\n",
    "println(2)"
   ]
  },
  {
   "cell_type": "code",
   "execution_count": 2,
   "id": "68f06bf2",
   "metadata": {},
   "outputs": [
    {
     "name": "stdout",
     "output_type": "stream",
     "text": [
      "5\n"
     ]
    }
   ],
   "source": [
    "#=\n",
    "This is 2 + 3\n",
    "Equals to 5\n",
    "=#\n",
    "println(2 + 3)"
   ]
  },
  {
   "cell_type": "markdown",
   "id": "f8479704",
   "metadata": {
    "slideshow": {
     "slide_type": "slide"
    }
   },
   "source": [
    "## Arithmetics in Julia"
   ]
  },
  {
   "cell_type": "code",
   "execution_count": 4,
   "id": "f4867bd2",
   "metadata": {},
   "outputs": [
    {
     "name": "stdout",
     "output_type": "stream",
     "text": [
      "-1.2000000000000002\n"
     ]
    }
   ],
   "source": [
    "# Subtraction\n",
    "println(2 - 3.2)"
   ]
  },
  {
   "cell_type": "code",
   "execution_count": 5,
   "id": "f296181a",
   "metadata": {},
   "outputs": [
    {
     "name": "stdout",
     "output_type": "stream",
     "text": [
      "6\n"
     ]
    }
   ],
   "source": [
    "# Multiplication\n",
    "println(2 * 3)"
   ]
  },
  {
   "cell_type": "code",
   "execution_count": 6,
   "id": "442ef273",
   "metadata": {},
   "outputs": [
    {
     "name": "stdout",
     "output_type": "stream",
     "text": [
      "0.6666666666666666\n"
     ]
    }
   ],
   "source": [
    "# Division\n",
    "println(2 / 3)"
   ]
  },
  {
   "cell_type": "code",
   "execution_count": 7,
   "id": "fcb5b897",
   "metadata": {},
   "outputs": [
    {
     "name": "stdout",
     "output_type": "stream",
     "text": [
      "8\n"
     ]
    }
   ],
   "source": [
    "# Power (note that different than Python)!\n",
    "println(2 ^ 3)"
   ]
  },
  {
   "cell_type": "markdown",
   "id": "013d9a82",
   "metadata": {
    "slideshow": {
     "slide_type": "slide"
    }
   },
   "source": [
    "## Intro to Julia\n",
    "\n",
    "### Install packages\n",
    "\n",
    "To get started with Julia, we need to install packages. We will install packages called:\n",
    "\n",
    "- [`StatsKit`](https://juliastats.org)\n",
    "- `CSV`\n",
    "- `Plots`\n",
    "- `PythonCall`\n",
    "- `RCall`\n",
    "- `BenchmarkTools`\n",
    "- `GLM`\n",
    "\n",
    "For Julia packages see [JuliaHub](https://juliahub.com/ui/Packages)"
   ]
  },
  {
   "cell_type": "code",
   "execution_count": 9,
   "id": "8ab32cc5",
   "metadata": {},
   "outputs": [
    {
     "name": "stderr",
     "output_type": "stream",
     "text": [
      "\u001b[32m\u001b[1m   Resolving\u001b[22m\u001b[39m package versions...\n",
      "\u001b[32m\u001b[1m  No Changes\u001b[22m\u001b[39m to `~/.julia/environments/v1.9/Project.toml`\n",
      "\u001b[32m\u001b[1m  No Changes\u001b[22m\u001b[39m to `~/.julia/environments/v1.9/Manifest.toml`\n",
      "\u001b[32m\u001b[1m   Resolving\u001b[22m\u001b[39m package versions...\n",
      "\u001b[32m\u001b[1m  No Changes\u001b[22m\u001b[39m to `~/.julia/environments/v1.9/Project.toml`\n",
      "\u001b[32m\u001b[1m  No Changes\u001b[22m\u001b[39m to `~/.julia/environments/v1.9/Manifest.toml`\n",
      "\u001b[32m\u001b[1m   Resolving\u001b[22m\u001b[39m package versions...\n",
      "\u001b[32m\u001b[1m  No Changes\u001b[22m\u001b[39m to `~/.julia/environments/v1.9/Project.toml`\n",
      "\u001b[32m\u001b[1m  No Changes\u001b[22m\u001b[39m to `~/.julia/environments/v1.9/Manifest.toml`\n",
      "\u001b[32m\u001b[1m   Resolving\u001b[22m\u001b[39m package versions...\n",
      "\u001b[32m\u001b[1m  No Changes\u001b[22m\u001b[39m to `~/.julia/environments/v1.9/Project.toml`\n",
      "\u001b[32m\u001b[1m  No Changes\u001b[22m\u001b[39m to `~/.julia/environments/v1.9/Manifest.toml`\n",
      "\u001b[32m\u001b[1m   Resolving\u001b[22m\u001b[39m package versions...\n",
      "\u001b[32m\u001b[1m  No Changes\u001b[22m\u001b[39m to `~/.julia/environments/v1.9/Project.toml`\n",
      "\u001b[32m\u001b[1m  No Changes\u001b[22m\u001b[39m to `~/.julia/environments/v1.9/Manifest.toml`\n",
      "\u001b[32m\u001b[1m   Resolving\u001b[22m\u001b[39m package versions...\n",
      "\u001b[32m\u001b[1m  No Changes\u001b[22m\u001b[39m to `~/.julia/environments/v1.9/Project.toml`\n",
      "\u001b[32m\u001b[1m  No Changes\u001b[22m\u001b[39m to `~/.julia/environments/v1.9/Manifest.toml`\n",
      "\u001b[32m\u001b[1m   Resolving\u001b[22m\u001b[39m package versions...\n",
      "\u001b[32m\u001b[1m  No Changes\u001b[22m\u001b[39m to `~/.julia/environments/v1.9/Project.toml`\n",
      "\u001b[32m\u001b[1m  No Changes\u001b[22m\u001b[39m to `~/.julia/environments/v1.9/Manifest.toml`\n",
      "\u001b[32m\u001b[1m   Resolving\u001b[22m\u001b[39m package versions...\n",
      "\u001b[32m\u001b[1m  No Changes\u001b[22m\u001b[39m to `~/.julia/environments/v1.9/Project.toml`\n",
      "\u001b[32m\u001b[1m  No Changes\u001b[22m\u001b[39m to `~/.julia/environments/v1.9/Manifest.toml`\n",
      "\u001b[32m\u001b[1m   Resolving\u001b[22m\u001b[39m package versions...\n",
      "\u001b[32m\u001b[1m  No Changes\u001b[22m\u001b[39m to `~/.julia/environments/v1.9/Project.toml`\n",
      "\u001b[32m\u001b[1m  No Changes\u001b[22m\u001b[39m to `~/.julia/environments/v1.9/Manifest.toml`\n"
     ]
    }
   ],
   "source": [
    "# Installing packages (takes a bit to do)\n",
    "using Pkg\n",
    "Pkg.add(\"StatsKit\")\n",
    "Pkg.add(\"Statistics\")\n",
    "Pkg.add(\"CSV\")\n",
    "Pkg.add(\"Plots\")\n",
    "Pkg.add(\"PythonCall\")\n",
    "Pkg.add(\"RCall\")\n",
    "Pkg.add(\"DataFrames\")\n",
    "Pkg.add(\"BenchmarkTools\")\n",
    "Pkg.add(\"GLM\")"
   ]
  },
  {
   "cell_type": "markdown",
   "id": "cb9770c9",
   "metadata": {
    "slideshow": {
     "slide_type": "slide"
    }
   },
   "source": [
    "## Loading Data in Julia\n",
    "\n",
    "Let us load the education dataset.\n",
    "\n",
    "We use the function `CSV.read` and `DataFrame` to convert it to the right object type:"
   ]
  },
  {
   "cell_type": "code",
   "execution_count": 10,
   "id": "1c4d8385",
   "metadata": {},
   "outputs": [
    {
     "name": "stdout",
     "output_type": "stream",
     "text": [
      "Done\n"
     ]
    }
   ],
   "source": [
    "# Loading packages to read the data\n",
    "using CSV\n",
    "using DataFrames\n",
    "\n",
    "## Datasets\n",
    "educ = CSV.read(download(\"https://raw.githubusercontent.com/umbertomig/POLI175public/main/data/educexp.csv\"), DataFrame)\n",
    "voting = CSV.read(download(\"https://raw.githubusercontent.com/umbertomig/POLI30Dpublic/main/datasets/voting.csv\"), DataFrame)\n",
    "chilesurv = CSV.read(download(\"https://raw.githubusercontent.com/umbertomig/POLI30Dpublic/main/datasets/survchile.csv\"), DataFrame)\n",
    "println(\"Done\") # Trick to avoid displaying it"
   ]
  },
  {
   "cell_type": "code",
   "execution_count": 13,
   "id": "b9d9f7c6",
   "metadata": {},
   "outputs": [
    {
     "name": "stdout",
     "output_type": "stream",
     "text": [
      "\u001b[1m3×5 DataFrame\u001b[0m\n",
      "\u001b[1m Row \u001b[0m│\u001b[1m education \u001b[0m\u001b[1m income \u001b[0m\u001b[1m young   \u001b[0m\u001b[1m urban \u001b[0m\u001b[1m states  \u001b[0m\n",
      "     │\u001b[90m Int64     \u001b[0m\u001b[90m Int64  \u001b[0m\u001b[90m Float64 \u001b[0m\u001b[90m Int64 \u001b[0m\u001b[90m String3 \u001b[0m\n",
      "─────┼────────────────────────────────────────────\n",
      "   1 │       189    2824    350.7    508  ME\n",
      "   2 │       169    3259    345.9    564  NH\n",
      "   3 │       230    3072    348.5    322  VT\n"
     ]
    }
   ],
   "source": [
    "# The head of the dataset\n",
    "println(first(educ, 3))"
   ]
  },
  {
   "cell_type": "markdown",
   "id": "b5e3ab58",
   "metadata": {
    "slideshow": {
     "slide_type": "slide"
    }
   },
   "source": [
    "## Data Types in Julia\n",
    "\n",
    "Julia has roughly the same data types as Python and R, with a few exceptions in terms of how to use it."
   ]
  },
  {
   "cell_type": "code",
   "execution_count": 14,
   "id": "6629a71c",
   "metadata": {
    "slideshow": {
     "slide_type": "fragment"
    }
   },
   "outputs": [
    {
     "name": "stdout",
     "output_type": "stream",
     "text": [
      "30\n"
     ]
    }
   ],
   "source": [
    "# Numeric variable\n",
    "x = 30\n",
    "\n",
    "# Result\n",
    "println(x)"
   ]
  },
  {
   "cell_type": "code",
   "execution_count": 17,
   "id": "17db5f82",
   "metadata": {},
   "outputs": [
    {
     "data": {
      "text/plain": [
       "30"
      ]
     },
     "execution_count": 17,
     "metadata": {},
     "output_type": "execute_result"
    }
   ],
   "source": [
    "# Julia is case-sensitive\n",
    "x # different than X"
   ]
  },
  {
   "cell_type": "markdown",
   "id": "f060c939",
   "metadata": {
    "slideshow": {
     "slide_type": "slide"
    }
   },
   "source": [
    "## Updating rules in Julia"
   ]
  },
  {
   "cell_type": "code",
   "execution_count": 18,
   "id": "c14b0b69",
   "metadata": {},
   "outputs": [
    {
     "name": "stdout",
     "output_type": "stream",
     "text": [
      "4\n"
     ]
    }
   ],
   "source": [
    "# Updating +\n",
    "x = 3\n",
    "println(x += 1) # x = x + 1"
   ]
  },
  {
   "cell_type": "code",
   "execution_count": 19,
   "id": "02fb91bb",
   "metadata": {},
   "outputs": [
    {
     "name": "stdout",
     "output_type": "stream",
     "text": [
      "2\n"
     ]
    }
   ],
   "source": [
    "# Updating -\n",
    "println(x -= 2)"
   ]
  },
  {
   "cell_type": "code",
   "execution_count": 20,
   "id": "aa7a8911",
   "metadata": {},
   "outputs": [
    {
     "name": "stdout",
     "output_type": "stream",
     "text": [
      "6\n"
     ]
    }
   ],
   "source": [
    "# Updating *\n",
    "println(x *= 3)"
   ]
  },
  {
   "cell_type": "code",
   "execution_count": 21,
   "id": "40c26615",
   "metadata": {},
   "outputs": [
    {
     "name": "stdout",
     "output_type": "stream",
     "text": [
      "3.0\n",
      "3.0\n"
     ]
    }
   ],
   "source": [
    "# Updating /\n",
    "println(x /= 2)"
   ]
  },
  {
   "cell_type": "markdown",
   "id": "0e405e8f",
   "metadata": {
    "slideshow": {
     "slide_type": "slide"
    }
   },
   "source": [
    "## Data Types in Julia\n",
    "\n",
    "To define variables, we can use non-numeric unicode characters. No spaces.\n",
    "\n",
    "We can check type of variable with `typeof` command."
   ]
  },
  {
   "cell_type": "code",
   "execution_count": 24,
   "id": "71330dcc",
   "metadata": {},
   "outputs": [
    {
     "name": "stdout",
     "output_type": "stream",
     "text": [
      "30\n"
     ]
    }
   ],
   "source": [
    "x2 = 30 # But 2x not valid\n",
    "println(x2)"
   ]
  },
  {
   "cell_type": "code",
   "execution_count": 27,
   "id": "cf335592",
   "metadata": {},
   "outputs": [
    {
     "name": "stdout",
     "output_type": "stream",
     "text": [
      "Int64\n"
     ]
    }
   ],
   "source": [
    "# Data type\n",
    "x = 3\n",
    "println(typeof(x))"
   ]
  },
  {
   "cell_type": "code",
   "execution_count": 28,
   "id": "6a4677cd",
   "metadata": {},
   "outputs": [
    {
     "name": "stdout",
     "output_type": "stream",
     "text": [
      "Float64\n"
     ]
    }
   ],
   "source": [
    "# Data type\n",
    "println(typeof(x / 11))"
   ]
  },
  {
   "cell_type": "markdown",
   "id": "82f9ec0a",
   "metadata": {
    "slideshow": {
     "slide_type": "slide"
    }
   },
   "source": [
    "## Data Types in Julia\n",
    "\n",
    "**Booleans**: `true` or `false`. Note: different than R and Python.\n",
    "\n",
    "**Strings**: `\"string\"` and not `'string'`. But for a single character *c* it is ok to use `'c'`."
   ]
  },
  {
   "cell_type": "code",
   "execution_count": 29,
   "id": "58e67997",
   "metadata": {},
   "outputs": [
    {
     "name": "stdout",
     "output_type": "stream",
     "text": [
      "1\n"
     ]
    }
   ],
   "source": [
    "# True maps to 1\n",
    "println(true + false)"
   ]
  },
  {
   "cell_type": "code",
   "execution_count": 36,
   "id": "740f87c6",
   "metadata": {},
   "outputs": [
    {
     "name": "stdout",
     "output_type": "stream",
     "text": [
      "my string in awesome\n"
     ]
    }
   ],
   "source": [
    "# My string\n",
    "println(\"my string in awesome\")"
   ]
  },
  {
   "cell_type": "markdown",
   "id": "e5e82b84",
   "metadata": {
    "slideshow": {
     "slide_type": "slide"
    }
   },
   "source": [
    "## Data Types in Julia\n",
    "\n",
    "We can slice strings as we do in Python, to get either characters or substrings.\n",
    "\n",
    "Note that Julia starts at `1`."
   ]
  },
  {
   "cell_type": "code",
   "execution_count": 40,
   "id": "d67bb855",
   "metadata": {},
   "outputs": [
    {
     "name": "stdout",
     "output_type": "stream",
     "text": [
      "Row: 23\n",
      "Seat: 10\n"
     ]
    }
   ],
   "source": [
    "# My seat in the Padres game\n",
    "s = \"Row 23 Seat 10\"\n",
    "println(s[1:3] * \": \" * s[5:6])\n",
    "println(s[end-6:end-3] * \": \" * s[end-1:end])"
   ]
  },
  {
   "cell_type": "markdown",
   "id": "244a2afc",
   "metadata": {
    "slideshow": {
     "slide_type": "slide"
    }
   },
   "source": [
    "## Intro to Julia\n",
    "\n",
    "### Data Types in Julia\n",
    "\n",
    "**Literals**: Triple double quotation marks.\n",
    "\n",
    "Concatenation can be done with `*`. Can also use the `$` sign for placement"
   ]
  },
  {
   "cell_type": "code",
   "execution_count": 41,
   "id": "3c97adc8",
   "metadata": {
    "scrolled": true
   },
   "outputs": [
    {
     "name": "stdout",
     "output_type": "stream",
     "text": [
      "My literal\n",
      "is awesome!\n"
     ]
    }
   ],
   "source": [
    "lit = \"\"\"\n",
    "My literal\n",
    "is awesome!\"\"\"\n",
    "println(lit)"
   ]
  },
  {
   "cell_type": "code",
   "execution_count": 42,
   "id": "23a55dd9",
   "metadata": {
    "scrolled": true
   },
   "outputs": [
    {
     "name": "stdout",
     "output_type": "stream",
     "text": [
      "Coffee for John\n"
     ]
    }
   ],
   "source": [
    "name = \"John\"\n",
    "coffee = \"Coffee for \"\n",
    "println(coffee * name)"
   ]
  },
  {
   "cell_type": "code",
   "execution_count": 46,
   "id": "e6146fe9",
   "metadata": {
    "scrolled": true
   },
   "outputs": [
    {
     "name": "stdout",
     "output_type": "stream",
     "text": [
      "30 times two is 60\n"
     ]
    }
   ],
   "source": [
    "x = 30\n",
    "println(\"$x times two is $(x * 2)\")"
   ]
  },
  {
   "cell_type": "markdown",
   "id": "d0246070",
   "metadata": {
    "slideshow": {
     "slide_type": "slide"
    }
   },
   "source": [
    "## Data Types in Julia\n",
    "\n",
    "Data types in Julia, in a nutshell (see [this tutorial](https://syl1.gitbook.io/julia-language-a-concise-tutorial/language-core/data-types)):\n",
    "\n",
    "- Scalars: `Int64`, `Float64`, `Char`, `String` and `Bool`\n",
    "- `Arrays`, `Tuples` (immutable), `NamedTuples`, `Dict`ionaries\n",
    "- `Set`s\n",
    "\n",
    "Make sure when using coercion, that the data type is ok for coercion."
   ]
  },
  {
   "cell_type": "markdown",
   "id": "b2b56e20",
   "metadata": {
    "slideshow": {
     "slide_type": "slide"
    }
   },
   "source": [
    "## Data Types in Julia\n",
    "\n",
    "Arrays: Vectors. Similar to Python lists"
   ]
  },
  {
   "cell_type": "code",
   "execution_count": 48,
   "id": "3d63ecc2",
   "metadata": {
    "slideshow": {
     "slide_type": "fragment"
    }
   },
   "outputs": [
    {
     "name": "stdout",
     "output_type": "stream",
     "text": [
      "[30, 21, 11]\n"
     ]
    },
    {
     "data": {
      "text/plain": [
       "3-element Vector{Int64}:\n",
       " 30\n",
       " 21\n",
       " 11"
      ]
     },
     "execution_count": 48,
     "metadata": {},
     "output_type": "execute_result"
    }
   ],
   "source": [
    "# Numeric vector\n",
    "x = [30, 21, 11]\n",
    "println(x)\n",
    "x"
   ]
  },
  {
   "cell_type": "code",
   "execution_count": 49,
   "id": "55890404",
   "metadata": {},
   "outputs": [
    {
     "name": "stdout",
     "output_type": "stream",
     "text": [
      "Vector{Int64}\n"
     ]
    }
   ],
   "source": [
    "println(typeof(x))"
   ]
  },
  {
   "cell_type": "code",
   "execution_count": 50,
   "id": "d35c1f17",
   "metadata": {},
   "outputs": [
    {
     "name": "stdout",
     "output_type": "stream",
     "text": [
      "Int64\n"
     ]
    }
   ],
   "source": [
    "println(eltype(x))"
   ]
  },
  {
   "cell_type": "markdown",
   "id": "7c8544aa",
   "metadata": {
    "slideshow": {
     "slide_type": "slide"
    }
   },
   "source": [
    "## Data Types in Julia\n",
    "\n",
    "Like Python (and different from R), arrays do not need to hold the same data types:"
   ]
  },
  {
   "cell_type": "code",
   "execution_count": 51,
   "id": "0dacc328",
   "metadata": {},
   "outputs": [
    {
     "name": "stdout",
     "output_type": "stream",
     "text": [
      "Any[\"John\", \"coffee\", 2, true]\n"
     ]
    }
   ],
   "source": [
    "x = [\"John\", \"coffee\", 2, true]\n",
    "println(x)"
   ]
  },
  {
   "cell_type": "code",
   "execution_count": 52,
   "id": "acacb06e",
   "metadata": {},
   "outputs": [
    {
     "name": "stdout",
     "output_type": "stream",
     "text": [
      "Vector{Any}\n"
     ]
    }
   ],
   "source": [
    "println(typeof(x))"
   ]
  },
  {
   "cell_type": "markdown",
   "id": "4cd186e2",
   "metadata": {
    "slideshow": {
     "slide_type": "slide"
    }
   },
   "source": [
    "## Data Types in Julia\n",
    "\n",
    "We can slice the data in a similar way we do in R or Python."
   ]
  },
  {
   "cell_type": "code",
   "execution_count": 54,
   "id": "6e742a84",
   "metadata": {},
   "outputs": [
    {
     "data": {
      "text/plain": [
       "\"John\""
      ]
     },
     "execution_count": 54,
     "metadata": {},
     "output_type": "execute_result"
    }
   ],
   "source": [
    "x[1]"
   ]
  },
  {
   "cell_type": "code",
   "execution_count": 55,
   "id": "18400ada",
   "metadata": {},
   "outputs": [
    {
     "data": {
      "text/plain": [
       "\"John's coffee\""
      ]
     },
     "execution_count": 55,
     "metadata": {},
     "output_type": "execute_result"
    }
   ],
   "source": [
    "x[1] * \"'s \" * x[2]"
   ]
  },
  {
   "cell_type": "code",
   "execution_count": 56,
   "id": "876d5971",
   "metadata": {},
   "outputs": [
    {
     "name": "stdout",
     "output_type": "stream",
     "text": [
      "Any[2, true]\n"
     ]
    }
   ],
   "source": [
    "println(x[end-1:end])"
   ]
  },
  {
   "cell_type": "markdown",
   "id": "06167498",
   "metadata": {
    "slideshow": {
     "slide_type": "slide"
    }
   },
   "source": [
    "## Data Types in Julia\n",
    "\n",
    "The equivalent to the `.append` in Julia is `push!`.\n",
    "\n",
    "The `append!`command adds more than one element."
   ]
  },
  {
   "cell_type": "code",
   "execution_count": 60,
   "id": "008cffda",
   "metadata": {},
   "outputs": [
    {
     "name": "stdout",
     "output_type": "stream",
     "text": [
      "[30, 21, 11, 31]\n"
     ]
    }
   ],
   "source": [
    "x = [30, 21, 11]\n",
    "push!(x, 31)\n",
    "println(x)"
   ]
  },
  {
   "cell_type": "code",
   "execution_count": 61,
   "id": "b952e4c0",
   "metadata": {},
   "outputs": [
    {
     "name": "stdout",
     "output_type": "stream",
     "text": [
      "[30, 21, 11, 31, 45, 3]\n"
     ]
    }
   ],
   "source": [
    "x = [30, 21, 11]\n",
    "append!(x, [31, 45, 3])\n",
    "println(x)"
   ]
  },
  {
   "cell_type": "markdown",
   "id": "66cd2fcc",
   "metadata": {
    "slideshow": {
     "slide_type": "slide"
    }
   },
   "source": [
    "## Data Types in Julia\n",
    "\n",
    "We also have `pop!` and `sort` (note that no `sorted` like in Python)."
   ]
  },
  {
   "cell_type": "code",
   "execution_count": 62,
   "id": "3aa69546",
   "metadata": {},
   "outputs": [
    {
     "name": "stdout",
     "output_type": "stream",
     "text": [
      "Popped element 11\n",
      "[30, 21]\n"
     ]
    }
   ],
   "source": [
    "x = [30, 21, 11]\n",
    "println(\"Popped element $(pop!(x))\")\n",
    "println(x)"
   ]
  },
  {
   "cell_type": "code",
   "execution_count": 65,
   "id": "e51fcac1",
   "metadata": {},
   "outputs": [
    {
     "name": "stdout",
     "output_type": "stream",
     "text": [
      "[11, 21, 30]\n"
     ]
    }
   ],
   "source": [
    "x = [30, 21, 11]\n",
    "x = sort(x)\n",
    "println(x)"
   ]
  },
  {
   "cell_type": "code",
   "execution_count": 66,
   "id": "98860923",
   "metadata": {},
   "outputs": [
    {
     "name": "stdout",
     "output_type": "stream",
     "text": [
      "3\n"
     ]
    }
   ],
   "source": [
    "println(length(x))"
   ]
  },
  {
   "cell_type": "markdown",
   "id": "62100cc8",
   "metadata": {
    "slideshow": {
     "slide_type": "slide"
    }
   },
   "source": [
    "## Data Types in Julia\n",
    "\n",
    "Like in R, we do not need a special package for doing vectorized operations.\n",
    "\n",
    "Scalar operations:"
   ]
  },
  {
   "cell_type": "code",
   "execution_count": 67,
   "id": "ae06892f",
   "metadata": {},
   "outputs": [
    {
     "name": "stdout",
     "output_type": "stream",
     "text": [
      "[35, 26, 16]\n"
     ]
    }
   ],
   "source": [
    "x = [30, 21, 11]\n",
    "println(x .+ 5)"
   ]
  },
  {
   "cell_type": "code",
   "execution_count": 69,
   "id": "6a26035f",
   "metadata": {},
   "outputs": [
    {
     "name": "stdout",
     "output_type": "stream",
     "text": [
      "[25, 16, 6]\n"
     ]
    }
   ],
   "source": [
    "println(x .- 5)"
   ]
  },
  {
   "cell_type": "code",
   "execution_count": 70,
   "id": "51c93f12",
   "metadata": {},
   "outputs": [
    {
     "name": "stdout",
     "output_type": "stream",
     "text": [
      "[36.0, 25.2, 13.2]\n"
     ]
    }
   ],
   "source": [
    "println(x .* 1.2)"
   ]
  },
  {
   "cell_type": "code",
   "execution_count": 71,
   "id": "edf32552",
   "metadata": {},
   "outputs": [
    {
     "name": "stdout",
     "output_type": "stream",
     "text": [
      "[14.285714285714285, 10.0, 5.238095238095238]\n"
     ]
    }
   ],
   "source": [
    "println(x ./ 2.1)"
   ]
  },
  {
   "cell_type": "code",
   "execution_count": 72,
   "id": "0ac1335d",
   "metadata": {},
   "outputs": [
    {
     "name": "stdout",
     "output_type": "stream",
     "text": [
      "[900, 441, 121]\n"
     ]
    }
   ],
   "source": [
    "println(x .^ 2)"
   ]
  },
  {
   "cell_type": "markdown",
   "id": "4a300ca3",
   "metadata": {
    "slideshow": {
     "slide_type": "slide"
    }
   },
   "source": [
    "## Data Types in Julia\n",
    "\n",
    "Vectorized operations:"
   ]
  },
  {
   "cell_type": "code",
   "execution_count": 74,
   "id": "c1ad448c",
   "metadata": {},
   "outputs": [
    {
     "name": "stdout",
     "output_type": "stream",
     "text": [
      "[32, 24, 12]\n"
     ]
    }
   ],
   "source": [
    "x = [30, 21, 11]\n",
    "y = [2, 3, 1]\n",
    "println(x .+ y)"
   ]
  },
  {
   "cell_type": "code",
   "execution_count": 75,
   "id": "51e4bf36",
   "metadata": {},
   "outputs": [
    {
     "name": "stdout",
     "output_type": "stream",
     "text": [
      "[28, 18, 10]\n"
     ]
    }
   ],
   "source": [
    "println(x .- y)"
   ]
  },
  {
   "cell_type": "code",
   "execution_count": 76,
   "id": "b28ffd20",
   "metadata": {},
   "outputs": [
    {
     "name": "stdout",
     "output_type": "stream",
     "text": [
      "[60, 63, 11]\n"
     ]
    }
   ],
   "source": [
    "println(x .* y)"
   ]
  },
  {
   "cell_type": "code",
   "execution_count": 77,
   "id": "cace58db",
   "metadata": {},
   "outputs": [
    {
     "name": "stdout",
     "output_type": "stream",
     "text": [
      "[15.0, 7.0, 11.0]\n"
     ]
    }
   ],
   "source": [
    "println(x ./ y)"
   ]
  },
  {
   "cell_type": "code",
   "execution_count": 78,
   "id": "2eeed0c6",
   "metadata": {},
   "outputs": [
    {
     "name": "stdout",
     "output_type": "stream",
     "text": [
      "[900, 9261, 11]\n"
     ]
    }
   ],
   "source": [
    "println(x .^ y)"
   ]
  },
  {
   "cell_type": "markdown",
   "id": "abbb5941",
   "metadata": {
    "slideshow": {
     "slide_type": "slide"
    }
   },
   "source": [
    "## Arrays in Julia\n",
    "\n",
    "We can also create empty arrays:"
   ]
  },
  {
   "cell_type": "code",
   "execution_count": 80,
   "id": "c4dd9477",
   "metadata": {},
   "outputs": [
    {
     "name": "stdout",
     "output_type": "stream",
     "text": [
      "Int64[]\n"
     ]
    }
   ],
   "source": [
    "# Empty integers array\n",
    "arr = Int64[]\n",
    "println(arr)"
   ]
  },
  {
   "cell_type": "code",
   "execution_count": 81,
   "id": "bf78a2f6",
   "metadata": {
    "scrolled": true
   },
   "outputs": [
    {
     "name": "stdout",
     "output_type": "stream",
     "text": [
      "[1, 2, 3]\n"
     ]
    }
   ],
   "source": [
    "append!(arr, [1, 2, 3])\n",
    "println(arr)"
   ]
  },
  {
   "cell_type": "code",
   "execution_count": 82,
   "id": "df081cc0",
   "metadata": {
    "scrolled": true
   },
   "outputs": [
    {
     "name": "stdout",
     "output_type": "stream",
     "text": [
      "[1, 2, 32]\n"
     ]
    }
   ],
   "source": [
    "arr[end] = 32\n",
    "println(arr)"
   ]
  },
  {
   "cell_type": "code",
   "execution_count": 83,
   "id": "1edba0c5",
   "metadata": {
    "scrolled": true
   },
   "outputs": [
    {
     "name": "stdout",
     "output_type": "stream",
     "text": [
      "[-1, -2, -3]\n"
     ]
    }
   ],
   "source": [
    "arr[1:end] = [-1, -2, -3]\n",
    "println(arr)"
   ]
  },
  {
   "cell_type": "markdown",
   "id": "e943a550",
   "metadata": {
    "slideshow": {
     "slide_type": "slide"
    }
   },
   "source": [
    "## Dictionaries in Julia"
   ]
  },
  {
   "cell_type": "code",
   "execution_count": 84,
   "id": "0ff4b01c",
   "metadata": {},
   "outputs": [
    {
     "name": "stdout",
     "output_type": "stream",
     "text": [
      "Padres\n"
     ]
    }
   ],
   "source": [
    "# Dictionaries (note the structure: key => value)\n",
    "game = Dict(\"team\" => \"Padres\", \"score\" => 5)\n",
    "println(game[\"team\"])"
   ]
  },
  {
   "cell_type": "code",
   "execution_count": 85,
   "id": "0b0ae365",
   "metadata": {
    "scrolled": true
   },
   "outputs": [
    {
     "name": "stdout",
     "output_type": "stream",
     "text": [
      "[\"score\", \"team\"]\n"
     ]
    }
   ],
   "source": [
    "println(keys(game))"
   ]
  },
  {
   "cell_type": "code",
   "execution_count": 86,
   "id": "9d3d0998",
   "metadata": {
    "scrolled": true
   },
   "outputs": [
    {
     "name": "stdout",
     "output_type": "stream",
     "text": [
      "Any[5, \"Padres\"]\n"
     ]
    }
   ],
   "source": [
    "println(values(game))"
   ]
  },
  {
   "cell_type": "markdown",
   "id": "5289ed78",
   "metadata": {
    "slideshow": {
     "slide_type": "slide"
    }
   },
   "source": [
    "## Dictionaries in Julia"
   ]
  },
  {
   "cell_type": "code",
   "execution_count": 87,
   "id": "f4875a5f",
   "metadata": {
    "scrolled": true
   },
   "outputs": [
    {
     "name": "stdout",
     "output_type": "stream",
     "text": [
      "Padres\n"
     ]
    }
   ],
   "source": [
    "# get values: (dict, key, default_val)\n",
    "println(get(game, \"team\", \"does not have this key.\"))"
   ]
  },
  {
   "cell_type": "code",
   "execution_count": 88,
   "id": "89bbedef",
   "metadata": {
    "scrolled": true
   },
   "outputs": [
    {
     "name": "stdout",
     "output_type": "stream",
     "text": [
      "does not have this key.\n"
     ]
    }
   ],
   "source": [
    "# get values: (dict, key, default_val)\n",
    "println(get(game, \"otherteam\", \"does not have this key.\"))"
   ]
  },
  {
   "cell_type": "markdown",
   "id": "23924fd3",
   "metadata": {
    "slideshow": {
     "slide_type": "slide"
    }
   },
   "source": [
    "## DataFrames in Julia\n",
    "\n",
    "Now let us work with `DataFrames`."
   ]
  },
  {
   "cell_type": "code",
   "execution_count": 91,
   "id": "a38fbf2f",
   "metadata": {},
   "outputs": [
    {
     "name": "stdout",
     "output_type": "stream",
     "text": [
      "\u001b[1m3×5 DataFrame\u001b[0m\n",
      "\u001b[1m Row \u001b[0m│\u001b[1m education \u001b[0m\u001b[1m income \u001b[0m\u001b[1m young   \u001b[0m\u001b[1m urban \u001b[0m\u001b[1m states  \u001b[0m\n",
      "     │\u001b[90m Int64     \u001b[0m\u001b[90m Int64  \u001b[0m\u001b[90m Float64 \u001b[0m\u001b[90m Int64 \u001b[0m\u001b[90m String3 \u001b[0m\n",
      "─────┼────────────────────────────────────────────\n",
      "   1 │       189    2824    350.7    508  ME\n",
      "   2 │       169    3259    345.9    564  NH\n",
      "   3 │       230    3072    348.5    322  VT\n"
     ]
    }
   ],
   "source": [
    "# .head()\n",
    "println(first(educ, 3))"
   ]
  },
  {
   "cell_type": "code",
   "execution_count": 92,
   "id": "f2710d65",
   "metadata": {
    "scrolled": true
   },
   "outputs": [
    {
     "name": "stdout",
     "output_type": "stream",
     "text": [
      "\u001b[1m3×5 DataFrame\u001b[0m\n",
      "\u001b[1m Row \u001b[0m│\u001b[1m education \u001b[0m\u001b[1m income \u001b[0m\u001b[1m young   \u001b[0m\u001b[1m urban \u001b[0m\u001b[1m states  \u001b[0m\n",
      "     │\u001b[90m Int64     \u001b[0m\u001b[90m Int64  \u001b[0m\u001b[90m Float64 \u001b[0m\u001b[90m Int64 \u001b[0m\u001b[90m String3 \u001b[0m\n",
      "─────┼────────────────────────────────────────────\n",
      "   1 │       273    3968    348.4    909  CA\n",
      "   2 │       372    4146    439.7    484  AK\n",
      "   3 │       212    3513    382.9    831  HI\n"
     ]
    }
   ],
   "source": [
    "# .tail()\n",
    "println(last(educ, 3))"
   ]
  },
  {
   "cell_type": "markdown",
   "id": "60338beb",
   "metadata": {
    "slideshow": {
     "slide_type": "slide"
    }
   },
   "source": [
    "## DataFrames in Julia"
   ]
  },
  {
   "cell_type": "code",
   "execution_count": 93,
   "id": "aaebf3a4",
   "metadata": {},
   "outputs": [
    {
     "name": "stdout",
     "output_type": "stream",
     "text": [
      "DataFrame\n"
     ]
    }
   ],
   "source": [
    "# Data Frames\n",
    "println(typeof(educ))"
   ]
  },
  {
   "cell_type": "markdown",
   "id": "bac68c45",
   "metadata": {},
   "source": [
    "And `describe` tells us about the DataFrame:"
   ]
  },
  {
   "cell_type": "code",
   "execution_count": 94,
   "id": "2008dff5",
   "metadata": {},
   "outputs": [
    {
     "name": "stdout",
     "output_type": "stream",
     "text": [
      "\u001b[1m5×7 DataFrame\u001b[0m\n",
      "\u001b[1m Row \u001b[0m│\u001b[1m variable  \u001b[0m\u001b[1m mean    \u001b[0m\u001b[1m min   \u001b[0m\u001b[1m median \u001b[0m\u001b[1m max   \u001b[0m\u001b[1m nmissing \u001b[0m\u001b[1m eltype   \u001b[0m\n",
      "     │\u001b[90m Symbol    \u001b[0m\u001b[90m Union…  \u001b[0m\u001b[90m Any   \u001b[0m\u001b[90m Union… \u001b[0m\u001b[90m Any   \u001b[0m\u001b[90m Int64    \u001b[0m\u001b[90m DataType \u001b[0m\n",
      "─────┼──────────────────────────────────────────────────────────────\n",
      "   1 │ education  196.314  112    192.0   372           0  Int64\n",
      "   2 │ income     3225.29  2081   3257.0  4425          0  Int64\n",
      "   3 │ young      358.886  326.2  354.1   439.7         0  Float64\n",
      "   4 │ urban      664.51   322    664.0   1000          0  Int64\n",
      "   5 │ states    \u001b[90m         \u001b[0m AK    \u001b[90m        \u001b[0m WY            0  String3\n"
     ]
    }
   ],
   "source": [
    "println(describe(educ))"
   ]
  },
  {
   "cell_type": "markdown",
   "id": "a0b28e60",
   "metadata": {
    "slideshow": {
     "slide_type": "slide"
    }
   },
   "source": [
    "## DataFrames in Julia\n",
    "\n",
    "To access a variable in a dataset, use the `.` and the name of the variable."
   ]
  },
  {
   "cell_type": "code",
   "execution_count": 95,
   "id": "1532bd16",
   "metadata": {},
   "outputs": [
    {
     "name": "stdout",
     "output_type": "stream",
     "text": [
      "[2824, 3259, 3072, 3835, 3549, 4256, 4151, 3954, 3419, 3509, 3412, 3981, 3675, 3363, 3341, 3265, 3257, 2730, 2876, 3239, 3303, 3795, 3742, 4425, 3068, 2470, 2664, 2380, 2781, 3191, 2645, 2579, 2337, 2081, 2322, 2634, 2880, 3029, 2942, 2668, 3190, 3340, 2651, 3027, 2790, 3957, 3688, 3317, 3968, 4146, 3513]\n"
     ]
    }
   ],
   "source": [
    "println(educ.income)"
   ]
  },
  {
   "cell_type": "markdown",
   "id": "29790fd8",
   "metadata": {},
   "source": [
    "Names of the variables:"
   ]
  },
  {
   "cell_type": "code",
   "execution_count": 96,
   "id": "eef64d67",
   "metadata": {},
   "outputs": [
    {
     "name": "stdout",
     "output_type": "stream",
     "text": [
      "[\"education\", \"income\", \"young\", \"urban\", \"states\"]\n"
     ]
    }
   ],
   "source": [
    "println(names(educ))"
   ]
  },
  {
   "cell_type": "markdown",
   "id": "5e53bd2d",
   "metadata": {
    "slideshow": {
     "slide_type": "slide"
    }
   },
   "source": [
    "## DataFrames in Julia\n",
    "\n",
    "Stats of a single variable:"
   ]
  },
  {
   "cell_type": "code",
   "execution_count": 97,
   "id": "b478350e",
   "metadata": {
    "scrolled": true
   },
   "outputs": [],
   "source": [
    "using Statistics"
   ]
  },
  {
   "cell_type": "code",
   "execution_count": 99,
   "id": "578e9d67",
   "metadata": {
    "scrolled": true
   },
   "outputs": [
    {
     "name": "stdout",
     "output_type": "stream",
     "text": [
      "3225.294117647059\n"
     ]
    }
   ],
   "source": [
    "println(mean(educ.income))"
   ]
  },
  {
   "cell_type": "code",
   "execution_count": 100,
   "id": "9aded652",
   "metadata": {
    "scrolled": true
   },
   "outputs": [
    {
     "name": "stdout",
     "output_type": "stream",
     "text": [
      "3257.0\n"
     ]
    }
   ],
   "source": [
    "println(median(educ.income))"
   ]
  },
  {
   "cell_type": "code",
   "execution_count": 101,
   "id": "6ea199c5",
   "metadata": {
    "scrolled": true
   },
   "outputs": [
    {
     "name": "stdout",
     "output_type": "stream",
     "text": [
      "560.0259741875424\n"
     ]
    }
   ],
   "source": [
    "println(std(educ.income))"
   ]
  },
  {
   "cell_type": "markdown",
   "id": "c11fd8db",
   "metadata": {
    "slideshow": {
     "slide_type": "slide"
    }
   },
   "source": [
    "## DataFrames in Julia\n",
    "\n",
    "Stats of a single variable:"
   ]
  },
  {
   "cell_type": "code",
   "execution_count": 102,
   "id": "9c675608",
   "metadata": {
    "scrolled": true
   },
   "outputs": [
    {
     "name": "stdout",
     "output_type": "stream",
     "text": [
      "313629.0917647059\n"
     ]
    }
   ],
   "source": [
    "println(var(educ.income))"
   ]
  },
  {
   "cell_type": "code",
   "execution_count": 103,
   "id": "f951be0d",
   "metadata": {
    "scrolled": true
   },
   "outputs": [
    {
     "name": "stdout",
     "output_type": "stream",
     "text": [
      "164490\n"
     ]
    }
   ],
   "source": [
    "println(sum(educ.income))"
   ]
  },
  {
   "cell_type": "code",
   "execution_count": 104,
   "id": "96421c5f",
   "metadata": {
    "scrolled": true
   },
   "outputs": [
    {
     "name": "stdout",
     "output_type": "stream",
     "text": [
      "2081\n"
     ]
    }
   ],
   "source": [
    "println(minimum(educ.income))"
   ]
  },
  {
   "cell_type": "code",
   "execution_count": 105,
   "id": "62dd65cb",
   "metadata": {
    "scrolled": true
   },
   "outputs": [
    {
     "name": "stdout",
     "output_type": "stream",
     "text": [
      "4425\n"
     ]
    }
   ],
   "source": [
    "println(maximum(educ.income))"
   ]
  },
  {
   "cell_type": "markdown",
   "id": "7f09ad72",
   "metadata": {
    "slideshow": {
     "slide_type": "slide"
    }
   },
   "source": [
    "## DataFrames in Julia\n",
    "\n",
    "`size` for the dimension of the dataset:"
   ]
  },
  {
   "cell_type": "code",
   "execution_count": 106,
   "id": "242b9e49",
   "metadata": {
    "scrolled": true
   },
   "outputs": [
    {
     "name": "stdout",
     "output_type": "stream",
     "text": [
      "(51, 5)\n"
     ]
    }
   ],
   "source": [
    "println(size(educ))"
   ]
  },
  {
   "cell_type": "markdown",
   "id": "8095ac52",
   "metadata": {},
   "source": [
    "Finding a given value: `dat[rows, cols]`"
   ]
  },
  {
   "cell_type": "code",
   "execution_count": 107,
   "id": "bb6bb11b",
   "metadata": {
    "scrolled": false
   },
   "outputs": [
    {
     "name": "stdout",
     "output_type": "stream",
     "text": [
      "\u001b[1mDataFrameRow\u001b[0m\n",
      "\u001b[1m Row \u001b[0m│\u001b[1m education \u001b[0m\u001b[1m income \u001b[0m\u001b[1m young   \u001b[0m\u001b[1m urban \u001b[0m\u001b[1m states  \u001b[0m\n",
      "     │\u001b[90m Int64     \u001b[0m\u001b[90m Int64  \u001b[0m\u001b[90m Float64 \u001b[0m\u001b[90m Int64 \u001b[0m\u001b[90m String3 \u001b[0m\n",
      "─────┼────────────────────────────────────────────\n",
      "   1 │       189    2824    350.7    508  ME\n"
     ]
    }
   ],
   "source": [
    "# Maine\n",
    "println(educ[1, :])"
   ]
  },
  {
   "cell_type": "markdown",
   "id": "c95a9ca0",
   "metadata": {
    "slideshow": {
     "slide_type": "slide"
    }
   },
   "source": [
    "## DataFrames in Julia"
   ]
  },
  {
   "cell_type": "code",
   "execution_count": 108,
   "id": "5588d929",
   "metadata": {
    "scrolled": false
   },
   "outputs": [
    {
     "name": "stdout",
     "output_type": "stream",
     "text": [
      "[189, 169, 230, 168, 180, 193, 261, 214, 201, 172, 194, 189, 233, 209, 262, 234, 177, 177, 187, 148, 196, 248, 247, 246, 180, 149, 155, 149, 156, 191, 140, 137, 112, 130, 134, 162, 135, 155, 238, 170, 238, 192, 227, 207, 201, 225, 215, 233, 273, 372, 212]\n"
     ]
    }
   ],
   "source": [
    "# education expenditure\n",
    "println(educ[:, 1])"
   ]
  },
  {
   "cell_type": "code",
   "execution_count": 109,
   "id": "68e588be",
   "metadata": {
    "scrolled": false
   },
   "outputs": [
    {
     "name": "stdout",
     "output_type": "stream",
     "text": [
      "[2824, 3259, 3072]\n"
     ]
    }
   ],
   "source": [
    "# Top three income\n",
    "println(educ[1:3, \"income\"])"
   ]
  },
  {
   "cell_type": "code",
   "execution_count": 110,
   "id": "1d66a06f",
   "metadata": {
    "scrolled": false
   },
   "outputs": [
    {
     "name": "stdout",
     "output_type": "stream",
     "text": [
      "VT\n"
     ]
    }
   ],
   "source": [
    "# Third state in the dataset\n",
    "println(educ.states[3])"
   ]
  },
  {
   "cell_type": "code",
   "execution_count": 111,
   "id": "e849c0a1",
   "metadata": {
    "scrolled": false
   },
   "outputs": [
    {
     "name": "stdout",
     "output_type": "stream",
     "text": [
      "189\n"
     ]
    }
   ],
   "source": [
    "# education expenditure of the first case (Maine)\n",
    "println(educ[1, 1])"
   ]
  },
  {
   "cell_type": "markdown",
   "id": "3416b45e",
   "metadata": {
    "slideshow": {
     "slide_type": "slide"
    }
   },
   "source": [
    "## Importing Python Functions"
   ]
  },
  {
   "cell_type": "code",
   "execution_count": 112,
   "id": "2ae2cf93",
   "metadata": {},
   "outputs": [
    {
     "data": {
      "text/plain": [
       "Python: <module 'time' (built-in)>"
      ]
     },
     "execution_count": 112,
     "metadata": {},
     "output_type": "execute_result"
    }
   ],
   "source": [
    "using PythonCall\n",
    "pytime = pyimport(\"time\")"
   ]
  },
  {
   "cell_type": "code",
   "execution_count": 113,
   "id": "e2c2c96b",
   "metadata": {},
   "outputs": [
    {
     "name": "stdout",
     "output_type": "stream",
     "text": [
      "Fri Aug 18 14:41:29 2023\n"
     ]
    }
   ],
   "source": [
    "println(pytime.ctime())"
   ]
  },
  {
   "cell_type": "markdown",
   "id": "1841549e",
   "metadata": {
    "slideshow": {
     "slide_type": "slide"
    }
   },
   "source": [
    "## Importing R Functions"
   ]
  },
  {
   "cell_type": "code",
   "execution_count": 114,
   "id": "71d7fab2",
   "metadata": {},
   "outputs": [],
   "source": [
    "using RCall\n",
    "@rimport base as r_base"
   ]
  },
  {
   "cell_type": "code",
   "execution_count": 115,
   "id": "2af38c69",
   "metadata": {},
   "outputs": [
    {
     "data": {
      "text/plain": [
       "RObject{IntSxp}\n",
       "[1] 15\n"
      ]
     },
     "execution_count": 115,
     "metadata": {},
     "output_type": "execute_result"
    }
   ],
   "source": [
    "r_base.sum([1, 2, 3, 4, 5])"
   ]
  },
  {
   "cell_type": "markdown",
   "id": "5a964194",
   "metadata": {
    "slideshow": {
     "slide_type": "slide"
    }
   },
   "source": [
    "# Data Wrangling in Julia"
   ]
  },
  {
   "cell_type": "markdown",
   "id": "ae93e675",
   "metadata": {
    "slideshow": {
     "slide_type": "slide"
    }
   },
   "source": [
    "## Renaming a column in Julia"
   ]
  },
  {
   "cell_type": "code",
   "execution_count": 118,
   "id": "e5a1e83c",
   "metadata": {
    "scrolled": true
   },
   "outputs": [
    {
     "ename": "LoadError",
     "evalue": "ArgumentError: Tried renaming :voteYES to :votebinary, when :voteYES does not exist in the data frame.",
     "output_type": "error",
     "traceback": [
      "ArgumentError: Tried renaming :voteYES to :votebinary, when :voteYES does not exist in the data frame.",
      "",
      "Stacktrace:",
      " [1] rename!(x::DataFrames.Index, nms::Vector{Pair{Symbol, Symbol}})",
      "   @ DataFrames ~/.julia/packages/DataFrames/58MUJ/src/other/index.jl:91",
      " [2] rename!(df::DataFrame, args::Dict{Symbol, Symbol})",
      "   @ DataFrames ~/.julia/packages/DataFrames/58MUJ/src/abstractdataframe/abstractdataframe.jl:230",
      " [3] top-level scope",
      "   @ In[118]:2"
     ]
    }
   ],
   "source": [
    "aux = chilesurv\n",
    "rename!(aux, Dict(:voteYES => :votebinary))\n",
    "println(first(aux, 2))"
   ]
  },
  {
   "cell_type": "markdown",
   "id": "06db2822",
   "metadata": {
    "slideshow": {
     "slide_type": "slide"
    }
   },
   "source": [
    "## Filtering Rows in Julia\n",
    "\n",
    "Filtering rows:\n",
    "\n",
    "| **Operator** | **Meaning**                          |\n",
    "|----------|------------------------------------------|\n",
    "| `<` or `<=` | Smaller than or smaller than or equal |\n",
    "| `>` or `>=` | Greater than or greater than or equal |\n",
    "| `==`       | Equal                                  |\n",
    "| `!=`       | Different                              |\n",
    "| `!`        | Negation (turns a `true` into a `false`)   |\n",
    "| `\\|\\|`        | Or                                     |\n",
    "| `&&`        | And                                    |"
   ]
  },
  {
   "cell_type": "code",
   "execution_count": 122,
   "id": "049ef31c",
   "metadata": {
    "scrolled": true
   },
   "outputs": [
    {
     "name": "stdout",
     "output_type": "stream",
     "text": [
      "\u001b[1m3×3 DataFrame\u001b[0m\n",
      "\u001b[1m Row \u001b[0m│\u001b[1m birth \u001b[0m\u001b[1m message \u001b[0m\u001b[1m voted \u001b[0m\n",
      "     │\u001b[90m Int64 \u001b[0m\u001b[90m String3 \u001b[0m\u001b[90m Int64 \u001b[0m\n",
      "─────┼───────────────────────\n",
      "   1 │  1981  no           0\n",
      "   2 │  1983  no           0\n",
      "   3 │  1985  yes          1\n"
     ]
    }
   ],
   "source": [
    "aux = filter(row -> row.birth >= 1980, voting)\n",
    "println(first(aux, 3))"
   ]
  },
  {
   "cell_type": "markdown",
   "id": "a43d6b26",
   "metadata": {
    "slideshow": {
     "slide_type": "slide"
    }
   },
   "source": [
    "## Filtering Rows in Julia"
   ]
  },
  {
   "cell_type": "code",
   "execution_count": 123,
   "id": "16de2072",
   "metadata": {
    "scrolled": true
   },
   "outputs": [
    {
     "name": "stdout",
     "output_type": "stream",
     "text": [
      "\u001b[1m3×3 DataFrame\u001b[0m\n",
      "\u001b[1m Row \u001b[0m│\u001b[1m birth \u001b[0m\u001b[1m message \u001b[0m\u001b[1m voted \u001b[0m\n",
      "     │\u001b[90m Int64 \u001b[0m\u001b[90m String3 \u001b[0m\u001b[90m Int64 \u001b[0m\n",
      "─────┼───────────────────────\n",
      "   1 │  1985  yes          1\n",
      "   2 │  1984  yes          0\n",
      "   3 │  1979  yes          0\n"
     ]
    }
   ],
   "source": [
    "aux = filter(row -> row.birth >= 1975 && row.message == \"yes\", voting)\n",
    "println(first(aux, 3))"
   ]
  },
  {
   "cell_type": "code",
   "execution_count": 124,
   "id": "0cd1a698",
   "metadata": {},
   "outputs": [
    {
     "name": "stdout",
     "output_type": "stream",
     "text": [
      "(229444, 3)\n"
     ]
    }
   ],
   "source": [
    "println(size(voting))"
   ]
  },
  {
   "cell_type": "code",
   "execution_count": 125,
   "id": "3d246526",
   "metadata": {},
   "outputs": [
    {
     "name": "stdout",
     "output_type": "stream",
     "text": [
      "(4472, 3)\n"
     ]
    }
   ],
   "source": [
    "println(size(aux))"
   ]
  },
  {
   "cell_type": "markdown",
   "id": "fcdb7e91",
   "metadata": {
    "slideshow": {
     "slide_type": "slide"
    }
   },
   "source": [
    "## Sorting datasets in Julia"
   ]
  },
  {
   "cell_type": "code",
   "execution_count": 126,
   "id": "bfca44c4",
   "metadata": {
    "scrolled": true
   },
   "outputs": [
    {
     "name": "stdout",
     "output_type": "stream",
     "text": [
      "\u001b[1m3×5 DataFrame\u001b[0m\n",
      "\u001b[1m Row \u001b[0m│\u001b[1m education \u001b[0m\u001b[1m income \u001b[0m\u001b[1m young   \u001b[0m\u001b[1m urban \u001b[0m\u001b[1m states  \u001b[0m\n",
      "     │\u001b[90m Int64     \u001b[0m\u001b[90m Int64  \u001b[0m\u001b[90m Float64 \u001b[0m\u001b[90m Int64 \u001b[0m\u001b[90m String3 \u001b[0m\n",
      "─────┼────────────────────────────────────────────\n",
      "   1 │       112    2337    362.2    584  AL\n",
      "   2 │       130    2081    385.2    445  MS\n",
      "   3 │       134    2322    351.9    500  AR\n"
     ]
    }
   ],
   "source": [
    "aux = sort(educ, \"education\")\n",
    "println(first(aux, 3))"
   ]
  },
  {
   "cell_type": "code",
   "execution_count": 128,
   "id": "1cf2c139",
   "metadata": {
    "scrolled": true
   },
   "outputs": [
    {
     "name": "stdout",
     "output_type": "stream",
     "text": [
      "\u001b[1m3×5 DataFrame\u001b[0m\n",
      "\u001b[1m Row \u001b[0m│\u001b[1m education \u001b[0m\u001b[1m income \u001b[0m\u001b[1m young   \u001b[0m\u001b[1m urban \u001b[0m\u001b[1m states  \u001b[0m\n",
      "     │\u001b[90m Int64     \u001b[0m\u001b[90m Int64  \u001b[0m\u001b[90m Float64 \u001b[0m\u001b[90m Int64 \u001b[0m\u001b[90m String3 \u001b[0m\n",
      "─────┼────────────────────────────────────────────\n",
      "   1 │       372    4146    439.7    484  AK\n",
      "   2 │       273    3968    348.4    909  CA\n",
      "   3 │       262    3341    365.4    664  MN\n"
     ]
    }
   ],
   "source": [
    "aux = sort(educ, \"education\", rev = true)\n",
    "println(first(aux, 3))"
   ]
  },
  {
   "cell_type": "markdown",
   "id": "1b0ae8ec",
   "metadata": {
    "slideshow": {
     "slide_type": "slide"
    }
   },
   "source": [
    "## Drop missing data in Julia"
   ]
  },
  {
   "cell_type": "code",
   "execution_count": 129,
   "id": "0d032a9a",
   "metadata": {
    "scrolled": false
   },
   "outputs": [
    {
     "name": "stdout",
     "output_type": "stream",
     "text": [
      "1703\n"
     ]
    }
   ],
   "source": [
    "aux = chilesurv\n",
    "dropmissing!(aux, :\"statusquo\")\n",
    "println(nrow(aux))"
   ]
  },
  {
   "cell_type": "markdown",
   "id": "93aa8f11",
   "metadata": {
    "slideshow": {
     "slide_type": "slide"
    }
   },
   "source": [
    "## Mutating Variables in Julia\n",
    "\n",
    "Mutating the dataset (creates new variables using old ones):"
   ]
  },
  {
   "cell_type": "code",
   "execution_count": 135,
   "id": "143bed8c",
   "metadata": {
    "scrolled": false
   },
   "outputs": [
    {
     "name": "stdout",
     "output_type": "stream",
     "text": [
      "\u001b[1m6×6 DataFrame\u001b[0m\n",
      "\u001b[1m Row \u001b[0m│\u001b[1m education \u001b[0m\u001b[1m income \u001b[0m\u001b[1m young   \u001b[0m\u001b[1m urban \u001b[0m\u001b[1m states  \u001b[0m\u001b[1m income_per_urban \u001b[0m\n",
      "     │\u001b[90m Int64     \u001b[0m\u001b[90m Int64  \u001b[0m\u001b[90m Float64 \u001b[0m\u001b[90m Int64 \u001b[0m\u001b[90m String3 \u001b[0m\u001b[90m Float64          \u001b[0m\n",
      "─────┼──────────────────────────────────────────────────────────────\n",
      "   1 │       189    2824    350.7    508  ME                5.55906\n",
      "   2 │       169    3259    345.9    564  NH                5.77837\n",
      "   3 │       230    3072    348.5    322  VT                9.54037\n",
      "   4 │       168    3835    335.3    846  MA                4.5331\n",
      "   5 │       180    3549    327.1    871  RI                4.07463\n",
      "   6 │       193    4256    341.0    774  CT                5.49871\n"
     ]
    }
   ],
   "source": [
    "educ.income_per_urban = educ.income ./ educ.urban\n",
    "println(first(educ, 6))"
   ]
  },
  {
   "cell_type": "markdown",
   "id": "27c2292c",
   "metadata": {
    "slideshow": {
     "slide_type": "slide"
    }
   },
   "source": [
    "## Linear Regression in Julia\n",
    "\n",
    "A simple regression model in Julia"
   ]
  },
  {
   "cell_type": "code",
   "execution_count": 136,
   "id": "ae696c12",
   "metadata": {
    "scrolled": false
   },
   "outputs": [
    {
     "data": {
      "text/plain": [
       "StatsModels.TableRegressionModel{LinearModel{GLM.LmResp{Vector{Float64}}, GLM.DensePredChol{Float64, LinearAlgebra.CholeskyPivoted{Float64, Matrix{Float64}, Vector{Int64}}}}, Matrix{Float64}}\n",
       "\n",
       "voted ~ 1 + message\n",
       "\n",
       "Coefficients:\n",
       "───────────────────────────────────────────────────────────────────────────\n",
       "                  Coef.  Std. Error       t  Pr(>|t|)  Lower 95%  Upper 95%\n",
       "───────────────────────────────────────────────────────────────────────────\n",
       "(Intercept)   0.296638   0.00105548  281.05    <1e-99    0.29457  0.298707\n",
       "message: yes  0.0813099  0.00258672   31.43    <1e-99    0.07624  0.0863798\n",
       "───────────────────────────────────────────────────────────────────────────"
      ]
     },
     "execution_count": 136,
     "metadata": {},
     "output_type": "execute_result"
    }
   ],
   "source": [
    "using GLM\n",
    "ols = lm(@formula(voted ~ message), voting)"
   ]
  },
  {
   "cell_type": "markdown",
   "id": "d3c0d24d",
   "metadata": {
    "slideshow": {
     "slide_type": "slide"
    }
   },
   "source": [
    "## Julia Programming\n",
    "\n",
    "Julia is a programming language, to the same extent and strength as Python is.\n",
    "\n",
    "We can build great code in Julia."
   ]
  },
  {
   "cell_type": "markdown",
   "id": "9b6a72c0",
   "metadata": {
    "slideshow": {
     "slide_type": "slide"
    }
   },
   "source": [
    "## Conditional Execution"
   ]
  },
  {
   "cell_type": "code",
   "execution_count": 137,
   "id": "c43c994f",
   "metadata": {},
   "outputs": [
    {
     "name": "stdout",
     "output_type": "stream",
     "text": [
      "Yay, first day of the week! Hope Hurricane Hillary was not that distructive.\n"
     ]
    }
   ],
   "source": [
    "monday = true\n",
    "\n",
    "# Conditional fork\n",
    "if monday\n",
    "    # Code for condition\n",
    "    println(\"Yay, first day of the week! Hope Hurricane Hillary was not that distructive.\")\n",
    "end"
   ]
  },
  {
   "cell_type": "code",
   "execution_count": 138,
   "id": "71eed3af",
   "metadata": {},
   "outputs": [],
   "source": [
    "monday = false\n",
    "\n",
    "# Conditional fork\n",
    "if monday\n",
    "    # Code for condition\n",
    "    println(\"Yay, first day of the week! Hope Hurricane Hillary was not that distructive.\")\n",
    "end"
   ]
  },
  {
   "cell_type": "markdown",
   "id": "492dc7a7",
   "metadata": {
    "slideshow": {
     "slide_type": "slide"
    }
   },
   "source": [
    "## Conditional Execution"
   ]
  },
  {
   "cell_type": "code",
   "execution_count": 139,
   "id": "266dc443",
   "metadata": {},
   "outputs": [
    {
     "name": "stdout",
     "output_type": "stream",
     "text": [
      "Yay, first day of the week! Hope Hurricane Hillary was not that distructive.\n"
     ]
    }
   ],
   "source": [
    "monday = true\n",
    "\n",
    "# Conditional fork\n",
    "if monday\n",
    "    # Code for condition true\n",
    "    println(\"Yay, first day of the week! Hope Hurricane Hillary was not that distructive.\")\n",
    "else\n",
    "    # Code for condition false\n",
    "    println(\"Well, not that cool...\")\n",
    "end"
   ]
  },
  {
   "cell_type": "code",
   "execution_count": 140,
   "id": "1b1b9851",
   "metadata": {},
   "outputs": [
    {
     "name": "stdout",
     "output_type": "stream",
     "text": [
      "Well, not that cool...\n"
     ]
    }
   ],
   "source": [
    "monday = false\n",
    "\n",
    "# Conditional fork\n",
    "if monday\n",
    "    # Code for condition\n",
    "    println(\"Yay, first day of the week! Hope Hurricane Hillary was not that distructive.\")\n",
    "else\n",
    "    # Code for condition false\n",
    "    println(\"Well, not that cool...\")\n",
    "end"
   ]
  },
  {
   "cell_type": "markdown",
   "id": "799921f1",
   "metadata": {
    "slideshow": {
     "slide_type": "slide"
    }
   },
   "source": [
    "## Conditional Execution"
   ]
  },
  {
   "cell_type": "code",
   "execution_count": 142,
   "id": "6dcf54d6",
   "metadata": {},
   "outputs": [
    {
     "name": "stdout",
     "output_type": "stream",
     "text": [
      "Padres day! Let's go!!\n"
     ]
    }
   ],
   "source": [
    "day = \"Wed\"\n",
    "\n",
    "# Conditional fork\n",
    "if day == \"Mon\"\n",
    "    # Code for condition true\n",
    "    println(\"Yay, first day of the week! Hope Hurricane Hillary was not that distructive.\")\n",
    "elseif day == \"Wed\"\n",
    "    # Code for wed = true\n",
    "    println(\"Padres day! Let's go!!\")\n",
    "else\n",
    "    # Code for condition false\n",
    "    println(\"Well, not that cool...\")\n",
    "end"
   ]
  },
  {
   "cell_type": "markdown",
   "id": "716fad6d",
   "metadata": {
    "slideshow": {
     "slide_type": "slide"
    }
   },
   "source": [
    "## Function Creation\n",
    "\n",
    "Public functions:"
   ]
  },
  {
   "cell_type": "code",
   "execution_count": 143,
   "id": "935bb2a1",
   "metadata": {},
   "outputs": [
    {
     "name": "stdout",
     "output_type": "stream",
     "text": [
      "36.295922232041406\n"
     ]
    }
   ],
   "source": [
    "# My BMI depression function\n",
    "function bmi(weight, height, imperial = false)\n",
    "    return (weight)/(height^2)\n",
    "end\n",
    "\n",
    "# BMI\n",
    "println(bmi(115, 1.78))"
   ]
  },
  {
   "cell_type": "markdown",
   "id": "b042480a",
   "metadata": {
    "slideshow": {
     "slide_type": "fragment"
    }
   },
   "source": [
    "**Check-in**: Adapt the code to have a imperial to metric conversion when imperial is true."
   ]
  },
  {
   "cell_type": "code",
   "execution_count": 155,
   "id": "d765c855",
   "metadata": {
    "scrolled": true
   },
   "outputs": [
    {
     "name": "stdout",
     "output_type": "stream",
     "text": [
      "35.87086766010266\n"
     ]
    }
   ],
   "source": [
    "# Your code here\n",
    "function bmi(weight, height ; imperial = false)\n",
    "    if imperial\n",
    "        weight *= 0.453592\n",
    "        height *= 0.0254\n",
    "    end\n",
    "    return (weight)/(height^2)\n",
    "end\n",
    "println(bmi(250, 70, imperial = true))"
   ]
  },
  {
   "cell_type": "markdown",
   "id": "ab97132b",
   "metadata": {
    "slideshow": {
     "slide_type": "slide"
    }
   },
   "source": [
    "## Function Creation\n",
    "\n",
    "Type declaration:"
   ]
  },
  {
   "cell_type": "code",
   "execution_count": 183,
   "id": "1126410a",
   "metadata": {},
   "outputs": [
    {
     "name": "stdout",
     "output_type": "stream",
     "text": [
      "36.295922232041406\n"
     ]
    }
   ],
   "source": [
    "function bmi(weight::Float64, height::Float64, imperial::Bool = false)\n",
    "    return (weight)/(height^2)\n",
    "end\n",
    "\n",
    "function bmi(weight::String, height::Float64, imperial::Bool = false)\n",
    "    return (Float64(weight))/(height^2)\n",
    "end\n",
    "\n",
    "# BMI\n",
    "println(bmi(115, 1.78))"
   ]
  },
  {
   "cell_type": "code",
   "execution_count": 184,
   "id": "915dabb7",
   "metadata": {},
   "outputs": [
    {
     "ename": "LoadError",
     "evalue": "MethodError: no method matching Float64(::String)\n\n\u001b[0mClosest candidates are:\n\u001b[0m  (::Type{T})(\u001b[91m::AbstractChar\u001b[39m) where T<:Union{AbstractChar, Number}\n\u001b[0m\u001b[90m   @\u001b[39m \u001b[90mBase\u001b[39m \u001b[90m\u001b[4mchar.jl:50\u001b[24m\u001b[39m\n\u001b[0m  (::Type{T})(\u001b[91m::Base.TwicePrecision\u001b[39m) where T<:Number\n\u001b[0m\u001b[90m   @\u001b[39m \u001b[90mBase\u001b[39m \u001b[90m\u001b[4mtwiceprecision.jl:266\u001b[24m\u001b[39m\n\u001b[0m  (::Type{T})(\u001b[91m::Complex\u001b[39m) where T<:Real\n\u001b[0m\u001b[90m   @\u001b[39m \u001b[90mBase\u001b[39m \u001b[90m\u001b[4mcomplex.jl:44\u001b[24m\u001b[39m\n\u001b[0m  ...\n",
     "output_type": "error",
     "traceback": [
      "MethodError: no method matching Float64(::String)\n\n\u001b[0mClosest candidates are:\n\u001b[0m  (::Type{T})(\u001b[91m::AbstractChar\u001b[39m) where T<:Union{AbstractChar, Number}\n\u001b[0m\u001b[90m   @\u001b[39m \u001b[90mBase\u001b[39m \u001b[90m\u001b[4mchar.jl:50\u001b[24m\u001b[39m\n\u001b[0m  (::Type{T})(\u001b[91m::Base.TwicePrecision\u001b[39m) where T<:Number\n\u001b[0m\u001b[90m   @\u001b[39m \u001b[90mBase\u001b[39m \u001b[90m\u001b[4mtwiceprecision.jl:266\u001b[24m\u001b[39m\n\u001b[0m  (::Type{T})(\u001b[91m::Complex\u001b[39m) where T<:Real\n\u001b[0m\u001b[90m   @\u001b[39m \u001b[90mBase\u001b[39m \u001b[90m\u001b[4mcomplex.jl:44\u001b[24m\u001b[39m\n\u001b[0m  ...\n",
      "",
      "Stacktrace:",
      " [1] bmi(weight::String, height::Float64, imperial::Bool)",
      "   @ Main ./In[183]:6",
      " [2] bmi(weight::String, height::Float64)",
      "   @ Main ./In[183]:6",
      " [3] top-level scope",
      "   @ In[184]:2"
     ]
    }
   ],
   "source": [
    "# BMI\n",
    "println(bmi(\"115\", 1.78))"
   ]
  },
  {
   "cell_type": "markdown",
   "id": "794bf9f1",
   "metadata": {
    "slideshow": {
     "slide_type": "slide"
    }
   },
   "source": [
    "## Function Creation\n",
    "\n",
    "Multiple arguments"
   ]
  },
  {
   "cell_type": "code",
   "execution_count": 154,
   "id": "229d3827",
   "metadata": {},
   "outputs": [
    {
     "name": "stdout",
     "output_type": "stream",
     "text": [
      "(\"John\", \"Julia\", \"Jane\")\n"
     ]
    }
   ],
   "source": [
    "function people(names...)\n",
    "    println(names)\n",
    "end\n",
    "\n",
    "people(\"John\", \"Julia\", \"Jane\")"
   ]
  },
  {
   "cell_type": "code",
   "execution_count": 157,
   "id": "206cbeeb",
   "metadata": {},
   "outputs": [
    {
     "name": "stdout",
     "output_type": "stream",
     "text": [
      "(\"John\", (\"BA PoliSci\", \"MS CSS\"), \"La Jolla\")"
     ]
    }
   ],
   "source": [
    "function people(name, schools... ; address)\n",
    "    # Like tuple! (actually, a tuple)\n",
    "    return name, schools, address\n",
    "end\n",
    "\n",
    "# Using it\n",
    "print(people(\"John\", \"BA PoliSci\", \"MS CSS\", address = \"La Jolla\"))"
   ]
  },
  {
   "cell_type": "markdown",
   "id": "8e9546db",
   "metadata": {
    "slideshow": {
     "slide_type": "slide"
    }
   },
   "source": [
    "## Function Creation\n",
    "\n",
    "Anonymous functions:"
   ]
  },
  {
   "cell_type": "code",
   "execution_count": 158,
   "id": "7692f3ee",
   "metadata": {},
   "outputs": [
    {
     "data": {
      "text/plain": [
       "36.295922232041406"
      ]
     },
     "execution_count": 158,
     "metadata": {},
     "output_type": "execute_result"
    }
   ],
   "source": [
    "# my bmi: Anonymized\n",
    "mybmi = (w, h) -> w / (h^2)\n",
    "mybmi(115, 1.78)"
   ]
  },
  {
   "cell_type": "code",
   "execution_count": 159,
   "id": "0e26395c",
   "metadata": {},
   "outputs": [
    {
     "name": "stdout",
     "output_type": "stream",
     "text": [
      "[31.561671506122963, 33.240837090993175, 25.099501595611173]\n"
     ]
    }
   ],
   "source": [
    "# With mapping\n",
    "mybmi = (w, h) -> w / (h^2)\n",
    "println(map(mybmi, [100, 115, 70], [1.78, 1.86, 1.67]))"
   ]
  },
  {
   "cell_type": "markdown",
   "id": "f87d7464",
   "metadata": {
    "slideshow": {
     "slide_type": "slide"
    }
   },
   "source": [
    "## Function Creation\n",
    "\n",
    "Timing functions:"
   ]
  },
  {
   "cell_type": "code",
   "execution_count": 160,
   "id": "fef56fa8",
   "metadata": {},
   "outputs": [
    {
     "name": "stdout",
     "output_type": "stream",
     "text": [
      "  0.000000 seconds\n"
     ]
    },
    {
     "data": {
      "text/plain": [
       "36.295922232041406"
      ]
     },
     "execution_count": 160,
     "metadata": {},
     "output_type": "execute_result"
    }
   ],
   "source": [
    "# Timing bmi\n",
    "@time bmi(115, 1.78)"
   ]
  },
  {
   "cell_type": "code",
   "execution_count": 161,
   "id": "ed413dca",
   "metadata": {},
   "outputs": [
    {
     "data": {
      "text/plain": [
       "BenchmarkTools.Trial: 10000 samples with 1000 evaluations.\n",
       " Range \u001b[90m(\u001b[39m\u001b[36m\u001b[1mmin\u001b[22m\u001b[39m … \u001b[35mmax\u001b[39m\u001b[90m):  \u001b[39m\u001b[36m\u001b[1m0.791 ns\u001b[22m\u001b[39m … \u001b[35m13.667 ns\u001b[39m  \u001b[90m┊\u001b[39m GC \u001b[90m(\u001b[39mmin … max\u001b[90m): \u001b[39m0.00% … 0.00%\n",
       " Time  \u001b[90m(\u001b[39m\u001b[34m\u001b[1mmedian\u001b[22m\u001b[39m\u001b[90m):     \u001b[39m\u001b[34m\u001b[1m0.875 ns              \u001b[22m\u001b[39m\u001b[90m┊\u001b[39m GC \u001b[90m(\u001b[39mmedian\u001b[90m):    \u001b[39m0.00%\n",
       " Time  \u001b[90m(\u001b[39m\u001b[32m\u001b[1mmean\u001b[22m\u001b[39m ± \u001b[32mσ\u001b[39m\u001b[90m):   \u001b[39m\u001b[32m\u001b[1m0.898 ns\u001b[22m\u001b[39m ± \u001b[32m 0.398 ns\u001b[39m  \u001b[90m┊\u001b[39m GC \u001b[90m(\u001b[39mmean ± σ\u001b[90m):  \u001b[39m0.00% ± 0.00%\n",
       "\n",
       "  \u001b[39m \u001b[39m \u001b[39m \u001b[39m \u001b[39m \u001b[39m \u001b[39m \u001b[39m \u001b[39m \u001b[39m \u001b[39m \u001b[39m \u001b[39m \u001b[39m \u001b[39m \u001b[39m \u001b[39m \u001b[39m \u001b[39m \u001b[39m \u001b[39m \u001b[39m \u001b[39m \u001b[39m \u001b[39m \u001b[39m \u001b[39m \u001b[39m \u001b[39m \u001b[39m \u001b[39m \u001b[39m \u001b[39m \u001b[39m \u001b[39m \u001b[39m \u001b[39m \u001b[39m \u001b[39m█\u001b[34m \u001b[39m\u001b[39m \u001b[39m \u001b[39m \u001b[39m \u001b[39m \u001b[39m \u001b[39m \u001b[39m \u001b[39m \u001b[32m \u001b[39m\u001b[39m \u001b[39m \u001b[39m \u001b[39m \u001b[39m \u001b[39m \u001b[39m \u001b[39m \u001b[39m \u001b[39m \n",
       "  \u001b[39m▂\u001b[39m▁\u001b[39m▁\u001b[39m▁\u001b[39m▁\u001b[39m▁\u001b[39m▁\u001b[39m▁\u001b[39m▁\u001b[39m▁\u001b[39m▁\u001b[39m▁\u001b[39m▁\u001b[39m▁\u001b[39m▁\u001b[39m▁\u001b[39m▁\u001b[39m▁\u001b[39m▁\u001b[39m▄\u001b[39m▁\u001b[39m▁\u001b[39m▁\u001b[39m▁\u001b[39m▁\u001b[39m▁\u001b[39m▁\u001b[39m▁\u001b[39m▁\u001b[39m▁\u001b[39m▁\u001b[39m▁\u001b[39m▁\u001b[39m▁\u001b[39m▁\u001b[39m▁\u001b[39m▁\u001b[39m▁\u001b[39m█\u001b[34m▁\u001b[39m\u001b[39m▁\u001b[39m▁\u001b[39m▁\u001b[39m▁\u001b[39m▁\u001b[39m▁\u001b[39m▁\u001b[39m▁\u001b[39m▁\u001b[32m▁\u001b[39m\u001b[39m▁\u001b[39m▁\u001b[39m▁\u001b[39m▁\u001b[39m▁\u001b[39m▁\u001b[39m▁\u001b[39m▂\u001b[39m \u001b[39m▂\n",
       "  0.791 ns\u001b[90m       Histogram: frequency by time\u001b[39m       0.917 ns \u001b[0m\u001b[1m<\u001b[22m\n",
       "\n",
       " Memory estimate\u001b[90m: \u001b[39m\u001b[33m0 bytes\u001b[39m, allocs estimate\u001b[90m: \u001b[39m\u001b[33m0\u001b[39m."
      ]
     },
     "execution_count": 161,
     "metadata": {},
     "output_type": "execute_result"
    }
   ],
   "source": [
    "# Benchmarking bmi\n",
    "using BenchmarkTools\n",
    "@benchmark bmi"
   ]
  },
  {
   "cell_type": "markdown",
   "id": "f0607416",
   "metadata": {
    "slideshow": {
     "slide_type": "slide"
    }
   },
   "source": [
    "## For loops\n",
    "\n",
    "Very similar to Python:"
   ]
  },
  {
   "cell_type": "code",
   "execution_count": 162,
   "id": "67146a40",
   "metadata": {},
   "outputs": [
    {
     "name": "stdout",
     "output_type": "stream",
     "text": [
      "1 squared is equal to 1\n",
      "2 squared is equal to 4\n",
      "3 squared is equal to 9\n",
      "4 squared is equal to 16\n",
      "5 squared is equal to 25\n"
     ]
    }
   ],
   "source": [
    "nums = [1, 2, 3, 4, 5]\n",
    "for x in nums\n",
    "    xsq = x^2\n",
    "    println(\"$x squared is equal to $xsq\")\n",
    "end"
   ]
  },
  {
   "cell_type": "markdown",
   "id": "5499b72a",
   "metadata": {
    "slideshow": {
     "slide_type": "slide"
    }
   },
   "source": [
    "## For loops\n",
    "\n",
    "With `enumerate`:"
   ]
  },
  {
   "cell_type": "code",
   "execution_count": 163,
   "id": "43b2e24a",
   "metadata": {},
   "outputs": [
    {
     "name": "stdout",
     "output_type": "stream",
     "text": [
      "In position 1: 5 squared is equal to 25\n",
      "In position 2: 4 squared is equal to 16\n",
      "In position 3: 3 squared is equal to 9\n",
      "In position 4: 2 squared is equal to 4\n",
      "In position 5: 1 squared is equal to 1\n"
     ]
    }
   ],
   "source": [
    "nums = [5, 4, 3, 2, 1]\n",
    "for (index, x) in enumerate(nums)\n",
    "    xsq = x^2\n",
    "    println(\"In position $index: $x squared is equal to $xsq\")\n",
    "end"
   ]
  },
  {
   "cell_type": "markdown",
   "id": "a6dd8ffd",
   "metadata": {
    "slideshow": {
     "slide_type": "slide"
    }
   },
   "source": [
    "## For loops\n",
    "\n",
    "With ranges: (note difference from Python and R ranges!)"
   ]
  },
  {
   "cell_type": "code",
   "execution_count": 164,
   "id": "177bbe5d",
   "metadata": {},
   "outputs": [
    {
     "name": "stdout",
     "output_type": "stream",
     "text": [
      "10 squared is equal to 100\n",
      "8 squared is equal to 64\n",
      "6 squared is equal to 36\n",
      "4 squared is equal to 16\n",
      "2 squared is equal to 4\n"
     ]
    }
   ],
   "source": [
    "nums = 10:-2:1 # start:step:stop\n",
    "for x in nums\n",
    "    xsq = x^2\n",
    "    println(\"$x squared is equal to $xsq\")\n",
    "end"
   ]
  },
  {
   "cell_type": "markdown",
   "id": "8b669c85",
   "metadata": {
    "slideshow": {
     "slide_type": "slide"
    }
   },
   "source": [
    "## While loops"
   ]
  },
  {
   "cell_type": "code",
   "execution_count": 166,
   "id": "5cdaf168",
   "metadata": {
    "scrolled": true
   },
   "outputs": [
    {
     "name": "stdout",
     "output_type": "stream",
     "text": [
      "1 squared is equal to 1\n",
      "2 squared is equal to 4\n",
      "3 squared is equal to 9\n",
      "4 squared is equal to 16\n",
      "5 squared is equal to 25\n"
     ]
    }
   ],
   "source": [
    "nums = [5, 4, 3, 2, 1]\n",
    "while length(nums) > 0\n",
    "    x = pop!(nums)\n",
    "    xsq = x^2\n",
    "    println(\"$x squared is equal to $xsq\")\n",
    "end"
   ]
  },
  {
   "cell_type": "markdown",
   "id": "cd454713",
   "metadata": {
    "slideshow": {
     "slide_type": "fragment"
    }
   },
   "source": [
    "**Check-in**: Explain this code in words."
   ]
  },
  {
   "cell_type": "markdown",
   "id": "4fcbc02b",
   "metadata": {
    "slideshow": {
     "slide_type": "fragment"
    }
   },
   "source": [
    "Little hint: Like Python, if infinite loop, just press `CTRL + C`"
   ]
  },
  {
   "cell_type": "markdown",
   "id": "3d0302f8",
   "metadata": {
    "slideshow": {
     "slide_type": "slide"
    }
   },
   "source": [
    "## ANES Dataset\n",
    "\n",
    "Exercise:\n",
    "\n",
    "1. Load the `anes` 2020 dataset: https://raw.githubusercontent.com/umbertomig/POLI175public/main/data/anes2020.csv\n",
    "\n",
    "1. Explore the dataset.\n",
    "\n",
    "1. What is the mean of `feel_biden`?\n",
    "\n",
    "1. What is the standard deviation of `feel_rural`?\n",
    "\n",
    "1. What is the median of `feel_gay`?\n",
    "\n",
    "1. Standardize the variables (the operation: $z = \\dfrac{x - \\text{mean}(x)}{\\text{sd}(x)}$):\n",
    "    - `feel_biden`\n",
    "    - `feel_fauci`\n",
    "    - `feel_nra`\n",
    "    - `feel_unions`\n",
    "    - `feel_fbi`\n",
    "\n",
    "1. Run a regression trying to predict `feel_biden` based on `feel_fauci`, `feel_nra`, `feel_unions`, and `feel_fbi`. Which variable is the most important? (Hint: try using the standardized variables in the regression!)"
   ]
  },
  {
   "cell_type": "code",
   "execution_count": 169,
   "id": "7687cd22",
   "metadata": {},
   "outputs": [
    {
     "data": {
      "text/html": [
       "<div><div style = \"float: left;\"><span>4664×17 DataFrame</span></div><div style = \"float: right;\"><span style = \"font-style: italic;\">4639 rows omitted</span></div><div style = \"clear: both;\"></div></div><div class = \"data-frame\" style = \"overflow-x: scroll;\"><table class = \"data-frame\" style = \"margin-bottom: 6px;\"><thead><tr class = \"header\"><th class = \"rowNumber\" style = \"font-weight: bold; text-align: right;\">Row</th><th style = \"text-align: left;\">votebiden</th><th style = \"text-align: left;\">feel_biden</th><th style = \"text-align: left;\">feel_trump</th><th style = \"text-align: left;\">feel_fauci</th><th style = \"text-align: left;\">feel_feminists</th><th style = \"text-align: left;\">feel_unions</th><th style = \"text-align: left;\">feel_bigbusiness</th><th style = \"text-align: left;\">feel_gay</th><th style = \"text-align: left;\">feel_muslim</th><th style = \"text-align: left;\">feel_christian</th><th style = \"text-align: left;\">feel_jewish</th><th style = \"text-align: left;\">feel_police</th><th style = \"text-align: left;\">feel_scientists</th><th style = \"text-align: left;\">feel_nra</th><th style = \"text-align: left;\">feel_fbi</th><th style = \"text-align: left;\">feel_rural</th><th style = \"text-align: left;\">feel_cdc</th></tr><tr class = \"subheader headerLastRow\"><th class = \"rowNumber\" style = \"font-weight: bold; text-align: right;\"></th><th title = \"Int64\" style = \"text-align: left;\">Int64</th><th title = \"Int64\" style = \"text-align: left;\">Int64</th><th title = \"Int64\" style = \"text-align: left;\">Int64</th><th title = \"Int64\" style = \"text-align: left;\">Int64</th><th title = \"Int64\" style = \"text-align: left;\">Int64</th><th title = \"Int64\" style = \"text-align: left;\">Int64</th><th title = \"Int64\" style = \"text-align: left;\">Int64</th><th title = \"Int64\" style = \"text-align: left;\">Int64</th><th title = \"Int64\" style = \"text-align: left;\">Int64</th><th title = \"Int64\" style = \"text-align: left;\">Int64</th><th title = \"Int64\" style = \"text-align: left;\">Int64</th><th title = \"Int64\" style = \"text-align: left;\">Int64</th><th title = \"Int64\" style = \"text-align: left;\">Int64</th><th title = \"Int64\" style = \"text-align: left;\">Int64</th><th title = \"Int64\" style = \"text-align: left;\">Int64</th><th title = \"Int64\" style = \"text-align: left;\">Int64</th><th title = \"Int64\" style = \"text-align: left;\">Int64</th></tr></thead><tbody><tr><td class = \"rowNumber\" style = \"font-weight: bold; text-align: right;\">1</td><td style = \"text-align: right;\">1</td><td style = \"text-align: right;\">85</td><td style = \"text-align: right;\">0</td><td style = \"text-align: right;\">100</td><td style = \"text-align: right;\">75</td><td style = \"text-align: right;\">75</td><td style = \"text-align: right;\">0</td><td style = \"text-align: right;\">100</td><td style = \"text-align: right;\">100</td><td style = \"text-align: right;\">30</td><td style = \"text-align: right;\">100</td><td style = \"text-align: right;\">40</td><td style = \"text-align: right;\">100</td><td style = \"text-align: right;\">0</td><td style = \"text-align: right;\">50</td><td style = \"text-align: right;\">75</td><td style = \"text-align: right;\">80</td></tr><tr><td class = \"rowNumber\" style = \"font-weight: bold; text-align: right;\">2</td><td style = \"text-align: right;\">0</td><td style = \"text-align: right;\">0</td><td style = \"text-align: right;\">90</td><td style = \"text-align: right;\">0</td><td style = \"text-align: right;\">30</td><td style = \"text-align: right;\">50</td><td style = \"text-align: right;\">0</td><td style = \"text-align: right;\">50</td><td style = \"text-align: right;\">10</td><td style = \"text-align: right;\">50</td><td style = \"text-align: right;\">90</td><td style = \"text-align: right;\">70</td><td style = \"text-align: right;\">60</td><td style = \"text-align: right;\">70</td><td style = \"text-align: right;\">20</td><td style = \"text-align: right;\">90</td><td style = \"text-align: right;\">10</td></tr><tr><td class = \"rowNumber\" style = \"font-weight: bold; text-align: right;\">3</td><td style = \"text-align: right;\">1</td><td style = \"text-align: right;\">100</td><td style = \"text-align: right;\">0</td><td style = \"text-align: right;\">85</td><td style = \"text-align: right;\">60</td><td style = \"text-align: right;\">50</td><td style = \"text-align: right;\">40</td><td style = \"text-align: right;\">70</td><td style = \"text-align: right;\">50</td><td style = \"text-align: right;\">85</td><td style = \"text-align: right;\">100</td><td style = \"text-align: right;\">70</td><td style = \"text-align: right;\">85</td><td style = \"text-align: right;\">15</td><td style = \"text-align: right;\">70</td><td style = \"text-align: right;\">85</td><td style = \"text-align: right;\">70</td></tr><tr><td class = \"rowNumber\" style = \"font-weight: bold; text-align: right;\">4</td><td style = \"text-align: right;\">0</td><td style = \"text-align: right;\">0</td><td style = \"text-align: right;\">70</td><td style = \"text-align: right;\">0</td><td style = \"text-align: right;\">60</td><td style = \"text-align: right;\">50</td><td style = \"text-align: right;\">50</td><td style = \"text-align: right;\">60</td><td style = \"text-align: right;\">60</td><td style = \"text-align: right;\">60</td><td style = \"text-align: right;\">60</td><td style = \"text-align: right;\">60</td><td style = \"text-align: right;\">85</td><td style = \"text-align: right;\">85</td><td style = \"text-align: right;\">79</td><td style = \"text-align: right;\">70</td><td style = \"text-align: right;\">85</td></tr><tr><td class = \"rowNumber\" style = \"font-weight: bold; text-align: right;\">5</td><td style = \"text-align: right;\">1</td><td style = \"text-align: right;\">70</td><td style = \"text-align: right;\">30</td><td style = \"text-align: right;\">50</td><td style = \"text-align: right;\">50</td><td style = \"text-align: right;\">50</td><td style = \"text-align: right;\">15</td><td style = \"text-align: right;\">50</td><td style = \"text-align: right;\">50</td><td style = \"text-align: right;\">50</td><td style = \"text-align: right;\">50</td><td style = \"text-align: right;\">70</td><td style = \"text-align: right;\">50</td><td style = \"text-align: right;\">50</td><td style = \"text-align: right;\">50</td><td style = \"text-align: right;\">50</td><td style = \"text-align: right;\">70</td></tr><tr><td class = \"rowNumber\" style = \"font-weight: bold; text-align: right;\">6</td><td style = \"text-align: right;\">1</td><td style = \"text-align: right;\">60</td><td style = \"text-align: right;\">0</td><td style = \"text-align: right;\">80</td><td style = \"text-align: right;\">50</td><td style = \"text-align: right;\">40</td><td style = \"text-align: right;\">40</td><td style = \"text-align: right;\">50</td><td style = \"text-align: right;\">50</td><td style = \"text-align: right;\">50</td><td style = \"text-align: right;\">50</td><td style = \"text-align: right;\">70</td><td style = \"text-align: right;\">80</td><td style = \"text-align: right;\">30</td><td style = \"text-align: right;\">70</td><td style = \"text-align: right;\">70</td><td style = \"text-align: right;\">50</td></tr><tr><td class = \"rowNumber\" style = \"font-weight: bold; text-align: right;\">7</td><td style = \"text-align: right;\">1</td><td style = \"text-align: right;\">85</td><td style = \"text-align: right;\">15</td><td style = \"text-align: right;\">100</td><td style = \"text-align: right;\">60</td><td style = \"text-align: right;\">40</td><td style = \"text-align: right;\">50</td><td style = \"text-align: right;\">70</td><td style = \"text-align: right;\">50</td><td style = \"text-align: right;\">70</td><td style = \"text-align: right;\">60</td><td style = \"text-align: right;\">70</td><td style = \"text-align: right;\">85</td><td style = \"text-align: right;\">0</td><td style = \"text-align: right;\">85</td><td style = \"text-align: right;\">40</td><td style = \"text-align: right;\">70</td></tr><tr><td class = \"rowNumber\" style = \"font-weight: bold; text-align: right;\">8</td><td style = \"text-align: right;\">1</td><td style = \"text-align: right;\">85</td><td style = \"text-align: right;\">0</td><td style = \"text-align: right;\">90</td><td style = \"text-align: right;\">85</td><td style = \"text-align: right;\">70</td><td style = \"text-align: right;\">60</td><td style = \"text-align: right;\">85</td><td style = \"text-align: right;\">90</td><td style = \"text-align: right;\">100</td><td style = \"text-align: right;\">100</td><td style = \"text-align: right;\">85</td><td style = \"text-align: right;\">100</td><td style = \"text-align: right;\">15</td><td style = \"text-align: right;\">50</td><td style = \"text-align: right;\">85</td><td style = \"text-align: right;\">95</td></tr><tr><td class = \"rowNumber\" style = \"font-weight: bold; text-align: right;\">9</td><td style = \"text-align: right;\">1</td><td style = \"text-align: right;\">70</td><td style = \"text-align: right;\">0</td><td style = \"text-align: right;\">85</td><td style = \"text-align: right;\">50</td><td style = \"text-align: right;\">75</td><td style = \"text-align: right;\">15</td><td style = \"text-align: right;\">50</td><td style = \"text-align: right;\">55</td><td style = \"text-align: right;\">50</td><td style = \"text-align: right;\">50</td><td style = \"text-align: right;\">15</td><td style = \"text-align: right;\">80</td><td style = \"text-align: right;\">0</td><td style = \"text-align: right;\">25</td><td style = \"text-align: right;\">50</td><td style = \"text-align: right;\">80</td></tr><tr><td class = \"rowNumber\" style = \"font-weight: bold; text-align: right;\">10</td><td style = \"text-align: right;\">1</td><td style = \"text-align: right;\">85</td><td style = \"text-align: right;\">0</td><td style = \"text-align: right;\">75</td><td style = \"text-align: right;\">80</td><td style = \"text-align: right;\">85</td><td style = \"text-align: right;\">45</td><td style = \"text-align: right;\">60</td><td style = \"text-align: right;\">65</td><td style = \"text-align: right;\">65</td><td style = \"text-align: right;\">60</td><td style = \"text-align: right;\">65</td><td style = \"text-align: right;\">75</td><td style = \"text-align: right;\">45</td><td style = \"text-align: right;\">50</td><td style = \"text-align: right;\">60</td><td style = \"text-align: right;\">60</td></tr><tr><td class = \"rowNumber\" style = \"font-weight: bold; text-align: right;\">11</td><td style = \"text-align: right;\">0</td><td style = \"text-align: right;\">15</td><td style = \"text-align: right;\">85</td><td style = \"text-align: right;\">85</td><td style = \"text-align: right;\">50</td><td style = \"text-align: right;\">70</td><td style = \"text-align: right;\">60</td><td style = \"text-align: right;\">30</td><td style = \"text-align: right;\">0</td><td style = \"text-align: right;\">100</td><td style = \"text-align: right;\">85</td><td style = \"text-align: right;\">85</td><td style = \"text-align: right;\">85</td><td style = \"text-align: right;\">85</td><td style = \"text-align: right;\">100</td><td style = \"text-align: right;\">85</td><td style = \"text-align: right;\">100</td></tr><tr><td class = \"rowNumber\" style = \"font-weight: bold; text-align: right;\">12</td><td style = \"text-align: right;\">0</td><td style = \"text-align: right;\">30</td><td style = \"text-align: right;\">50</td><td style = \"text-align: right;\">50</td><td style = \"text-align: right;\">50</td><td style = \"text-align: right;\">50</td><td style = \"text-align: right;\">50</td><td style = \"text-align: right;\">50</td><td style = \"text-align: right;\">50</td><td style = \"text-align: right;\">60</td><td style = \"text-align: right;\">50</td><td style = \"text-align: right;\">60</td><td style = \"text-align: right;\">60</td><td style = \"text-align: right;\">50</td><td style = \"text-align: right;\">50</td><td style = \"text-align: right;\">60</td><td style = \"text-align: right;\">50</td></tr><tr><td class = \"rowNumber\" style = \"font-weight: bold; text-align: right;\">13</td><td style = \"text-align: right;\">1</td><td style = \"text-align: right;\">75</td><td style = \"text-align: right;\">0</td><td style = \"text-align: right;\">100</td><td style = \"text-align: right;\">70</td><td style = \"text-align: right;\">50</td><td style = \"text-align: right;\">30</td><td style = \"text-align: right;\">50</td><td style = \"text-align: right;\">40</td><td style = \"text-align: right;\">50</td><td style = \"text-align: right;\">50</td><td style = \"text-align: right;\">70</td><td style = \"text-align: right;\">90</td><td style = \"text-align: right;\">15</td><td style = \"text-align: right;\">90</td><td style = \"text-align: right;\">85</td><td style = \"text-align: right;\">85</td></tr><tr><td style = \"text-align: right;\">&vellip;</td><td style = \"text-align: right;\">&vellip;</td><td style = \"text-align: right;\">&vellip;</td><td style = \"text-align: right;\">&vellip;</td><td style = \"text-align: right;\">&vellip;</td><td style = \"text-align: right;\">&vellip;</td><td style = \"text-align: right;\">&vellip;</td><td style = \"text-align: right;\">&vellip;</td><td style = \"text-align: right;\">&vellip;</td><td style = \"text-align: right;\">&vellip;</td><td style = \"text-align: right;\">&vellip;</td><td style = \"text-align: right;\">&vellip;</td><td style = \"text-align: right;\">&vellip;</td><td style = \"text-align: right;\">&vellip;</td><td style = \"text-align: right;\">&vellip;</td><td style = \"text-align: right;\">&vellip;</td><td style = \"text-align: right;\">&vellip;</td><td style = \"text-align: right;\">&vellip;</td></tr><tr><td class = \"rowNumber\" style = \"font-weight: bold; text-align: right;\">4653</td><td style = \"text-align: right;\">1</td><td style = \"text-align: right;\">70</td><td style = \"text-align: right;\">0</td><td style = \"text-align: right;\">100</td><td style = \"text-align: right;\">70</td><td style = \"text-align: right;\">50</td><td style = \"text-align: right;\">50</td><td style = \"text-align: right;\">100</td><td style = \"text-align: right;\">40</td><td style = \"text-align: right;\">40</td><td style = \"text-align: right;\">40</td><td style = \"text-align: right;\">60</td><td style = \"text-align: right;\">100</td><td style = \"text-align: right;\">30</td><td style = \"text-align: right;\">40</td><td style = \"text-align: right;\">30</td><td style = \"text-align: right;\">80</td></tr><tr><td class = \"rowNumber\" style = \"font-weight: bold; text-align: right;\">4654</td><td style = \"text-align: right;\">1</td><td style = \"text-align: right;\">70</td><td style = \"text-align: right;\">0</td><td style = \"text-align: right;\">100</td><td style = \"text-align: right;\">100</td><td style = \"text-align: right;\">100</td><td style = \"text-align: right;\">15</td><td style = \"text-align: right;\">100</td><td style = \"text-align: right;\">85</td><td style = \"text-align: right;\">50</td><td style = \"text-align: right;\">85</td><td style = \"text-align: right;\">0</td><td style = \"text-align: right;\">100</td><td style = \"text-align: right;\">0</td><td style = \"text-align: right;\">70</td><td style = \"text-align: right;\">50</td><td style = \"text-align: right;\">100</td></tr><tr><td class = \"rowNumber\" style = \"font-weight: bold; text-align: right;\">4655</td><td style = \"text-align: right;\">1</td><td style = \"text-align: right;\">100</td><td style = \"text-align: right;\">0</td><td style = \"text-align: right;\">100</td><td style = \"text-align: right;\">100</td><td style = \"text-align: right;\">70</td><td style = \"text-align: right;\">60</td><td style = \"text-align: right;\">85</td><td style = \"text-align: right;\">85</td><td style = \"text-align: right;\">85</td><td style = \"text-align: right;\">100</td><td style = \"text-align: right;\">85</td><td style = \"text-align: right;\">85</td><td style = \"text-align: right;\">15</td><td style = \"text-align: right;\">85</td><td style = \"text-align: right;\">70</td><td style = \"text-align: right;\">100</td></tr><tr><td class = \"rowNumber\" style = \"font-weight: bold; text-align: right;\">4656</td><td style = \"text-align: right;\">0</td><td style = \"text-align: right;\">15</td><td style = \"text-align: right;\">100</td><td style = \"text-align: right;\">30</td><td style = \"text-align: right;\">40</td><td style = \"text-align: right;\">50</td><td style = \"text-align: right;\">60</td><td style = \"text-align: right;\">70</td><td style = \"text-align: right;\">50</td><td style = \"text-align: right;\">100</td><td style = \"text-align: right;\">95</td><td style = \"text-align: right;\">95</td><td style = \"text-align: right;\">50</td><td style = \"text-align: right;\">70</td><td style = \"text-align: right;\">95</td><td style = \"text-align: right;\">100</td><td style = \"text-align: right;\">95</td></tr><tr><td class = \"rowNumber\" style = \"font-weight: bold; text-align: right;\">4657</td><td style = \"text-align: right;\">0</td><td style = \"text-align: right;\">0</td><td style = \"text-align: right;\">100</td><td style = \"text-align: right;\">40</td><td style = \"text-align: right;\">0</td><td style = \"text-align: right;\">50</td><td style = \"text-align: right;\">85</td><td style = \"text-align: right;\">50</td><td style = \"text-align: right;\">50</td><td style = \"text-align: right;\">100</td><td style = \"text-align: right;\">100</td><td style = \"text-align: right;\">70</td><td style = \"text-align: right;\">60</td><td style = \"text-align: right;\">85</td><td style = \"text-align: right;\">85</td><td style = \"text-align: right;\">100</td><td style = \"text-align: right;\">60</td></tr><tr><td class = \"rowNumber\" style = \"font-weight: bold; text-align: right;\">4658</td><td style = \"text-align: right;\">1</td><td style = \"text-align: right;\">100</td><td style = \"text-align: right;\">0</td><td style = \"text-align: right;\">100</td><td style = \"text-align: right;\">85</td><td style = \"text-align: right;\">85</td><td style = \"text-align: right;\">40</td><td style = \"text-align: right;\">100</td><td style = \"text-align: right;\">85</td><td style = \"text-align: right;\">60</td><td style = \"text-align: right;\">85</td><td style = \"text-align: right;\">60</td><td style = \"text-align: right;\">100</td><td style = \"text-align: right;\">30</td><td style = \"text-align: right;\">85</td><td style = \"text-align: right;\">85</td><td style = \"text-align: right;\">100</td></tr><tr><td class = \"rowNumber\" style = \"font-weight: bold; text-align: right;\">4659</td><td style = \"text-align: right;\">1</td><td style = \"text-align: right;\">70</td><td style = \"text-align: right;\">0</td><td style = \"text-align: right;\">85</td><td style = \"text-align: right;\">70</td><td style = \"text-align: right;\">85</td><td style = \"text-align: right;\">40</td><td style = \"text-align: right;\">85</td><td style = \"text-align: right;\">75</td><td style = \"text-align: right;\">75</td><td style = \"text-align: right;\">75</td><td style = \"text-align: right;\">70</td><td style = \"text-align: right;\">90</td><td style = \"text-align: right;\">30</td><td style = \"text-align: right;\">75</td><td style = \"text-align: right;\">75</td><td style = \"text-align: right;\">90</td></tr><tr><td class = \"rowNumber\" style = \"font-weight: bold; text-align: right;\">4660</td><td style = \"text-align: right;\">0</td><td style = \"text-align: right;\">0</td><td style = \"text-align: right;\">100</td><td style = \"text-align: right;\">0</td><td style = \"text-align: right;\">50</td><td style = \"text-align: right;\">60</td><td style = \"text-align: right;\">30</td><td style = \"text-align: right;\">50</td><td style = \"text-align: right;\">50</td><td style = \"text-align: right;\">100</td><td style = \"text-align: right;\">100</td><td style = \"text-align: right;\">100</td><td style = \"text-align: right;\">70</td><td style = \"text-align: right;\">100</td><td style = \"text-align: right;\">40</td><td style = \"text-align: right;\">100</td><td style = \"text-align: right;\">85</td></tr><tr><td class = \"rowNumber\" style = \"font-weight: bold; text-align: right;\">4661</td><td style = \"text-align: right;\">0</td><td style = \"text-align: right;\">0</td><td style = \"text-align: right;\">85</td><td style = \"text-align: right;\">0</td><td style = \"text-align: right;\">40</td><td style = \"text-align: right;\">50</td><td style = \"text-align: right;\">30</td><td style = \"text-align: right;\">60</td><td style = \"text-align: right;\">60</td><td style = \"text-align: right;\">100</td><td style = \"text-align: right;\">100</td><td style = \"text-align: right;\">85</td><td style = \"text-align: right;\">50</td><td style = \"text-align: right;\">50</td><td style = \"text-align: right;\">50</td><td style = \"text-align: right;\">50</td><td style = \"text-align: right;\">15</td></tr><tr><td class = \"rowNumber\" style = \"font-weight: bold; text-align: right;\">4662</td><td style = \"text-align: right;\">0</td><td style = \"text-align: right;\">40</td><td style = \"text-align: right;\">70</td><td style = \"text-align: right;\">85</td><td style = \"text-align: right;\">100</td><td style = \"text-align: right;\">50</td><td style = \"text-align: right;\">50</td><td style = \"text-align: right;\">60</td><td style = \"text-align: right;\">85</td><td style = \"text-align: right;\">100</td><td style = \"text-align: right;\">60</td><td style = \"text-align: right;\">100</td><td style = \"text-align: right;\">70</td><td style = \"text-align: right;\">50</td><td style = \"text-align: right;\">50</td><td style = \"text-align: right;\">100</td><td style = \"text-align: right;\">85</td></tr><tr><td class = \"rowNumber\" style = \"font-weight: bold; text-align: right;\">4663</td><td style = \"text-align: right;\">1</td><td style = \"text-align: right;\">60</td><td style = \"text-align: right;\">30</td><td style = \"text-align: right;\">70</td><td style = \"text-align: right;\">40</td><td style = \"text-align: right;\">40</td><td style = \"text-align: right;\">50</td><td style = \"text-align: right;\">50</td><td style = \"text-align: right;\">40</td><td style = \"text-align: right;\">40</td><td style = \"text-align: right;\">50</td><td style = \"text-align: right;\">60</td><td style = \"text-align: right;\">70</td><td style = \"text-align: right;\">30</td><td style = \"text-align: right;\">70</td><td style = \"text-align: right;\">40</td><td style = \"text-align: right;\">70</td></tr><tr><td class = \"rowNumber\" style = \"font-weight: bold; text-align: right;\">4664</td><td style = \"text-align: right;\">1</td><td style = \"text-align: right;\">70</td><td style = \"text-align: right;\">0</td><td style = \"text-align: right;\">85</td><td style = \"text-align: right;\">85</td><td style = \"text-align: right;\">85</td><td style = \"text-align: right;\">30</td><td style = \"text-align: right;\">85</td><td style = \"text-align: right;\">70</td><td style = \"text-align: right;\">50</td><td style = \"text-align: right;\">50</td><td style = \"text-align: right;\">50</td><td style = \"text-align: right;\">85</td><td style = \"text-align: right;\">0</td><td style = \"text-align: right;\">60</td><td style = \"text-align: right;\">60</td><td style = \"text-align: right;\">70</td></tr></tbody></table></div>"
      ],
      "text/latex": [
       "\\begin{tabular}{r|cccccccc}\n",
       "\t& votebiden & feel\\_biden & feel\\_trump & feel\\_fauci & feel\\_feminists & feel\\_unions & feel\\_bigbusiness & \\\\\n",
       "\t\\hline\n",
       "\t& Int64 & Int64 & Int64 & Int64 & Int64 & Int64 & Int64 & \\\\\n",
       "\t\\hline\n",
       "\t1 & 1 & 85 & 0 & 100 & 75 & 75 & 0 & $\\dots$ \\\\\n",
       "\t2 & 0 & 0 & 90 & 0 & 30 & 50 & 0 & $\\dots$ \\\\\n",
       "\t3 & 1 & 100 & 0 & 85 & 60 & 50 & 40 & $\\dots$ \\\\\n",
       "\t4 & 0 & 0 & 70 & 0 & 60 & 50 & 50 & $\\dots$ \\\\\n",
       "\t5 & 1 & 70 & 30 & 50 & 50 & 50 & 15 & $\\dots$ \\\\\n",
       "\t6 & 1 & 60 & 0 & 80 & 50 & 40 & 40 & $\\dots$ \\\\\n",
       "\t7 & 1 & 85 & 15 & 100 & 60 & 40 & 50 & $\\dots$ \\\\\n",
       "\t8 & 1 & 85 & 0 & 90 & 85 & 70 & 60 & $\\dots$ \\\\\n",
       "\t9 & 1 & 70 & 0 & 85 & 50 & 75 & 15 & $\\dots$ \\\\\n",
       "\t10 & 1 & 85 & 0 & 75 & 80 & 85 & 45 & $\\dots$ \\\\\n",
       "\t11 & 0 & 15 & 85 & 85 & 50 & 70 & 60 & $\\dots$ \\\\\n",
       "\t12 & 0 & 30 & 50 & 50 & 50 & 50 & 50 & $\\dots$ \\\\\n",
       "\t13 & 1 & 75 & 0 & 100 & 70 & 50 & 30 & $\\dots$ \\\\\n",
       "\t14 & 1 & 85 & 0 & 50 & 15 & 50 & 50 & $\\dots$ \\\\\n",
       "\t15 & 1 & 100 & 0 & 70 & 70 & 70 & 15 & $\\dots$ \\\\\n",
       "\t16 & 1 & 100 & 0 & 100 & 85 & 50 & 35 & $\\dots$ \\\\\n",
       "\t17 & 0 & 30 & 85 & 50 & 50 & 60 & 70 & $\\dots$ \\\\\n",
       "\t18 & 1 & 60 & 0 & 70 & 100 & 70 & 10 & $\\dots$ \\\\\n",
       "\t19 & 0 & 15 & 100 & 60 & 15 & 40 & 60 & $\\dots$ \\\\\n",
       "\t20 & 0 & 15 & 70 & 50 & 40 & 50 & 50 & $\\dots$ \\\\\n",
       "\t21 & 0 & 0 & 100 & 4 & 15 & 1 & 85 & $\\dots$ \\\\\n",
       "\t22 & 0 & 0 & 100 & 0 & 0 & 0 & 86 & $\\dots$ \\\\\n",
       "\t23 & 0 & 50 & 70 & 50 & 50 & 50 & 0 & $\\dots$ \\\\\n",
       "\t24 & 0 & 0 & 85 & 50 & 0 & 50 & 50 & $\\dots$ \\\\\n",
       "\t25 & 1 & 100 & 0 & 100 & 60 & 85 & 40 & $\\dots$ \\\\\n",
       "\t26 & 1 & 90 & 0 & 90 & 70 & 50 & 50 & $\\dots$ \\\\\n",
       "\t27 & 1 & 85 & 0 & 100 & 70 & 70 & 70 & $\\dots$ \\\\\n",
       "\t28 & 1 & 90 & 0 & 100 & 95 & 85 & 15 & $\\dots$ \\\\\n",
       "\t29 & 1 & 85 & 0 & 100 & 50 & 90 & 51 & $\\dots$ \\\\\n",
       "\t30 & 1 & 85 & 0 & 95 & 85 & 60 & 50 & $\\dots$ \\\\\n",
       "\t$\\dots$ & $\\dots$ & $\\dots$ & $\\dots$ & $\\dots$ & $\\dots$ & $\\dots$ & $\\dots$ &  \\\\\n",
       "\\end{tabular}\n"
      ],
      "text/plain": [
       "\u001b[1m4664×17 DataFrame\u001b[0m\n",
       "\u001b[1m  Row \u001b[0m│\u001b[1m votebiden \u001b[0m\u001b[1m feel_biden \u001b[0m\u001b[1m feel_trump \u001b[0m\u001b[1m feel_fauci \u001b[0m\u001b[1m feel_feminists \u001b[0m\u001b[1m feel_un\u001b[0m ⋯\n",
       "      │\u001b[90m Int64     \u001b[0m\u001b[90m Int64      \u001b[0m\u001b[90m Int64      \u001b[0m\u001b[90m Int64      \u001b[0m\u001b[90m Int64          \u001b[0m\u001b[90m Int64  \u001b[0m ⋯\n",
       "──────┼─────────────────────────────────────────────────────────────────────────\n",
       "    1 │         1          85           0         100              75          ⋯\n",
       "    2 │         0           0          90           0              30\n",
       "    3 │         1         100           0          85              60\n",
       "    4 │         0           0          70           0              60\n",
       "    5 │         1          70          30          50              50          ⋯\n",
       "    6 │         1          60           0          80              50\n",
       "    7 │         1          85          15         100              60\n",
       "    8 │         1          85           0          90              85\n",
       "    9 │         1          70           0          85              50          ⋯\n",
       "   10 │         1          85           0          75              80\n",
       "   11 │         0          15          85          85              50\n",
       "  ⋮   │     ⋮          ⋮           ⋮           ⋮             ⋮              ⋮  ⋱\n",
       " 4655 │         1         100           0         100             100\n",
       " 4656 │         0          15         100          30              40          ⋯\n",
       " 4657 │         0           0         100          40               0\n",
       " 4658 │         1         100           0         100              85\n",
       " 4659 │         1          70           0          85              70\n",
       " 4660 │         0           0         100           0              50          ⋯\n",
       " 4661 │         0           0          85           0              40\n",
       " 4662 │         0          40          70          85             100\n",
       " 4663 │         1          60          30          70              40\n",
       " 4664 │         1          70           0          85              85          ⋯\n",
       "\u001b[36m                                                12 columns and 4643 rows omitted\u001b[0m"
      ]
     },
     "execution_count": 169,
     "metadata": {},
     "output_type": "execute_result"
    }
   ],
   "source": [
    "## Your answers here\n",
    "⚅ = CSV.read(download(\"https://raw.githubusercontent.com/umbertomig/POLI175public/main/data/anes2020.csv\"), DataFrame)"
   ]
  },
  {
   "cell_type": "code",
   "execution_count": 171,
   "id": "d0823c86",
   "metadata": {},
   "outputs": [
    {
     "data": {
      "text/html": [
       "<div><div style = \"float: left;\"><span>3×17 DataFrame</span></div><div style = \"clear: both;\"></div></div><div class = \"data-frame\" style = \"overflow-x: scroll;\"><table class = \"data-frame\" style = \"margin-bottom: 6px;\"><thead><tr class = \"header\"><th class = \"rowNumber\" style = \"font-weight: bold; text-align: right;\">Row</th><th style = \"text-align: left;\">votebiden</th><th style = \"text-align: left;\">feel_biden</th><th style = \"text-align: left;\">feel_trump</th><th style = \"text-align: left;\">feel_fauci</th><th style = \"text-align: left;\">feel_feminists</th><th style = \"text-align: left;\">feel_unions</th><th style = \"text-align: left;\">feel_bigbusiness</th><th style = \"text-align: left;\">feel_gay</th><th style = \"text-align: left;\">feel_muslim</th><th style = \"text-align: left;\">feel_christian</th><th style = \"text-align: left;\">feel_jewish</th><th style = \"text-align: left;\">feel_police</th><th style = \"text-align: left;\">feel_scientists</th><th style = \"text-align: left;\">feel_nra</th><th style = \"text-align: left;\">feel_fbi</th><th style = \"text-align: left;\">feel_rural</th><th style = \"text-align: left;\">feel_cdc</th></tr><tr class = \"subheader headerLastRow\"><th class = \"rowNumber\" style = \"font-weight: bold; text-align: right;\"></th><th title = \"Int64\" style = \"text-align: left;\">Int64</th><th title = \"Int64\" style = \"text-align: left;\">Int64</th><th title = \"Int64\" style = \"text-align: left;\">Int64</th><th title = \"Int64\" style = \"text-align: left;\">Int64</th><th title = \"Int64\" style = \"text-align: left;\">Int64</th><th title = \"Int64\" style = \"text-align: left;\">Int64</th><th title = \"Int64\" style = \"text-align: left;\">Int64</th><th title = \"Int64\" style = \"text-align: left;\">Int64</th><th title = \"Int64\" style = \"text-align: left;\">Int64</th><th title = \"Int64\" style = \"text-align: left;\">Int64</th><th title = \"Int64\" style = \"text-align: left;\">Int64</th><th title = \"Int64\" style = \"text-align: left;\">Int64</th><th title = \"Int64\" style = \"text-align: left;\">Int64</th><th title = \"Int64\" style = \"text-align: left;\">Int64</th><th title = \"Int64\" style = \"text-align: left;\">Int64</th><th title = \"Int64\" style = \"text-align: left;\">Int64</th><th title = \"Int64\" style = \"text-align: left;\">Int64</th></tr></thead><tbody><tr><td class = \"rowNumber\" style = \"font-weight: bold; text-align: right;\">1</td><td style = \"text-align: right;\">1</td><td style = \"text-align: right;\">85</td><td style = \"text-align: right;\">0</td><td style = \"text-align: right;\">100</td><td style = \"text-align: right;\">75</td><td style = \"text-align: right;\">75</td><td style = \"text-align: right;\">0</td><td style = \"text-align: right;\">100</td><td style = \"text-align: right;\">100</td><td style = \"text-align: right;\">30</td><td style = \"text-align: right;\">100</td><td style = \"text-align: right;\">40</td><td style = \"text-align: right;\">100</td><td style = \"text-align: right;\">0</td><td style = \"text-align: right;\">50</td><td style = \"text-align: right;\">75</td><td style = \"text-align: right;\">80</td></tr><tr><td class = \"rowNumber\" style = \"font-weight: bold; text-align: right;\">2</td><td style = \"text-align: right;\">0</td><td style = \"text-align: right;\">0</td><td style = \"text-align: right;\">90</td><td style = \"text-align: right;\">0</td><td style = \"text-align: right;\">30</td><td style = \"text-align: right;\">50</td><td style = \"text-align: right;\">0</td><td style = \"text-align: right;\">50</td><td style = \"text-align: right;\">10</td><td style = \"text-align: right;\">50</td><td style = \"text-align: right;\">90</td><td style = \"text-align: right;\">70</td><td style = \"text-align: right;\">60</td><td style = \"text-align: right;\">70</td><td style = \"text-align: right;\">20</td><td style = \"text-align: right;\">90</td><td style = \"text-align: right;\">10</td></tr><tr><td class = \"rowNumber\" style = \"font-weight: bold; text-align: right;\">3</td><td style = \"text-align: right;\">1</td><td style = \"text-align: right;\">100</td><td style = \"text-align: right;\">0</td><td style = \"text-align: right;\">85</td><td style = \"text-align: right;\">60</td><td style = \"text-align: right;\">50</td><td style = \"text-align: right;\">40</td><td style = \"text-align: right;\">70</td><td style = \"text-align: right;\">50</td><td style = \"text-align: right;\">85</td><td style = \"text-align: right;\">100</td><td style = \"text-align: right;\">70</td><td style = \"text-align: right;\">85</td><td style = \"text-align: right;\">15</td><td style = \"text-align: right;\">70</td><td style = \"text-align: right;\">85</td><td style = \"text-align: right;\">70</td></tr></tbody></table></div>"
      ],
      "text/latex": [
       "\\begin{tabular}{r|cccccccc}\n",
       "\t& votebiden & feel\\_biden & feel\\_trump & feel\\_fauci & feel\\_feminists & feel\\_unions & feel\\_bigbusiness & \\\\\n",
       "\t\\hline\n",
       "\t& Int64 & Int64 & Int64 & Int64 & Int64 & Int64 & Int64 & \\\\\n",
       "\t\\hline\n",
       "\t1 & 1 & 85 & 0 & 100 & 75 & 75 & 0 & $\\dots$ \\\\\n",
       "\t2 & 0 & 0 & 90 & 0 & 30 & 50 & 0 & $\\dots$ \\\\\n",
       "\t3 & 1 & 100 & 0 & 85 & 60 & 50 & 40 & $\\dots$ \\\\\n",
       "\\end{tabular}\n"
      ],
      "text/plain": [
       "\u001b[1m3×17 DataFrame\u001b[0m\n",
       "\u001b[1m Row \u001b[0m│\u001b[1m votebiden \u001b[0m\u001b[1m feel_biden \u001b[0m\u001b[1m feel_trump \u001b[0m\u001b[1m feel_fauci \u001b[0m\u001b[1m feel_feminists \u001b[0m\u001b[1m feel_uni\u001b[0m ⋯\n",
       "     │\u001b[90m Int64     \u001b[0m\u001b[90m Int64      \u001b[0m\u001b[90m Int64      \u001b[0m\u001b[90m Int64      \u001b[0m\u001b[90m Int64          \u001b[0m\u001b[90m Int64   \u001b[0m ⋯\n",
       "─────┼──────────────────────────────────────────────────────────────────────────\n",
       "   1 │         1          85           0         100              75           ⋯\n",
       "   2 │         0           0          90           0              30\n",
       "   3 │         1         100           0          85              60\n",
       "\u001b[36m                                                              12 columns omitted\u001b[0m"
      ]
     },
     "execution_count": 171,
     "metadata": {},
     "output_type": "execute_result"
    }
   ],
   "source": [
    "# Head of the dataset\n",
    "👤 = first(⚅, 3)\n",
    "👤"
   ]
  },
  {
   "cell_type": "code",
   "execution_count": 172,
   "id": "83fd415f",
   "metadata": {},
   "outputs": [
    {
     "data": {
      "text/html": [
       "<div><div style = \"float: left;\"><span>3×17 DataFrame</span></div><div style = \"clear: both;\"></div></div><div class = \"data-frame\" style = \"overflow-x: scroll;\"><table class = \"data-frame\" style = \"margin-bottom: 6px;\"><thead><tr class = \"header\"><th class = \"rowNumber\" style = \"font-weight: bold; text-align: right;\">Row</th><th style = \"text-align: left;\">votebiden</th><th style = \"text-align: left;\">feel_biden</th><th style = \"text-align: left;\">feel_trump</th><th style = \"text-align: left;\">feel_fauci</th><th style = \"text-align: left;\">feel_feminists</th><th style = \"text-align: left;\">feel_unions</th><th style = \"text-align: left;\">feel_bigbusiness</th><th style = \"text-align: left;\">feel_gay</th><th style = \"text-align: left;\">feel_muslim</th><th style = \"text-align: left;\">feel_christian</th><th style = \"text-align: left;\">feel_jewish</th><th style = \"text-align: left;\">feel_police</th><th style = \"text-align: left;\">feel_scientists</th><th style = \"text-align: left;\">feel_nra</th><th style = \"text-align: left;\">feel_fbi</th><th style = \"text-align: left;\">feel_rural</th><th style = \"text-align: left;\">feel_cdc</th></tr><tr class = \"subheader headerLastRow\"><th class = \"rowNumber\" style = \"font-weight: bold; text-align: right;\"></th><th title = \"Int64\" style = \"text-align: left;\">Int64</th><th title = \"Int64\" style = \"text-align: left;\">Int64</th><th title = \"Int64\" style = \"text-align: left;\">Int64</th><th title = \"Int64\" style = \"text-align: left;\">Int64</th><th title = \"Int64\" style = \"text-align: left;\">Int64</th><th title = \"Int64\" style = \"text-align: left;\">Int64</th><th title = \"Int64\" style = \"text-align: left;\">Int64</th><th title = \"Int64\" style = \"text-align: left;\">Int64</th><th title = \"Int64\" style = \"text-align: left;\">Int64</th><th title = \"Int64\" style = \"text-align: left;\">Int64</th><th title = \"Int64\" style = \"text-align: left;\">Int64</th><th title = \"Int64\" style = \"text-align: left;\">Int64</th><th title = \"Int64\" style = \"text-align: left;\">Int64</th><th title = \"Int64\" style = \"text-align: left;\">Int64</th><th title = \"Int64\" style = \"text-align: left;\">Int64</th><th title = \"Int64\" style = \"text-align: left;\">Int64</th><th title = \"Int64\" style = \"text-align: left;\">Int64</th></tr></thead><tbody><tr><td class = \"rowNumber\" style = \"font-weight: bold; text-align: right;\">1</td><td style = \"text-align: right;\">0</td><td style = \"text-align: right;\">40</td><td style = \"text-align: right;\">70</td><td style = \"text-align: right;\">85</td><td style = \"text-align: right;\">100</td><td style = \"text-align: right;\">50</td><td style = \"text-align: right;\">50</td><td style = \"text-align: right;\">60</td><td style = \"text-align: right;\">85</td><td style = \"text-align: right;\">100</td><td style = \"text-align: right;\">60</td><td style = \"text-align: right;\">100</td><td style = \"text-align: right;\">70</td><td style = \"text-align: right;\">50</td><td style = \"text-align: right;\">50</td><td style = \"text-align: right;\">100</td><td style = \"text-align: right;\">85</td></tr><tr><td class = \"rowNumber\" style = \"font-weight: bold; text-align: right;\">2</td><td style = \"text-align: right;\">1</td><td style = \"text-align: right;\">60</td><td style = \"text-align: right;\">30</td><td style = \"text-align: right;\">70</td><td style = \"text-align: right;\">40</td><td style = \"text-align: right;\">40</td><td style = \"text-align: right;\">50</td><td style = \"text-align: right;\">50</td><td style = \"text-align: right;\">40</td><td style = \"text-align: right;\">40</td><td style = \"text-align: right;\">50</td><td style = \"text-align: right;\">60</td><td style = \"text-align: right;\">70</td><td style = \"text-align: right;\">30</td><td style = \"text-align: right;\">70</td><td style = \"text-align: right;\">40</td><td style = \"text-align: right;\">70</td></tr><tr><td class = \"rowNumber\" style = \"font-weight: bold; text-align: right;\">3</td><td style = \"text-align: right;\">1</td><td style = \"text-align: right;\">70</td><td style = \"text-align: right;\">0</td><td style = \"text-align: right;\">85</td><td style = \"text-align: right;\">85</td><td style = \"text-align: right;\">85</td><td style = \"text-align: right;\">30</td><td style = \"text-align: right;\">85</td><td style = \"text-align: right;\">70</td><td style = \"text-align: right;\">50</td><td style = \"text-align: right;\">50</td><td style = \"text-align: right;\">50</td><td style = \"text-align: right;\">85</td><td style = \"text-align: right;\">0</td><td style = \"text-align: right;\">60</td><td style = \"text-align: right;\">60</td><td style = \"text-align: right;\">70</td></tr></tbody></table></div>"
      ],
      "text/latex": [
       "\\begin{tabular}{r|cccccccc}\n",
       "\t& votebiden & feel\\_biden & feel\\_trump & feel\\_fauci & feel\\_feminists & feel\\_unions & feel\\_bigbusiness & \\\\\n",
       "\t\\hline\n",
       "\t& Int64 & Int64 & Int64 & Int64 & Int64 & Int64 & Int64 & \\\\\n",
       "\t\\hline\n",
       "\t1 & 0 & 40 & 70 & 85 & 100 & 50 & 50 & $\\dots$ \\\\\n",
       "\t2 & 1 & 60 & 30 & 70 & 40 & 40 & 50 & $\\dots$ \\\\\n",
       "\t3 & 1 & 70 & 0 & 85 & 85 & 85 & 30 & $\\dots$ \\\\\n",
       "\\end{tabular}\n"
      ],
      "text/plain": [
       "\u001b[1m3×17 DataFrame\u001b[0m\n",
       "\u001b[1m Row \u001b[0m│\u001b[1m votebiden \u001b[0m\u001b[1m feel_biden \u001b[0m\u001b[1m feel_trump \u001b[0m\u001b[1m feel_fauci \u001b[0m\u001b[1m feel_feminists \u001b[0m\u001b[1m feel_uni\u001b[0m ⋯\n",
       "     │\u001b[90m Int64     \u001b[0m\u001b[90m Int64      \u001b[0m\u001b[90m Int64      \u001b[0m\u001b[90m Int64      \u001b[0m\u001b[90m Int64          \u001b[0m\u001b[90m Int64   \u001b[0m ⋯\n",
       "─────┼──────────────────────────────────────────────────────────────────────────\n",
       "   1 │         0          40          70          85             100           ⋯\n",
       "   2 │         1          60          30          70              40\n",
       "   3 │         1          70           0          85              85\n",
       "\u001b[36m                                                              12 columns omitted\u001b[0m"
      ]
     },
     "execution_count": 172,
     "metadata": {},
     "output_type": "execute_result"
    }
   ],
   "source": [
    "# Tail of the dataset\n",
    "🐊 = last(⚅, 3)\n",
    "🐊"
   ]
  },
  {
   "cell_type": "code",
   "execution_count": 173,
   "id": "9476f931",
   "metadata": {
    "scrolled": true
   },
   "outputs": [
    {
     "data": {
      "text/html": [
       "<div><div style = \"float: left;\"><span>17×7 DataFrame</span></div><div style = \"clear: both;\"></div></div><div class = \"data-frame\" style = \"overflow-x: scroll;\"><table class = \"data-frame\" style = \"margin-bottom: 6px;\"><thead><tr class = \"header\"><th class = \"rowNumber\" style = \"font-weight: bold; text-align: right;\">Row</th><th style = \"text-align: left;\">variable</th><th style = \"text-align: left;\">mean</th><th style = \"text-align: left;\">min</th><th style = \"text-align: left;\">median</th><th style = \"text-align: left;\">max</th><th style = \"text-align: left;\">nmissing</th><th style = \"text-align: left;\">eltype</th></tr><tr class = \"subheader headerLastRow\"><th class = \"rowNumber\" style = \"font-weight: bold; text-align: right;\"></th><th title = \"Symbol\" style = \"text-align: left;\">Symbol</th><th title = \"Float64\" style = \"text-align: left;\">Float64</th><th title = \"Int64\" style = \"text-align: left;\">Int64</th><th title = \"Float64\" style = \"text-align: left;\">Float64</th><th title = \"Int64\" style = \"text-align: left;\">Int64</th><th title = \"Int64\" style = \"text-align: left;\">Int64</th><th title = \"DataType\" style = \"text-align: left;\">DataType</th></tr></thead><tbody><tr><td class = \"rowNumber\" style = \"font-weight: bold; text-align: right;\">1</td><td style = \"text-align: left;\">votebiden</td><td style = \"text-align: right;\">0.5744</td><td style = \"text-align: right;\">0</td><td style = \"text-align: right;\">1.0</td><td style = \"text-align: right;\">1</td><td style = \"text-align: right;\">0</td><td style = \"text-align: left;\">Int64</td></tr><tr><td class = \"rowNumber\" style = \"font-weight: bold; text-align: right;\">2</td><td style = \"text-align: left;\">feel_biden</td><td style = \"text-align: right;\">54.3075</td><td style = \"text-align: right;\">0</td><td style = \"text-align: right;\">68.0</td><td style = \"text-align: right;\">100</td><td style = \"text-align: right;\">0</td><td style = \"text-align: left;\">Int64</td></tr><tr><td class = \"rowNumber\" style = \"font-weight: bold; text-align: right;\">3</td><td style = \"text-align: left;\">feel_trump</td><td style = \"text-align: right;\">37.8767</td><td style = \"text-align: right;\">0</td><td style = \"text-align: right;\">15.0</td><td style = \"text-align: right;\">100</td><td style = \"text-align: right;\">0</td><td style = \"text-align: left;\">Int64</td></tr><tr><td class = \"rowNumber\" style = \"font-weight: bold; text-align: right;\">4</td><td style = \"text-align: left;\">feel_fauci</td><td style = \"text-align: right;\">70.0888</td><td style = \"text-align: right;\">0</td><td style = \"text-align: right;\">85.0</td><td style = \"text-align: right;\">100</td><td style = \"text-align: right;\">0</td><td style = \"text-align: left;\">Int64</td></tr><tr><td class = \"rowNumber\" style = \"font-weight: bold; text-align: right;\">5</td><td style = \"text-align: left;\">feel_feminists</td><td style = \"text-align: right;\">59.7539</td><td style = \"text-align: right;\">0</td><td style = \"text-align: right;\">60.0</td><td style = \"text-align: right;\">100</td><td style = \"text-align: right;\">0</td><td style = \"text-align: left;\">Int64</td></tr><tr><td class = \"rowNumber\" style = \"font-weight: bold; text-align: right;\">6</td><td style = \"text-align: left;\">feel_unions</td><td style = \"text-align: right;\">57.7181</td><td style = \"text-align: right;\">0</td><td style = \"text-align: right;\">60.0</td><td style = \"text-align: right;\">100</td><td style = \"text-align: right;\">0</td><td style = \"text-align: left;\">Int64</td></tr><tr><td class = \"rowNumber\" style = \"font-weight: bold; text-align: right;\">7</td><td style = \"text-align: left;\">feel_bigbusiness</td><td style = \"text-align: right;\">47.164</td><td style = \"text-align: right;\">0</td><td style = \"text-align: right;\">50.0</td><td style = \"text-align: right;\">100</td><td style = \"text-align: right;\">0</td><td style = \"text-align: left;\">Int64</td></tr><tr><td class = \"rowNumber\" style = \"font-weight: bold; text-align: right;\">8</td><td style = \"text-align: left;\">feel_gay</td><td style = \"text-align: right;\">66.7663</td><td style = \"text-align: right;\">0</td><td style = \"text-align: right;\">70.0</td><td style = \"text-align: right;\">100</td><td style = \"text-align: right;\">0</td><td style = \"text-align: left;\">Int64</td></tr><tr><td class = \"rowNumber\" style = \"font-weight: bold; text-align: right;\">9</td><td style = \"text-align: left;\">feel_muslim</td><td style = \"text-align: right;\">59.5309</td><td style = \"text-align: right;\">0</td><td style = \"text-align: right;\">50.0</td><td style = \"text-align: right;\">100</td><td style = \"text-align: right;\">0</td><td style = \"text-align: left;\">Int64</td></tr><tr><td class = \"rowNumber\" style = \"font-weight: bold; text-align: right;\">10</td><td style = \"text-align: left;\">feel_christian</td><td style = \"text-align: right;\">71.9796</td><td style = \"text-align: right;\">0</td><td style = \"text-align: right;\">75.0</td><td style = \"text-align: right;\">100</td><td style = \"text-align: right;\">0</td><td style = \"text-align: left;\">Int64</td></tr><tr><td class = \"rowNumber\" style = \"font-weight: bold; text-align: right;\">11</td><td style = \"text-align: left;\">feel_jewish</td><td style = \"text-align: right;\">75.8413</td><td style = \"text-align: right;\">0</td><td style = \"text-align: right;\">85.0</td><td style = \"text-align: right;\">100</td><td style = \"text-align: right;\">0</td><td style = \"text-align: left;\">Int64</td></tr><tr><td class = \"rowNumber\" style = \"font-weight: bold; text-align: right;\">12</td><td style = \"text-align: left;\">feel_police</td><td style = \"text-align: right;\">72.1612</td><td style = \"text-align: right;\">0</td><td style = \"text-align: right;\">75.0</td><td style = \"text-align: right;\">100</td><td style = \"text-align: right;\">0</td><td style = \"text-align: left;\">Int64</td></tr><tr><td class = \"rowNumber\" style = \"font-weight: bold; text-align: right;\">13</td><td style = \"text-align: left;\">feel_scientists</td><td style = \"text-align: right;\">80.9773</td><td style = \"text-align: right;\">0</td><td style = \"text-align: right;\">85.0</td><td style = \"text-align: right;\">100</td><td style = \"text-align: right;\">0</td><td style = \"text-align: left;\">Int64</td></tr><tr><td class = \"rowNumber\" style = \"font-weight: bold; text-align: right;\">14</td><td style = \"text-align: left;\">feel_nra</td><td style = \"text-align: right;\">45.8881</td><td style = \"text-align: right;\">0</td><td style = \"text-align: right;\">50.0</td><td style = \"text-align: right;\">100</td><td style = \"text-align: right;\">0</td><td style = \"text-align: left;\">Int64</td></tr><tr><td class = \"rowNumber\" style = \"font-weight: bold; text-align: right;\">15</td><td style = \"text-align: left;\">feel_fbi</td><td style = \"text-align: right;\">63.2702</td><td style = \"text-align: right;\">0</td><td style = \"text-align: right;\">65.0</td><td style = \"text-align: right;\">100</td><td style = \"text-align: right;\">0</td><td style = \"text-align: left;\">Int64</td></tr><tr><td class = \"rowNumber\" style = \"font-weight: bold; text-align: right;\">16</td><td style = \"text-align: left;\">feel_rural</td><td style = \"text-align: right;\">70.9228</td><td style = \"text-align: right;\">0</td><td style = \"text-align: right;\">70.0</td><td style = \"text-align: right;\">100</td><td style = \"text-align: right;\">0</td><td style = \"text-align: left;\">Int64</td></tr><tr><td class = \"rowNumber\" style = \"font-weight: bold; text-align: right;\">17</td><td style = \"text-align: left;\">feel_cdc</td><td style = \"text-align: right;\">70.6756</td><td style = \"text-align: right;\">0</td><td style = \"text-align: right;\">70.0</td><td style = \"text-align: right;\">100</td><td style = \"text-align: right;\">0</td><td style = \"text-align: left;\">Int64</td></tr></tbody></table></div>"
      ],
      "text/latex": [
       "\\begin{tabular}{r|ccccccc}\n",
       "\t& variable & mean & min & median & max & nmissing & eltype\\\\\n",
       "\t\\hline\n",
       "\t& Symbol & Float64 & Int64 & Float64 & Int64 & Int64 & DataType\\\\\n",
       "\t\\hline\n",
       "\t1 & votebiden & 0.5744 & 0 & 1.0 & 1 & 0 & Int64 \\\\\n",
       "\t2 & feel\\_biden & 54.3075 & 0 & 68.0 & 100 & 0 & Int64 \\\\\n",
       "\t3 & feel\\_trump & 37.8767 & 0 & 15.0 & 100 & 0 & Int64 \\\\\n",
       "\t4 & feel\\_fauci & 70.0888 & 0 & 85.0 & 100 & 0 & Int64 \\\\\n",
       "\t5 & feel\\_feminists & 59.7539 & 0 & 60.0 & 100 & 0 & Int64 \\\\\n",
       "\t6 & feel\\_unions & 57.7181 & 0 & 60.0 & 100 & 0 & Int64 \\\\\n",
       "\t7 & feel\\_bigbusiness & 47.164 & 0 & 50.0 & 100 & 0 & Int64 \\\\\n",
       "\t8 & feel\\_gay & 66.7663 & 0 & 70.0 & 100 & 0 & Int64 \\\\\n",
       "\t9 & feel\\_muslim & 59.5309 & 0 & 50.0 & 100 & 0 & Int64 \\\\\n",
       "\t10 & feel\\_christian & 71.9796 & 0 & 75.0 & 100 & 0 & Int64 \\\\\n",
       "\t11 & feel\\_jewish & 75.8413 & 0 & 85.0 & 100 & 0 & Int64 \\\\\n",
       "\t12 & feel\\_police & 72.1612 & 0 & 75.0 & 100 & 0 & Int64 \\\\\n",
       "\t13 & feel\\_scientists & 80.9773 & 0 & 85.0 & 100 & 0 & Int64 \\\\\n",
       "\t14 & feel\\_nra & 45.8881 & 0 & 50.0 & 100 & 0 & Int64 \\\\\n",
       "\t15 & feel\\_fbi & 63.2702 & 0 & 65.0 & 100 & 0 & Int64 \\\\\n",
       "\t16 & feel\\_rural & 70.9228 & 0 & 70.0 & 100 & 0 & Int64 \\\\\n",
       "\t17 & feel\\_cdc & 70.6756 & 0 & 70.0 & 100 & 0 & Int64 \\\\\n",
       "\\end{tabular}\n"
      ],
      "text/plain": [
       "\u001b[1m17×7 DataFrame\u001b[0m\n",
       "\u001b[1m Row \u001b[0m│\u001b[1m variable         \u001b[0m\u001b[1m mean    \u001b[0m\u001b[1m min   \u001b[0m\u001b[1m median  \u001b[0m\u001b[1m max   \u001b[0m\u001b[1m nmissing \u001b[0m\u001b[1m eltype   \u001b[0m\n",
       "     │\u001b[90m Symbol           \u001b[0m\u001b[90m Float64 \u001b[0m\u001b[90m Int64 \u001b[0m\u001b[90m Float64 \u001b[0m\u001b[90m Int64 \u001b[0m\u001b[90m Int64    \u001b[0m\u001b[90m DataType \u001b[0m\n",
       "─────┼──────────────────────────────────────────────────────────────────────\n",
       "   1 │ votebiden          0.5744      0      1.0      1         0  Int64\n",
       "   2 │ feel_biden        54.3075      0     68.0    100         0  Int64\n",
       "   3 │ feel_trump        37.8767      0     15.0    100         0  Int64\n",
       "   4 │ feel_fauci        70.0888      0     85.0    100         0  Int64\n",
       "   5 │ feel_feminists    59.7539      0     60.0    100         0  Int64\n",
       "   6 │ feel_unions       57.7181      0     60.0    100         0  Int64\n",
       "   7 │ feel_bigbusiness  47.164       0     50.0    100         0  Int64\n",
       "   8 │ feel_gay          66.7663      0     70.0    100         0  Int64\n",
       "   9 │ feel_muslim       59.5309      0     50.0    100         0  Int64\n",
       "  10 │ feel_christian    71.9796      0     75.0    100         0  Int64\n",
       "  11 │ feel_jewish       75.8413      0     85.0    100         0  Int64\n",
       "  12 │ feel_police       72.1612      0     75.0    100         0  Int64\n",
       "  13 │ feel_scientists   80.9773      0     85.0    100         0  Int64\n",
       "  14 │ feel_nra          45.8881      0     50.0    100         0  Int64\n",
       "  15 │ feel_fbi          63.2702      0     65.0    100         0  Int64\n",
       "  16 │ feel_rural        70.9228      0     70.0    100         0  Int64\n",
       "  17 │ feel_cdc          70.6756      0     70.0    100         0  Int64"
      ]
     },
     "execution_count": 173,
     "metadata": {},
     "output_type": "execute_result"
    }
   ],
   "source": [
    "# Description of the dataset\n",
    "🔎 = describe(⚅)\n",
    "🔎"
   ]
  },
  {
   "cell_type": "code",
   "execution_count": 175,
   "id": "ae3023f2",
   "metadata": {
    "scrolled": true
   },
   "outputs": [
    {
     "data": {
      "text/plain": [
       "54.30746140651801"
      ]
     },
     "execution_count": 175,
     "metadata": {},
     "output_type": "execute_result"
    }
   ],
   "source": [
    "# What is the mean of feel_biden?\n",
    "ȳ = mean(⚅.feel_biden)\n",
    "ȳ"
   ]
  },
  {
   "cell_type": "code",
   "execution_count": 176,
   "id": "d3908d54",
   "metadata": {
    "scrolled": true
   },
   "outputs": [
    {
     "data": {
      "text/plain": [
       "22.608122809331604"
      ]
     },
     "execution_count": 176,
     "metadata": {},
     "output_type": "execute_result"
    }
   ],
   "source": [
    "#What is the standard deviation of feel_rural?\n",
    "σ = std(⚅.feel_rural)\n",
    "σ"
   ]
  },
  {
   "cell_type": "code",
   "execution_count": 177,
   "id": "f24b573a",
   "metadata": {
    "scrolled": true
   },
   "outputs": [
    {
     "data": {
      "text/plain": [
       "70.0"
      ]
     },
     "execution_count": 177,
     "metadata": {},
     "output_type": "execute_result"
    }
   ],
   "source": [
    "#What is the median of feel_gay?\n",
    "😐 = median(⚅.feel_gay)\n",
    "😐"
   ]
  },
  {
   "cell_type": "code",
   "execution_count": 178,
   "id": "7d6f995a",
   "metadata": {
    "scrolled": true
   },
   "outputs": [
    {
     "data": {
      "text/plain": [
       "4664-element Vector{Float64}:\n",
       " -0.5785274980027265\n",
       " -1.886411675611165\n",
       "  0.293395287069566\n",
       "  0.6857605403520977\n",
       " -0.5785274980027265\n",
       "  0.293395287069566\n",
       "  0.9473373758737853\n",
       " -0.5785274980027265\n",
       " -1.668430979343092\n",
       " -0.5785274980027265\n",
       "  1.6012794646780046\n",
       " -0.5785274980027265\n",
       "  1.1653180721418586\n",
       "  ⋮\n",
       " -1.0144888905388727\n",
       "  0.293395287069566\n",
       "  0.9473373758737853\n",
       "  1.3832987684099316\n",
       "  0.9473373758737853\n",
       "  0.9473373758737853\n",
       "  0.5113759833376391\n",
       " -1.0144888905388727\n",
       " -0.5785274980027265\n",
       " -0.5785274980027265\n",
       "  0.293395287069566\n",
       " -0.14256610546658022"
      ]
     },
     "execution_count": 178,
     "metadata": {},
     "output_type": "execute_result"
    }
   ],
   "source": [
    "😐 = x -> (x .- mean(x)) ./ std(x)\n",
    "#Standardize the variables\n",
    "⚅.feel_biden_😐 = 😐(⚅.feel_biden)\n",
    "#feel_fauci\n",
    "⚅.feel_fauci_😐 = 😐(⚅.feel_fauci)\n",
    "#feel_nra\n",
    "⚅.feel_nra_😐 = 😐(⚅.feel_nra)\n",
    "#feel_unions\n",
    "⚅.feel_unions_😐 = 😐(⚅.feel_unions)\n",
    "#feel_fbi\n",
    "⚅.feel_fbi_😐 = 😐(⚅.feel_fbi)"
   ]
  },
  {
   "cell_type": "code",
   "execution_count": 179,
   "id": "11f6ca5a",
   "metadata": {},
   "outputs": [
    {
     "data": {
      "text/html": [
       "<div><div style = \"float: left;\"><span>3×22 DataFrame</span></div><div style = \"clear: both;\"></div></div><div class = \"data-frame\" style = \"overflow-x: scroll;\"><table class = \"data-frame\" style = \"margin-bottom: 6px;\"><thead><tr class = \"header\"><th class = \"rowNumber\" style = \"font-weight: bold; text-align: right;\">Row</th><th style = \"text-align: left;\">votebiden</th><th style = \"text-align: left;\">feel_biden</th><th style = \"text-align: left;\">feel_trump</th><th style = \"text-align: left;\">feel_fauci</th><th style = \"text-align: left;\">feel_feminists</th><th style = \"text-align: left;\">feel_unions</th><th style = \"text-align: left;\">feel_bigbusiness</th><th style = \"text-align: left;\">feel_gay</th><th style = \"text-align: left;\">feel_muslim</th><th style = \"text-align: left;\">feel_christian</th><th style = \"text-align: left;\">feel_jewish</th><th style = \"text-align: left;\">feel_police</th><th style = \"text-align: left;\">feel_scientists</th><th style = \"text-align: left;\">feel_nra</th><th style = \"text-align: left;\">feel_fbi</th><th style = \"text-align: left;\">feel_rural</th><th style = \"text-align: left;\">feel_cdc</th><th style = \"text-align: left;\">feel_biden_😐</th><th style = \"text-align: left;\">feel_fauci_😐</th><th style = \"text-align: left;\">feel_nra_😐</th><th style = \"text-align: left;\">feel_unions_😐</th><th style = \"text-align: left;\">feel_fbi_😐</th></tr><tr class = \"subheader headerLastRow\"><th class = \"rowNumber\" style = \"font-weight: bold; text-align: right;\"></th><th title = \"Int64\" style = \"text-align: left;\">Int64</th><th title = \"Int64\" style = \"text-align: left;\">Int64</th><th title = \"Int64\" style = \"text-align: left;\">Int64</th><th title = \"Int64\" style = \"text-align: left;\">Int64</th><th title = \"Int64\" style = \"text-align: left;\">Int64</th><th title = \"Int64\" style = \"text-align: left;\">Int64</th><th title = \"Int64\" style = \"text-align: left;\">Int64</th><th title = \"Int64\" style = \"text-align: left;\">Int64</th><th title = \"Int64\" style = \"text-align: left;\">Int64</th><th title = \"Int64\" style = \"text-align: left;\">Int64</th><th title = \"Int64\" style = \"text-align: left;\">Int64</th><th title = \"Int64\" style = \"text-align: left;\">Int64</th><th title = \"Int64\" style = \"text-align: left;\">Int64</th><th title = \"Int64\" style = \"text-align: left;\">Int64</th><th title = \"Int64\" style = \"text-align: left;\">Int64</th><th title = \"Int64\" style = \"text-align: left;\">Int64</th><th title = \"Int64\" style = \"text-align: left;\">Int64</th><th title = \"Float64\" style = \"text-align: left;\">Float64</th><th title = \"Float64\" style = \"text-align: left;\">Float64</th><th title = \"Float64\" style = \"text-align: left;\">Float64</th><th title = \"Float64\" style = \"text-align: left;\">Float64</th><th title = \"Float64\" style = \"text-align: left;\">Float64</th></tr></thead><tbody><tr><td class = \"rowNumber\" style = \"font-weight: bold; text-align: right;\">1</td><td style = \"text-align: right;\">1</td><td style = \"text-align: right;\">85</td><td style = \"text-align: right;\">0</td><td style = \"text-align: right;\">100</td><td style = \"text-align: right;\">75</td><td style = \"text-align: right;\">75</td><td style = \"text-align: right;\">0</td><td style = \"text-align: right;\">100</td><td style = \"text-align: right;\">100</td><td style = \"text-align: right;\">30</td><td style = \"text-align: right;\">100</td><td style = \"text-align: right;\">40</td><td style = \"text-align: right;\">100</td><td style = \"text-align: right;\">0</td><td style = \"text-align: right;\">50</td><td style = \"text-align: right;\">75</td><td style = \"text-align: right;\">80</td><td style = \"text-align: right;\">0.836176</td><td style = \"text-align: right;\">0.975665</td><td style = \"text-align: right;\">-1.30136</td><td style = \"text-align: right;\">0.71371</td><td style = \"text-align: right;\">-0.578527</td></tr><tr><td class = \"rowNumber\" style = \"font-weight: bold; text-align: right;\">2</td><td style = \"text-align: right;\">0</td><td style = \"text-align: right;\">0</td><td style = \"text-align: right;\">90</td><td style = \"text-align: right;\">0</td><td style = \"text-align: right;\">30</td><td style = \"text-align: right;\">50</td><td style = \"text-align: right;\">0</td><td style = \"text-align: right;\">50</td><td style = \"text-align: right;\">10</td><td style = \"text-align: right;\">50</td><td style = \"text-align: right;\">90</td><td style = \"text-align: right;\">70</td><td style = \"text-align: right;\">60</td><td style = \"text-align: right;\">70</td><td style = \"text-align: right;\">20</td><td style = \"text-align: right;\">90</td><td style = \"text-align: right;\">10</td><td style = \"text-align: right;\">-1.47953</td><td style = \"text-align: right;\">-2.2862</td><td style = \"text-align: right;\">0.683801</td><td style = \"text-align: right;\">-0.31874</td><td style = \"text-align: right;\">-1.88641</td></tr><tr><td class = \"rowNumber\" style = \"font-weight: bold; text-align: right;\">3</td><td style = \"text-align: right;\">1</td><td style = \"text-align: right;\">100</td><td style = \"text-align: right;\">0</td><td style = \"text-align: right;\">85</td><td style = \"text-align: right;\">60</td><td style = \"text-align: right;\">50</td><td style = \"text-align: right;\">40</td><td style = \"text-align: right;\">70</td><td style = \"text-align: right;\">50</td><td style = \"text-align: right;\">85</td><td style = \"text-align: right;\">100</td><td style = \"text-align: right;\">70</td><td style = \"text-align: right;\">85</td><td style = \"text-align: right;\">15</td><td style = \"text-align: right;\">70</td><td style = \"text-align: right;\">85</td><td style = \"text-align: right;\">70</td><td style = \"text-align: right;\">1.24483</td><td style = \"text-align: right;\">0.486385</td><td style = \"text-align: right;\">-0.875969</td><td style = \"text-align: right;\">-0.31874</td><td style = \"text-align: right;\">0.293395</td></tr></tbody></table></div>"
      ],
      "text/latex": [
       "\\begin{tabular}{r|cccccccc}\n",
       "\t& votebiden & feel\\_biden & feel\\_trump & feel\\_fauci & feel\\_feminists & feel\\_unions & feel\\_bigbusiness & \\\\\n",
       "\t\\hline\n",
       "\t& Int64 & Int64 & Int64 & Int64 & Int64 & Int64 & Int64 & \\\\\n",
       "\t\\hline\n",
       "\t1 & 1 & 85 & 0 & 100 & 75 & 75 & 0 & $\\dots$ \\\\\n",
       "\t2 & 0 & 0 & 90 & 0 & 30 & 50 & 0 & $\\dots$ \\\\\n",
       "\t3 & 1 & 100 & 0 & 85 & 60 & 50 & 40 & $\\dots$ \\\\\n",
       "\\end{tabular}\n"
      ],
      "text/plain": [
       "\u001b[1m3×22 DataFrame\u001b[0m\n",
       "\u001b[1m Row \u001b[0m│\u001b[1m votebiden \u001b[0m\u001b[1m feel_biden \u001b[0m\u001b[1m feel_trump \u001b[0m\u001b[1m feel_fauci \u001b[0m\u001b[1m feel_feminists \u001b[0m\u001b[1m feel_uni\u001b[0m ⋯\n",
       "     │\u001b[90m Int64     \u001b[0m\u001b[90m Int64      \u001b[0m\u001b[90m Int64      \u001b[0m\u001b[90m Int64      \u001b[0m\u001b[90m Int64          \u001b[0m\u001b[90m Int64   \u001b[0m ⋯\n",
       "─────┼──────────────────────────────────────────────────────────────────────────\n",
       "   1 │         1          85           0         100              75           ⋯\n",
       "   2 │         0           0          90           0              30\n",
       "   3 │         1         100           0          85              60\n",
       "\u001b[36m                                                              17 columns omitted\u001b[0m"
      ]
     },
     "execution_count": 179,
     "metadata": {},
     "output_type": "execute_result"
    }
   ],
   "source": [
    "first(⚅, 3)"
   ]
  },
  {
   "cell_type": "code",
   "execution_count": 180,
   "id": "13e4a147",
   "metadata": {
    "scrolled": true
   },
   "outputs": [
    {
     "data": {
      "text/plain": [
       "StatsModels.TableRegressionModel{LinearModel{GLM.LmResp{Vector{Float64}}, GLM.DensePredChol{Float64, LinearAlgebra.CholeskyPivoted{Float64, Matrix{Float64}, Vector{Int64}}}}, Matrix{Float64}}\n",
       "\n",
       "feel_biden_😐 ~ 1 + feel_fauci_😐 + feel_nra_😐 + feel_unions_😐 + feel_fbi_😐\n",
       "\n",
       "Coefficients:\n",
       "────────────────────────────────────────────────────────────────────────────────\n",
       "                     Coef.  Std. Error       t  Pr(>|t|)   Lower 95%   Upper 95%\n",
       "────────────────────────────────────────────────────────────────────────────────\n",
       "(Intercept)      1.706e-16  0.00827119    0.00    1.0000  -0.0162154   0.0162154\n",
       "feel_fauci_😐    0.40902    0.0117634    34.77    <1e-99   0.385958    0.432082\n",
       "feel_nra_😐     -0.412146   0.0106579   -38.67    <1e-99  -0.43304    -0.391251\n",
       "feel_unions_😐   0.10904    0.00923968   11.80    <1e-30   0.0909255   0.127154\n",
       "feel_fbi_😐      0.0981019  0.00932513   10.52    <1e-24   0.0798202   0.116384\n",
       "────────────────────────────────────────────────────────────────────────────────"
      ]
     },
     "execution_count": 180,
     "metadata": {},
     "output_type": "execute_result"
    }
   ],
   "source": [
    "#Run a regression trying to predict feel_biden based on feel_fauci, feel_nra, feel_unions, and feel_fbi. Which variable is the most important? (Hint: try using the standardized variables in the regression!)\n",
    "ols = lm(@formula(feel_biden_😐 ~ feel_fauci_😐 + feel_nra_😐+ feel_unions_😐+ feel_fbi_😐), ⚅)"
   ]
  },
  {
   "cell_type": "markdown",
   "id": "16edb64c",
   "metadata": {
    "slideshow": {
     "slide_type": "slide"
    }
   },
   "source": [
    "# Great work! See you in the next class."
   ]
  }
 ],
 "metadata": {
  "celltoolbar": "Slideshow",
  "kernelspec": {
   "display_name": "Julia 1.9.2",
   "language": "julia",
   "name": "julia-1.9"
  },
  "language_info": {
   "file_extension": ".jl",
   "mimetype": "application/julia",
   "name": "julia",
   "version": "1.9.2"
  }
 },
 "nbformat": 4,
 "nbformat_minor": 5
}
