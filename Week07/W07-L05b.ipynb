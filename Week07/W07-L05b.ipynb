{
 "cells": [
  {
   "cell_type": "markdown",
   "id": "a0b8e7e8",
   "metadata": {
    "slideshow": {
     "slide_type": "slide"
    }
   },
   "source": [
    "# CSS 201 / 202 - CSS Bootcamp\n",
    "\n",
    "## Week 07 - Lecture 05\n",
    "\n",
    "### Umberto Mignozzetti"
   ]
  },
  {
   "cell_type": "markdown",
   "id": "754b027f",
   "metadata": {
    "slideshow": {
     "slide_type": "slide"
    }
   },
   "source": [
    "# Introduction to Julia"
   ]
  },
  {
   "cell_type": "markdown",
   "id": "a30fbe4c-01fd-4f5b-a8eb-cb37cba07c05",
   "metadata": {
    "slideshow": {
     "slide_type": "slide"
    }
   },
   "source": [
    "## Intro to Julia\n",
    "\n",
    "Julia is probably the best software for data science available.\n",
    "\n",
    "It has all the capabilities of R and Python, but it is faster, much faster.\n",
    "\n",
    "The reason for the speed is because it uses all the cores in your computer by default.\n",
    "\n",
    "It also can run and load code from the most important languages (Java, C, R, and Python included).\n",
    "\n",
    "It was the software used by the CERN for analyzing the LHC experiment and BlackRock to run financial assets simulation."
   ]
  },
  {
   "cell_type": "markdown",
   "id": "14cef0c8",
   "metadata": {
    "slideshow": {
     "slide_type": "slide"
    }
   },
   "source": [
    "## Intro to Julia\n",
    "\n",
    "Today, we will talk about:\n",
    "\n",
    "1. Arithmetics\n",
    "1. Install and load packages\n",
    "1. Loading data\n",
    "1. Data types\n",
    "1. Data wrangling\n",
    "1. Simple regression\n",
    "1. Programming"
   ]
  },
  {
   "cell_type": "markdown",
   "id": "0adbf85a",
   "metadata": {
    "slideshow": {
     "slide_type": "slide"
    }
   },
   "source": [
    "## Intro to Julia\n",
    "\n",
    "To install Julia, you need to download it from the internet: https://julialang.org\n",
    "\n",
    "Then, you can choose to work with Julia in:\n",
    "\n",
    "1. [Visual Studio](https://code.visualstudio.com/docs/languages/julia) (A great Graphical User Interface GUI)\n",
    "2. [Jupyter Notebooks / Jupyter Lab](https://www.geeksforgeeks.org/how-to-work-with-julia-on-jupyter-notebook/) \n",
    "\n",
    "We will use Jupyter Notebooks, since it is our editor of choice. If you are working locale, the link will have instructions on how to do the job."
   ]
  },
  {
   "cell_type": "markdown",
   "id": "7e70cffc",
   "metadata": {
    "slideshow": {
     "slide_type": "slide"
    }
   },
   "source": [
    "## Print and Comment\n",
    "\n",
    "With Julia, the print command is `println`. \n",
    "\n",
    "`#` for commenting.\n",
    "\n",
    "`#=...=#` for multiline commenting."
   ]
  },
  {
   "cell_type": "code",
   "execution_count": null,
   "id": "ebf57e29",
   "metadata": {},
   "outputs": [],
   "source": [
    "# This is 2\n",
    "println(2)"
   ]
  },
  {
   "cell_type": "code",
   "execution_count": null,
   "id": "68f06bf2",
   "metadata": {},
   "outputs": [],
   "source": [
    "#=\n",
    "This is 2 + 3\n",
    "Equals to 5\n",
    "=#\n",
    "println(2 + 3)"
   ]
  },
  {
   "cell_type": "markdown",
   "id": "f8479704",
   "metadata": {
    "slideshow": {
     "slide_type": "slide"
    }
   },
   "source": [
    "## Arithmetics in Julia"
   ]
  },
  {
   "cell_type": "code",
   "execution_count": null,
   "id": "f4867bd2",
   "metadata": {},
   "outputs": [],
   "source": [
    "# Subtraction\n",
    "println(2 - 3.2)"
   ]
  },
  {
   "cell_type": "code",
   "execution_count": null,
   "id": "f296181a",
   "metadata": {},
   "outputs": [],
   "source": [
    "# Multiplication\n",
    "println(2 * 3)"
   ]
  },
  {
   "cell_type": "code",
   "execution_count": null,
   "id": "442ef273",
   "metadata": {},
   "outputs": [],
   "source": [
    "# Division\n",
    "println(2 / 3)"
   ]
  },
  {
   "cell_type": "code",
   "execution_count": null,
   "id": "fcb5b897",
   "metadata": {},
   "outputs": [],
   "source": [
    "# Power (note that different than Python)!\n",
    "println(2 ^ 3)"
   ]
  },
  {
   "cell_type": "markdown",
   "id": "013d9a82",
   "metadata": {
    "slideshow": {
     "slide_type": "slide"
    }
   },
   "source": [
    "## Intro to Julia\n",
    "\n",
    "### Install packages\n",
    "\n",
    "To get started with Julia, we need to install packages. We will install packages called:\n",
    "\n",
    "- [`StatsKit`](https://juliastats.org)\n",
    "- `CSV`\n",
    "- `Plots`\n",
    "- `PythonCall`\n",
    "- `RCall`\n",
    "- `BenchmarkTools`\n",
    "- `GLM`\n",
    "\n",
    "For Julia packages see [JuliaHub](https://juliahub.com/ui/Packages)"
   ]
  },
  {
   "cell_type": "code",
   "execution_count": null,
   "id": "8ab32cc5",
   "metadata": {},
   "outputs": [],
   "source": [
    "# Installing packages (takes a bit to do)\n",
    "using Pkg\n",
    "Pkg.add(\"StatsKit\")\n",
    "Pkg.add(\"CSV\")\n",
    "Pkg.add(\"Plots\")\n",
    "Pkg.add(\"PythonCall\")\n",
    "Pkg.add(\"RCall\")\n",
    "Pkg.add(\"BenchmarkTools\")\n",
    "Pkg.add(\"GLM\")"
   ]
  },
  {
   "cell_type": "markdown",
   "id": "cb9770c9",
   "metadata": {
    "slideshow": {
     "slide_type": "slide"
    }
   },
   "source": [
    "## Loading Data in Julia\n",
    "\n",
    "Let us load the education dataset.\n",
    "\n",
    "We use the function `CSV.read` and `DataFrame` to convert it to the right object type:"
   ]
  },
  {
   "cell_type": "code",
   "execution_count": null,
   "id": "1c4d8385",
   "metadata": {},
   "outputs": [],
   "source": [
    "# Loading packages to read the data\n",
    "using CSV\n",
    "using DataFrames\n",
    "\n",
    "## Datasets\n",
    "educ = CSV.read(download(\"https://raw.githubusercontent.com/umbertomig/POLI175public/main/data/educexp.csv\"), DataFrame)\n",
    "voting = CSV.read(download(\"https://raw.githubusercontent.com/umbertomig/POLI30Dpublic/main/datasets/voting.csv\"), DataFrame)\n",
    "chilesurv = CSV.read(download(\"https://raw.githubusercontent.com/umbertomig/POLI30Dpublic/main/datasets/survchile.csv\"), DataFrame)\n",
    "println(\"Done\") # Trick to avoid displaying it"
   ]
  },
  {
   "cell_type": "code",
   "execution_count": null,
   "id": "b9d9f7c6",
   "metadata": {},
   "outputs": [],
   "source": [
    "# The head of the dataset\n",
    "println(first(educ, 3))"
   ]
  },
  {
   "cell_type": "markdown",
   "id": "b5e3ab58",
   "metadata": {
    "slideshow": {
     "slide_type": "slide"
    }
   },
   "source": [
    "## Data Types in Julia\n",
    "\n",
    "Julia has roughly the same data types as Python and R, with a few exceptions in terms of how to use it."
   ]
  },
  {
   "cell_type": "code",
   "execution_count": null,
   "id": "6629a71c",
   "metadata": {
    "slideshow": {
     "slide_type": "fragment"
    }
   },
   "outputs": [],
   "source": [
    "# Numeric variable\n",
    "x = 30\n",
    "\n",
    "# Result\n",
    "println(x)"
   ]
  },
  {
   "cell_type": "code",
   "execution_count": null,
   "id": "17db5f82",
   "metadata": {},
   "outputs": [],
   "source": [
    "# Julia is case-sensitive\n",
    "x # different than X"
   ]
  },
  {
   "cell_type": "markdown",
   "id": "f060c939",
   "metadata": {
    "slideshow": {
     "slide_type": "slide"
    }
   },
   "source": [
    "## Updating rules in Julia"
   ]
  },
  {
   "cell_type": "code",
   "execution_count": null,
   "id": "c14b0b69",
   "metadata": {},
   "outputs": [],
   "source": [
    "# Updating +\n",
    "x = 3\n",
    "println(x += 1)"
   ]
  },
  {
   "cell_type": "code",
   "execution_count": null,
   "id": "02fb91bb",
   "metadata": {},
   "outputs": [],
   "source": [
    "# Updating -\n",
    "println(x -= 2)"
   ]
  },
  {
   "cell_type": "code",
   "execution_count": null,
   "id": "aa7a8911",
   "metadata": {},
   "outputs": [],
   "source": [
    "# Updating *\n",
    "println(x *= 3)"
   ]
  },
  {
   "cell_type": "code",
   "execution_count": null,
   "id": "40c26615",
   "metadata": {},
   "outputs": [],
   "source": [
    "# Updating /\n",
    "println(x /= 2)\n",
    "println(x)"
   ]
  },
  {
   "cell_type": "markdown",
   "id": "0e405e8f",
   "metadata": {
    "slideshow": {
     "slide_type": "slide"
    }
   },
   "source": [
    "## Data Types in Julia\n",
    "\n",
    "To define variables, we can use non-numeric unicode characters. No spaces.\n",
    "\n",
    "We can check type of variable with `typeof` command."
   ]
  },
  {
   "cell_type": "code",
   "execution_count": null,
   "id": "71330dcc",
   "metadata": {},
   "outputs": [],
   "source": [
    "x2 = 30 # But 2x not valid"
   ]
  },
  {
   "cell_type": "code",
   "execution_count": null,
   "id": "cf335592",
   "metadata": {},
   "outputs": [],
   "source": [
    "# Data type\n",
    "println(typeof(x))"
   ]
  },
  {
   "cell_type": "code",
   "execution_count": null,
   "id": "6a4677cd",
   "metadata": {},
   "outputs": [],
   "source": [
    "# Data type\n",
    "println(typeof(x / 11))"
   ]
  },
  {
   "cell_type": "markdown",
   "id": "82f9ec0a",
   "metadata": {
    "slideshow": {
     "slide_type": "slide"
    }
   },
   "source": [
    "## Data Types in Julia\n",
    "\n",
    "**Booleans**: `true` or `false`. Note: different than R and Python.\n",
    "\n",
    "**Strings**: `\"string\"` and not `'string'`. But for a single character *c* it is ok to use `'c'`."
   ]
  },
  {
   "cell_type": "code",
   "execution_count": null,
   "id": "58e67997",
   "metadata": {},
   "outputs": [],
   "source": [
    "# True maps to 1\n",
    "println(true + false)"
   ]
  },
  {
   "cell_type": "code",
   "execution_count": null,
   "id": "740f87c6",
   "metadata": {},
   "outputs": [],
   "source": [
    "# My string\n",
    "println(\"my string in awesome\")"
   ]
  },
  {
   "cell_type": "markdown",
   "id": "e5e82b84",
   "metadata": {
    "slideshow": {
     "slide_type": "slide"
    }
   },
   "source": [
    "## Data Types in Julia\n",
    "\n",
    "We can slice strings as we do in Python, to get either characters or substrings.\n",
    "\n",
    "Note that Julia starts at `1`."
   ]
  },
  {
   "cell_type": "code",
   "execution_count": null,
   "id": "d67bb855",
   "metadata": {},
   "outputs": [],
   "source": [
    "# My seat in the Padres game\n",
    "s = \"Row 23 Seat 10\"\n",
    "println(s[1:3] * \": \" * s[5:6])\n",
    "println(s[end-6:end-3] * \": \" * s[end-1:end])"
   ]
  },
  {
   "cell_type": "markdown",
   "id": "244a2afc",
   "metadata": {
    "slideshow": {
     "slide_type": "slide"
    }
   },
   "source": [
    "## Intro to Julia\n",
    "\n",
    "### Data Types in Julia\n",
    "\n",
    "**Literals**: Triple double quotation marks.\n",
    "\n",
    "Concatenation can be done with `*`. Can also use the `$` sign for placement"
   ]
  },
  {
   "cell_type": "code",
   "execution_count": null,
   "id": "3c97adc8",
   "metadata": {
    "scrolled": true
   },
   "outputs": [],
   "source": [
    "lit = \"\"\"\n",
    "My literal\n",
    "is awesome!\"\"\"\n",
    "println(lit)"
   ]
  },
  {
   "cell_type": "code",
   "execution_count": null,
   "id": "23a55dd9",
   "metadata": {
    "scrolled": true
   },
   "outputs": [],
   "source": [
    "name = \"John\"\n",
    "coffee = \"Coffee for \"\n",
    "println(coffee * name)"
   ]
  },
  {
   "cell_type": "code",
   "execution_count": null,
   "id": "e6146fe9",
   "metadata": {
    "scrolled": true
   },
   "outputs": [],
   "source": [
    "x = 30\n",
    "println(\"x times two is $(x * 2)\")"
   ]
  },
  {
   "cell_type": "markdown",
   "id": "d0246070",
   "metadata": {
    "slideshow": {
     "slide_type": "slide"
    }
   },
   "source": [
    "## Data Types in Julia\n",
    "\n",
    "Data types in Julia, in a nutshell (see [this tutorial](https://syl1.gitbook.io/julia-language-a-concise-tutorial/language-core/data-types)):\n",
    "\n",
    "- Scalars: `Int64`, `Float64`, `Char`, `String` and `Bool`\n",
    "- `Arrays`, `Tuples` (immutable), `NamedTuples`, `Dict`ionaries\n",
    "- `Set`s\n",
    "\n",
    "Make sure when using coercion, that the data type is ok for coercion."
   ]
  },
  {
   "cell_type": "markdown",
   "id": "b2b56e20",
   "metadata": {
    "slideshow": {
     "slide_type": "slide"
    }
   },
   "source": [
    "## Data Types in Julia\n",
    "\n",
    "Arrays: Vectors. Similar to Python lists"
   ]
  },
  {
   "cell_type": "code",
   "execution_count": null,
   "id": "3d63ecc2",
   "metadata": {
    "slideshow": {
     "slide_type": "fragment"
    }
   },
   "outputs": [],
   "source": [
    "# Numeric vector\n",
    "x = [30, 21, 11]\n",
    "println(x)"
   ]
  },
  {
   "cell_type": "code",
   "execution_count": null,
   "id": "55890404",
   "metadata": {},
   "outputs": [],
   "source": [
    "println(typeof(x))"
   ]
  },
  {
   "cell_type": "code",
   "execution_count": null,
   "id": "d35c1f17",
   "metadata": {},
   "outputs": [],
   "source": [
    "println(eltype(x))"
   ]
  },
  {
   "cell_type": "markdown",
   "id": "7c8544aa",
   "metadata": {
    "slideshow": {
     "slide_type": "slide"
    }
   },
   "source": [
    "## Data Types in Julia\n",
    "\n",
    "Like Python (and different from R), arrays do not need to hold the same data types:"
   ]
  },
  {
   "cell_type": "code",
   "execution_count": null,
   "id": "0dacc328",
   "metadata": {},
   "outputs": [],
   "source": [
    "x = [\"John\", \"coffee\", 2, true]\n",
    "println(x)"
   ]
  },
  {
   "cell_type": "code",
   "execution_count": null,
   "id": "acacb06e",
   "metadata": {},
   "outputs": [],
   "source": [
    "println(typeof(x))"
   ]
  },
  {
   "cell_type": "markdown",
   "id": "4cd186e2",
   "metadata": {
    "slideshow": {
     "slide_type": "slide"
    }
   },
   "source": [
    "## Data Types in Julia\n",
    "\n",
    "We can slice the data in a similar way we do in R or Python."
   ]
  },
  {
   "cell_type": "code",
   "execution_count": null,
   "id": "6e742a84",
   "metadata": {},
   "outputs": [],
   "source": [
    "x[1]"
   ]
  },
  {
   "cell_type": "code",
   "execution_count": null,
   "id": "18400ada",
   "metadata": {},
   "outputs": [],
   "source": [
    "x[1] * \"'s \" * x[2]"
   ]
  },
  {
   "cell_type": "code",
   "execution_count": null,
   "id": "876d5971",
   "metadata": {},
   "outputs": [],
   "source": [
    "println(x[end-1:end])"
   ]
  },
  {
   "cell_type": "markdown",
   "id": "06167498",
   "metadata": {
    "slideshow": {
     "slide_type": "slide"
    }
   },
   "source": [
    "## Data Types in Julia\n",
    "\n",
    "The equivalent to the `.append` in Julia is `push!`.\n",
    "\n",
    "The `append!`command adds more than one element."
   ]
  },
  {
   "cell_type": "code",
   "execution_count": null,
   "id": "008cffda",
   "metadata": {},
   "outputs": [],
   "source": [
    "x = [30, 21, 11]\n",
    "push!(x, 31)\n",
    "println(x)"
   ]
  },
  {
   "cell_type": "code",
   "execution_count": null,
   "id": "b952e4c0",
   "metadata": {},
   "outputs": [],
   "source": [
    "x = [30, 21, 11]\n",
    "append!(x, [31, 45, 3])\n",
    "println(x)"
   ]
  },
  {
   "cell_type": "markdown",
   "id": "66cd2fcc",
   "metadata": {
    "slideshow": {
     "slide_type": "slide"
    }
   },
   "source": [
    "## Data Types in Julia\n",
    "\n",
    "We also have `pop!` and `sort` (note that no `sorted` like in Python)."
   ]
  },
  {
   "cell_type": "code",
   "execution_count": null,
   "id": "3aa69546",
   "metadata": {},
   "outputs": [],
   "source": [
    "x = [30, 21, 11]\n",
    "println(\"Popped element $(pop!(x))\")\n",
    "println(x)"
   ]
  },
  {
   "cell_type": "code",
   "execution_count": null,
   "id": "e51fcac1",
   "metadata": {},
   "outputs": [],
   "source": [
    "x = [30, 21, 11]\n",
    "x = sort(x)\n",
    "println(x)"
   ]
  },
  {
   "cell_type": "code",
   "execution_count": null,
   "id": "98860923",
   "metadata": {},
   "outputs": [],
   "source": [
    "println(length(x))"
   ]
  },
  {
   "cell_type": "markdown",
   "id": "62100cc8",
   "metadata": {
    "slideshow": {
     "slide_type": "slide"
    }
   },
   "source": [
    "## Data Types in Julia\n",
    "\n",
    "Like in R, we do not need a special package for doing vectorized operations.\n",
    "\n",
    "Scalar operations:"
   ]
  },
  {
   "cell_type": "code",
   "execution_count": null,
   "id": "ae06892f",
   "metadata": {},
   "outputs": [],
   "source": [
    "x = [30, 21, 11]\n",
    "println(x .+ 5)"
   ]
  },
  {
   "cell_type": "code",
   "execution_count": null,
   "id": "6a26035f",
   "metadata": {},
   "outputs": [],
   "source": [
    "println(x .- 5)"
   ]
  },
  {
   "cell_type": "code",
   "execution_count": null,
   "id": "51c93f12",
   "metadata": {},
   "outputs": [],
   "source": [
    "println(x .* 1.2)"
   ]
  },
  {
   "cell_type": "code",
   "execution_count": null,
   "id": "edf32552",
   "metadata": {},
   "outputs": [],
   "source": [
    "println(x ./ 2.1)"
   ]
  },
  {
   "cell_type": "code",
   "execution_count": null,
   "id": "0ac1335d",
   "metadata": {},
   "outputs": [],
   "source": [
    "println(x .^ 2)"
   ]
  },
  {
   "cell_type": "markdown",
   "id": "4a300ca3",
   "metadata": {
    "slideshow": {
     "slide_type": "slide"
    }
   },
   "source": [
    "## Data Types in Julia\n",
    "\n",
    "Vectorized operations:"
   ]
  },
  {
   "cell_type": "code",
   "execution_count": null,
   "id": "c1ad448c",
   "metadata": {},
   "outputs": [],
   "source": [
    "x = [30, 21, 11]\n",
    "y = [2, 3, 1]\n",
    "println(x .+ y)"
   ]
  },
  {
   "cell_type": "code",
   "execution_count": null,
   "id": "51e4bf36",
   "metadata": {},
   "outputs": [],
   "source": [
    "println(x .- y)"
   ]
  },
  {
   "cell_type": "code",
   "execution_count": null,
   "id": "b28ffd20",
   "metadata": {},
   "outputs": [],
   "source": [
    "println(x .* y)"
   ]
  },
  {
   "cell_type": "code",
   "execution_count": null,
   "id": "cace58db",
   "metadata": {},
   "outputs": [],
   "source": [
    "println(x ./ y)"
   ]
  },
  {
   "cell_type": "code",
   "execution_count": null,
   "id": "2eeed0c6",
   "metadata": {},
   "outputs": [],
   "source": [
    "println(x .^ y)"
   ]
  },
  {
   "cell_type": "markdown",
   "id": "abbb5941",
   "metadata": {
    "slideshow": {
     "slide_type": "slide"
    }
   },
   "source": [
    "## Arrays in Julia\n",
    "\n",
    "We can also create empty arrays:"
   ]
  },
  {
   "cell_type": "code",
   "execution_count": null,
   "id": "c4dd9477",
   "metadata": {},
   "outputs": [],
   "source": [
    "# Empty integers array\n",
    "arr = Int64[]\n",
    "println(arr)"
   ]
  },
  {
   "cell_type": "code",
   "execution_count": null,
   "id": "bf78a2f6",
   "metadata": {
    "scrolled": true
   },
   "outputs": [],
   "source": [
    "append!(arr, [1, 2, 3])\n",
    "println(arr)"
   ]
  },
  {
   "cell_type": "code",
   "execution_count": null,
   "id": "df081cc0",
   "metadata": {
    "scrolled": true
   },
   "outputs": [],
   "source": [
    "arr[end] = 32\n",
    "println(arr)"
   ]
  },
  {
   "cell_type": "code",
   "execution_count": null,
   "id": "1edba0c5",
   "metadata": {
    "scrolled": true
   },
   "outputs": [],
   "source": [
    "arr[1:end] = [-1, -2, -3]\n",
    "println(arr)"
   ]
  },
  {
   "cell_type": "markdown",
   "id": "e943a550",
   "metadata": {
    "slideshow": {
     "slide_type": "slide"
    }
   },
   "source": [
    "## Dictionaries in Julia"
   ]
  },
  {
   "cell_type": "code",
   "execution_count": null,
   "id": "0ff4b01c",
   "metadata": {},
   "outputs": [],
   "source": [
    "# Dictionaries (note the structure: key => value)\n",
    "game = Dict(\"team\" => \"Padres\", \"score\" => 5)\n",
    "println(game[\"team\"])"
   ]
  },
  {
   "cell_type": "code",
   "execution_count": null,
   "id": "0b0ae365",
   "metadata": {
    "scrolled": true
   },
   "outputs": [],
   "source": [
    "println(keys(game))"
   ]
  },
  {
   "cell_type": "code",
   "execution_count": null,
   "id": "9d3d0998",
   "metadata": {
    "scrolled": true
   },
   "outputs": [],
   "source": [
    "println(values(game))"
   ]
  },
  {
   "cell_type": "markdown",
   "id": "5289ed78",
   "metadata": {
    "slideshow": {
     "slide_type": "slide"
    }
   },
   "source": [
    "## Dictionaries in Julia"
   ]
  },
  {
   "cell_type": "code",
   "execution_count": null,
   "id": "f4875a5f",
   "metadata": {
    "scrolled": true
   },
   "outputs": [],
   "source": [
    "# get values: (dict, key, default_val)\n",
    "println(get(game, \"team\", \"does not have this key.\"))"
   ]
  },
  {
   "cell_type": "code",
   "execution_count": null,
   "id": "89bbedef",
   "metadata": {
    "scrolled": true
   },
   "outputs": [],
   "source": [
    "# get values: (dict, key, default_val)\n",
    "println(get(game, \"otherteam\", \"does not have this key.\"))"
   ]
  },
  {
   "cell_type": "markdown",
   "id": "23924fd3",
   "metadata": {
    "slideshow": {
     "slide_type": "slide"
    }
   },
   "source": [
    "## DataFrames in Julia\n",
    "\n",
    "Now let us work with `DataFrames`."
   ]
  },
  {
   "cell_type": "code",
   "execution_count": null,
   "id": "a38fbf2f",
   "metadata": {},
   "outputs": [],
   "source": [
    "# .head()\n",
    "println(first(educ, 3))"
   ]
  },
  {
   "cell_type": "code",
   "execution_count": null,
   "id": "f2710d65",
   "metadata": {
    "scrolled": true
   },
   "outputs": [],
   "source": [
    "# .tail()\n",
    "println(last(educ, 3))"
   ]
  },
  {
   "cell_type": "markdown",
   "id": "60338beb",
   "metadata": {
    "slideshow": {
     "slide_type": "slide"
    }
   },
   "source": [
    "## DataFrames in Julia"
   ]
  },
  {
   "cell_type": "code",
   "execution_count": null,
   "id": "aaebf3a4",
   "metadata": {},
   "outputs": [],
   "source": [
    "# Data Frames\n",
    "println(typeof(educ))"
   ]
  },
  {
   "cell_type": "markdown",
   "id": "bac68c45",
   "metadata": {},
   "source": [
    "And `describe` tells us about the DataFrame:"
   ]
  },
  {
   "cell_type": "code",
   "execution_count": null,
   "id": "2008dff5",
   "metadata": {},
   "outputs": [],
   "source": [
    "println(describe(educ))"
   ]
  },
  {
   "cell_type": "markdown",
   "id": "a0b28e60",
   "metadata": {
    "slideshow": {
     "slide_type": "slide"
    }
   },
   "source": [
    "## DataFrames in Julia\n",
    "\n",
    "To access a variable in a dataset, use the `.` and the name of the variable."
   ]
  },
  {
   "cell_type": "code",
   "execution_count": null,
   "id": "1532bd16",
   "metadata": {},
   "outputs": [],
   "source": [
    "println(educ.income)"
   ]
  },
  {
   "cell_type": "markdown",
   "id": "29790fd8",
   "metadata": {},
   "source": [
    "Names of the variables:"
   ]
  },
  {
   "cell_type": "code",
   "execution_count": null,
   "id": "eef64d67",
   "metadata": {},
   "outputs": [],
   "source": [
    "println(names(educ))"
   ]
  },
  {
   "cell_type": "markdown",
   "id": "5e53bd2d",
   "metadata": {
    "slideshow": {
     "slide_type": "slide"
    }
   },
   "source": [
    "## DataFrames in Julia\n",
    "\n",
    "Stats of a single variable:"
   ]
  },
  {
   "cell_type": "code",
   "execution_count": null,
   "id": "b478350e",
   "metadata": {
    "scrolled": true
   },
   "outputs": [],
   "source": [
    "using Statistics"
   ]
  },
  {
   "cell_type": "code",
   "execution_count": null,
   "id": "578e9d67",
   "metadata": {
    "scrolled": true
   },
   "outputs": [],
   "source": [
    "println(mean(educ.income))"
   ]
  },
  {
   "cell_type": "code",
   "execution_count": null,
   "id": "9aded652",
   "metadata": {
    "scrolled": true
   },
   "outputs": [],
   "source": [
    "println(median(educ.income))"
   ]
  },
  {
   "cell_type": "code",
   "execution_count": null,
   "id": "6ea199c5",
   "metadata": {
    "scrolled": true
   },
   "outputs": [],
   "source": [
    "println(std(educ.income))"
   ]
  },
  {
   "cell_type": "markdown",
   "id": "c11fd8db",
   "metadata": {
    "slideshow": {
     "slide_type": "slide"
    }
   },
   "source": [
    "## DataFrames in Julia\n",
    "\n",
    "Stats of a single variable:"
   ]
  },
  {
   "cell_type": "code",
   "execution_count": null,
   "id": "9c675608",
   "metadata": {
    "scrolled": true
   },
   "outputs": [],
   "source": [
    "println(var(educ.income))"
   ]
  },
  {
   "cell_type": "code",
   "execution_count": null,
   "id": "f951be0d",
   "metadata": {
    "scrolled": true
   },
   "outputs": [],
   "source": [
    "println(sum(educ.income))"
   ]
  },
  {
   "cell_type": "code",
   "execution_count": null,
   "id": "96421c5f",
   "metadata": {
    "scrolled": true
   },
   "outputs": [],
   "source": [
    "println(minimum(educ.income))"
   ]
  },
  {
   "cell_type": "code",
   "execution_count": null,
   "id": "62dd65cb",
   "metadata": {
    "scrolled": true
   },
   "outputs": [],
   "source": [
    "println(maximum(educ.income))"
   ]
  },
  {
   "cell_type": "markdown",
   "id": "7f09ad72",
   "metadata": {
    "slideshow": {
     "slide_type": "slide"
    }
   },
   "source": [
    "## DataFrames in Julia\n",
    "\n",
    "`size` for the dimension of the dataset:"
   ]
  },
  {
   "cell_type": "code",
   "execution_count": null,
   "id": "242b9e49",
   "metadata": {
    "scrolled": true
   },
   "outputs": [],
   "source": [
    "println(size(educ))"
   ]
  },
  {
   "cell_type": "markdown",
   "id": "8095ac52",
   "metadata": {},
   "source": [
    "Finding a given value: `dat[rows, cols]`"
   ]
  },
  {
   "cell_type": "code",
   "execution_count": null,
   "id": "bb6bb11b",
   "metadata": {
    "scrolled": false
   },
   "outputs": [],
   "source": [
    "# Maine\n",
    "println(educ[1, :])"
   ]
  },
  {
   "cell_type": "markdown",
   "id": "c95a9ca0",
   "metadata": {
    "slideshow": {
     "slide_type": "slide"
    }
   },
   "source": [
    "## DataFrames in Julia"
   ]
  },
  {
   "cell_type": "code",
   "execution_count": null,
   "id": "5588d929",
   "metadata": {
    "scrolled": false
   },
   "outputs": [],
   "source": [
    "# education expenditure\n",
    "println(educ[:, 1])"
   ]
  },
  {
   "cell_type": "code",
   "execution_count": null,
   "id": "68e588be",
   "metadata": {
    "scrolled": false
   },
   "outputs": [],
   "source": [
    "# Top three income\n",
    "println(educ[1:3, \"income\"])"
   ]
  },
  {
   "cell_type": "code",
   "execution_count": null,
   "id": "1d66a06f",
   "metadata": {
    "scrolled": false
   },
   "outputs": [],
   "source": [
    "# Third state in the dataset\n",
    "println(educ.states[3])"
   ]
  },
  {
   "cell_type": "code",
   "execution_count": null,
   "id": "e849c0a1",
   "metadata": {
    "scrolled": false
   },
   "outputs": [],
   "source": [
    "# education expenditure of the first case (Maine)\n",
    "println(educ[1, 1])"
   ]
  },
  {
   "cell_type": "markdown",
   "id": "3416b45e",
   "metadata": {
    "slideshow": {
     "slide_type": "slide"
    }
   },
   "source": [
    "## Importing Python Functions"
   ]
  },
  {
   "cell_type": "code",
   "execution_count": null,
   "id": "2ae2cf93",
   "metadata": {},
   "outputs": [],
   "source": [
    "using PythonCall\n",
    "pytime = pyimport(\"time\")"
   ]
  },
  {
   "cell_type": "code",
   "execution_count": null,
   "id": "e2c2c96b",
   "metadata": {},
   "outputs": [],
   "source": [
    "println(pytime.ctime())"
   ]
  },
  {
   "cell_type": "markdown",
   "id": "1841549e",
   "metadata": {
    "slideshow": {
     "slide_type": "slide"
    }
   },
   "source": [
    "## Importing R Functions"
   ]
  },
  {
   "cell_type": "code",
   "execution_count": null,
   "id": "71d7fab2",
   "metadata": {},
   "outputs": [],
   "source": [
    "using RCall\n",
    "@rimport base as r_base"
   ]
  },
  {
   "cell_type": "code",
   "execution_count": null,
   "id": "2af38c69",
   "metadata": {},
   "outputs": [],
   "source": [
    "r_base.sum([1, 2, 3, 4, 5])"
   ]
  },
  {
   "cell_type": "markdown",
   "id": "5a964194",
   "metadata": {
    "slideshow": {
     "slide_type": "slide"
    }
   },
   "source": [
    "# Data Wrangling in Julia"
   ]
  },
  {
   "cell_type": "markdown",
   "id": "ae93e675",
   "metadata": {
    "slideshow": {
     "slide_type": "slide"
    }
   },
   "source": [
    "## Renaming a column in Julia"
   ]
  },
  {
   "cell_type": "code",
   "execution_count": null,
   "id": "e5a1e83c",
   "metadata": {
    "scrolled": true
   },
   "outputs": [],
   "source": [
    "aux = chilesurv\n",
    "rename!(aux, Dict(:voteYES => :votebinary))\n",
    "println(first(aux, 2))"
   ]
  },
  {
   "cell_type": "markdown",
   "id": "06db2822",
   "metadata": {
    "slideshow": {
     "slide_type": "slide"
    }
   },
   "source": [
    "## Filtering Rows in Julia\n",
    "\n",
    "Filtering rows:\n",
    "\n",
    "| **Operator** | **Meaning**                          |\n",
    "|----------|------------------------------------------|\n",
    "| `<` or `<=` | Smaller than or smaller than or equal |\n",
    "| `>` or `>=` | Greater than or greater than or equal |\n",
    "| `==`       | Equal                                  |\n",
    "| `!=`       | Different                              |\n",
    "| `!`        | Negation (turns a `true` into a `false`)   |\n",
    "| `\\|\\|`        | Or                                     |\n",
    "| `&&`        | And                                    |"
   ]
  },
  {
   "cell_type": "code",
   "execution_count": null,
   "id": "049ef31c",
   "metadata": {
    "scrolled": true
   },
   "outputs": [],
   "source": [
    "aux = filter(row -> row.birth >= 1975, voting)\n",
    "println(first(aux, 3))"
   ]
  },
  {
   "cell_type": "markdown",
   "id": "a43d6b26",
   "metadata": {
    "slideshow": {
     "slide_type": "slide"
    }
   },
   "source": [
    "## Filtering Rows in Julia"
   ]
  },
  {
   "cell_type": "code",
   "execution_count": null,
   "id": "16de2072",
   "metadata": {
    "scrolled": true
   },
   "outputs": [],
   "source": [
    "aux = filter(row -> row.birth >= 1975 && row.message == \"yes\", voting)\n",
    "println(first(aux, 3))"
   ]
  },
  {
   "cell_type": "code",
   "execution_count": null,
   "id": "0cd1a698",
   "metadata": {},
   "outputs": [],
   "source": [
    "println(size(voting))"
   ]
  },
  {
   "cell_type": "code",
   "execution_count": null,
   "id": "3d246526",
   "metadata": {},
   "outputs": [],
   "source": [
    "println(size(aux))"
   ]
  },
  {
   "cell_type": "markdown",
   "id": "fcdb7e91",
   "metadata": {
    "slideshow": {
     "slide_type": "slide"
    }
   },
   "source": [
    "## Sorting datasets in Julia"
   ]
  },
  {
   "cell_type": "code",
   "execution_count": null,
   "id": "bfca44c4",
   "metadata": {
    "scrolled": true
   },
   "outputs": [],
   "source": [
    "aux = sort(educ, \"education\")\n",
    "println(first(aux, 3))"
   ]
  },
  {
   "cell_type": "code",
   "execution_count": null,
   "id": "1cf2c139",
   "metadata": {
    "scrolled": true
   },
   "outputs": [],
   "source": [
    "aux = sort(educ, \"education\", rev = true)\n",
    "println(first(aux, 3))"
   ]
  },
  {
   "cell_type": "markdown",
   "id": "1b0ae8ec",
   "metadata": {
    "slideshow": {
     "slide_type": "slide"
    }
   },
   "source": [
    "## Drop missing data in Julia"
   ]
  },
  {
   "cell_type": "code",
   "execution_count": null,
   "id": "0d032a9a",
   "metadata": {
    "scrolled": false
   },
   "outputs": [],
   "source": [
    "aux = chilesurv\n",
    "dropmissing!(aux, :\"statusquo\")\n",
    "println(nrow(aux))"
   ]
  },
  {
   "cell_type": "markdown",
   "id": "93aa8f11",
   "metadata": {
    "slideshow": {
     "slide_type": "slide"
    }
   },
   "source": [
    "## Mutating Variables in Julia\n",
    "\n",
    "Mutating the dataset (creates new variables using old ones):"
   ]
  },
  {
   "cell_type": "code",
   "execution_count": null,
   "id": "143bed8c",
   "metadata": {
    "scrolled": false
   },
   "outputs": [],
   "source": [
    "educ.income_per_urban = educ.income ./ educ.urban\n",
    "println(first(educ, 6))"
   ]
  },
  {
   "cell_type": "markdown",
   "id": "27c2292c",
   "metadata": {
    "slideshow": {
     "slide_type": "slide"
    }
   },
   "source": [
    "## Linear Regression in Julia\n",
    "\n",
    "A simple regression model in Julia"
   ]
  },
  {
   "cell_type": "code",
   "execution_count": null,
   "id": "ae696c12",
   "metadata": {
    "scrolled": false
   },
   "outputs": [],
   "source": [
    "using GLM\n",
    "ols = lm(@formula(voted ~ message), voting)"
   ]
  },
  {
   "cell_type": "markdown",
   "id": "d3c0d24d",
   "metadata": {
    "slideshow": {
     "slide_type": "slide"
    }
   },
   "source": [
    "## Julia Programming\n",
    "\n",
    "Julia is a programming language, to the same extent and strength as Python is.\n",
    "\n",
    "We can build great code in Julia."
   ]
  },
  {
   "cell_type": "markdown",
   "id": "9b6a72c0",
   "metadata": {
    "slideshow": {
     "slide_type": "slide"
    }
   },
   "source": [
    "## Conditional Execution"
   ]
  },
  {
   "cell_type": "code",
   "execution_count": null,
   "id": "c43c994f",
   "metadata": {},
   "outputs": [],
   "source": [
    "monday = true\n",
    "\n",
    "# Conditional fork\n",
    "if monday\n",
    "    # Code for condition\n",
    "    println(\"Yay, first day of the week! Hope Hurricane Hillary was not that distructive.\")\n",
    "end"
   ]
  },
  {
   "cell_type": "code",
   "execution_count": null,
   "id": "71eed3af",
   "metadata": {},
   "outputs": [],
   "source": [
    "monday = false\n",
    "\n",
    "# Conditional fork\n",
    "if monday\n",
    "    # Code for condition\n",
    "    println(\"Yay, first day of the week! Hope Hurricane Hillary was not that distructive.\")\n",
    "end"
   ]
  },
  {
   "cell_type": "markdown",
   "id": "492dc7a7",
   "metadata": {
    "slideshow": {
     "slide_type": "slide"
    }
   },
   "source": [
    "## Conditional Execution"
   ]
  },
  {
   "cell_type": "code",
   "execution_count": null,
   "id": "266dc443",
   "metadata": {},
   "outputs": [],
   "source": [
    "monday = true\n",
    "\n",
    "# Conditional fork\n",
    "if monday\n",
    "    # Code for condition true\n",
    "    println(\"Yay, first day of the week! Hope Hurricane Hillary was not that distructive.\")\n",
    "else\n",
    "    # Code for condition false\n",
    "    println(\"Well, not that cool...\")\n",
    "end"
   ]
  },
  {
   "cell_type": "code",
   "execution_count": null,
   "id": "1b1b9851",
   "metadata": {},
   "outputs": [],
   "source": [
    "monday = false\n",
    "\n",
    "# Conditional fork\n",
    "if monday\n",
    "    # Code for condition\n",
    "    println(\"Yay, first day of the week! Hope Hurricane Hillary was not that distructive.\")\n",
    "else\n",
    "    # Code for condition false\n",
    "    println(\"Well, not that cool...\")\n",
    "end"
   ]
  },
  {
   "cell_type": "markdown",
   "id": "799921f1",
   "metadata": {
    "slideshow": {
     "slide_type": "slide"
    }
   },
   "source": [
    "## Conditional Execution"
   ]
  },
  {
   "cell_type": "code",
   "execution_count": null,
   "id": "6dcf54d6",
   "metadata": {},
   "outputs": [],
   "source": [
    "day = \"Wed\"\n",
    "\n",
    "# Conditional fork\n",
    "if day == \"Mon\"\n",
    "    # Code for condition true\n",
    "    println(\"Yay, first day of the week! Hope Hurricane Hillary was not that distructive.\")\n",
    "elseif day == \"Wed\"\n",
    "    # Code for wed = true\n",
    "    println(\"Padres day! Let's go!!\")\n",
    "else\n",
    "    # Code for condition false\n",
    "    println(\"Well, not that cool...\")\n",
    "end"
   ]
  },
  {
   "cell_type": "markdown",
   "id": "716fad6d",
   "metadata": {
    "slideshow": {
     "slide_type": "slide"
    }
   },
   "source": [
    "## Function Creation\n",
    "\n",
    "Public functions:"
   ]
  },
  {
   "cell_type": "code",
   "execution_count": null,
   "id": "935bb2a1",
   "metadata": {},
   "outputs": [],
   "source": [
    "# My BMI depression function\n",
    "function bmi(weight, height, imperial = false)\n",
    "    return (weight)/(height^2)\n",
    "end\n",
    "\n",
    "# BMI\n",
    "println(bmi(115, 1.78))"
   ]
  },
  {
   "cell_type": "markdown",
   "id": "b042480a",
   "metadata": {
    "slideshow": {
     "slide_type": "fragment"
    }
   },
   "source": [
    "**Check-in**: Adapt the code to have a imperial to metric conversion when imperial is true."
   ]
  },
  {
   "cell_type": "code",
   "execution_count": null,
   "id": "d765c855",
   "metadata": {
    "scrolled": true
   },
   "outputs": [],
   "source": [
    "# Your code here"
   ]
  },
  {
   "cell_type": "markdown",
   "id": "ab97132b",
   "metadata": {
    "slideshow": {
     "slide_type": "slide"
    }
   },
   "source": [
    "## Function Creation\n",
    "\n",
    "Type declaration:"
   ]
  },
  {
   "cell_type": "code",
   "execution_count": null,
   "id": "1126410a",
   "metadata": {},
   "outputs": [],
   "source": [
    "function bmi(weight::Float64, height::Float64, imperial::Bool = false)\n",
    "    return (weight)/(height^2)\n",
    "end\n",
    "\n",
    "# BMI\n",
    "println(bmi(115, 1.78))"
   ]
  },
  {
   "cell_type": "code",
   "execution_count": null,
   "id": "915dabb7",
   "metadata": {},
   "outputs": [],
   "source": [
    "# BMI\n",
    "println(bmi(\"115\", 1.78))"
   ]
  },
  {
   "cell_type": "markdown",
   "id": "794bf9f1",
   "metadata": {
    "slideshow": {
     "slide_type": "slide"
    }
   },
   "source": [
    "## Function Creation\n",
    "\n",
    "Multiple arguments"
   ]
  },
  {
   "cell_type": "code",
   "execution_count": null,
   "id": "229d3827",
   "metadata": {},
   "outputs": [],
   "source": [
    "function people(names...)\n",
    "    println(names)\n",
    "end\n",
    "\n",
    "# BMI\n",
    "people(\"John\", \"Julia\", \"Jane\")"
   ]
  },
  {
   "cell_type": "code",
   "execution_count": null,
   "id": "206cbeeb",
   "metadata": {},
   "outputs": [],
   "source": [
    "function people(name, schools... ; address)\n",
    "    # Like tuple! (actually, a tuple)\n",
    "    return name, schools, address\n",
    "end\n",
    "\n",
    "# Using it\n",
    "print(people(\"John\", \"BA PoliSci\", \"MS CSS\", address = \"La Jolla\"))"
   ]
  },
  {
   "cell_type": "markdown",
   "id": "8e9546db",
   "metadata": {
    "slideshow": {
     "slide_type": "slide"
    }
   },
   "source": [
    "## Function Creation\n",
    "\n",
    "Anonymous functions:"
   ]
  },
  {
   "cell_type": "code",
   "execution_count": null,
   "id": "7692f3ee",
   "metadata": {},
   "outputs": [],
   "source": [
    "# my bmi: Anonymized\n",
    "mybmi = (w, h) -> w / (h^2)\n",
    "mybmi(115, 1.78)"
   ]
  },
  {
   "cell_type": "code",
   "execution_count": null,
   "id": "0e26395c",
   "metadata": {},
   "outputs": [],
   "source": [
    "# With mapping\n",
    "mybmi = (w, h) -> w / (h^2)\n",
    "println(map(mybmi, [100, 115, 70], [1.78, 1.86, 1.67]))"
   ]
  },
  {
   "cell_type": "markdown",
   "id": "f87d7464",
   "metadata": {
    "slideshow": {
     "slide_type": "slide"
    }
   },
   "source": [
    "## Function Creation\n",
    "\n",
    "Timing functions:"
   ]
  },
  {
   "cell_type": "code",
   "execution_count": null,
   "id": "fef56fa8",
   "metadata": {},
   "outputs": [],
   "source": [
    "# Timing bmi\n",
    "@time bmi(115, 1.78)"
   ]
  },
  {
   "cell_type": "code",
   "execution_count": null,
   "id": "ed413dca",
   "metadata": {},
   "outputs": [],
   "source": [
    "# Benchmarking bmi\n",
    "using BenchmarkTools\n",
    "@benchmark bmi"
   ]
  },
  {
   "cell_type": "markdown",
   "id": "f0607416",
   "metadata": {
    "slideshow": {
     "slide_type": "slide"
    }
   },
   "source": [
    "## For loops\n",
    "\n",
    "Very similar to Python:"
   ]
  },
  {
   "cell_type": "code",
   "execution_count": null,
   "id": "67146a40",
   "metadata": {},
   "outputs": [],
   "source": [
    "nums = [1, 2, 3, 4, 5]\n",
    "for x in nums\n",
    "    xsq = x^2\n",
    "    println(\"$x squared is equal to $xsq\")\n",
    "end"
   ]
  },
  {
   "cell_type": "markdown",
   "id": "5499b72a",
   "metadata": {
    "slideshow": {
     "slide_type": "slide"
    }
   },
   "source": [
    "## For loops\n",
    "\n",
    "With `enumerate`:"
   ]
  },
  {
   "cell_type": "code",
   "execution_count": null,
   "id": "43b2e24a",
   "metadata": {},
   "outputs": [],
   "source": [
    "nums = [5, 4, 3, 2, 1]\n",
    "for (index, x) in enumerate(nums)\n",
    "    xsq = x^2\n",
    "    println(\"In position $index: $x squared is equal to $xsq\")\n",
    "end"
   ]
  },
  {
   "cell_type": "markdown",
   "id": "a6dd8ffd",
   "metadata": {
    "slideshow": {
     "slide_type": "slide"
    }
   },
   "source": [
    "## For loops\n",
    "\n",
    "With ranges: (note difference from Python and R ranges!)"
   ]
  },
  {
   "cell_type": "code",
   "execution_count": null,
   "id": "177bbe5d",
   "metadata": {},
   "outputs": [],
   "source": [
    "nums = 10:-2:1 # start:step:stop\n",
    "for x in nums\n",
    "    xsq = x^2\n",
    "    println(\"$x squared is equal to $xsq\")\n",
    "end"
   ]
  },
  {
   "cell_type": "markdown",
   "id": "8b669c85",
   "metadata": {
    "slideshow": {
     "slide_type": "slide"
    }
   },
   "source": [
    "## While loops"
   ]
  },
  {
   "cell_type": "code",
   "execution_count": null,
   "id": "5cdaf168",
   "metadata": {
    "scrolled": true
   },
   "outputs": [],
   "source": [
    "nums = [5, 4, 3, 2, 1]\n",
    "while length(nums) > 0\n",
    "    x = pop!(nums)\n",
    "    xsq = x^2\n",
    "    println(\"$x squared is equal to $xsq\")\n",
    "end"
   ]
  },
  {
   "cell_type": "markdown",
   "id": "cd454713",
   "metadata": {
    "slideshow": {
     "slide_type": "fragment"
    }
   },
   "source": [
    "**Check-in**: Explain this code in words."
   ]
  },
  {
   "cell_type": "markdown",
   "id": "4fcbc02b",
   "metadata": {
    "slideshow": {
     "slide_type": "fragment"
    }
   },
   "source": [
    "Little hint: Like Python, if infinite loop, just press `CTRL + C`"
   ]
  },
  {
   "cell_type": "markdown",
   "id": "3d0302f8",
   "metadata": {
    "slideshow": {
     "slide_type": "slide"
    }
   },
   "source": [
    "## ANES Dataset\n",
    "\n",
    "Exercise:\n",
    "\n",
    "1. Load the `anes` 2020 dataset: https://raw.githubusercontent.com/umbertomig/POLI175public/main/data/anes2020.csv\n",
    "\n",
    "1. Explore the dataset.\n",
    "\n",
    "1. What is the mean of `feel_biden`?\n",
    "\n",
    "1. What is the standard deviation of `feel_rural`?\n",
    "\n",
    "1. What is the median of `feel_gay`?\n",
    "\n",
    "1. Standardize the variables (the operation: $z = \\dfrac{x - \\text{mean}(x)}{\\text{sd}(x)}$):\n",
    "    - `feel_biden`\n",
    "    - `feel_fauci`\n",
    "    - `feel_nra`\n",
    "    - `feel_unions`\n",
    "    - `feel_fbi`\n",
    "\n",
    "1. Run a regression trying to predict `feel_biden` based on `feel_fauci`, `feel_nra`, `feel_unions`, and `feel_fbi`. Which variable is the most important? (Hint: try using the standardized variables in the regression!)"
   ]
  },
  {
   "cell_type": "code",
   "execution_count": null,
   "id": "7687cd22",
   "metadata": {},
   "outputs": [],
   "source": [
    "## Your answers here"
   ]
  },
  {
   "cell_type": "markdown",
   "id": "16edb64c",
   "metadata": {
    "slideshow": {
     "slide_type": "slide"
    }
   },
   "source": [
    "# Great work! See you in the next class."
   ]
  }
 ],
 "metadata": {
  "celltoolbar": "Slideshow",
  "kernelspec": {
   "display_name": "Julia 1.9.2",
   "language": "julia",
   "name": "julia-1.9"
  },
  "language_info": {
   "file_extension": ".jl",
   "mimetype": "application/julia",
   "name": "julia",
   "version": "1.9.2"
  }
 },
 "nbformat": 4,
 "nbformat_minor": 5
}
