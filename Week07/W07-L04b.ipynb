{
 "cells": [
  {
   "cell_type": "markdown",
   "id": "a0b8e7e8",
   "metadata": {
    "slideshow": {
     "slide_type": "slide"
    }
   },
   "source": [
    "# CSS 201 / 202 - CSS Bootcamp\n",
    "\n",
    "## Week 07 - Lecture 04\n",
    "\n",
    "### Umberto Mignozzetti"
   ]
  },
  {
   "cell_type": "markdown",
   "id": "754b027f",
   "metadata": {
    "slideshow": {
     "slide_type": "slide"
    }
   },
   "source": [
    "# Introduction to Julia"
   ]
  },
  {
   "cell_type": "markdown",
   "id": "a30fbe4c-01fd-4f5b-a8eb-cb37cba07c05",
   "metadata": {
    "slideshow": {
     "slide_type": "slide"
    }
   },
   "source": [
    "## Intro to Julia\n",
    "\n",
    "Julia is probably the best software for data science available.\n",
    "\n",
    "It has all the capabilities of R and Python, but it is faster, much faster.\n",
    "\n",
    "The reason for the speed is because it uses all the cores in your computer by default.\n",
    "\n",
    "It also can run and load code from the most important languages (Java, C, R, and Python included).\n",
    "\n",
    "It was the software used by the CERN for analyzing the LHC experiment and BlackRock to run financial assets simulation."
   ]
  },
  {
   "cell_type": "markdown",
   "id": "14cef0c8",
   "metadata": {
    "slideshow": {
     "slide_type": "slide"
    }
   },
   "source": [
    "## Intro to Julia\n",
    "\n",
    "Today, we will talk about:\n",
    "\n",
    "1. Arithmetics\n",
    "1. Install and load packages\n",
    "1. Loading data\n",
    "1. Data types\n",
    "\n",
    "Tomorrow, we will finish with:\n",
    "\n",
    "1. Plotting\n",
    "1. Data wrangling\n",
    "1. Merging data\n",
    "1. Simple regression"
   ]
  },
  {
   "cell_type": "markdown",
   "id": "0adbf85a",
   "metadata": {
    "slideshow": {
     "slide_type": "slide"
    }
   },
   "source": [
    "## Intro to Julia\n",
    "\n",
    "To install Julia, you need to download it from the internet: https://julialang.org\n",
    "\n",
    "Then, you can choose to work with Julia in:\n",
    "\n",
    "1. [Visual Studio](https://code.visualstudio.com/docs/languages/julia) (A great Graphical User Interface GUI)\n",
    "2. [Jupyter Notebooks / Jupyter Lab](https://www.geeksforgeeks.org/how-to-work-with-julia-on-jupyter-notebook/) \n",
    "\n",
    "We will use Jupyter Notebooks, since it is our editor of choice. If you are working locale, the link will have instructions on how to do the job."
   ]
  },
  {
   "cell_type": "markdown",
   "id": "7e70cffc",
   "metadata": {
    "slideshow": {
     "slide_type": "slide"
    }
   },
   "source": [
    "## Print and Comment\n",
    "\n",
    "With Julia, the print command is `println`. \n",
    "\n",
    "`#` for commenting.\n",
    "\n",
    "`#=...=#` for multiline commenting."
   ]
  },
  {
   "cell_type": "code",
   "execution_count": null,
   "id": "ebf57e29",
   "metadata": {},
   "outputs": [],
   "source": [
    "# This is 2\n",
    "println(2)"
   ]
  },
  {
   "cell_type": "code",
   "execution_count": null,
   "id": "68f06bf2",
   "metadata": {},
   "outputs": [],
   "source": [
    "#=\n",
    "This is 2 + 3\n",
    "Equals to 5\n",
    "=#\n",
    "println(2 + 3)"
   ]
  },
  {
   "cell_type": "markdown",
   "id": "f8479704",
   "metadata": {
    "slideshow": {
     "slide_type": "slide"
    }
   },
   "source": [
    "## Arithmetics in Julia"
   ]
  },
  {
   "cell_type": "code",
   "execution_count": null,
   "id": "f4867bd2",
   "metadata": {},
   "outputs": [],
   "source": [
    "# Subtraction\n",
    "println(2 - 3.2)"
   ]
  },
  {
   "cell_type": "code",
   "execution_count": null,
   "id": "f296181a",
   "metadata": {},
   "outputs": [],
   "source": [
    "# Multiplication\n",
    "println(2 * 3)"
   ]
  },
  {
   "cell_type": "code",
   "execution_count": null,
   "id": "442ef273",
   "metadata": {},
   "outputs": [],
   "source": [
    "# Division\n",
    "println(2 / 3)"
   ]
  },
  {
   "cell_type": "code",
   "execution_count": null,
   "id": "fcb5b897",
   "metadata": {},
   "outputs": [],
   "source": [
    "# Power (note that different than Python)!\n",
    "println(2 ^ 3)"
   ]
  },
  {
   "cell_type": "markdown",
   "id": "013d9a82",
   "metadata": {
    "slideshow": {
     "slide_type": "slide"
    }
   },
   "source": [
    "## Intro to Julia\n",
    "\n",
    "### Install packages\n",
    "\n",
    "To get started with Julia, we need to install packages. We will install packages called:\n",
    "\n",
    "- `Statistics`\n",
    "- `DataFrames`\n",
    "- `CSV`\n",
    "- `Plots`\n",
    "- `PythonCall`\n",
    "- `RCall`\n",
    "\n",
    "For Julia packages see [JuliaHub](https://juliahub.com/ui/Packages)"
   ]
  },
  {
   "cell_type": "code",
   "execution_count": null,
   "id": "8ab32cc5",
   "metadata": {},
   "outputs": [],
   "source": [
    "# Installing packages (takes a bit to do)\n",
    "using Pkg\n",
    "Pkg.add(\"Statistics\")\n",
    "Pkg.add(\"CSV\")\n",
    "Pkg.add(\"DataFrames\")\n",
    "Pkg.add(\"Plots\")\n",
    "Pkg.add(\"PythonCall\")\n",
    "Pkg.add(\"RCall\")"
   ]
  },
  {
   "cell_type": "markdown",
   "id": "cb9770c9",
   "metadata": {
    "slideshow": {
     "slide_type": "slide"
    }
   },
   "source": [
    "## Loading Data in Julia\n",
    "\n",
    "Let us load the education dataset.\n",
    "\n",
    "We use the function `CSV.read` and `DataFrame` to convert it to the right object type:"
   ]
  },
  {
   "cell_type": "code",
   "execution_count": null,
   "id": "1c4d8385",
   "metadata": {},
   "outputs": [],
   "source": [
    "# Loading packages to read the data\n",
    "using CSV\n",
    "using DataFrames\n",
    "\n",
    "## Education Expenditure Dataset\n",
    "educ = CSV.read(download(\"https://raw.githubusercontent.com/umbertomig/POLI175public/main/data/educexp.csv\"), DataFrame)\n",
    "println(\"Done\") # Trick to avoid displaying it"
   ]
  },
  {
   "cell_type": "code",
   "execution_count": null,
   "id": "b9d9f7c6",
   "metadata": {},
   "outputs": [],
   "source": [
    "# The head of the dataset\n",
    "println(first(educ, 3))"
   ]
  },
  {
   "cell_type": "markdown",
   "id": "b5e3ab58",
   "metadata": {
    "slideshow": {
     "slide_type": "slide"
    }
   },
   "source": [
    "## Data Types in Julia\n",
    "\n",
    "Julia has roughly the same data types as Python and R, with a few exceptions in terms of how to use it."
   ]
  },
  {
   "cell_type": "code",
   "execution_count": null,
   "id": "6629a71c",
   "metadata": {
    "slideshow": {
     "slide_type": "fragment"
    }
   },
   "outputs": [],
   "source": [
    "# Numeric variable\n",
    "x = 30\n",
    "\n",
    "# Result\n",
    "println(x)"
   ]
  },
  {
   "cell_type": "code",
   "execution_count": null,
   "id": "17db5f82",
   "metadata": {},
   "outputs": [],
   "source": [
    "# Julia is case-sensitive\n",
    "x # different than X"
   ]
  },
  {
   "cell_type": "markdown",
   "id": "0e405e8f",
   "metadata": {
    "slideshow": {
     "slide_type": "slide"
    }
   },
   "source": [
    "## Data Types in Julia\n",
    "\n",
    "To define variables, we can use non-numeric unicode characters. No spaces.\n",
    "\n",
    "We can check type of variable with `typeof` command."
   ]
  },
  {
   "cell_type": "code",
   "execution_count": null,
   "id": "71330dcc",
   "metadata": {},
   "outputs": [],
   "source": [
    "x2 = 30 # But 2x not valid"
   ]
  },
  {
   "cell_type": "code",
   "execution_count": null,
   "id": "cf335592",
   "metadata": {},
   "outputs": [],
   "source": [
    "# Data type\n",
    "println(typeof(x))"
   ]
  },
  {
   "cell_type": "code",
   "execution_count": null,
   "id": "6a4677cd",
   "metadata": {},
   "outputs": [],
   "source": [
    "# Data type\n",
    "println(typeof(x / 11))"
   ]
  },
  {
   "cell_type": "markdown",
   "id": "82f9ec0a",
   "metadata": {
    "slideshow": {
     "slide_type": "slide"
    }
   },
   "source": [
    "## Data Types in Julia\n",
    "\n",
    "**Booleans**: `true` or `false`. Note: different than R and Python.\n",
    "\n",
    "**Strings**: `\"string\"` and not `'string'`. But for a single character *c* it is ok to use `'c'`."
   ]
  },
  {
   "cell_type": "code",
   "execution_count": null,
   "id": "58e67997",
   "metadata": {},
   "outputs": [],
   "source": [
    "# True maps to 1\n",
    "println(true + false)"
   ]
  },
  {
   "cell_type": "code",
   "execution_count": null,
   "id": "740f87c6",
   "metadata": {},
   "outputs": [],
   "source": [
    "# My string\n",
    "println(\"my string in awesome\")"
   ]
  },
  {
   "cell_type": "markdown",
   "id": "e5e82b84",
   "metadata": {
    "slideshow": {
     "slide_type": "slide"
    }
   },
   "source": [
    "## Data Types in Julia\n",
    "\n",
    "We can slice strings as we do in Python, to get either characters or substrings.\n",
    "\n",
    "Note that Julia starts at `1`."
   ]
  },
  {
   "cell_type": "code",
   "execution_count": null,
   "id": "d67bb855",
   "metadata": {},
   "outputs": [],
   "source": [
    "# My seat in the Padres game\n",
    "s = \"Row 23 Seat 10\"\n",
    "println(s[1:3] * \": \" * s[5:6])\n",
    "println(s[end-6:end-3] * \": \" * s[end-1:end])"
   ]
  },
  {
   "cell_type": "markdown",
   "id": "244a2afc",
   "metadata": {
    "slideshow": {
     "slide_type": "slide"
    }
   },
   "source": [
    "## Intro to Julia\n",
    "\n",
    "### Data Types in Julia\n",
    "\n",
    "**Literals**: Triple double quotation marks.\n",
    "\n",
    "Concatenation can be done with `*`. Can also use the `$` sign for placement"
   ]
  },
  {
   "cell_type": "code",
   "execution_count": null,
   "id": "3c97adc8",
   "metadata": {
    "scrolled": true
   },
   "outputs": [],
   "source": [
    "lit = \"\"\"\n",
    "My literal\n",
    "is awesome!\"\"\"\n",
    "println(lit)"
   ]
  },
  {
   "cell_type": "code",
   "execution_count": null,
   "id": "23a55dd9",
   "metadata": {
    "scrolled": true
   },
   "outputs": [],
   "source": [
    "name = \"John\"\n",
    "coffee = \"Coffee for \"\n",
    "println(coffee * name)"
   ]
  },
  {
   "cell_type": "code",
   "execution_count": null,
   "id": "e6146fe9",
   "metadata": {
    "scrolled": true
   },
   "outputs": [],
   "source": [
    "x = 30\n",
    "println(\"x times two is $(x * 2)\")"
   ]
  },
  {
   "cell_type": "markdown",
   "id": "d0246070",
   "metadata": {
    "slideshow": {
     "slide_type": "slide"
    }
   },
   "source": [
    "## Data Types in Julia\n",
    "\n",
    "Data types in Julia, in a nutshell (see [this tutorial](https://syl1.gitbook.io/julia-language-a-concise-tutorial/language-core/data-types)):\n",
    "\n",
    "- Scalars: `Int64`, `Float64`, `Char`, `String` and `Bool`\n",
    "- `Arrays`, `Tuples` (immutable), `NamedTuples`, `Dict`ionaries\n",
    "- `Set`s\n",
    "\n",
    "Make sure when using coercion, that the data type is ok for coercion."
   ]
  },
  {
   "cell_type": "markdown",
   "id": "b2b56e20",
   "metadata": {
    "slideshow": {
     "slide_type": "slide"
    }
   },
   "source": [
    "## Data Types in Julia\n",
    "\n",
    "Arrays: Vectors. Similar to Python lists"
   ]
  },
  {
   "cell_type": "code",
   "execution_count": null,
   "id": "3d63ecc2",
   "metadata": {
    "slideshow": {
     "slide_type": "fragment"
    }
   },
   "outputs": [],
   "source": [
    "# Numeric vector\n",
    "x = [30, 21, 11]\n",
    "println(x)"
   ]
  },
  {
   "cell_type": "code",
   "execution_count": null,
   "id": "55890404",
   "metadata": {},
   "outputs": [],
   "source": [
    "println(typeof(x))"
   ]
  },
  {
   "cell_type": "code",
   "execution_count": null,
   "id": "d35c1f17",
   "metadata": {},
   "outputs": [],
   "source": [
    "println(eltype(x))"
   ]
  },
  {
   "cell_type": "markdown",
   "id": "7c8544aa",
   "metadata": {
    "slideshow": {
     "slide_type": "slide"
    }
   },
   "source": [
    "## Data Types in Julia\n",
    "\n",
    "Like Python (and different from R), arrays do not need to hold the same data types:"
   ]
  },
  {
   "cell_type": "code",
   "execution_count": null,
   "id": "0dacc328",
   "metadata": {},
   "outputs": [],
   "source": [
    "x = [\"John\", \"coffee\", 2, true]\n",
    "println(x)"
   ]
  },
  {
   "cell_type": "code",
   "execution_count": null,
   "id": "acacb06e",
   "metadata": {},
   "outputs": [],
   "source": [
    "println(typeof(x))"
   ]
  },
  {
   "cell_type": "markdown",
   "id": "4cd186e2",
   "metadata": {
    "slideshow": {
     "slide_type": "slide"
    }
   },
   "source": [
    "## Data Types in Julia\n",
    "\n",
    "We can slice the data in a similar way we do in R or Python."
   ]
  },
  {
   "cell_type": "code",
   "execution_count": null,
   "id": "6e742a84",
   "metadata": {},
   "outputs": [],
   "source": [
    "x[1]"
   ]
  },
  {
   "cell_type": "code",
   "execution_count": null,
   "id": "18400ada",
   "metadata": {},
   "outputs": [],
   "source": [
    "x[1] * \"'s \" * x[2]"
   ]
  },
  {
   "cell_type": "code",
   "execution_count": null,
   "id": "876d5971",
   "metadata": {},
   "outputs": [],
   "source": [
    "println(x[end-1:end])"
   ]
  },
  {
   "cell_type": "markdown",
   "id": "06167498",
   "metadata": {
    "slideshow": {
     "slide_type": "slide"
    }
   },
   "source": [
    "## Data Types in Julia\n",
    "\n",
    "The equivalent to the `.append` in Julia is `push!`.\n",
    "\n",
    "The `append!`command adds more than one element."
   ]
  },
  {
   "cell_type": "code",
   "execution_count": null,
   "id": "008cffda",
   "metadata": {},
   "outputs": [],
   "source": [
    "x = [30, 21, 11]\n",
    "push!(x, 31)\n",
    "println(x)"
   ]
  },
  {
   "cell_type": "code",
   "execution_count": null,
   "id": "b952e4c0",
   "metadata": {},
   "outputs": [],
   "source": [
    "x = [30, 21, 11]\n",
    "append!(x, [31, 45, 3])\n",
    "println(x)"
   ]
  },
  {
   "cell_type": "markdown",
   "id": "66cd2fcc",
   "metadata": {
    "slideshow": {
     "slide_type": "slide"
    }
   },
   "source": [
    "## Data Types in Julia\n",
    "\n",
    "We also have `pop!` and `sort` (note that no `sorted` like in Python)."
   ]
  },
  {
   "cell_type": "code",
   "execution_count": null,
   "id": "3aa69546",
   "metadata": {},
   "outputs": [],
   "source": [
    "x = [30, 21, 11]\n",
    "println(\"Popped element $(pop!(x))\")\n",
    "println(x)"
   ]
  },
  {
   "cell_type": "code",
   "execution_count": null,
   "id": "e51fcac1",
   "metadata": {},
   "outputs": [],
   "source": [
    "x = [30, 21, 11]\n",
    "x = sort(x)\n",
    "println(x)"
   ]
  },
  {
   "cell_type": "markdown",
   "id": "62100cc8",
   "metadata": {
    "slideshow": {
     "slide_type": "slide"
    }
   },
   "source": [
    "## Data Types in Julia\n",
    "\n",
    "Like in R, we do not need a special package for doing vectorized operations.\n",
    "\n",
    "Scalar operations:"
   ]
  },
  {
   "cell_type": "code",
   "execution_count": null,
   "id": "ae06892f",
   "metadata": {},
   "outputs": [],
   "source": [
    "x = [30, 21, 11]\n",
    "println(x .+ 5)"
   ]
  },
  {
   "cell_type": "code",
   "execution_count": null,
   "id": "6a26035f",
   "metadata": {},
   "outputs": [],
   "source": [
    "println(x .- 5)"
   ]
  },
  {
   "cell_type": "code",
   "execution_count": null,
   "id": "51c93f12",
   "metadata": {},
   "outputs": [],
   "source": [
    "println(x .* 1.2)"
   ]
  },
  {
   "cell_type": "code",
   "execution_count": null,
   "id": "edf32552",
   "metadata": {},
   "outputs": [],
   "source": [
    "println(x ./ 2.1)"
   ]
  },
  {
   "cell_type": "code",
   "execution_count": null,
   "id": "0ac1335d",
   "metadata": {},
   "outputs": [],
   "source": [
    "println(x .^ 2)"
   ]
  },
  {
   "cell_type": "markdown",
   "id": "4a300ca3",
   "metadata": {
    "slideshow": {
     "slide_type": "slide"
    }
   },
   "source": [
    "## Data Types in Julia\n",
    "\n",
    "Vectorized operations:"
   ]
  },
  {
   "cell_type": "code",
   "execution_count": null,
   "id": "c1ad448c",
   "metadata": {},
   "outputs": [],
   "source": [
    "x = [30, 21, 11]\n",
    "y = [2, 3, 1]\n",
    "println(x .+ y)"
   ]
  },
  {
   "cell_type": "code",
   "execution_count": null,
   "id": "51e4bf36",
   "metadata": {},
   "outputs": [],
   "source": [
    "println(x .- y)"
   ]
  },
  {
   "cell_type": "code",
   "execution_count": null,
   "id": "b28ffd20",
   "metadata": {},
   "outputs": [],
   "source": [
    "println(x .* y)"
   ]
  },
  {
   "cell_type": "code",
   "execution_count": null,
   "id": "cace58db",
   "metadata": {},
   "outputs": [],
   "source": [
    "println(x ./ y)"
   ]
  },
  {
   "cell_type": "code",
   "execution_count": null,
   "id": "2eeed0c6",
   "metadata": {},
   "outputs": [],
   "source": [
    "println(x .^ y)"
   ]
  },
  {
   "cell_type": "markdown",
   "id": "abbb5941",
   "metadata": {
    "slideshow": {
     "slide_type": "slide"
    }
   },
   "source": [
    "## Data Types in Julia"
   ]
  },
  {
   "cell_type": "code",
   "execution_count": null,
   "id": "c4dd9477",
   "metadata": {},
   "outputs": [],
   "source": [
    "# .head()\n",
    "println(first(educ, 3))"
   ]
  },
  {
   "cell_type": "code",
   "execution_count": null,
   "id": "f2710d65",
   "metadata": {},
   "outputs": [],
   "source": [
    "# .tail()\n",
    "println(last(educ, 3))"
   ]
  },
  {
   "cell_type": "markdown",
   "id": "60338beb",
   "metadata": {
    "slideshow": {
     "slide_type": "slide"
    }
   },
   "source": [
    "## Data Types in Julia"
   ]
  },
  {
   "cell_type": "code",
   "execution_count": null,
   "id": "aaebf3a4",
   "metadata": {},
   "outputs": [],
   "source": [
    "# Data Frames\n",
    "println(typeof(educ))"
   ]
  },
  {
   "cell_type": "markdown",
   "id": "bac68c45",
   "metadata": {},
   "source": [
    "And `describe` tells us about the DataFrame:"
   ]
  },
  {
   "cell_type": "code",
   "execution_count": null,
   "id": "2008dff5",
   "metadata": {},
   "outputs": [],
   "source": [
    "println(describe(educ))"
   ]
  },
  {
   "cell_type": "markdown",
   "id": "16edb64c",
   "metadata": {
    "slideshow": {
     "slide_type": "slide"
    }
   },
   "source": [
    "# Great work! See you in the next class."
   ]
  }
 ],
 "metadata": {
  "celltoolbar": "Slideshow",
  "kernelspec": {
   "display_name": "Julia 1.9.2",
   "language": "julia",
   "name": "julia-1.9"
  },
  "language_info": {
   "file_extension": ".jl",
   "mimetype": "application/julia",
   "name": "julia",
   "version": "1.9.2"
  }
 },
 "nbformat": 4,
 "nbformat_minor": 5
}
