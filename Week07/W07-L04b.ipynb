{
 "cells": [
  {
   "cell_type": "markdown",
   "id": "a0b8e7e8",
   "metadata": {
    "slideshow": {
     "slide_type": "slide"
    }
   },
   "source": [
    "# CSS 201 / 202 - CSS Bootcamp\n",
    "\n",
    "## Week 07 - Lecture 04\n",
    "\n",
    "### Umberto Mignozzetti"
   ]
  },
  {
   "cell_type": "markdown",
   "id": "754b027f",
   "metadata": {
    "slideshow": {
     "slide_type": "slide"
    }
   },
   "source": [
    "# Introduction to Julia"
   ]
  },
  {
   "cell_type": "markdown",
   "id": "a30fbe4c-01fd-4f5b-a8eb-cb37cba07c05",
   "metadata": {
    "slideshow": {
     "slide_type": "slide"
    }
   },
   "source": [
    "## Intro to Julia\n",
    "\n",
    "Julia is probably the best software for data science available.\n",
    "\n",
    "It has all the capabilities of R and Python, but it is faster, much faster.\n",
    "\n",
    "The reason for the speed is because it uses all the cores in your computer by default.\n",
    "\n",
    "It also can run and load code from the most important languages (Java, C, R, and Python included).\n",
    "\n",
    "It was the software used by the CERN for analyzing the LHC experiment and BlackRock to run financial assets simulation."
   ]
  },
  {
   "cell_type": "markdown",
   "id": "14cef0c8",
   "metadata": {
    "slideshow": {
     "slide_type": "slide"
    }
   },
   "source": [
    "## Intro to Julia\n",
    "\n",
    "Today, we will talk about:\n",
    "\n",
    "1. Arithmetics\n",
    "1. Install and load packages\n",
    "1. Loading data\n",
    "1. Data types\n",
    "\n",
    "Tomorrow, we will finish with:\n",
    "\n",
    "1. Plotting\n",
    "1. Data wrangling\n",
    "1. Merging data\n",
    "1. Simple regression"
   ]
  },
  {
   "cell_type": "markdown",
   "id": "0adbf85a",
   "metadata": {
    "slideshow": {
     "slide_type": "slide"
    }
   },
   "source": [
    "## Intro to Julia\n",
    "\n",
    "To install Julia, you need to download it from the internet: https://julialang.org\n",
    "\n",
    "Then, you can choose to work with Julia in:\n",
    "\n",
    "1. [Visual Studio](https://code.visualstudio.com/docs/languages/julia) (A great Graphical User Interface GUI)\n",
    "2. [Jupyter Notebooks / Jupyter Lab](https://www.geeksforgeeks.org/how-to-work-with-julia-on-jupyter-notebook/) \n",
    "\n",
    "We will use Jupyter Notebooks, since it is our editor of choice. If you are working locale, the link will have instructions on how to do the job."
   ]
  },
  {
   "cell_type": "markdown",
   "id": "7e70cffc",
   "metadata": {
    "slideshow": {
     "slide_type": "slide"
    }
   },
   "source": [
    "## Print and Comment\n",
    "\n",
    "With Julia, the print command is `println`. \n",
    "\n",
    "`#` for commenting.\n",
    "\n",
    "`#=...=#` for multiline commenting."
   ]
  },
  {
   "cell_type": "code",
   "execution_count": 1,
   "id": "ebf57e29",
   "metadata": {},
   "outputs": [
    {
     "name": "stdout",
     "output_type": "stream",
     "text": [
      "2\n"
     ]
    }
   ],
   "source": [
    "# This is 2\n",
    "println(2)"
   ]
  },
  {
   "cell_type": "code",
   "execution_count": 2,
   "id": "72e7ca8d",
   "metadata": {},
   "outputs": [
    {
     "name": "stdout",
     "output_type": "stream",
     "text": [
      "5\n"
     ]
    }
   ],
   "source": [
    "#=\n",
    "This is 2 + 3\n",
    "Equals to 5\n",
    "=#\n",
    "println(2 + 3)"
   ]
  },
  {
   "cell_type": "markdown",
   "id": "f6095b76",
   "metadata": {
    "slideshow": {
     "slide_type": "slide"
    }
   },
   "source": [
    "## Arithmetics in Julia"
   ]
  },
  {
   "cell_type": "code",
   "execution_count": 3,
   "id": "18182bce",
   "metadata": {},
   "outputs": [
    {
     "name": "stdout",
     "output_type": "stream",
     "text": [
      "-1.2000000000000002\n"
     ]
    }
   ],
   "source": [
    "# Subtraction\n",
    "println(2 - 3.2)"
   ]
  },
  {
   "cell_type": "code",
   "execution_count": 4,
   "id": "84e97e54",
   "metadata": {},
   "outputs": [
    {
     "name": "stdout",
     "output_type": "stream",
     "text": [
      "6\n"
     ]
    }
   ],
   "source": [
    "# Multiplication\n",
    "println(2 * 3)"
   ]
  },
  {
   "cell_type": "code",
   "execution_count": 5,
   "id": "fc814618",
   "metadata": {},
   "outputs": [
    {
     "name": "stdout",
     "output_type": "stream",
     "text": [
      "0.6666666666666666\n"
     ]
    }
   ],
   "source": [
    "# Division\n",
    "println(2 / 3)"
   ]
  },
  {
   "cell_type": "code",
   "execution_count": 6,
   "id": "6cac6f6a",
   "metadata": {},
   "outputs": [
    {
     "name": "stdout",
     "output_type": "stream",
     "text": [
      "8\n"
     ]
    }
   ],
   "source": [
    "# Power (note that different than Python)!\n",
    "println(2 ^ 3)"
   ]
  },
  {
   "cell_type": "markdown",
   "id": "ee64cb8a",
   "metadata": {
    "slideshow": {
     "slide_type": "slide"
    }
   },
   "source": [
    "## Intro to Julia\n",
    "\n",
    "### Install packages\n",
    "\n",
    "To get started with Julia, we need to install packages. We will install packages called:\n",
    "\n",
    "- `Statistics`\n",
    "- `DataFrames`\n",
    "- `CSV`\n",
    "- `Plots`\n",
    "- `PythonCall`\n",
    "- `RCall`\n",
    "\n",
    "For Julia packages see [JuliaHub](https://juliahub.com/ui/Packages)"
   ]
  },
  {
   "cell_type": "code",
   "execution_count": 7,
   "id": "e1e49e2c",
   "metadata": {},
   "outputs": [
    {
     "name": "stderr",
     "output_type": "stream",
     "text": [
      "\u001b[32m\u001b[1m   Resolving\u001b[22m\u001b[39m package versions...\n",
      "\u001b[32m\u001b[1m  No Changes\u001b[22m\u001b[39m to `~/.julia/environments/v1.9/Project.toml`\n",
      "\u001b[32m\u001b[1m  No Changes\u001b[22m\u001b[39m to `~/.julia/environments/v1.9/Manifest.toml`\n",
      "\u001b[32m\u001b[1m   Resolving\u001b[22m\u001b[39m package versions...\n",
      "\u001b[32m\u001b[1m  No Changes\u001b[22m\u001b[39m to `~/.julia/environments/v1.9/Project.toml`\n",
      "\u001b[32m\u001b[1m  No Changes\u001b[22m\u001b[39m to `~/.julia/environments/v1.9/Manifest.toml`\n",
      "\u001b[32m\u001b[1m   Resolving\u001b[22m\u001b[39m package versions...\n",
      "\u001b[32m\u001b[1m  No Changes\u001b[22m\u001b[39m to `~/.julia/environments/v1.9/Project.toml`\n",
      "\u001b[32m\u001b[1m  No Changes\u001b[22m\u001b[39m to `~/.julia/environments/v1.9/Manifest.toml`\n",
      "\u001b[32m\u001b[1m   Resolving\u001b[22m\u001b[39m package versions...\n",
      "\u001b[32m\u001b[1m  No Changes\u001b[22m\u001b[39m to `~/.julia/environments/v1.9/Project.toml`\n",
      "\u001b[32m\u001b[1m  No Changes\u001b[22m\u001b[39m to `~/.julia/environments/v1.9/Manifest.toml`\n",
      "\u001b[32m\u001b[1m   Resolving\u001b[22m\u001b[39m package versions...\n",
      "\u001b[32m\u001b[1m  No Changes\u001b[22m\u001b[39m to `~/.julia/environments/v1.9/Project.toml`\n",
      "\u001b[32m\u001b[1m  No Changes\u001b[22m\u001b[39m to `~/.julia/environments/v1.9/Manifest.toml`\n",
      "\u001b[32m\u001b[1m   Resolving\u001b[22m\u001b[39m package versions...\n",
      "\u001b[32m\u001b[1m  No Changes\u001b[22m\u001b[39m to `~/.julia/environments/v1.9/Project.toml`\n",
      "\u001b[32m\u001b[1m  No Changes\u001b[22m\u001b[39m to `~/.julia/environments/v1.9/Manifest.toml`\n"
     ]
    }
   ],
   "source": [
    "# Installing packages (takes a bit to do)\n",
    "using Pkg\n",
    "Pkg.add(\"Statistics\")\n",
    "Pkg.add(\"CSV\")\n",
    "Pkg.add(\"DataFrames\")\n",
    "Pkg.add(\"Plots\")\n",
    "Pkg.add(\"PythonCall\")\n",
    "Pkg.add(\"RCall\")"
   ]
  },
  {
   "cell_type": "markdown",
   "id": "cb9770c9",
   "metadata": {
    "slideshow": {
     "slide_type": "slide"
    }
   },
   "source": [
    "## Loading Data in Julia\n",
    "\n",
    "Let us load the education dataset.\n",
    "\n",
    "We use the function `CSV.read` and `DataFrame` to convert it to the right object type:"
   ]
  },
  {
   "cell_type": "code",
   "execution_count": 8,
   "id": "1c4d8385",
   "metadata": {},
   "outputs": [],
   "source": [
    "# Loading packages to read the data\n",
    "using CSV\n",
    "using DataFrames\n",
    "\n",
    "## Education Expenditure Dataset\n",
    "educ = CSV.read(download(\"https://raw.githubusercontent.com/umbertomig/POLI175public/main/data/educexp.csv\"), DataFrame)\n",
    "println(\"Done\") # Trick to avoid displaying it"
   ]
  },
  {
   "cell_type": "code",
   "execution_count": 10,
   "id": "b9d9f7c6",
   "metadata": {},
   "outputs": [
    {
     "name": "stdout",
     "output_type": "stream",
     "text": [
      "\u001b[1m3×5 DataFrame\u001b[0m\n",
      "\u001b[1m Row \u001b[0m│\u001b[1m education \u001b[0m\u001b[1m income \u001b[0m\u001b[1m young   \u001b[0m\u001b[1m urban \u001b[0m\u001b[1m states  \u001b[0m\n",
      "     │\u001b[90m Int64     \u001b[0m\u001b[90m Int64  \u001b[0m\u001b[90m Float64 \u001b[0m\u001b[90m Int64 \u001b[0m\u001b[90m String3 \u001b[0m\n",
      "─────┼────────────────────────────────────────────\n",
      "   1 │       189    2824    350.7    508  ME\n",
      "   2 │       169    3259    345.9    564  NH\n",
      "   3 │       230    3072    348.5    322  VT\n"
     ]
    }
   ],
   "source": [
    "# The head of the dataset\n",
    "println(first(educ, 3))"
   ]
  },
  {
   "cell_type": "markdown",
   "id": "b5e3ab58",
   "metadata": {
    "slideshow": {
     "slide_type": "slide"
    }
   },
   "source": [
    "## Data Types in Julia\n",
    "\n",
    "Julia has roughly the same data types as Python and R, with a few exceptions in terms of how to use it."
   ]
  },
  {
   "cell_type": "code",
   "execution_count": 11,
   "id": "6629a71c",
   "metadata": {
    "slideshow": {
     "slide_type": "fragment"
    }
   },
   "outputs": [
    {
     "name": "stdout",
     "output_type": "stream",
     "text": [
      "30\n"
     ]
    }
   ],
   "source": [
    "# Numeric variable\n",
    "x = 30\n",
    "\n",
    "# Result\n",
    "println(x)"
   ]
  },
  {
   "cell_type": "code",
   "execution_count": 12,
   "id": "17db5f82",
   "metadata": {},
   "outputs": [
    {
     "data": {
      "text/plain": [
       "30"
      ]
     },
     "execution_count": 12,
     "metadata": {},
     "output_type": "execute_result"
    }
   ],
   "source": [
    "# Julia is case-sensitive\n",
    "x # different than X"
   ]
  },
  {
   "cell_type": "markdown",
   "id": "459197a7",
   "metadata": {
    "slideshow": {
     "slide_type": "slide"
    }
   },
   "source": [
    "## Data Types in Julia\n",
    "\n",
    "To define variables, we can use non-numeric unicode characters. No spaces.\n",
    "\n",
    "We can check type of variable with `typeof` command."
   ]
  },
  {
   "cell_type": "code",
   "execution_count": 13,
   "id": "c9bf2f7a",
   "metadata": {},
   "outputs": [
    {
     "data": {
      "text/plain": [
       "30"
      ]
     },
     "execution_count": 13,
     "metadata": {},
     "output_type": "execute_result"
    }
   ],
   "source": [
    "x2 = 30 # But 2x not valid"
   ]
  },
  {
   "cell_type": "code",
   "execution_count": 14,
   "id": "41eb2fbe",
   "metadata": {},
   "outputs": [
    {
     "name": "stdout",
     "output_type": "stream",
     "text": [
      "Int64\n"
     ]
    }
   ],
   "source": [
    "# Data type\n",
    "println(typeof(x))"
   ]
  },
  {
   "cell_type": "code",
   "execution_count": 15,
   "id": "3229f9dd",
   "metadata": {},
   "outputs": [
    {
     "name": "stdout",
     "output_type": "stream",
     "text": [
      "Float64\n"
     ]
    }
   ],
   "source": [
    "# Data type\n",
    "println(typeof(x / 11))"
   ]
  },
  {
   "cell_type": "markdown",
   "id": "b46312a2",
   "metadata": {
    "slideshow": {
     "slide_type": "slide"
    }
   },
   "source": [
    "## Data Types in Julia\n",
    "\n",
    "**Booleans**: `true` or `false`. Note: different than R and Python.\n",
    "\n",
    "**Strings**: `\"string\"` and not `'string'`. But for a single character *c* it is ok to use `'c'`."
   ]
  },
  {
   "cell_type": "code",
   "execution_count": 16,
   "id": "8eddb3fc",
   "metadata": {},
   "outputs": [
    {
     "name": "stdout",
     "output_type": "stream",
     "text": [
      "1\n"
     ]
    }
   ],
   "source": [
    "# True maps to 1\n",
    "println(true + false)"
   ]
  },
  {
   "cell_type": "code",
   "execution_count": 17,
   "id": "b43659d2",
   "metadata": {},
   "outputs": [
    {
     "name": "stdout",
     "output_type": "stream",
     "text": [
      "my string in awesome\n"
     ]
    }
   ],
   "source": [
    "# My string\n",
    "println(\"my string in awesome\")"
   ]
  },
  {
   "cell_type": "markdown",
   "id": "190ba991",
   "metadata": {
    "slideshow": {
     "slide_type": "slide"
    }
   },
   "source": [
    "## Data Types in Julia\n",
    "\n",
    "We can slice strings as we do in Python, to get either characters or substrings.\n",
    "\n",
    "Note that Julia starts at `1`."
   ]
  },
  {
   "cell_type": "code",
   "execution_count": 18,
   "id": "16bb8a4c",
   "metadata": {},
   "outputs": [
    {
     "name": "stdout",
     "output_type": "stream",
     "text": [
      "Row: 23\n",
      "Seat: 10\n"
     ]
    }
   ],
   "source": [
    "# My seat in the Padres game\n",
    "s = \"Row 23 Seat 10\"\n",
    "println(s[1:3] * \": \" * s[5:6])\n",
    "println(s[end-6:end-3] * \": \" * s[end-1:end])"
   ]
  },
  {
   "cell_type": "markdown",
   "id": "fc3cef65",
   "metadata": {
    "slideshow": {
     "slide_type": "slide"
    }
   },
   "source": [
    "## Intro to Julia\n",
    "\n",
    "### Data Types in Julia\n",
    "\n",
    "**Literals**: Triple double quotation marks.\n",
    "\n",
    "Concatenation can be done with `*`. Can also use the `$` sign for placement"
   ]
  },
  {
   "cell_type": "code",
   "execution_count": 19,
   "id": "b1a8a79d",
   "metadata": {
    "scrolled": true
   },
   "outputs": [
    {
     "name": "stdout",
     "output_type": "stream",
     "text": [
      "My literal\n",
      "is awesome!\n"
     ]
    }
   ],
   "source": [
    "lit = \"\"\"\n",
    "My literal\n",
    "is awesome!\"\"\"\n",
    "println(lit)"
   ]
  },
  {
   "cell_type": "code",
   "execution_count": 20,
   "id": "3e71ddb9",
   "metadata": {
    "scrolled": true
   },
   "outputs": [
    {
     "name": "stdout",
     "output_type": "stream",
     "text": [
      "Coffee for John\n"
     ]
    }
   ],
   "source": [
    "name = \"John\"\n",
    "coffee = \"Coffee for \"\n",
    "println(coffee * name)"
   ]
  },
  {
   "cell_type": "code",
   "execution_count": 21,
   "id": "70b3ad51",
   "metadata": {
    "scrolled": true
   },
   "outputs": [
    {
     "name": "stdout",
     "output_type": "stream",
     "text": [
      "x times two is 60\n"
     ]
    }
   ],
   "source": [
    "x = 30\n",
    "println(\"x times two is $(x * 2)\")"
   ]
  },
  {
   "cell_type": "markdown",
   "id": "c67ceae9",
   "metadata": {
    "slideshow": {
     "slide_type": "slide"
    }
   },
   "source": [
    "## Data Types in Julia\n",
    "\n",
    "Data types in Julia, in a nutshell (see [this tutorial](https://syl1.gitbook.io/julia-language-a-concise-tutorial/language-core/data-types)):\n",
    "\n",
    "- Scalars: `Int64`, `Float64`, `Char`, `String` and `Bool`\n",
    "- `Arrays`, `Tuples` (immutable), `NamedTuples`, `Dict`ionaries\n",
    "- `Set`s\n",
    "\n",
    "Make sure when using coercion, that the data type is ok for coercion."
   ]
  },
  {
   "cell_type": "markdown",
   "id": "b2b56e20",
   "metadata": {
    "slideshow": {
     "slide_type": "slide"
    }
   },
   "source": [
    "## Data Types in Julia\n",
    "\n",
    "Arrays: Vectors. Similar to Python lists"
   ]
  },
  {
   "cell_type": "code",
   "execution_count": 22,
   "id": "3d63ecc2",
   "metadata": {
    "slideshow": {
     "slide_type": "fragment"
    }
   },
   "outputs": [
    {
     "name": "stdout",
     "output_type": "stream",
     "text": [
      "[30, 21, 11]\n"
     ]
    }
   ],
   "source": [
    "# Numeric vector\n",
    "x = [30, 21, 11]\n",
    "println(x)"
   ]
  },
  {
   "cell_type": "code",
   "execution_count": 23,
   "id": "55890404",
   "metadata": {},
   "outputs": [
    {
     "name": "stdout",
     "output_type": "stream",
     "text": [
      "Vector{Int64}\n"
     ]
    }
   ],
   "source": [
    "println(typeof(x))"
   ]
  },
  {
   "cell_type": "code",
   "execution_count": 24,
   "id": "1bcdfc54",
   "metadata": {},
   "outputs": [
    {
     "name": "stdout",
     "output_type": "stream",
     "text": [
      "Int64\n"
     ]
    }
   ],
   "source": [
    "println(eltype(x))"
   ]
  },
  {
   "cell_type": "markdown",
   "id": "7c8544aa",
   "metadata": {
    "slideshow": {
     "slide_type": "slide"
    }
   },
   "source": [
    "## Data Types in Julia\n",
    "\n",
    "Like Python (and different from R), arrays do not need to hold the same data types:"
   ]
  },
  {
   "cell_type": "code",
   "execution_count": 25,
   "id": "0dacc328",
   "metadata": {},
   "outputs": [
    {
     "name": "stdout",
     "output_type": "stream",
     "text": [
      "Any[\"John\", \"coffee\", 2, true]\n"
     ]
    }
   ],
   "source": [
    "x = [\"John\", \"coffee\", 2, true]\n",
    "println(x)"
   ]
  },
  {
   "cell_type": "code",
   "execution_count": 26,
   "id": "acacb06e",
   "metadata": {},
   "outputs": [
    {
     "name": "stdout",
     "output_type": "stream",
     "text": [
      "Vector{Any}\n"
     ]
    }
   ],
   "source": [
    "println(typeof(x))"
   ]
  },
  {
   "cell_type": "markdown",
   "id": "7943e35c",
   "metadata": {
    "slideshow": {
     "slide_type": "slide"
    }
   },
   "source": [
    "## Data Types in Julia\n",
    "\n",
    "We can slice the data in a similar way we do in R or Python."
   ]
  },
  {
   "cell_type": "code",
   "execution_count": 27,
   "id": "399154b7",
   "metadata": {},
   "outputs": [
    {
     "data": {
      "text/plain": [
       "\"John\""
      ]
     },
     "execution_count": 27,
     "metadata": {},
     "output_type": "execute_result"
    }
   ],
   "source": [
    "x[1]"
   ]
  },
  {
   "cell_type": "code",
   "execution_count": 28,
   "id": "7c5eae3d",
   "metadata": {},
   "outputs": [
    {
     "data": {
      "text/plain": [
       "\"John's coffee\""
      ]
     },
     "execution_count": 28,
     "metadata": {},
     "output_type": "execute_result"
    }
   ],
   "source": [
    "x[1] * \"'s \" * x[2]"
   ]
  },
  {
   "cell_type": "code",
   "execution_count": 29,
   "id": "714eae9f",
   "metadata": {},
   "outputs": [
    {
     "name": "stdout",
     "output_type": "stream",
     "text": [
      "Any[2, true]\n"
     ]
    }
   ],
   "source": [
    "println(x[end-1:end])"
   ]
  },
  {
   "cell_type": "markdown",
   "id": "208eec51",
   "metadata": {
    "slideshow": {
     "slide_type": "slide"
    }
   },
   "source": [
    "## Data Types in Julia\n",
    "\n",
    "The equivalent to the `.append` in Julia is `push!`.\n",
    "\n",
    "The `append!`command adds more than one element."
   ]
  },
  {
   "cell_type": "code",
   "execution_count": 30,
   "id": "ad08eae2",
   "metadata": {},
   "outputs": [
    {
     "name": "stdout",
     "output_type": "stream",
     "text": [
      "[30, 21, 11, 31]\n"
     ]
    }
   ],
   "source": [
    "x = [30, 21, 11]\n",
    "push!(x, 31)\n",
    "println(x)"
   ]
  },
  {
   "cell_type": "code",
   "execution_count": 31,
   "id": "e17d18ca",
   "metadata": {},
   "outputs": [
    {
     "name": "stdout",
     "output_type": "stream",
     "text": [
      "[30, 21, 11, 31, 45, 3]\n"
     ]
    }
   ],
   "source": [
    "x = [30, 21, 11]\n",
    "append!(x, [31, 45, 3])\n",
    "println(x)"
   ]
  },
  {
   "cell_type": "markdown",
   "id": "320e4c9b",
   "metadata": {
    "slideshow": {
     "slide_type": "slide"
    }
   },
   "source": [
    "## Data Types in Julia\n",
    "\n",
    "We also have `pop!` and `sort` (note that no `sorted` like in Python)."
   ]
  },
  {
   "cell_type": "code",
   "execution_count": 32,
   "id": "7f6ce8be",
   "metadata": {},
   "outputs": [
    {
     "name": "stdout",
     "output_type": "stream",
     "text": [
      "Popped element 11\n",
      "[30, 21]\n"
     ]
    }
   ],
   "source": [
    "x = [30, 21, 11]\n",
    "println(\"Popped element $(pop!(x))\")\n",
    "println(x)"
   ]
  },
  {
   "cell_type": "code",
   "execution_count": 33,
   "id": "197d3df5",
   "metadata": {},
   "outputs": [
    {
     "name": "stdout",
     "output_type": "stream",
     "text": [
      "[11, 21, 30]\n"
     ]
    }
   ],
   "source": [
    "x = [30, 21, 11]\n",
    "x = sort(x)\n",
    "println(x)"
   ]
  },
  {
   "cell_type": "markdown",
   "id": "97f69a9a",
   "metadata": {
    "slideshow": {
     "slide_type": "slide"
    }
   },
   "source": [
    "## Data Types in Julia\n",
    "\n",
    "Like in R, we do not need a special package for doing vectorized operations.\n",
    "\n",
    "Scalar operations:"
   ]
  },
  {
   "cell_type": "code",
   "execution_count": 34,
   "id": "363561ff",
   "metadata": {},
   "outputs": [
    {
     "name": "stdout",
     "output_type": "stream",
     "text": [
      "[35, 26, 16]\n"
     ]
    }
   ],
   "source": [
    "x = [30, 21, 11]\n",
    "println(x .+ 5)"
   ]
  },
  {
   "cell_type": "code",
   "execution_count": 35,
   "id": "bc2c1c01",
   "metadata": {},
   "outputs": [
    {
     "name": "stdout",
     "output_type": "stream",
     "text": [
      "[25, 16, 6]\n"
     ]
    }
   ],
   "source": [
    "println(x .- 5)"
   ]
  },
  {
   "cell_type": "code",
   "execution_count": 36,
   "id": "7e897a61",
   "metadata": {},
   "outputs": [
    {
     "name": "stdout",
     "output_type": "stream",
     "text": [
      "[36.0, 25.2, 13.2]\n"
     ]
    }
   ],
   "source": [
    "println(x .* 1.2)"
   ]
  },
  {
   "cell_type": "code",
   "execution_count": 37,
   "id": "424aa166",
   "metadata": {},
   "outputs": [
    {
     "name": "stdout",
     "output_type": "stream",
     "text": [
      "[14.285714285714285, 10.0, 5.238095238095238]\n"
     ]
    }
   ],
   "source": [
    "println(x ./ 2.1)"
   ]
  },
  {
   "cell_type": "code",
   "execution_count": 38,
   "id": "94a94361",
   "metadata": {},
   "outputs": [
    {
     "name": "stdout",
     "output_type": "stream",
     "text": [
      "[900, 441, 121]\n"
     ]
    }
   ],
   "source": [
    "println(x .^ 2)"
   ]
  },
  {
   "cell_type": "markdown",
   "id": "51ec1f35",
   "metadata": {
    "slideshow": {
     "slide_type": "slide"
    }
   },
   "source": [
    "## Data Types in Julia\n",
    "\n",
    "Vectorized operations:"
   ]
  },
  {
   "cell_type": "code",
   "execution_count": 39,
   "id": "14a0cdc2",
   "metadata": {},
   "outputs": [
    {
     "name": "stdout",
     "output_type": "stream",
     "text": [
      "[32, 24, 12]\n"
     ]
    }
   ],
   "source": [
    "x = [30, 21, 11]\n",
    "y = [2, 3, 1]\n",
    "println(x .+ y)"
   ]
  },
  {
   "cell_type": "code",
   "execution_count": 40,
   "id": "1b56fe18",
   "metadata": {},
   "outputs": [
    {
     "name": "stdout",
     "output_type": "stream",
     "text": [
      "[28, 18, 10]\n"
     ]
    }
   ],
   "source": [
    "println(x .- y)"
   ]
  },
  {
   "cell_type": "code",
   "execution_count": 41,
   "id": "550c036b",
   "metadata": {},
   "outputs": [
    {
     "name": "stdout",
     "output_type": "stream",
     "text": [
      "[60, 63, 11]\n"
     ]
    }
   ],
   "source": [
    "println(x .* y)"
   ]
  },
  {
   "cell_type": "code",
   "execution_count": 42,
   "id": "b186dd72",
   "metadata": {},
   "outputs": [
    {
     "name": "stdout",
     "output_type": "stream",
     "text": [
      "[15.0, 7.0, 11.0]\n"
     ]
    }
   ],
   "source": [
    "println(x ./ y)"
   ]
  },
  {
   "cell_type": "code",
   "execution_count": 43,
   "id": "2dfe2aae",
   "metadata": {},
   "outputs": [
    {
     "name": "stdout",
     "output_type": "stream",
     "text": [
      "[900, 9261, 11]\n"
     ]
    }
   ],
   "source": [
    "println(x .^ y)"
   ]
  },
  {
   "cell_type": "markdown",
   "id": "abbb5941",
   "metadata": {
    "slideshow": {
     "slide_type": "slide"
    }
   },
   "source": [
    "## Data Types in Julia"
   ]
  },
  {
   "cell_type": "code",
   "execution_count": 44,
   "id": "c4dd9477",
   "metadata": {},
   "outputs": [
    {
     "name": "stdout",
     "output_type": "stream",
     "text": [
      "\u001b[1m3×5 DataFrame\u001b[0m\n",
      "\u001b[1m Row \u001b[0m│\u001b[1m education \u001b[0m\u001b[1m income \u001b[0m\u001b[1m young   \u001b[0m\u001b[1m urban \u001b[0m\u001b[1m states  \u001b[0m\n",
      "     │\u001b[90m Int64     \u001b[0m\u001b[90m Int64  \u001b[0m\u001b[90m Float64 \u001b[0m\u001b[90m Int64 \u001b[0m\u001b[90m String3 \u001b[0m\n",
      "─────┼────────────────────────────────────────────\n",
      "   1 │       189    2824    350.7    508  ME\n",
      "   2 │       169    3259    345.9    564  NH\n",
      "   3 │       230    3072    348.5    322  VT\n"
     ]
    }
   ],
   "source": [
    "# .head()\n",
    "println(first(educ, 3))"
   ]
  },
  {
   "cell_type": "code",
   "execution_count": 45,
   "id": "f2710d65",
   "metadata": {},
   "outputs": [
    {
     "name": "stdout",
     "output_type": "stream",
     "text": [
      "\u001b[1m3×5 DataFrame\u001b[0m\n",
      "\u001b[1m Row \u001b[0m│\u001b[1m education \u001b[0m\u001b[1m income \u001b[0m\u001b[1m young   \u001b[0m\u001b[1m urban \u001b[0m\u001b[1m states  \u001b[0m\n",
      "     │\u001b[90m Int64     \u001b[0m\u001b[90m Int64  \u001b[0m\u001b[90m Float64 \u001b[0m\u001b[90m Int64 \u001b[0m\u001b[90m String3 \u001b[0m\n",
      "─────┼────────────────────────────────────────────\n",
      "   1 │       273    3968    348.4    909  CA\n",
      "   2 │       372    4146    439.7    484  AK\n",
      "   3 │       212    3513    382.9    831  HI\n"
     ]
    }
   ],
   "source": [
    "# .tail()\n",
    "println(last(educ, 3))"
   ]
  },
  {
   "cell_type": "markdown",
   "id": "60338beb",
   "metadata": {
    "slideshow": {
     "slide_type": "slide"
    }
   },
   "source": [
    "## Data Types in Julia"
   ]
  },
  {
   "cell_type": "code",
   "execution_count": 46,
   "id": "aaebf3a4",
   "metadata": {},
   "outputs": [
    {
     "name": "stdout",
     "output_type": "stream",
     "text": [
      "DataFrame\n"
     ]
    }
   ],
   "source": [
    "# Data Frames\n",
    "println(typeof(educ))"
   ]
  },
  {
   "cell_type": "markdown",
   "id": "bac68c45",
   "metadata": {},
   "source": [
    "And `describe` tells us about the DataFrame:"
   ]
  },
  {
   "cell_type": "code",
   "execution_count": 47,
   "id": "2008dff5",
   "metadata": {},
   "outputs": [
    {
     "name": "stdout",
     "output_type": "stream",
     "text": [
      "\u001b[1m5×7 DataFrame\u001b[0m\n",
      "\u001b[1m Row \u001b[0m│\u001b[1m variable  \u001b[0m\u001b[1m mean    \u001b[0m\u001b[1m min   \u001b[0m\u001b[1m median \u001b[0m\u001b[1m max   \u001b[0m\u001b[1m nmissing \u001b[0m\u001b[1m eltype   \u001b[0m\n",
      "     │\u001b[90m Symbol    \u001b[0m\u001b[90m Union…  \u001b[0m\u001b[90m Any   \u001b[0m\u001b[90m Union… \u001b[0m\u001b[90m Any   \u001b[0m\u001b[90m Int64    \u001b[0m\u001b[90m DataType \u001b[0m\n",
      "─────┼──────────────────────────────────────────────────────────────\n",
      "   1 │ education  196.314  112    192.0   372           0  Int64\n",
      "   2 │ income     3225.29  2081   3257.0  4425          0  Int64\n",
      "   3 │ young      358.886  326.2  354.1   439.7         0  Float64\n",
      "   4 │ urban      664.51   322    664.0   1000          0  Int64\n",
      "   5 │ states    \u001b[90m         \u001b[0m AK    \u001b[90m        \u001b[0m WY            0  String3\n"
     ]
    }
   ],
   "source": [
    "println(describe(educ))"
   ]
  },
  {
   "cell_type": "markdown",
   "id": "16edb64c",
   "metadata": {
    "slideshow": {
     "slide_type": "slide"
    }
   },
   "source": [
    "# Great work! See you in the next class."
   ]
  }
 ],
 "metadata": {
  "celltoolbar": "Slideshow",
  "kernelspec": {
   "display_name": "Julia 1.9.2",
   "language": "julia",
   "name": "julia-1.9"
  },
  "language_info": {
   "file_extension": ".jl",
   "mimetype": "application/julia",
   "name": "julia",
   "version": "1.9.2"
  }
 },
 "nbformat": 4,
 "nbformat_minor": 5
}
